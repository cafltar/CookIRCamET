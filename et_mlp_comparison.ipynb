{
 "cells": [
  {
   "cell_type": "code",
   "execution_count": 1,
   "id": "f896bead-74b0-4132-a746-92a17021f0dd",
   "metadata": {},
   "outputs": [],
   "source": [
    "import numpy as np\n",
    "import pandas as pd\n",
    "import datetime\n",
    "import pytz\n",
    "from matplotlib import pyplot as plt\n",
    "import matplotlib as mpl\n",
    "import os\n",
    "from sklearn.model_selection import train_test_split\n",
    "from sklearn.experimental import enable_halving_search_cv # noqa\n",
    "from sklearn.model_selection import GridSearchCV\n",
    "from sklearn.neural_network import MLPRegressor\n",
    "from sklearn.preprocessing import StandardScaler\n",
    "from sklearn.decomposition import PCA\n",
    "from sklearn.pipeline import Pipeline\n",
    "from sklearn.metrics import mean_squared_error\n",
    "from utils_segmentation import p3\n",
    "\n",
    "np.random.seed(42)\n",
    "import pickle\n",
    "import logging\n",
    "logging.basicConfig(level=logging.INFO)"
   ]
  },
  {
   "cell_type": "code",
   "execution_count": 2,
   "id": "30ee40c4-0179-4be5-a1b2-ea377707923f",
   "metadata": {},
   "outputs": [],
   "source": [
    "inputs = ['Rg', 'Tair', 'rH', 'elevation',\n",
    "       'azimuth', 'fssun', 'fsshd', 'frsun', 'frshd', 'fvsun', 'fvshd',\n",
    "       'fwsun', 'fwshd', 'Tssun', 'Tsshd', 'Trsun', 'Trshd', 'Tvsun', 'Tvshd',\n",
    "       'Twsun', 'Twshd'] "
   ]
  },
  {
   "cell_type": "code",
   "execution_count": null,
   "id": "2dae0be3-950d-487d-ac41-0dfa963678b1",
   "metadata": {},
   "outputs": [],
   "source": []
  },
  {
   "cell_type": "code",
   "execution_count": 3,
   "id": "9fdd300a-a6b7-4ce7-ba05-5b2a9fdfaf08",
   "metadata": {},
   "outputs": [],
   "source": [
    "daily_flux_cook=pd.read_csv('E:/usda/work/CookIRCamET/Working/cookhy2023_batches_processed.csv')\n",
    "daily_flux_cprl=pd.read_csv('E:/usda/work/CookIRCamET/Working/cprlhy2023_batches_processed.csv')"
   ]
  },
  {
   "cell_type": "code",
   "execution_count": 4,
   "id": "b5a818c0-e939-4b61-a162-1e4441d97d1d",
   "metadata": {},
   "outputs": [],
   "source": [
    "daily_flux = pd.concat([daily_flux_cook,daily_flux_cprl])"
   ]
  },
  {
   "cell_type": "code",
   "execution_count": 11,
   "id": "e256318d-86a8-4d30-8de6-698bfd43126d",
   "metadata": {},
   "outputs": [],
   "source": [
    "n_feats = len(inputs)\n",
    "period_length = 1"
   ]
  },
  {
   "cell_type": "code",
   "execution_count": 12,
   "id": "ae9f4b01-f3fd-4c2d-b0d8-597ee0054ecf",
   "metadata": {
    "tags": []
   },
   "outputs": [
    {
     "data": {
      "text/plain": [
       "(7452,)"
      ]
     },
     "execution_count": 12,
     "metadata": {},
     "output_type": "execute_result"
    }
   ],
   "source": [
    "batched_flux = daily_flux[[*inputs]].values.reshape([-1,period_length*n_feats])\n",
    "batched_et = daily_flux[['ET']].values.reshape([-1,period_length])\n",
    "n_batches = batched_flux.shape[0]\n",
    "n_train = int(0.9*n_batches)\n",
    "n_test = n_batches-n_train\n",
    "batches = np.arange(n_batches)\n",
    "np.random.shuffle(batches)\n",
    "train = batches[0:n_train]\n",
    "test = batches[n_train:]\n",
    "batches_train_et,batches_train_feats = np.sum(batched_et[train,:],axis=1),batched_flux[train,0:period_length*n_feats] \n",
    "batches_test_et,batches_test_feats =  np.sum(batched_et[test,:],axis=1),batched_flux[test,0:period_length*n_feats] \n",
    "batches_train_et.shape"
   ]
  },
  {
   "cell_type": "code",
   "execution_count": 13,
   "id": "84659231-ea9f-496f-99a9-a87faf1fc44d",
   "metadata": {
    "tags": []
   },
   "outputs": [
    {
     "name": "stdout",
     "output_type": "stream",
     "text": [
      "Fitting 10 folds for each of 64 candidates, totalling 640 fits\n",
      "Best parameter (CV score=0.757):\n",
      "{'clf__activation': 'tanh', 'clf__hidden_layer_sizes': (21, 7, 2, 1)}\n"
     ]
    }
   ],
   "source": [
    "#Pipeline\n",
    "#initial scaling\n",
    "scaler = StandardScaler()\n",
    "clf = MLPRegressor(max_iter=10000)\n",
    "#tune hyperparameters\n",
    "layers = []\n",
    "\n",
    "for layer1 in [1,3,7,21]:\n",
    "    for layer2 in [1,3,6,18]:\n",
    "        layer = (n_feats*period_length//layer1,int((n_feats*period_length//(layer2*layer1))**(2/3)),int((n_feats*period_length//(layer2*layer1))**(1/3)),period_length//layer2)\n",
    "        layers.append(layer)\n",
    "\n",
    "parameters = {'clf__hidden_layer_sizes':layers,'clf__activation':['tanh','relu','logistic','linear']}\n",
    "pipeline = Pipeline(steps=[(\"scaler\", scaler), (\"clf\", clf)])#\n",
    "\n",
    "search = GridSearchCV(pipeline, parameters,n_jobs=-1,cv=10,verbose=3)\n",
    "\n",
    "search.fit(batches_train_feats, batches_train_et)\n",
    "print(\"Best parameter (CV score=%0.3f):\" % search.best_score_)\n",
    "print(search.best_params_)\n",
    "filename = os.path.join(p3,'et_mlp_pipeline_'+str(period_length)+'_final.pk.sav')\n",
    "with open(filename, 'wb') as f:  # Python 3: open(..., 'wb'\n",
    "    pickle.dump(search.best_estimator_, f)\n",
    "\n",
    "pred = search.predict(batches_test_feats)"
   ]
  },
  {
   "cell_type": "code",
   "execution_count": 14,
   "id": "0606f997-c336-46a5-96c7-1a71ad212aff",
   "metadata": {
    "tags": []
   },
   "outputs": [
    {
     "data": {
      "text/plain": [
       "[<matplotlib.lines.Line2D at 0x24d617319a0>]"
      ]
     },
     "execution_count": 14,
     "metadata": {},
     "output_type": "execute_result"
    },
    {
     "data": {
      "image/png": "[encoded data removed]",
      "text/plain": [
       "<Figure size 432x288 with 1 Axes>"
      ]
     },
     "metadata": {
      "needs_background": "light"
     },
     "output_type": "display_data"
    }
   ],
   "source": [
    "plt.plot(batches_test_et,pred,'.')"
   ]
  },
  {
   "cell_type": "code",
   "execution_count": 15,
   "id": "041c9a18-d36a-43f4-94b7-463553b5e739",
   "metadata": {
    "tags": []
   },
   "outputs": [],
   "source": [
    "mlp = search.best_estimator_['clf']"
   ]
  },
  {
   "cell_type": "code",
   "execution_count": 16,
   "id": "32fca42a-bd1f-4dec-b4be-9a3d150175b1",
   "metadata": {
    "tags": []
   },
   "outputs": [
    {
     "data": {
      "text/plain": [
       "935"
      ]
     },
     "execution_count": 16,
     "metadata": {},
     "output_type": "execute_result"
    }
   ],
   "source": [
    "n_param = 0\n",
    "for i in range(4):\n",
    "    n_param+=mlp.coefs_[i].shape[0]*mlp.coefs_[i].shape[0]\n",
    "n_param"
   ]
  },
  {
   "cell_type": "code",
   "execution_count": null,
   "id": "1141a2b2-25df-45a7-ae36-6be15c0e9ab9",
   "metadata": {},
   "outputs": [],
   "source": []
  }
 ],
 "metadata": {
  "kernelspec": {
   "display_name": "Python 3 (ipykernel)",
   "language": "python",
   "name": "python3"
  },
  "language_info": {
   "codemirror_mode": {
    "name": "ipython",
    "version": 3
   },
   "file_extension": ".py",
   "mimetype": "text/x-python",
   "name": "python",
   "nbconvert_exporter": "python",
   "pygments_lexer": "ipython3",
   "version": "3.9.7"
  }
 },
 "nbformat": 4,
 "nbformat_minor": 5
}
