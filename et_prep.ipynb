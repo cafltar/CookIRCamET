{
 "cells": [
  {
   "cell_type": "code",
   "execution_count": 1,
   "id": "f896bead-74b0-4132-a746-92a17021f0dd",
   "metadata": {},
   "outputs": [],
   "source": [
    "import numpy as np\n",
    "import pandas as pd\n",
    "import datetime\n",
    "import pytz\n",
    "from matplotlib import pyplot as plt\n",
    "import matplotlib as mpl\n",
    "import logging\n",
    "logging.basicConfig(level=logging.INFO)"
   ]
  },
  {
   "cell_type": "code",
   "execution_count": 2,
   "id": "b4e5211e-bbc3-455d-a5d0-00c025fe5f86",
   "metadata": {},
   "outputs": [],
   "source": [
    "def rho_w(T):#density of water kg/m3 at T deg C\n",
    "    #10.1088/0026-1394/38/4/3\n",
    "    a = [-3.983035,301.797,522528.9,69.34881,999.97495]\n",
    "    return a[4]*(1-(T+a[0])**2*(T+a[1])/a[2]/(T+a[3]))\n",
    "def latent(T):#latent heat of vaporization kJ/kg at T deg C\n",
    "    return 2501 - 0002.361 * T\n",
    "def vpd(rh,t):\n",
    "    #tetens\n",
    "    es = esa(t)\n",
    "    return es *(1- rh / 100)\n",
    "\n",
    "def esa(T):#saturation vapor pressure kPa, T is temp in deg C\n",
    "    return  0.61078 * np.exp((17.269 * T) / (237.3 + T))\n",
    "    return"
   ]
  },
  {
   "cell_type": "code",
   "execution_count": 3,
   "id": "a2ccad91-e258-4487-9ff2-dea10561a126",
   "metadata": {},
   "outputs": [],
   "source": [
    "cook_flux = pd.read_csv('../../raw/CookIRCamET/Meteorological/Cook/EcTower/REddyProc/CookEast/6503_20240805_REP_output.csv',skiprows=[1,2],sep='\\t').replace(to_replace=-9999,value=np.nan)"
   ]
  },
  {
   "cell_type": "code",
   "execution_count": 4,
   "id": "6ec60db2-9ebd-494b-8908-6a20cd3e9999",
   "metadata": {},
   "outputs": [],
   "source": [
    "cook_hy2023_v1 = pd.read_csv('../../work/CookIRCamET/Working/cookhy2023_V1_output.csv')\n",
    "cook_hy2023_v2 = pd.read_csv('../../work/CookIRCamET/Working/cookhy2023_V2_output.csv')\n",
    "cook_hy2024_v3 = pd.read_csv('../../work/CookIRCamET/Working/cookhy2024_V3_output.csv')"
   ]
  },
  {
   "cell_type": "code",
   "execution_count": 5,
   "id": "328954b0-5e5a-491e-a9ab-6fc68fa3150c",
   "metadata": {},
   "outputs": [
    {
     "data": {
      "text/html": [
       "<div>\n",
       "<style scoped>\n",
       "    .dataframe tbody tr th:only-of-type {\n",
       "        vertical-align: middle;\n",
       "    }\n",
       "\n",
       "    .dataframe tbody tr th {\n",
       "        vertical-align: top;\n",
       "    }\n",
       "\n",
       "    .dataframe thead th {\n",
       "        text-align: right;\n",
       "    }\n",
       "</style>\n",
       "<table border=\"1\" class=\"dataframe\">\n",
       "  <thead>\n",
       "    <tr style=\"text-align: right;\">\n",
       "      <th></th>\n",
       "      <th>Unnamed: 0</th>\n",
       "      <th>times</th>\n",
       "      <th>daylight</th>\n",
       "      <th>elevation</th>\n",
       "      <th>azimuth</th>\n",
       "      <th>fssun</th>\n",
       "      <th>fsshd</th>\n",
       "      <th>frsun</th>\n",
       "      <th>frshd</th>\n",
       "      <th>fvsun</th>\n",
       "      <th>...</th>\n",
       "      <th>fwsun</th>\n",
       "      <th>fwshd</th>\n",
       "      <th>Tssun</th>\n",
       "      <th>Tsshd</th>\n",
       "      <th>Trsun</th>\n",
       "      <th>Trshd</th>\n",
       "      <th>Tvsun</th>\n",
       "      <th>Tvshd</th>\n",
       "      <th>Twsun</th>\n",
       "      <th>Twshd</th>\n",
       "    </tr>\n",
       "  </thead>\n",
       "  <tbody>\n",
       "    <tr>\n",
       "      <th>0</th>\n",
       "      <td>0</td>\n",
       "      <td>2023-09-08 20:19:11+00:00</td>\n",
       "      <td>True</td>\n",
       "      <td>41.835873</td>\n",
       "      <td>192.456858</td>\n",
       "      <td>NaN</td>\n",
       "      <td>NaN</td>\n",
       "      <td>NaN</td>\n",
       "      <td>NaN</td>\n",
       "      <td>NaN</td>\n",
       "      <td>...</td>\n",
       "      <td>NaN</td>\n",
       "      <td>NaN</td>\n",
       "      <td>NaN</td>\n",
       "      <td>NaN</td>\n",
       "      <td>NaN</td>\n",
       "      <td>NaN</td>\n",
       "      <td>NaN</td>\n",
       "      <td>NaN</td>\n",
       "      <td>NaN</td>\n",
       "      <td>NaN</td>\n",
       "    </tr>\n",
       "    <tr>\n",
       "      <th>1</th>\n",
       "      <td>1</td>\n",
       "      <td>2023-09-08 21:19:12+00:00</td>\n",
       "      <td>True</td>\n",
       "      <td>45.861737</td>\n",
       "      <td>213.292897</td>\n",
       "      <td>0.036930</td>\n",
       "      <td>0.327970</td>\n",
       "      <td>0.309700</td>\n",
       "      <td>0.324927</td>\n",
       "      <td>0.000357</td>\n",
       "      <td>...</td>\n",
       "      <td>0.000000e+00</td>\n",
       "      <td>0.000000</td>\n",
       "      <td>312.354712</td>\n",
       "      <td>311.925692</td>\n",
       "      <td>312.586153</td>\n",
       "      <td>312.408882</td>\n",
       "      <td>312.829274</td>\n",
       "      <td>310.814855</td>\n",
       "      <td>NaN</td>\n",
       "      <td>NaN</td>\n",
       "    </tr>\n",
       "    <tr>\n",
       "      <th>2</th>\n",
       "      <td>2</td>\n",
       "      <td>2023-09-08 22:19:12+00:00</td>\n",
       "      <td>True</td>\n",
       "      <td>52.763931</td>\n",
       "      <td>230.812548</td>\n",
       "      <td>0.041342</td>\n",
       "      <td>0.413425</td>\n",
       "      <td>0.284603</td>\n",
       "      <td>0.259951</td>\n",
       "      <td>0.000588</td>\n",
       "      <td>...</td>\n",
       "      <td>3.616898e-07</td>\n",
       "      <td>0.000000</td>\n",
       "      <td>315.246759</td>\n",
       "      <td>314.427798</td>\n",
       "      <td>315.342695</td>\n",
       "      <td>314.939764</td>\n",
       "      <td>315.233121</td>\n",
       "      <td>313.790427</td>\n",
       "      <td>314.036142</td>\n",
       "      <td>NaN</td>\n",
       "    </tr>\n",
       "    <tr>\n",
       "      <th>3</th>\n",
       "      <td>3</td>\n",
       "      <td>2023-09-08 23:19:13+00:00</td>\n",
       "      <td>True</td>\n",
       "      <td>61.485658</td>\n",
       "      <td>245.284345</td>\n",
       "      <td>0.066107</td>\n",
       "      <td>0.472266</td>\n",
       "      <td>0.298850</td>\n",
       "      <td>0.161653</td>\n",
       "      <td>0.001085</td>\n",
       "      <td>...</td>\n",
       "      <td>0.000000e+00</td>\n",
       "      <td>0.000000</td>\n",
       "      <td>310.112468</td>\n",
       "      <td>309.565353</td>\n",
       "      <td>310.188566</td>\n",
       "      <td>309.791437</td>\n",
       "      <td>309.945436</td>\n",
       "      <td>308.386400</td>\n",
       "      <td>NaN</td>\n",
       "      <td>NaN</td>\n",
       "    </tr>\n",
       "    <tr>\n",
       "      <th>4</th>\n",
       "      <td>4</td>\n",
       "      <td>2023-09-09 00:19:14+00:00</td>\n",
       "      <td>True</td>\n",
       "      <td>71.213228</td>\n",
       "      <td>257.668459</td>\n",
       "      <td>0.138928</td>\n",
       "      <td>0.514725</td>\n",
       "      <td>0.274731</td>\n",
       "      <td>0.069238</td>\n",
       "      <td>0.002352</td>\n",
       "      <td>...</td>\n",
       "      <td>3.255208e-06</td>\n",
       "      <td>0.000000</td>\n",
       "      <td>307.559260</td>\n",
       "      <td>307.211724</td>\n",
       "      <td>307.714868</td>\n",
       "      <td>307.333393</td>\n",
       "      <td>307.770200</td>\n",
       "      <td>307.520617</td>\n",
       "      <td>NaN</td>\n",
       "      <td>NaN</td>\n",
       "    </tr>\n",
       "    <tr>\n",
       "      <th>...</th>\n",
       "      <td>...</td>\n",
       "      <td>...</td>\n",
       "      <td>...</td>\n",
       "      <td>...</td>\n",
       "      <td>...</td>\n",
       "      <td>...</td>\n",
       "      <td>...</td>\n",
       "      <td>...</td>\n",
       "      <td>...</td>\n",
       "      <td>...</td>\n",
       "      <td>...</td>\n",
       "      <td>...</td>\n",
       "      <td>...</td>\n",
       "      <td>...</td>\n",
       "      <td>...</td>\n",
       "      <td>...</td>\n",
       "      <td>...</td>\n",
       "      <td>...</td>\n",
       "      <td>...</td>\n",
       "      <td>...</td>\n",
       "      <td>...</td>\n",
       "    </tr>\n",
       "    <tr>\n",
       "      <th>4419</th>\n",
       "      <td>4419</td>\n",
       "      <td>2024-07-10 12:09:18+00:00</td>\n",
       "      <td>False</td>\n",
       "      <td>89.757213</td>\n",
       "      <td>56.278251</td>\n",
       "      <td>0.000000</td>\n",
       "      <td>0.494015</td>\n",
       "      <td>0.000000</td>\n",
       "      <td>0.097044</td>\n",
       "      <td>0.000000</td>\n",
       "      <td>...</td>\n",
       "      <td>0.000000e+00</td>\n",
       "      <td>0.000414</td>\n",
       "      <td>NaN</td>\n",
       "      <td>296.370037</td>\n",
       "      <td>NaN</td>\n",
       "      <td>296.361676</td>\n",
       "      <td>NaN</td>\n",
       "      <td>296.488238</td>\n",
       "      <td>NaN</td>\n",
       "      <td>296.109100</td>\n",
       "    </tr>\n",
       "    <tr>\n",
       "      <th>4420</th>\n",
       "      <td>4420</td>\n",
       "      <td>2024-07-10 13:09:21+00:00</td>\n",
       "      <td>False</td>\n",
       "      <td>81.145755</td>\n",
       "      <td>66.887210</td>\n",
       "      <td>0.000000</td>\n",
       "      <td>0.494015</td>\n",
       "      <td>0.000000</td>\n",
       "      <td>0.097044</td>\n",
       "      <td>0.000000</td>\n",
       "      <td>...</td>\n",
       "      <td>0.000000e+00</td>\n",
       "      <td>0.000414</td>\n",
       "      <td>NaN</td>\n",
       "      <td>296.858950</td>\n",
       "      <td>NaN</td>\n",
       "      <td>296.853875</td>\n",
       "      <td>NaN</td>\n",
       "      <td>296.898624</td>\n",
       "      <td>NaN</td>\n",
       "      <td>296.657049</td>\n",
       "    </tr>\n",
       "    <tr>\n",
       "      <th>4421</th>\n",
       "      <td>4421</td>\n",
       "      <td>2024-07-10 14:09:26+00:00</td>\n",
       "      <td>True</td>\n",
       "      <td>71.432031</td>\n",
       "      <td>77.093499</td>\n",
       "      <td>0.049701</td>\n",
       "      <td>0.460120</td>\n",
       "      <td>0.009362</td>\n",
       "      <td>0.005704</td>\n",
       "      <td>0.204615</td>\n",
       "      <td>...</td>\n",
       "      <td>5.425347e-06</td>\n",
       "      <td>0.000000</td>\n",
       "      <td>299.430503</td>\n",
       "      <td>299.419797</td>\n",
       "      <td>299.480492</td>\n",
       "      <td>299.425984</td>\n",
       "      <td>299.455335</td>\n",
       "      <td>299.423092</td>\n",
       "      <td>299.135410</td>\n",
       "      <td>NaN</td>\n",
       "    </tr>\n",
       "    <tr>\n",
       "      <th>4422</th>\n",
       "      <td>4422</td>\n",
       "      <td>2024-07-10 15:09:31+00:00</td>\n",
       "      <td>True</td>\n",
       "      <td>61.277254</td>\n",
       "      <td>87.468228</td>\n",
       "      <td>0.108737</td>\n",
       "      <td>0.319422</td>\n",
       "      <td>0.015329</td>\n",
       "      <td>0.005319</td>\n",
       "      <td>0.272854</td>\n",
       "      <td>...</td>\n",
       "      <td>1.450376e-04</td>\n",
       "      <td>0.000000</td>\n",
       "      <td>302.450501</td>\n",
       "      <td>302.446421</td>\n",
       "      <td>302.466497</td>\n",
       "      <td>302.498473</td>\n",
       "      <td>302.432272</td>\n",
       "      <td>302.385444</td>\n",
       "      <td>302.560513</td>\n",
       "      <td>NaN</td>\n",
       "    </tr>\n",
       "    <tr>\n",
       "      <th>4423</th>\n",
       "      <td>4423</td>\n",
       "      <td>2024-07-10 16:09:37+00:00</td>\n",
       "      <td>True</td>\n",
       "      <td>51.033610</td>\n",
       "      <td>98.830086</td>\n",
       "      <td>0.185660</td>\n",
       "      <td>0.209895</td>\n",
       "      <td>0.037540</td>\n",
       "      <td>0.009096</td>\n",
       "      <td>0.303444</td>\n",
       "      <td>...</td>\n",
       "      <td>2.115885e-04</td>\n",
       "      <td>0.000000</td>\n",
       "      <td>305.971780</td>\n",
       "      <td>306.041208</td>\n",
       "      <td>306.207941</td>\n",
       "      <td>306.434931</td>\n",
       "      <td>305.949914</td>\n",
       "      <td>305.860321</td>\n",
       "      <td>305.845871</td>\n",
       "      <td>NaN</td>\n",
       "    </tr>\n",
       "  </tbody>\n",
       "</table>\n",
       "<p>4424 rows × 21 columns</p>\n",
       "</div>"
      ],
      "text/plain": [
       "      Unnamed: 0                      times  daylight  elevation     azimuth  \\\n",
       "0              0  2023-09-08 20:19:11+00:00      True  41.835873  192.456858   \n",
       "1              1  2023-09-08 21:19:12+00:00      True  45.861737  213.292897   \n",
       "2              2  2023-09-08 22:19:12+00:00      True  52.763931  230.812548   \n",
       "3              3  2023-09-08 23:19:13+00:00      True  61.485658  245.284345   \n",
       "4              4  2023-09-09 00:19:14+00:00      True  71.213228  257.668459   \n",
       "...          ...                        ...       ...        ...         ...   \n",
       "4419        4419  2024-07-10 12:09:18+00:00     False  89.757213   56.278251   \n",
       "4420        4420  2024-07-10 13:09:21+00:00     False  81.145755   66.887210   \n",
       "4421        4421  2024-07-10 14:09:26+00:00      True  71.432031   77.093499   \n",
       "4422        4422  2024-07-10 15:09:31+00:00      True  61.277254   87.468228   \n",
       "4423        4423  2024-07-10 16:09:37+00:00      True  51.033610   98.830086   \n",
       "\n",
       "         fssun     fsshd     frsun     frshd     fvsun  ...         fwsun  \\\n",
       "0          NaN       NaN       NaN       NaN       NaN  ...           NaN   \n",
       "1     0.036930  0.327970  0.309700  0.324927  0.000357  ...  0.000000e+00   \n",
       "2     0.041342  0.413425  0.284603  0.259951  0.000588  ...  3.616898e-07   \n",
       "3     0.066107  0.472266  0.298850  0.161653  0.001085  ...  0.000000e+00   \n",
       "4     0.138928  0.514725  0.274731  0.069238  0.002352  ...  3.255208e-06   \n",
       "...        ...       ...       ...       ...       ...  ...           ...   \n",
       "4419  0.000000  0.494015  0.000000  0.097044  0.000000  ...  0.000000e+00   \n",
       "4420  0.000000  0.494015  0.000000  0.097044  0.000000  ...  0.000000e+00   \n",
       "4421  0.049701  0.460120  0.009362  0.005704  0.204615  ...  5.425347e-06   \n",
       "4422  0.108737  0.319422  0.015329  0.005319  0.272854  ...  1.450376e-04   \n",
       "4423  0.185660  0.209895  0.037540  0.009096  0.303444  ...  2.115885e-04   \n",
       "\n",
       "         fwshd       Tssun       Tsshd       Trsun       Trshd       Tvsun  \\\n",
       "0          NaN         NaN         NaN         NaN         NaN         NaN   \n",
       "1     0.000000  312.354712  311.925692  312.586153  312.408882  312.829274   \n",
       "2     0.000000  315.246759  314.427798  315.342695  314.939764  315.233121   \n",
       "3     0.000000  310.112468  309.565353  310.188566  309.791437  309.945436   \n",
       "4     0.000000  307.559260  307.211724  307.714868  307.333393  307.770200   \n",
       "...        ...         ...         ...         ...         ...         ...   \n",
       "4419  0.000414         NaN  296.370037         NaN  296.361676         NaN   \n",
       "4420  0.000414         NaN  296.858950         NaN  296.853875         NaN   \n",
       "4421  0.000000  299.430503  299.419797  299.480492  299.425984  299.455335   \n",
       "4422  0.000000  302.450501  302.446421  302.466497  302.498473  302.432272   \n",
       "4423  0.000000  305.971780  306.041208  306.207941  306.434931  305.949914   \n",
       "\n",
       "           Tvshd       Twsun       Twshd  \n",
       "0            NaN         NaN         NaN  \n",
       "1     310.814855         NaN         NaN  \n",
       "2     313.790427  314.036142         NaN  \n",
       "3     308.386400         NaN         NaN  \n",
       "4     307.520617         NaN         NaN  \n",
       "...          ...         ...         ...  \n",
       "4419  296.488238         NaN  296.109100  \n",
       "4420  296.898624         NaN  296.657049  \n",
       "4421  299.423092  299.135410         NaN  \n",
       "4422  302.385444  302.560513         NaN  \n",
       "4423  305.860321  305.845871         NaN  \n",
       "\n",
       "[4424 rows x 21 columns]"
      ]
     },
     "execution_count": 5,
     "metadata": {},
     "output_type": "execute_result"
    }
   ],
   "source": [
    "cook_hy2024_v3"
   ]
  },
  {
   "cell_type": "code",
   "execution_count": 6,
   "id": "1254b790-d7c6-464c-a362-7d31872f88d3",
   "metadata": {},
   "outputs": [],
   "source": [
    "cook_hy2023_v1['times'] = pd.to_datetime(cook_hy2023_v1.times)\n",
    "cook_hy2023_v2['times'] = pd.to_datetime(cook_hy2023_v2.times)\n",
    "cook_hy2024_v3['times'] = pd.to_datetime(cook_hy2024_v3.times)"
   ]
  },
  {
   "cell_type": "code",
   "execution_count": 7,
   "id": "8391920b-dab4-4bdc-9590-6575d8811745",
   "metadata": {},
   "outputs": [],
   "source": [
    "cook_hys = pd.concat([cook_hy2023_v1,cook_hy2023_v2,cook_hy2024_v3]).reset_index()"
   ]
  },
  {
   "cell_type": "code",
   "execution_count": 8,
   "id": "ce1df65e-bc2f-46f9-a773-b34bcb7a76d3",
   "metadata": {},
   "outputs": [],
   "source": [
    "cook_flux = cook_flux[['Year', 'DoY', 'Hour', 'Rg', 'Tair', 'rH', 'VPD', 'LE_uStar_f']]\n",
    "cook_flux['lambda']=cook_flux.Tair.apply(latent)\n",
    "cook_flux['rho_w']=cook_flux.Tair.apply(rho_w)"
   ]
  },
  {
   "cell_type": "code",
   "execution_count": 9,
   "id": "64c2dfb3-23da-4b18-a2fa-e9c0232293ab",
   "metadata": {},
   "outputs": [],
   "source": [
    "cook_flux['ET']=cook_flux['LE_uStar_f']/cook_flux['lambda']/cook_flux['rho_w']*60*30#mm H20 in 30min\n",
    "cook_flux['Minutes']=60*(cook_flux['Hour']-np.floor(cook_flux['Hour']))"
   ]
  },
  {
   "cell_type": "code",
   "execution_count": 10,
   "id": "d62da368-4960-4008-a85e-27c16bb757b7",
   "metadata": {},
   "outputs": [],
   "source": [
    "cook_flux['Hour']=np.floor(cook_flux['Hour'])"
   ]
  },
  {
   "cell_type": "code",
   "execution_count": 11,
   "id": "9efeccc6-d4d7-4b79-a548-7b60e4bbc5f8",
   "metadata": {},
   "outputs": [],
   "source": [
    "cook_flux = cook_flux[['Year', 'DoY', 'Hour', 'Minutes', 'Rg', 'Tair', 'rH', 'VPD','ET']]"
   ]
  },
  {
   "cell_type": "code",
   "execution_count": 12,
   "id": "29f561d5-6003-4a81-b67a-53b89ee4c278",
   "metadata": {},
   "outputs": [],
   "source": [
    "cook_flux['times']=pd.to_datetime(cook_flux['Year'].astype(str) + ' ' + cook_flux['DoY'].astype(str) + ' ' + cook_flux['Hour'].astype(int).astype(str)+':'+cook_flux['Minutes'].astype(int).astype(str),\n",
    "    format='%Y %j %H:%M'\n",
    "   )"
   ]
  },
  {
   "cell_type": "code",
   "execution_count": 13,
   "id": "d9531d85-1c4c-4c85-b9ed-7ed4066fdf75",
   "metadata": {},
   "outputs": [],
   "source": [
    "#half-hourly to hourly\n",
    "cook_flux=cook_flux.groupby(['Year','DoY','Hour']).agg({'times':'max', 'Rg':'mean', 'Tair':'mean', 'rH':'mean', 'VPD':'mean', 'ET':'sum'}).reset_index()"
   ]
  },
  {
   "cell_type": "raw",
   "id": "c378ddbf-eed4-40b4-9afd-7c488bf52e67",
   "metadata": {},
   "source": [
    "cook_hys['times'] = cook_hys.times.dt.tz_localize('UTC')"
   ]
  },
  {
   "cell_type": "code",
   "execution_count": 14,
   "id": "8ee8848e-590f-4a56-8093-6e1fbb3b5478",
   "metadata": {},
   "outputs": [],
   "source": [
    "cook_flux['times'] = cook_flux.times.dt.tz_localize('Etc/GMT+8')"
   ]
  },
  {
   "cell_type": "code",
   "execution_count": 15,
   "id": "bd4d1085-89c2-4e8b-ad66-f7f54c539151",
   "metadata": {},
   "outputs": [],
   "source": [
    "cook_flux['times'] = cook_flux.times.dt.tz_convert('UTC')"
   ]
  },
  {
   "cell_type": "code",
   "execution_count": 16,
   "id": "38bd6fd8-83ea-48f2-a517-cb8ec183249f",
   "metadata": {},
   "outputs": [],
   "source": [
    "#should check tz's match"
   ]
  },
  {
   "cell_type": "code",
   "execution_count": 17,
   "id": "a05e0003-0bf7-470e-80dc-a88eea1220b3",
   "metadata": {},
   "outputs": [],
   "source": [
    "cook_flux.Tair+=273.15"
   ]
  },
  {
   "cell_type": "code",
   "execution_count": 18,
   "id": "2740fce5-a320-4b23-b731-adf66681c6c4",
   "metadata": {},
   "outputs": [
    {
     "data": {
      "text/plain": [
       "<Axes: xlabel='times'>"
      ]
     },
     "execution_count": 18,
     "metadata": {},
     "output_type": "execute_result"
    },
    {
     "data": {
      "image/png": "[encoded data removed]",
      "text/plain": [
       "<Figure size 640x480 with 1 Axes>"
      ]
     },
     "metadata": {},
     "output_type": "display_data"
    }
   ],
   "source": [
    "ax = cook_hys.plot(x='times',y='Trsun',\n",
    "                 xlim = [cook_hys.times.values[-96],cook_hys.times.values[-1]],ylim=[270,320])\n",
    "\n",
    "cook_flux.plot(x='times',y='Tair',\n",
    "                 xlim = [cook_hys.times.values[-96],cook_hys.times.values[-1]],ylim=[270,320],ax=ax)"
   ]
  },
  {
   "cell_type": "code",
   "execution_count": 19,
   "id": "57ed2eb1-1cf2-48f3-a6bb-10dcfd033a6d",
   "metadata": {},
   "outputs": [],
   "source": [
    "xlim=[pd.to_datetime('2024-01-01 00:00:00',format='%Y-%m-%d %H:%M:%S'),pd.to_datetime('2024-07-10 00:00:00',format='%Y-%m-%d %H:%M:%S')]"
   ]
  },
  {
   "cell_type": "code",
   "execution_count": 20,
   "id": "12a6d8a2-4132-4617-8fe8-eb1df0c38a73",
   "metadata": {
    "tags": []
   },
   "outputs": [
    {
     "data": {
      "text/plain": [
       "<Axes: xlabel='times'>"
      ]
     },
     "execution_count": 20,
     "metadata": {},
     "output_type": "execute_result"
    },
    {
     "data": {
      "image/png": "[encoded data removed]",
      "text/plain": [
       "<Figure size 640x480 with 1 Axes>"
      ]
     },
     "metadata": {},
     "output_type": "display_data"
    }
   ],
   "source": [
    "cook_hys.plot(x='times',y=['Trsun','Tssun','Tvsun','Trshd','Tsshd','Tvshd'],xlim=xlim,ylim=[240,340])"
   ]
  },
  {
   "cell_type": "code",
   "execution_count": 21,
   "id": "3449727c-5819-49ae-aacf-5c6c6920f0f5",
   "metadata": {
    "tags": []
   },
   "outputs": [
    {
     "data": {
      "text/plain": [
       "<Axes: xlabel='times'>"
      ]
     },
     "execution_count": 21,
     "metadata": {},
     "output_type": "execute_result"
    },
    {
     "data": {
      "image/png": "[encoded data removed]",
      "text/plain": [
       "<Figure size 640x480 with 1 Axes>"
      ]
     },
     "metadata": {},
     "output_type": "display_data"
    }
   ],
   "source": [
    "cook_flux.plot(x='times',y=['ET'],xlim=xlim)"
   ]
  },
  {
   "cell_type": "code",
   "execution_count": null,
   "id": "10758df8-aeac-4fca-ae42-973502b29519",
   "metadata": {},
   "outputs": [],
   "source": [
    "cook_hys['times2']=cook_hys['times']\n",
    "for i in cook_hys.index:\n",
    "    mask = abs(cook_hys.loc[i,'times']-cook_flux['times'])==min(abs(cook_hys.loc[i,'times']-cook_flux['times']))\n",
    "    cook_hys.loc[i,'times2'] = cook_flux.loc[mask,'times'].values[0]"
   ]
  },
  {
   "cell_type": "code",
   "execution_count": null,
   "id": "c7cbef93-78cd-48e5-87af-43bfdc5ab6dd",
   "metadata": {},
   "outputs": [],
   "source": [
    "cook_hys = cook_hys.drop(columns=['times'])"
   ]
  },
  {
   "cell_type": "code",
   "execution_count": null,
   "id": "1caab5d5-4861-4ca0-a8e7-4ea541074a78",
   "metadata": {},
   "outputs": [],
   "source": [
    "cook_hys = cook_hys.rename(columns={'times2':'times'}).drop(columns=['index', 'Unnamed: 0'])"
   ]
  },
  {
   "cell_type": "code",
   "execution_count": null,
   "id": "461c9835-0ff9-412c-8561-9c89d0533005",
   "metadata": {},
   "outputs": [],
   "source": [
    "cook_hys['times'] = cook_hys.astype({'times':'datetime64[ns]'}).reset_index().times.dt.tz_localize('UTC')"
   ]
  },
  {
   "cell_type": "code",
   "execution_count": null,
   "id": "af0c2469-0399-4b1b-ac13-934ac1502954",
   "metadata": {},
   "outputs": [],
   "source": [
    "cook_flux = cook_flux.merge(cook_hys,how='left')\n",
    "cook_flux=cook_flux[cook_flux.times>=cook_hys.times.min()]\n",
    "cook_flux=cook_flux[cook_flux.times<=cook_hys.times.max()]"
   ]
  },
  {
   "cell_type": "code",
   "execution_count": null,
   "id": "96838223-c0a0-4b35-91e3-5e01a84d14b5",
   "metadata": {},
   "outputs": [],
   "source": [
    "inputs = ['elevation', 'azimuth', 'fssun',\n",
    "       'fsshd', 'frsun', 'frshd', 'fvsun', 'fvshd', 'fwsun', 'fwshd', 'Tssun',\n",
    "       'Tsshd', 'Trsun', 'Trshd', 'Tvsun', 'Tvshd', 'Twsun', 'Twshd']\n",
    "outputs = ['ET']"
   ]
  },
  {
   "cell_type": "code",
   "execution_count": null,
   "id": "97ba629b-607d-45a5-9c98-3aca19ddea41",
   "metadata": {},
   "outputs": [],
   "source": [
    "for i in inputs:\n",
    "    if 'T' in i:\n",
    "        cook_flux.loc[cook_flux[i]<250,i]=np.nan"
   ]
  },
  {
   "cell_type": "code",
   "execution_count": null,
   "id": "f2b35a69-8a8f-4f1d-806f-7c3858859e59",
   "metadata": {},
   "outputs": [],
   "source": [
    "bad_ir = cook_flux.apply(lambda p: np.all(np.isnan(p[['Tsshd', 'Trshd', 'Tvshd', 'Twshd']].astype('float64').values)),axis=1)"
   ]
  },
  {
   "cell_type": "code",
   "execution_count": null,
   "id": "a4f9290e-f20c-4899-9c1a-0b85d8700e1f",
   "metadata": {},
   "outputs": [],
   "source": [
    "cook_flux['BadIR']=bad_ir"
   ]
  },
  {
   "cell_type": "code",
   "execution_count": null,
   "id": "fcd7853a-4e20-4104-95e5-9d841d5411a3",
   "metadata": {},
   "outputs": [],
   "source": [
    "cook_flux['Hour']=cook_flux.times.dt.hour"
   ]
  },
  {
   "cell_type": "code",
   "execution_count": null,
   "id": "304176c3-418a-47b9-82df-d0fd2a8c6708",
   "metadata": {},
   "outputs": [],
   "source": [
    "cook_flux = cook_flux.groupby('times').aggregate('mean').reset_index()"
   ]
  },
  {
   "cell_type": "code",
   "execution_count": null,
   "id": "8572cb52-65a0-400f-adb7-da5bafc56052",
   "metadata": {},
   "outputs": [],
   "source": [
    "cook_flux.to_csv('../../work/CookIRCamET/Working/cook_hys_ec.csv',index=False)"
   ]
  },
  {
   "cell_type": "code",
   "execution_count": null,
   "id": "49f36158-299d-45f8-8b41-5e63214f4192",
   "metadata": {},
   "outputs": [],
   "source": [
    "cook_flux = pd.read_csv('../../work/CookIRCamET/Working/cook_hys_ec.csv')"
   ]
  },
  {
   "cell_type": "code",
   "execution_count": null,
   "id": "442bdb53-7fae-495b-966f-ce0216219973",
   "metadata": {},
   "outputs": [],
   "source": [
    "cook_flux_interp = cook_flux.copy().drop_duplicates().sort_values('times')"
   ]
  },
  {
   "cell_type": "code",
   "execution_count": null,
   "id": "1bf79469-ca97-4a5f-b507-57fa2d158534",
   "metadata": {},
   "outputs": [],
   "source": [
    "cook_flux_interp"
   ]
  },
  {
   "cell_type": "code",
   "execution_count": null,
   "id": "a90528b1-04a6-47a1-8c53-5dafe5d72d6f",
   "metadata": {},
   "outputs": [],
   "source": [
    "end_idx_0 = cook_flux_interp[cook_flux_interp.times=='2022-11-16 21:30:00+00:00'].index[0]\n",
    "start_idx_0 = cook_flux_interp[cook_flux_interp.times=='2022-11-27 16:30:00+00:00'].index[0]\n",
    "\n",
    "end_idx_1 = cook_flux_interp[cook_flux_interp.times=='2023-02-21 01:30:00+00:00'].index[0]\n",
    "start_idx_1 = cook_flux_interp[cook_flux_interp.times=='2023-03-20 17:30:00+00:00'].index[0]\n",
    "\n",
    "end_idx_2 = cook_flux_interp[cook_flux_interp.times=='2023-03-22 03:30:00+00:00'].index[0]\n",
    "start_idx_2 = cook_flux_interp[cook_flux_interp.times=='2023-05-22 17:30:00+00:00'].index[0]\n",
    "\n",
    "end_idx_3 = cook_flux_interp[cook_flux_interp.times=='2023-07-18 16:30:00+00:00'].index[0]\n",
    "start_idx_3 = cook_flux_interp[cook_flux_interp.times=='2023-09-08 20:30:00+00:00'].index[0]\n",
    "\n",
    "end_idx_4 = cook_flux_interp[cook_flux_interp.times=='2024-03-01 17:30:00+00:00'].index[0]\n",
    "start_idx_4 = cook_flux_interp[cook_flux_interp.times=='2024-03-13 15:30:00+00:00'].index[0]\n",
    "\n",
    "end_idx_5 = cook_flux_interp[cook_flux_interp.times=='2024-03-30 16:30:00+00:00'].index[0]\n",
    "start_idx_5 = cook_flux_interp[cook_flux_interp.times=='2024-05-10 22:30:00+00:00'].index[0]\n",
    "\n",
    "#make chunks around gaps\n",
    "cook_flux_chunk0 = cook_flux_interp.loc[0:end_idx_0+1,:]\n",
    "cook_flux_chunk1 = cook_flux_interp.loc[start_idx_0:end_idx_1+1,:]\n",
    "cook_flux_chunk2 = cook_flux_interp.loc[start_idx_1:end_idx_2+1,:]\n",
    "cook_flux_chunk3 = cook_flux_interp.loc[start_idx_2:end_idx_3+1,:]\n",
    "cook_flux_chunk4 = cook_flux_interp.loc[start_idx_3:end_idx_4+1,:]\n",
    "cook_flux_chunk5 = cook_flux_interp.loc[start_idx_4:end_idx_5+1,:]\n",
    "cook_flux_chunk6 = cook_flux_interp.loc[start_idx_5:,:]"
   ]
  },
  {
   "cell_type": "code",
   "execution_count": null,
   "id": "76982f50-8aa5-454d-8317-8eb2f46393f8",
   "metadata": {},
   "outputs": [],
   "source": [
    "gb0 = cook_flux_chunk0.groupby(['Year','DoY'])"
   ]
  },
  {
   "cell_type": "code",
   "execution_count": null,
   "id": "49054352-629a-4d35-8e68-01c250bda3ab",
   "metadata": {},
   "outputs": [],
   "source": [
    "flux_days0 = [gb0.get_group(g).sort_values('times') for g in gb0.groups if len(gb0.get_group(g))==24]"
   ]
  },
  {
   "cell_type": "code",
   "execution_count": null,
   "id": "cd1ab482-940b-4c71-a105-421ce810f26b",
   "metadata": {},
   "outputs": [],
   "source": [
    "gb1 = cook_flux_chunk1.groupby(['Year','DoY'])"
   ]
  },
  {
   "cell_type": "code",
   "execution_count": null,
   "id": "8d55e58f-3b31-4e00-84d9-1806ca0a57ce",
   "metadata": {},
   "outputs": [],
   "source": [
    "flux_days1 = [gb1.get_group(g).sort_values('times') for g in gb1.groups if len(gb1.get_group(g))==24]"
   ]
  },
  {
   "cell_type": "code",
   "execution_count": null,
   "id": "512c1c3d-4fa1-4176-9e84-e98529aa1d6c",
   "metadata": {},
   "outputs": [],
   "source": [
    "gb2 = cook_flux_chunk2.groupby(['Year','DoY'])"
   ]
  },
  {
   "cell_type": "code",
   "execution_count": null,
   "id": "d6485155-b75d-475b-8c49-09a7f9b346ae",
   "metadata": {},
   "outputs": [],
   "source": [
    "flux_days2 = [gb2.get_group(g).sort_values('times') for g in gb2.groups if len(gb2.get_group(g))==24]"
   ]
  },
  {
   "cell_type": "code",
   "execution_count": null,
   "id": "9a942ff2-d9d3-4724-a7f3-aab6504b8451",
   "metadata": {},
   "outputs": [],
   "source": [
    "gb3 = cook_flux_chunk3.groupby(['Year','DoY'])"
   ]
  },
  {
   "cell_type": "code",
   "execution_count": null,
   "id": "13e2d29b-3f10-4694-bd73-3d6a38652719",
   "metadata": {},
   "outputs": [],
   "source": [
    "flux_days3 = [gb3.get_group(g).sort_values('times') for g in gb3.groups if len(gb3.get_group(g))==24]"
   ]
  },
  {
   "cell_type": "code",
   "execution_count": null,
   "id": "e4f8ddb1-149e-427d-bd2b-1bdfe1aa8023",
   "metadata": {},
   "outputs": [],
   "source": [
    "gb4 = cook_flux_chunk4.groupby(['Year','DoY'])"
   ]
  },
  {
   "cell_type": "code",
   "execution_count": null,
   "id": "0bc9defb-52a9-4b06-9754-fa37f900d19a",
   "metadata": {},
   "outputs": [],
   "source": [
    "flux_days4 = [gb4.get_group(g).sort_values('times') for g in gb4.groups if len(gb4.get_group(g))==24]"
   ]
  },
  {
   "cell_type": "code",
   "execution_count": null,
   "id": "2801928e-e6ce-4595-9e5e-d86de414a5a5",
   "metadata": {},
   "outputs": [],
   "source": [
    "gb5 = cook_flux_chunk5.groupby(['Year','DoY'])"
   ]
  },
  {
   "cell_type": "code",
   "execution_count": null,
   "id": "12c6c31e-322c-407d-840f-90da66d7034b",
   "metadata": {},
   "outputs": [],
   "source": [
    "flux_days5 = [gb5.get_group(g).sort_values('times') for g in gb5.groups if len(gb5.get_group(g))==24]"
   ]
  },
  {
   "cell_type": "code",
   "execution_count": null,
   "id": "e6114def-0d81-47fb-9e0a-c852b7ed0b56",
   "metadata": {},
   "outputs": [],
   "source": [
    "gb6 = cook_flux_chunk6.groupby(['Year','DoY'])"
   ]
  },
  {
   "cell_type": "code",
   "execution_count": null,
   "id": "51c94498-141b-4967-bd26-93b4248f7db6",
   "metadata": {},
   "outputs": [],
   "source": [
    "flux_days6 = [gb6.get_group(g).sort_values('times') for g in gb6.groups if len(gb6.get_group(g))==24]"
   ]
  },
  {
   "cell_type": "code",
   "execution_count": null,
   "id": "bd362b09-0192-4cd7-a48e-9c5195592f3f",
   "metadata": {
    "tags": []
   },
   "outputs": [],
   "source": [
    "daily_flux = pd.concat([*flux_days0,*flux_days1,*flux_days2,*flux_days3,*flux_days4,*flux_days5,*flux_days6])[['times','ET', 'Rg', 'Tair', 'rH','VPD', 'elevation',\n",
    "       'azimuth', 'fssun', 'fsshd', 'frsun', 'frshd', 'fvsun', 'fvshd',\n",
    "       'fwsun', 'fwshd', 'Tssun', 'Tsshd', 'Trsun', 'Trshd', 'Tvsun', 'Tvshd',\n",
    "       'Twsun', 'Twshd','BadIR']].reset_index().drop(columns='index')"
   ]
  },
  {
   "cell_type": "code",
   "execution_count": null,
   "id": "30ee40c4-0179-4be5-a1b2-ea377707923f",
   "metadata": {},
   "outputs": [],
   "source": [
    "inputs = ['Rg', 'Tair', 'rH', 'elevation',\n",
    "       'azimuth', 'fssun', 'fsshd', 'frsun', 'frshd', 'fvsun', 'fvshd',\n",
    "       'fwsun', 'fwshd', 'Tssun', 'Tsshd', 'Trsun', 'Trshd', 'Tvsun', 'Tvshd',\n",
    "       'Twsun', 'Twshd'] "
   ]
  },
  {
   "cell_type": "code",
   "execution_count": null,
   "id": "e256318d-86a8-4d30-8de6-698bfd43126d",
   "metadata": {},
   "outputs": [],
   "source": [
    "n_feats = len(inputs)"
   ]
  },
  {
   "cell_type": "code",
   "execution_count": null,
   "id": "55fedc61-a6c7-48c3-ac39-6bb5d9f12412",
   "metadata": {},
   "outputs": [],
   "source": [
    "#replace nans with maskable value\n",
    "daily_flux.replace(to_replace=np.nan,value=0,inplace=True)"
   ]
  },
  {
   "cell_type": "code",
   "execution_count": null,
   "id": "d9d08f31-1f13-471a-a333-1c6aa1b7d677",
   "metadata": {},
   "outputs": [],
   "source": [
    "#return bad measurements with nan\n",
    "daily_flux.loc[daily_flux.BadIR==True,['Tssun', 'Tsshd', 'Trsun', 'Trshd', 'Tvsun', 'Tvshd','Twsun', 'Twshd']]=np.nan"
   ]
  },
  {
   "cell_type": "code",
   "execution_count": null,
   "id": "1ed06c4c-2043-4043-bab5-30b5012d4b12",
   "metadata": {},
   "outputs": [],
   "source": [
    "#interpolate nan\n",
    "for i in inputs:\n",
    "    if 'T' in i:\n",
    "        daily_flux.loc[:,i]=daily_flux[i].interpolate(method='linear')"
   ]
  },
  {
   "cell_type": "code",
   "execution_count": null,
   "id": "fe8be5e8-c3bc-402c-8b33-f672dca7a083",
   "metadata": {},
   "outputs": [],
   "source": [
    "daily_flux.to_csv('../../work/CookIRCamET/Working/cookhy2023_batches_processed.csv', index=False)"
   ]
  },
  {
   "cell_type": "code",
   "execution_count": null,
   "id": "0c5bee12-2ec9-413f-9f54-738a57df3309",
   "metadata": {},
   "outputs": [],
   "source": [
    "daily_flux.plot.scatter(x='times',y='ET')"
   ]
  },
  {
   "cell_type": "code",
   "execution_count": null,
   "id": "7e6a5771-175e-4017-853d-a774dc09baa7",
   "metadata": {
    "jupyter": {
     "source_hidden": true
    }
   },
   "outputs": [],
   "source": [
    "cprl_met_vars = ['NE_Year','NE_DOY','NE_Time in hhmm','NE_Rs in W/m^2','NE_air temp in degrees C','NE_RH in %']\n",
    "cprl_lys_vars = ['Year','DOY','Tdec','ET (mm)']\n",
    "\n",
    "cprl_met = pd.read_csv(\"../../raw/CookIRCamET/Meteorological/Cprl/NE_lys_2023_for_Joaquin/2023_NE_Cotton_Lys_ClimDat_New_15_min.csv\")[cprl_met_vars]"
   ]
  },
  {
   "cell_type": "code",
   "execution_count": null,
   "id": "02545b6e-df0c-4df7-a739-7d3a5ccf8c43",
   "metadata": {
    "jupyter": {
     "source_hidden": true
    }
   },
   "outputs": [],
   "source": [
    "cprl_met['VPD'] =10*cprl_met.apply(lambda x: vpd(x['NE_air temp in degrees C'],x['NE_RH in %']),axis=1)#hpa\n",
    "cprl_lys = pd.read_csv(\"../../raw/CookIRCamET/Meteorological/Cprl/NE_lys_updated_2023/2023_NE_Cotton_water_balance_15_min_matlab.csv\")[cprl_lys_vars]"
   ]
  },
  {
   "cell_type": "code",
   "execution_count": null,
   "id": "4f7a6379-adcb-4757-bb14-0fdf6a9bb093",
   "metadata": {
    "jupyter": {
     "source_hidden": true
    }
   },
   "outputs": [],
   "source": [
    "cprl_hy2023_v1 = pd.read_csv('../../work/CookIRCamET/Working/cprlhy2023_V1_output.csv')\n",
    "cprl_hy2023_v2 = pd.read_csv('../../work/CookIRCamET/Working/cprlhy2023_V2_output.csv')\n",
    "cprl_hy2023 = pd.concat([cprl_hy2023_v1,cprl_hy2023_v2]).reset_index()#.astype({'times':'datetime64'})"
   ]
  },
  {
   "cell_type": "code",
   "execution_count": null,
   "id": "697378cc-16f2-46f6-8693-b1b477056c2e",
   "metadata": {},
   "outputs": [],
   "source": [
    "cprl_hy2023.times"
   ]
  },
  {
   "cell_type": "code",
   "execution_count": null,
   "id": "0496a042-3ed5-4888-b9d8-e570638068fa",
   "metadata": {},
   "outputs": [],
   "source": [
    "cprl_hy2023['times'] = pd.to_datetime(cprl_hy2023.times)#.dt.tz_localize('UTC')\n",
    "cprl_hy2023 = cprl_hy2023[['times', 'daylight', 'elevation', 'azimuth',\n",
    "       'fssun', 'fsshd', 'frsun', 'frshd', 'fvsun', 'fvshd', 'fwsun', 'fwshd',\n",
    "       'Tssun', 'Tsshd', 'Trsun', 'Trshd', 'Tvsun', 'Tvshd', 'Twsun', 'Twshd']]"
   ]
  },
  {
   "cell_type": "code",
   "execution_count": null,
   "id": "1f98f6e2-96af-4d1d-9b86-5c7a9004fd43",
   "metadata": {},
   "outputs": [],
   "source": [
    "cprl_met = cprl_met.rename(columns={'NE_Year':'Year','NE_DOY':'DoY','NE_Time in hhmm':'HHMM','NE_Rs in W/m^2':'Rg','NE_air temp in degrees C':'Tair','NE_RH in %':'rH'})"
   ]
  },
  {
   "cell_type": "code",
   "execution_count": null,
   "id": "c33fb44c-4374-4f8c-8ce2-2a4884754787",
   "metadata": {},
   "outputs": [],
   "source": [
    "cprl_lys = cprl_lys.rename(columns={'DOY':'DoY','Tdec':'Hour','ET (mm)':'ET'})"
   ]
  },
  {
   "cell_type": "code",
   "execution_count": null,
   "id": "c9d28973-d986-4b5e-bbef-57c5513eee7b",
   "metadata": {},
   "outputs": [],
   "source": [
    "cprl_lys['Minutes']=60*(cprl_lys['Hour']-np.floor(cprl_lys['Hour']))\n",
    "cprl_lys['Minutes']=cprl_lys['Minutes'].astype(int).astype(str)\n",
    "cprl_lys['Hour']=np.floor(cprl_lys['Hour']).astype(int).astype(str)"
   ]
  },
  {
   "cell_type": "code",
   "execution_count": null,
   "id": "152a8c6d-2fde-480b-a2e6-519d513ee69e",
   "metadata": {},
   "outputs": [],
   "source": [
    "mask = cprl_lys.Hour=='24'\n",
    "cprl_lys.loc[mask,'Hour']='0'\n",
    "cprl_lys.loc[mask,'DoY']=cprl_lys.loc[mask,'DoY']+1"
   ]
  },
  {
   "cell_type": "code",
   "execution_count": null,
   "id": "0a5ea261-e3f7-4460-a0bf-ceab5a2ed22c",
   "metadata": {},
   "outputs": [],
   "source": [
    "mask = cprl_lys.DoY==366\n",
    "cprl_lys.loc[mask,'DoY']=1\n",
    "cprl_lys.loc[mask,'Year']=2024"
   ]
  },
  {
   "cell_type": "code",
   "execution_count": null,
   "id": "db0a3ffd-6996-44b9-a999-12bb55556973",
   "metadata": {},
   "outputs": [],
   "source": [
    "cprl_met['Hour'] = np.floor(cprl_met.HHMM/100).astype(int).astype(str)\n",
    "cprl_met['Minutes'] = 100*(cprl_met.HHMM/100 - np.floor(cprl_met.HHMM/100))\n",
    "cprl_met['Minutes'] = cprl_met.Minutes.astype(int).astype(str)\n",
    "cprl_met['Minutes']=cprl_met.Minutes.replace({'14':'15','44':'45'})"
   ]
  },
  {
   "cell_type": "code",
   "execution_count": null,
   "id": "88762970-f3dc-4286-8beb-db89d94514eb",
   "metadata": {},
   "outputs": [],
   "source": [
    "mask = cprl_met.Hour=='24'\n",
    "cprl_met.loc[mask,'Hour']='0'\n",
    "cprl_met.loc[mask,'DoY']=cprl_met.loc[mask,'DoY']+1"
   ]
  },
  {
   "cell_type": "code",
   "execution_count": null,
   "id": "006ca39f-dc39-4b13-8941-ac3113d37f6a",
   "metadata": {},
   "outputs": [],
   "source": [
    "mask = cprl_met.DoY==366\n",
    "cprl_met.loc[mask,'DoY']=1\n",
    "cprl_met.loc[mask,'Year']=2024"
   ]
  },
  {
   "cell_type": "code",
   "execution_count": null,
   "id": "a859d69d-62be-41db-9735-630f25d58e72",
   "metadata": {},
   "outputs": [],
   "source": [
    "cprl_met_lys=cprl_lys.merge(cprl_met,on=['Hour','Minutes','Year','DoY'],how='left')"
   ]
  },
  {
   "cell_type": "code",
   "execution_count": null,
   "id": "c61b708d-c640-4e28-a7af-1461e84caf02",
   "metadata": {},
   "outputs": [],
   "source": [
    "cprl_met_lys=cprl_met_lys.groupby(['Year','DoY','Hour']).agg({'Rg':'mean', 'Tair':'mean', 'rH':'mean', 'ET':'sum','VPD':'mean'}).reset_index(drop=False)"
   ]
  },
  {
   "cell_type": "code",
   "execution_count": null,
   "id": "551e5aaf-71be-4411-9bb0-4b67ca854b2c",
   "metadata": {},
   "outputs": [],
   "source": [
    "cprl_met_lys['times']=pd.to_datetime(cprl_met_lys['Year'].astype(str) + ' ' + cprl_met_lys['DoY'].astype(str) + ' ' + cprl_met_lys['Hour']+':'+'00',\n",
    "    format='%Y %j %H:%M'\n",
    "   )"
   ]
  },
  {
   "cell_type": "code",
   "execution_count": null,
   "id": "e6a1c48e-2c20-4626-ae4f-5cf8420ce432",
   "metadata": {},
   "outputs": [],
   "source": [
    "cprl_met_lys.Tair+=273.15"
   ]
  },
  {
   "cell_type": "code",
   "execution_count": null,
   "id": "a0fe44a0-6105-4784-92ad-9bb9e4c7800e",
   "metadata": {},
   "outputs": [],
   "source": [
    "cprl_met_lys"
   ]
  },
  {
   "cell_type": "code",
   "execution_count": null,
   "id": "64fc09f4-2dec-4487-ab93-3cc8bdc161e2",
   "metadata": {},
   "outputs": [],
   "source": [
    "cprl_met_lys['times'] = cprl_met_lys.times.dt.tz_localize('Etc/GMT+6')"
   ]
  },
  {
   "cell_type": "code",
   "execution_count": null,
   "id": "34e2bdaa-7abf-44c4-be86-48fd703eec36",
   "metadata": {},
   "outputs": [],
   "source": [
    "cprl_met_lys['times'] = cprl_met_lys.times.dt.tz_convert('UTC')"
   ]
  },
  {
   "cell_type": "code",
   "execution_count": null,
   "id": "c318f7aa-b812-4626-98ea-a5e6ac35f02a",
   "metadata": {},
   "outputs": [],
   "source": [
    "cprl_hy2023['times2']=cprl_hy2023['times']\n",
    "for i in cprl_hy2023.index:\n",
    "    mask = abs(cprl_hy2023.loc[i,'times']-cprl_met_lys['times'])==min(abs(cprl_hy2023.loc[i,'times']-cprl_met_lys['times']))\n",
    "    cprl_hy2023.loc[i,'times2'] = cprl_met_lys.loc[mask,'times'].values[0]"
   ]
  },
  {
   "cell_type": "code",
   "execution_count": null,
   "id": "c5e7130b-77ed-4bf0-83ed-56da876632f9",
   "metadata": {},
   "outputs": [],
   "source": [
    "cprl_hy2023 = cprl_hy2023.drop(columns=['times']).rename(columns={'times2':'times'})"
   ]
  },
  {
   "cell_type": "code",
   "execution_count": null,
   "id": "40a93ef7-560e-44a4-b63f-5e78282f3ca1",
   "metadata": {},
   "outputs": [],
   "source": [
    "cprl_hy2023 = cprl_hy2023.astype({'times':'datetime64[ns]'}).reset_index(drop=True)"
   ]
  },
  {
   "cell_type": "code",
   "execution_count": null,
   "id": "641a27c9-d466-4199-8b30-96ff26648af9",
   "metadata": {},
   "outputs": [],
   "source": [
    "cprl_hy2023['times'] = cprl_hy2023.times.dt.tz_localize('UTC')"
   ]
  },
  {
   "cell_type": "code",
   "execution_count": null,
   "id": "7df824ec-df8e-491e-9c62-508eb0e83878",
   "metadata": {},
   "outputs": [],
   "source": [
    "cprl_hy2023 = cprl_hy2023.groupby(['times']).agg({'daylight':'mean', 'elevation':'mean', 'azimuth':'mean',\n",
    "       'fssun':'mean', 'fsshd':'mean', 'frsun':'mean', 'frshd':'mean', 'fvsun':'mean', 'fvshd':'mean', 'fwsun':'mean', 'fwshd':'mean',\n",
    "       'Tssun':'mean', 'Tsshd':'mean', 'Trsun':'mean', 'Trshd':'mean', 'Tvsun':'mean', 'Tvshd':'mean', 'Twsun':'mean', 'Twshd':'mean'}).reset_index(drop=False) "
   ]
  },
  {
   "cell_type": "code",
   "execution_count": null,
   "id": "c4d9d30c-52dc-4f4f-b7e8-fca8094e6600",
   "metadata": {},
   "outputs": [],
   "source": [
    "cprl_flux = cprl_met_lys.merge(cprl_hy2023,how='left',on = 'times')"
   ]
  },
  {
   "cell_type": "code",
   "execution_count": null,
   "id": "8004b0b6-2766-4cc5-b059-f696f8439522",
   "metadata": {},
   "outputs": [],
   "source": [
    "cprl_flux"
   ]
  },
  {
   "cell_type": "code",
   "execution_count": null,
   "id": "45e1a51b-9853-42f2-80da-7f01bf9c915b",
   "metadata": {},
   "outputs": [],
   "source": [
    "ax = cprl_flux.plot(x='times',y='Tair')\n",
    "cprl_flux.plot(x='times',y='Tsshd',ax=ax)"
   ]
  },
  {
   "cell_type": "code",
   "execution_count": null,
   "id": "a7e0ff0c-6e71-4c13-bc69-b83e75ec05e3",
   "metadata": {},
   "outputs": [],
   "source": [
    "#timezone check & \"good chunks\"\n",
    "xlim_list = []"
   ]
  },
  {
   "cell_type": "code",
   "execution_count": null,
   "id": "05f6a4a9-8779-4856-bf3b-07671620cf32",
   "metadata": {
    "jupyter": {
     "source_hidden": true
    }
   },
   "outputs": [],
   "source": [
    "xlim=[pd.to_datetime('2023-04-12 00:00:00',format='%Y-%m-%d %H:%M:%S'),pd.to_datetime('2023-04-20 00:00:00',format='%Y-%m-%d %H:%M:%S')]\n",
    "ax = cprl_flux.plot(x='times',y='Tair')\n",
    "cprl_flux.plot(x='times',y=['Trsun','Tssun'],xlim=xlim,ax=ax)\n",
    "xlim_list.append(xlim)"
   ]
  },
  {
   "cell_type": "code",
   "execution_count": null,
   "id": "a1a9b807-43dc-4b3b-ab83-d1638b4f2da2",
   "metadata": {
    "jupyter": {
     "source_hidden": true
    }
   },
   "outputs": [],
   "source": [
    "xlim=[pd.to_datetime('2023-04-30 00:00:00',format='%Y-%m-%d %H:%M:%S'),pd.to_datetime('2023-06-01 00:00:00',format='%Y-%m-%d %H:%M:%S')]\n",
    "ax = cprl_met_lys.plot(x='times',y='Tair')\n",
    "cprl_flux.plot(x='times',y=['Trsun','Tssun'],xlim=xlim,ax=ax)\n",
    "xlim_list.append(xlim)"
   ]
  },
  {
   "cell_type": "code",
   "execution_count": null,
   "id": "421e1c37-2d9c-427a-a343-88f6b143a71b",
   "metadata": {
    "jupyter": {
     "source_hidden": true
    }
   },
   "outputs": [],
   "source": [
    "xlim=[pd.to_datetime('2023-06-07 00:00:00',format='%Y-%m-%d %H:%M:%S'),pd.to_datetime('2023-07-07 00:00:00',format='%Y-%m-%d %H:%M:%S')]\n",
    "ax = cprl_flux.plot(x='times',y='Tair')\n",
    "cprl_flux.plot(x='times',y=['Trsun','Tssun'],xlim=xlim,ax=ax)\n",
    "xlim_list.append(xlim)"
   ]
  },
  {
   "cell_type": "code",
   "execution_count": null,
   "id": "ec597702-deb8-4d57-818f-529e0a8a29f1",
   "metadata": {
    "jupyter": {
     "source_hidden": true
    }
   },
   "outputs": [],
   "source": [
    "xlim=[pd.to_datetime('2023-07-17 00:00:00',format='%Y-%m-%d %H:%M:%S'),pd.to_datetime('2023-07-30 00:00:00',format='%Y-%m-%d %H:%M:%S')]\n",
    "ax = cprl_flux.plot(x='times',y='Tair')\n",
    "cprl_flux.plot(x='times',y=['Trsun','Tssun','Tvsun'],xlim=xlim,ax=ax)\n",
    "xlim_list.append(xlim)"
   ]
  },
  {
   "cell_type": "code",
   "execution_count": null,
   "id": "1230d804-ff7c-43ae-ae7b-7a87ab5f399c",
   "metadata": {
    "jupyter": {
     "source_hidden": true
    }
   },
   "outputs": [],
   "source": [
    "xlim=[pd.to_datetime('2023-08-03 00:00:00',format='%Y-%m-%d %H:%M:%S'),pd.to_datetime('2023-09-16 00:00:00',format='%Y-%m-%d %H:%M:%S')]\n",
    "ax = cprl_flux.plot(x='times',y='Tair')\n",
    "cprl_flux.plot(x='times',y=['Trsun','Tssun','Tvsun'],xlim=xlim,ax=ax)\n",
    "xlim_list.append(xlim)"
   ]
  },
  {
   "cell_type": "code",
   "execution_count": null,
   "id": "7141c82d-8366-46f0-b9c8-a5dbb09875e1",
   "metadata": {
    "jupyter": {
     "source_hidden": true
    }
   },
   "outputs": [],
   "source": [
    "xlim=[pd.to_datetime('2023-09-19 00:00:00',format='%Y-%m-%d %H:%M:%S'),pd.to_datetime('2023-10-14 00:00:00',format='%Y-%m-%d %H:%M:%S')]\n",
    "ax = cprl_flux.plot(x='times',y='Tair')\n",
    "cprl_flux.plot(x='times',y=['Trsun','Tssun','Tvsun'],xlim=xlim,ax=ax)\n",
    "xlim_list.append(xlim)"
   ]
  },
  {
   "cell_type": "code",
   "execution_count": null,
   "id": "28cdaaa1-c1ff-4c0e-b856-7df043d67b3e",
   "metadata": {
    "jupyter": {
     "source_hidden": true
    }
   },
   "outputs": [],
   "source": [
    "for i in inputs:\n",
    "    if 'T' in i:\n",
    "        cprl_flux.loc[cprl_flux[i]<250,i]=np.nan"
   ]
  },
  {
   "cell_type": "code",
   "execution_count": null,
   "id": "48f8ccdc-ba34-431e-9ae3-b709191368ba",
   "metadata": {
    "jupyter": {
     "source_hidden": true
    }
   },
   "outputs": [],
   "source": [
    "bad_ir = cprl_flux.apply(lambda p: np.all(np.isnan(p[['Tsshd', 'Trshd', 'Tvshd', 'Twshd']].astype('float64').values)),axis=1)"
   ]
  },
  {
   "cell_type": "code",
   "execution_count": null,
   "id": "d5f8cb0d-a961-4142-a508-2013d426731d",
   "metadata": {
    "jupyter": {
     "source_hidden": true
    }
   },
   "outputs": [],
   "source": [
    "cprl_flux['BadIR']=bad_ir"
   ]
  },
  {
   "cell_type": "code",
   "execution_count": null,
   "id": "54856573-edd1-49a8-9180-b0b7cc83fd1f",
   "metadata": {
    "jupyter": {
     "source_hidden": true
    }
   },
   "outputs": [],
   "source": [
    "cprl_flux"
   ]
  },
  {
   "cell_type": "code",
   "execution_count": null,
   "id": "a429b0e5-db42-40ed-8c5a-c8e0825e6606",
   "metadata": {
    "jupyter": {
     "source_hidden": true
    }
   },
   "outputs": [],
   "source": [
    "cprl_flux = cprl_flux.sort_values('times').reset_index(drop=True)"
   ]
  },
  {
   "cell_type": "code",
   "execution_count": null,
   "id": "40b439cb-f5b3-4eee-b5ad-93d31f2d5700",
   "metadata": {
    "jupyter": {
     "source_hidden": true
    }
   },
   "outputs": [],
   "source": [
    "chunks = []\n",
    "gbs = []\n",
    "fds = []"
   ]
  },
  {
   "cell_type": "code",
   "execution_count": null,
   "id": "6cc4cfd3-7018-4683-a04e-745584a083b3",
   "metadata": {
    "jupyter": {
     "source_hidden": true
    }
   },
   "outputs": [],
   "source": [
    "for xlim in xlim_list:\n",
    "    print(xlim)\n",
    "    start_idx = cprl_flux[cprl_flux.times==xlim[0].tz_localize('UTC')].index[0]\n",
    "    end_idx = cprl_flux[cprl_flux.times==xlim[1].tz_localize('UTC')].index[0]\n",
    "    print(start_idx,end_idx)\n",
    "    #make chunks\n",
    "    cprl_flux_chunks=cprl_flux.loc[start_idx:end_idx+1,:]\n",
    "    chunks.append(cprl_flux_chunks)\n",
    "    gb=cprl_flux_chunks.groupby(['Year','DoY'])\n",
    "    gbs.append(gb)\n",
    "    fds.append([gb.get_group(g).sort_values('times') for g in gb.groups if len(gb.get_group(g))==24])"
   ]
  },
  {
   "cell_type": "code",
   "execution_count": null,
   "id": "2611936c-be27-44af-86b2-0c359f77751e",
   "metadata": {
    "jupyter": {
     "source_hidden": true
    }
   },
   "outputs": [],
   "source": [
    "fds = [f\n",
    "       for fd in fds\n",
    "       for f in fd ]"
   ]
  },
  {
   "cell_type": "code",
   "execution_count": null,
   "id": "3c42cf99-510e-4318-8887-6b6f14872a8b",
   "metadata": {
    "jupyter": {
     "source_hidden": true
    }
   },
   "outputs": [],
   "source": [
    "daily_flux = pd.concat(fds).reset_index(drop=True)"
   ]
  },
  {
   "cell_type": "code",
   "execution_count": null,
   "id": "2d60df02-f637-40a8-bca3-5e0bfa4de332",
   "metadata": {
    "jupyter": {
     "source_hidden": true
    },
    "tags": []
   },
   "outputs": [],
   "source": [
    "daily_flux = daily_flux[['times','ET', 'Rg', 'Tair', 'rH','VPD', 'elevation',\n",
    "       'azimuth', 'fssun', 'fsshd', 'frsun', 'frshd', 'fvsun', 'fvshd',\n",
    "       'fwsun', 'fwshd', 'Tssun', 'Tsshd', 'Trsun', 'Trshd', 'Tvsun', 'Tvshd',\n",
    "       'Twsun', 'Twshd','BadIR']]"
   ]
  },
  {
   "cell_type": "code",
   "execution_count": null,
   "id": "f8fa1dc1-e888-4871-b0f5-34396dfb75f7",
   "metadata": {
    "jupyter": {
     "source_hidden": true
    }
   },
   "outputs": [],
   "source": [
    "inputs = ['Rg', 'Tair', 'rH','VPD', 'elevation',\n",
    "       'azimuth', 'fssun', 'fsshd', 'frsun', 'frshd', 'fvsun', 'fvshd',\n",
    "       'fwsun', 'fwshd', 'Tssun', 'Tsshd', 'Trsun', 'Trshd', 'Tvsun', 'Tvshd',\n",
    "       'Twsun', 'Twshd'] "
   ]
  },
  {
   "cell_type": "code",
   "execution_count": null,
   "id": "ea998d66-5be4-47d2-bc34-76b4e47ec03d",
   "metadata": {
    "jupyter": {
     "source_hidden": true
    }
   },
   "outputs": [],
   "source": [
    "\n",
    "n_feats = len(inputs)"
   ]
  },
  {
   "cell_type": "code",
   "execution_count": null,
   "id": "a0c3d589-7c05-4659-9bc3-f36ca34189ac",
   "metadata": {
    "jupyter": {
     "source_hidden": true
    }
   },
   "outputs": [],
   "source": [
    "#replace nans with maskable value\n",
    "daily_flux.replace(to_replace=np.nan,value=0,inplace=True)"
   ]
  },
  {
   "cell_type": "code",
   "execution_count": null,
   "id": "af941d49-c40b-4bd5-8701-029b9c21569d",
   "metadata": {
    "jupyter": {
     "source_hidden": true
    }
   },
   "outputs": [],
   "source": [
    "#return bad measurements with nan\n",
    "daily_flux.loc[daily_flux.BadIR==True,['Tssun', 'Tsshd', 'Trsun', 'Trshd', 'Tvsun', 'Tvshd','Twsun', 'Twshd']]=np.nan"
   ]
  },
  {
   "cell_type": "code",
   "execution_count": null,
   "id": "a30c1e84-c59f-4d3b-a06a-90d3c900b8f7",
   "metadata": {
    "jupyter": {
     "source_hidden": true
    }
   },
   "outputs": [],
   "source": [
    "for xlim in xlim_list:\n",
    "    daily_flux.plot(x='times',y='ET',xlim=xlim)"
   ]
  },
  {
   "cell_type": "code",
   "execution_count": null,
   "id": "137a9227-cca0-4922-b046-39b24fd476fa",
   "metadata": {
    "jupyter": {
     "source_hidden": true
    }
   },
   "outputs": [],
   "source": [
    "for xlim in xlim_list:\n",
    "    daily_flux.plot(x='times',y='Tssun',xlim=xlim)"
   ]
  },
  {
   "cell_type": "code",
   "execution_count": null,
   "id": "d3ed9231-af1b-47cd-bd1b-ce336bc2b81d",
   "metadata": {
    "jupyter": {
     "source_hidden": true
    }
   },
   "outputs": [],
   "source": [
    "#interpolate nan\n",
    "for i in inputs:\n",
    "    if 'T' in i:\n",
    "        daily_flux.loc[:,i]=daily_flux[i].interpolate(method='linear')"
   ]
  },
  {
   "cell_type": "code",
   "execution_count": null,
   "id": "b2eb1408-4a16-4414-a6e9-ae7bbb2d97bb",
   "metadata": {
    "jupyter": {
     "source_hidden": true
    }
   },
   "outputs": [],
   "source": [
    "for xlim in xlim_list:\n",
    "    daily_flux.plot(x='times',y='Tssun',xlim=xlim)"
   ]
  },
  {
   "cell_type": "code",
   "execution_count": null,
   "id": "58f11a22-b6c5-412c-a9bc-6ee9d9ee15c3",
   "metadata": {
    "jupyter": {
     "source_hidden": true
    }
   },
   "outputs": [],
   "source": [
    "daily_flux.to_csv('../../work/CookIRCamET/Working/cprlhy2023_batches_processed.csv', index=False)"
   ]
  },
  {
   "cell_type": "code",
   "execution_count": null,
   "id": "622ac3dd-1c57-4fbb-b2ad-52105a79a24a",
   "metadata": {},
   "outputs": [],
   "source": []
  },
  {
   "cell_type": "code",
   "execution_count": null,
   "id": "9266c5aa-8152-4641-a046-acf1683df539",
   "metadata": {},
   "outputs": [],
   "source": []
  }
 ],
 "metadata": {
  "kernelspec": {
   "display_name": "nsaru-cv",
   "language": "python",
   "name": "nsaru-cv"
  },
  "language_info": {
   "codemirror_mode": {
    "name": "ipython",
    "version": 3
   },
   "file_extension": ".py",
   "mimetype": "text/x-python",
   "name": "python",
   "nbconvert_exporter": "python",
   "pygments_lexer": "ipython3",
   "version": "3.11.1"
  }
 },
 "nbformat": 4,
 "nbformat_minor": 5
}
