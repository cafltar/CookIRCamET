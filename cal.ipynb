{
 "cells": [
  {
   "cell_type": "code",
   "execution_count": 17,
   "id": "1376b9a1-c760-4b43-a8b0-6dc7d0ca5a2f",
   "metadata": {
    "tags": []
   },
   "outputs": [],
   "source": [
    "#### import sys\n",
    "import numpy as np\n",
    "import cv2\n",
    "from time import sleep\n",
    "from datetime import datetime\n",
    "import os\n",
    "import numpy as np\n",
    "from matplotlib import pyplot as plt\n",
    "from pandas import read_csv, read_excel, DataFrame\n",
    "from sklearn.mixture import GaussianMixture\n",
    "from sklearn.preprocessing import StandardScaler\n",
    "import matplotlib.pyplot as plt\n",
    "from sklearn.linear_model import  LinearRegression\n",
    "import pickle\n",
    "\n",
    "import logging\n",
    "logging.basicConfig(level=logging.INFO)\n",
    "p1 = os.path.join('../../','raw','CookIRCamET','Images','NsarIRCal')\n",
    "p3 = os.path.join('../../','raw','CookIRCamET','Images','CprlIRCal')\n",
    "p5 = os.path.join('../../','raw','CookIRCamET','Images','NsarIRCalFlir2')\n",
    "p7 = os.path.join('../../','raw','CookIRCamET','Images','NsarIRCalFlir3')\n",
    "p9 = os.path.join('../../','raw','CookIRCamET','Images','NsarIRCalFlirV2')\n",
    "p11 = os.path.join('../../','raw','CookIRCamET','Images','NsarIRCalFlirField')\n",
    "p13 = os.path.join('../../','work','CookIRCamET','Working')"
   ]
  },
  {
   "cell_type": "raw",
   "id": "fc367df9-a8c8-4845-8182-860e1317ea28",
   "metadata": {
    "jupyter": {
     "source_hidden": true
    },
    "tags": []
   },
   "source": [
    "bgr_5_9 = cv2.imread(os.path.join(p1,'cal_5_9_bgr.png'),cv2.IMREAD_UNCHANGED)\n",
    "ir_5_9 = cv2.imread(os.path.join(p1,'cal_5_9_ir.png'),cv2.IMREAD_UNCHANGED)\n",
    "bgr_7_0 = cv2.imread(os.path.join(p1,'cal_7_0_bgr.png'),cv2.IMREAD_UNCHANGED)\n",
    "ir_7_0 = cv2.imread(os.path.join(p1,'cal_7_0_ir.png'),cv2.IMREAD_UNCHANGED)\n",
    "bgr_7_2 = cv2.imread(os.path.join(p1,'cal_7_2_bgr.png'),cv2.IMREAD_UNCHANGED)\n",
    "ir_7_2 = cv2.imread(os.path.join(p1,'cal_7_2_ir.png'),cv2.IMREAD_UNCHANGED)\n",
    "bgr_7_5 = cv2.imread(os.path.join(p1,'cal_7_5_bgr.png'),cv2.IMREAD_UNCHANGED)\n",
    "ir_7_5 = cv2.imread(os.path.join(p1,'cal_7_5_ir.png'),cv2.IMREAD_UNCHANGED)\n",
    "\n",
    "bgr_35_4 = cv2.imread(os.path.join(p1,'cal_35_4_bgr.png'),cv2.IMREAD_UNCHANGED)\n",
    "ir_35_4 = cv2.imread(os.path.join(p1,'cal_35_4_ir.png'),cv2.IMREAD_UNCHANGED)\n",
    "bgr_36_2 = cv2.imread(os.path.join(p1,'cal_36_2_bgr.png'),cv2.IMREAD_UNCHANGED)\n",
    "ir_36_2 = cv2.imread(os.path.join(p1,'cal_36_2_ir.png'),cv2.IMREAD_UNCHANGED)\n",
    "bgr_37_1 = cv2.imread(os.path.join(p1,'cal_37_1_bgr.png'),cv2.IMREAD_UNCHANGED)\n",
    "ir_37_1 = cv2.imread(os.path.join(p1,'cal_37_1_ir.png'),cv2.IMREAD_UNCHANGED)\n",
    "bgr_38_0 = cv2.imread(os.path.join(p1,'cal_38_0_bgr.png'),cv2.IMREAD_UNCHANGED)\n",
    "ir_38_0 = cv2.imread(os.path.join(p1,'cal_38_0_ir.png'),cv2.IMREAD_UNCHANGED)\n",
    "bgr_39_4 = cv2.imread(os.path.join(p1,'cal_39_4_bgr.png'),cv2.IMREAD_UNCHANGED)\n",
    "ir_39_4 = cv2.imread(os.path.join(p1,'cal_39_4_ir.png'),cv2.IMREAD_UNCHANGED)\n"
   ]
  },
  {
   "cell_type": "raw",
   "id": "f4ba0747-b464-43f4-8c54-c3f048484ad7",
   "metadata": {
    "jupyter": {
     "source_hidden": true
    },
    "tags": []
   },
   "source": [
    "bgr_20_0 = cv2.imread(os.path.join(p3,'20220430170628_nofix_20C_bgr.png'),cv2.IMREAD_UNCHANGED)\n",
    "ir_20_0 = cv2.imread(os.path.join(p3,'20220430170628_nofix_20C_ir.png'),cv2.IMREAD_UNCHANGED)\n",
    "bgr_25_0 = cv2.imread(os.path.join(p3,'20220430170937_nofix_25C_bgr.png'),cv2.IMREAD_UNCHANGED)\n",
    "ir_25_0 = cv2.imread(os.path.join(p3,'20220430170937_nofix_25C_ir.png'),cv2.IMREAD_UNCHANGED)\n",
    "bgr_30_0 = cv2.imread(os.path.join(p3,'20220430171240_nofix_30C_bgr.png'),cv2.IMREAD_UNCHANGED)\n",
    "ir_30_0 = cv2.imread(os.path.join(p3,'20220430171240_nofix_30C_ir.png'),cv2.IMREAD_UNCHANGED)\n",
    "bgr_35_0 = cv2.imread(os.path.join(p3,'20220430171612_nofix_35C_bgr.png'),cv2.IMREAD_UNCHANGED)\n",
    "ir_35_0 = cv2.imread(os.path.join(p3,'20220430171612_nofix_35C_ir.png'),cv2.IMREAD_UNCHANGED)\n"
   ]
  },
  {
   "cell_type": "raw",
   "id": "2cb482a8-2143-4d34-ad9b-1da69e3de7be",
   "metadata": {
    "jupyter": {
     "source_hidden": true
    },
    "tags": []
   },
   "source": [
    "bgr_38_8 = cv2.imread(os.path.join(p5,'20220705200229_38_8_bgr.png'),cv2.IMREAD_UNCHANGED)\n",
    "ir_38_8 = cv2.imread(os.path.join(p5,'20220705200229_38_8_ir.png'),cv2.IMREAD_UNCHANGED)\n",
    "flir_max = np.max(np.max(ir_38_8))\n",
    "i,j=np.where(ir_38_8==flir_max)\n",
    "j=j+1\n",
    "i=i+4\n",
    "t_ir_flir=[]\n",
    "t_meas_flir=[]\n",
    "for f in os.listdir(p5):\n",
    "    if '_ir' in f:\n",
    "        ir = cv2.imread(os.path.join(p5,f),cv2.IMREAD_UNCHANGED)\n",
    "        t_ir_flir.append(np.mean(ir[int(i)-3:int(i)+3,int(j)-3:int(j)+3]))\n",
    "        t_meas_flir.append(int(f.split('_')[1])+int(f.split('_')[2])/10) \n",
    "        plt.imshow(ir[int(i)-9:int(i)+9,int(j)-9:int(j)+9])\n",
    "        plt.show()"
   ]
  },
  {
   "cell_type": "raw",
   "id": "fea78a70-2198-4d40-a4ac-6818c3d7fa1a",
   "metadata": {
    "jupyter": {
     "source_hidden": true
    },
    "tags": []
   },
   "source": [
    "t_meas_flir=np.array(t_meas_flir).reshape(-1,1)+273.15\n",
    "t_ir_flir=np.array(t_ir_flir).reshape(-1,1)"
   ]
  },
  {
   "cell_type": "raw",
   "id": "03e89f2a-b74f-485b-9c74-cda46ef978cb",
   "metadata": {
    "jupyter": {
     "source_hidden": true
    },
    "tags": []
   },
   "source": [
    "i,j=np.where(ir_5_9==np.min(np.min(ir_5_9)))\n",
    "t_5_9=np.mean(ir_5_9[int(i)-5:int(i)+5,int(j)-5:int(j)+5])\n",
    "\n",
    "i,j=np.where(ir_7_0==np.min(np.min(ir_7_0)))\n",
    "t_7_0=np.mean(ir_7_0[int(i)-5:int(i)+5,int(j)-5:int(j)+5])\n",
    "\n",
    "i,j=np.where(ir_7_2==np.min(np.min(ir_7_2)))\n",
    "t_7_2=np.mean(ir_7_2[int(i)-5:int(i)+5,int(j)-5:int(j)+5])\n",
    "\n",
    "i,j=np.where(ir_7_5==np.min(np.min(ir_7_5)))\n",
    "t_7_5=np.mean(ir_7_5[int(i)-5:int(i)+5,int(j)-5:int(j)+5])\n"
   ]
  },
  {
   "cell_type": "raw",
   "id": "ac32702a-724b-4783-b479-a55197fe0624",
   "metadata": {
    "jupyter": {
     "source_hidden": true
    },
    "tags": []
   },
   "source": [
    "i,j=np.where(ir_39_4==np.max(np.max(ir_39_4)))\n",
    "t_39_4=np.mean(ir_39_4[int(i)-5:int(i)+5,int(j)-5:int(j)+5])\n",
    "\n",
    "i,j=np.where(ir_38_0==np.max(np.max(ir_38_0)))\n",
    "t_38_0=np.mean(ir_38_0[int(i)-5:int(i)+5,int(j)-5:int(j)+5])\n",
    "\n",
    "i,j=np.where(ir_37_1==np.max(np.max(ir_37_1)))\n",
    "t_37_1=np.mean(ir_37_1[int(i)-5:int(i)+5,int(j)-5:int(j)+5])\n",
    "\n",
    "i,j=np.where(ir_36_2==np.max(np.max(ir_36_2)))\n",
    "t_36_2=np.mean(ir_36_2[int(i)-5:int(i)+5,int(j)-5:int(j)+5])\n",
    "\n",
    "i,j=np.where(ir_35_4==np.max(np.max(ir_35_4)))\n",
    "t_35_4=np.mean(ir_35_4[int(i)-5:int(i)+5,int(j)-5:int(j)+5])"
   ]
  },
  {
   "cell_type": "raw",
   "id": "04936cdb-7551-46c0-a803-3d7078695b26",
   "metadata": {
    "jupyter": {
     "source_hidden": true
    },
    "tags": []
   },
   "source": [
    "i,j=np.where(ir_35_0==np.max(np.max(ir_35_0)))\n",
    "t_35_0=np.mean(ir_35_0[int(i)-5:int(i)+5,int(j)-5:int(j)+5])"
   ]
  },
  {
   "cell_type": "raw",
   "id": "d2881b7f-f048-4c72-9ab3-870b56737d09",
   "metadata": {
    "jupyter": {
     "source_hidden": true
    },
    "tags": []
   },
   "source": [
    "t_30_0=np.mean(ir_30_0[int(i)-5:int(i)+5,int(j)-5:int(j)+5])"
   ]
  },
  {
   "cell_type": "raw",
   "id": "7f31699c-14b1-478e-bc6f-9ff9451faca0",
   "metadata": {
    "jupyter": {
     "source_hidden": true
    },
    "tags": []
   },
   "source": [
    "#i,j=np.where(ir_25_0==np.max(np.max(ir_25_0)))\n",
    "t_25_0=np.mean(ir_25_0[int(i)-5:int(i)+5,int(j)-5:int(j)+5])"
   ]
  },
  {
   "cell_type": "raw",
   "id": "3640fedd-c670-429d-a761-1623e7a56f84",
   "metadata": {
    "jupyter": {
     "source_hidden": true
    },
    "tags": []
   },
   "source": [
    "i,j=np.where(ir_20_0==np.min(np.min(ir_20_0)))\n",
    "i = int(np.mean(i))\n",
    "j = int(np.mean(j))\n",
    "t_20_0=np.mean(ir_20_0[int(i)-5:int(i)+5,int(j)-5:int(j)+5])"
   ]
  },
  {
   "cell_type": "raw",
   "id": "5c1c937e-f503-4d21-bfe5-db8b2612d3c1",
   "metadata": {
    "jupyter": {
     "source_hidden": true
    },
    "tags": []
   },
   "source": [
    "bgr_01_7 = cv2.imread(os.path.join(p7,'20221122181944_nofix_bgr.png'),cv2.IMREAD_UNCHANGED)\n",
    "ir_01_7 = cv2.imread(os.path.join(p7,'20221122181939_nofix_ir.png'),cv2.IMREAD_UNCHANGED)\n",
    "\n",
    "bgr_9_0 = cv2.imread(os.path.join(p7,'20221122183450_nofix_bgr.png'),cv2.IMREAD_UNCHANGED)\n",
    "ir_9_0 = cv2.imread(os.path.join(p7,'20221122183440_nofix_ir.png'),cv2.IMREAD_UNCHANGED)\n",
    "\n",
    "bgr_13_8 = cv2.imread(os.path.join(p7,'20221122184955_nofix_bgr.png'),cv2.IMREAD_UNCHANGED)\n",
    "ir_13_8 = cv2.imread(os.path.join(p7,'20221122184940_nofix_ir.png'),cv2.IMREAD_UNCHANGED)\n",
    "\n",
    "bgr_16_6 = cv2.imread(os.path.join(p7,'20221122190501_nofix_bgr.png'),cv2.IMREAD_UNCHANGED)\n",
    "ir_16_6 = cv2.imread(os.path.join(p7,'20221122190441_nofix_ir.png'),cv2.IMREAD_UNCHANGED)\n",
    "\n",
    "bgr_18_2 = cv2.imread(os.path.join(p7,'20221122192006_nofix_bgr.png'),cv2.IMREAD_UNCHANGED)\n",
    "ir_18_2 = cv2.imread(os.path.join(p7,'20221122191941_nofix_ir.png'),cv2.IMREAD_UNCHANGED)\n",
    "\n",
    "bgr_19_0 = cv2.imread(os.path.join(p7,'20221122193512_nofix_bgr.png'),cv2.IMREAD_UNCHANGED)\n",
    "ir_19_0 = cv2.imread(os.path.join(p7,'20221122193442_nofix_ir.png'),cv2.IMREAD_UNCHANGED)\n",
    "\n",
    "bgr_35_0 = cv2.imread(os.path.join(p7,'20221122195338_nofix_bgr.png'),cv2.IMREAD_UNCHANGED)\n",
    "ir_35_0 = cv2.imread(os.path.join(p7,'20221122195333_nofix_ir.png'),cv2.IMREAD_UNCHANGED)\n",
    "\n",
    "bgr_30_2 = cv2.imread(os.path.join(p7,'20221122195804_nofix_bgr.png'),cv2.IMREAD_UNCHANGED)\n",
    "ir_30_2 = cv2.imread(os.path.join(p7,'20221122195759_nofix_ir.png'),cv2.IMREAD_UNCHANGED)\n",
    "\n",
    "bgr_24_1 = cv2.imread(os.path.join(p7,'20221122201310_nofix_bgr.png'),cv2.IMREAD_UNCHANGED)\n",
    "ir_24_1 = cv2.imread(os.path.join(p7,'20221122201300_nofix_ir.png'),cv2.IMREAD_UNCHANGED)\n",
    "\n",
    "bgr_22_3 = cv2.imread(os.path.join(p7,'20221122202815_nofix_bgr.png'),cv2.IMREAD_UNCHANGED)\n",
    "ir_22_3 = cv2.imread(os.path.join(p7,'20221122202800_nofix_ir.png'),cv2.IMREAD_UNCHANGED)\n",
    "\n",
    "bgr_21_5 = cv2.imread(os.path.join(p7,'20221122204320_nofix_bgr.png'),cv2.IMREAD_UNCHANGED)\n",
    "ir_21_5 = cv2.imread(os.path.join(p7,'20221122204301_nofix_ir.png'),cv2.IMREAD_UNCHANGED)\n",
    "\n",
    "bgr_21_1 = cv2.imread(os.path.join(p7,'20221122205826_nofix_bgr.png'),cv2.IMREAD_UNCHANGED)\n",
    "ir_21_1 = cv2.imread(os.path.join(p7,'20221122205801_nofix_ir.png'),cv2.IMREAD_UNCHANGED)\n",
    "\n",
    "bgr_21_0 = cv2.imread(os.path.join(p7,'20221122211236_nofix_bgr.png'),cv2.IMREAD_UNCHANGED)\n",
    "ir_21_0 = cv2.imread(os.path.join(p7,'20221122211231_nofix_ir.png'),cv2.IMREAD_UNCHANGED)\n",
    "\n",
    "ir_list = [ir_01_7,ir_9_0,ir_13_8,ir_16_6,ir_18_2,ir_19_0,ir_35_0,ir_30_2,ir_24_1,ir_22_3,ir_21_5,ir_21_1,ir_21_0]\n",
    "t_meas_1122 = [1.7,9.0,13.8,16.6,18.2,19,35,30.2,24.1,22.3,21.5,21.1,21.0]"
   ]
  },
  {
   "cell_type": "raw",
   "id": "591a7d58-f7ac-409a-80fe-8e20dbb80a98",
   "metadata": {
    "jupyter": {
     "source_hidden": true
    },
    "tags": []
   },
   "source": [
    "flir_max = np.max(np.max(ir_35_0))\n",
    "i,j=np.where(ir_35_0==flir_max)\n",
    "flir_min = np.min(np.min(ir_01_7))\n",
    "k,l=np.where(ir_01_7==flir_min)\n",
    "j=(l+j)/2+2\n",
    "i=(k+i)/2\n",
    "t_ir_flir_1122=[]\n",
    "\n",
    "for ir in ir_list:\n",
    "    t_ir_flir_1122.append(np.mean(ir[int(i)-3:int(i)+3,int(j)-3:int(j)+3]))\n",
    "    plt.imshow(ir[int(i)-7:int(i)+7,int(j)-7:int(j)+7])\n",
    "    plt.show()"
   ]
  },
  {
   "cell_type": "raw",
   "id": "bc459a43-217d-4c25-ad8d-fc1ee7b932ec",
   "metadata": {
    "jupyter": {
     "source_hidden": true
    },
    "tags": []
   },
   "source": [
    "T_nsar = np.array([5.9,7.0,7.2,7.5,35.4,36.2,37.1,38.0,39.4])+273.15\n",
    "IR_nsar = np.array([t_5_9,t_7_0,t_7_2,t_7_5,t_35_4,t_36_2,t_37_1,t_38_0,t_39_4])"
   ]
  },
  {
   "cell_type": "raw",
   "id": "d46cb7c9-69a4-4398-9047-5667a8895286",
   "metadata": {
    "jupyter": {
     "source_hidden": true
    },
    "tags": []
   },
   "source": [
    "t_meas_1122=np.array(t_meas_1122)+273.15\n",
    "t_ir_flir_1122=np.array(t_ir_flir_1122)"
   ]
  },
  {
   "cell_type": "raw",
   "id": "b2c5739d-2ff0-4e90-9a40-380ac20a57ee",
   "metadata": {
    "jupyter": {
     "source_hidden": true
    },
    "tags": []
   },
   "source": [
    "T_cprl = np.array([20,25,30,35])+273.15\n",
    "IR_cprl = np.array([t_20_0,t_25_0,t_30_0,t_35_0])"
   ]
  },
  {
   "cell_type": "raw",
   "id": "5714e8f8-89ad-46dc-a957-28be9c3483e3",
   "metadata": {
    "jupyter": {
     "source_hidden": true
    },
    "tags": []
   },
   "source": [
    "from sklearn.linear_model import LinearRegression\n",
    "model = LinearRegression()\n",
    "model.fit(IR_nsar.reshape(-1,1),T_nsar.reshape(-1,1))\n",
    "T_pred_nsar = model.intercept_+model.coef_*IR_nsar"
   ]
  },
  {
   "cell_type": "raw",
   "id": "11b1bdb5-326c-463b-9479-5722825eada4",
   "metadata": {
    "jupyter": {
     "source_hidden": true
    },
    "tags": []
   },
   "source": [
    "from sklearn.linear_model import LinearRegression\n",
    "model = LinearRegression()\n",
    "model.fit(IR_cprl.reshape(-1,1),T_cprl.reshape(-1,1))\n",
    "T_pred_cprl = model.intercept_+model.coef_*IR_cprl"
   ]
  },
  {
   "cell_type": "raw",
   "id": "c7178db4-b6ca-4782-8c04-5a2b21d3a761",
   "metadata": {
    "jupyter": {
     "source_hidden": true
    },
    "tags": []
   },
   "source": [
    "from sklearn.linear_model import LinearRegression\n",
    "model = LinearRegression()\n",
    "model.fit(t_ir_flir,t_meas_flir)\n",
    "T_pred_flir = model.intercept_+model.coef_*t_ir_flir\n",
    "filename = os.path.join(p6,'calibration_nsar1.pk.sav')\n",
    "import pickle\n",
    "pickle.dump(model, open(filename, 'wb'))"
   ]
  },
  {
   "cell_type": "raw",
   "id": "88d6b5f1-80be-4f66-a376-1107d374c744",
   "metadata": {
    "jupyter": {
     "source_hidden": true
    },
    "tags": []
   },
   "source": [
    "model.intercept_[0],model.coef_[0][0]"
   ]
  },
  {
   "cell_type": "raw",
   "id": "f227988c-61c4-48e6-afe3-2279f7bf0b48",
   "metadata": {
    "jupyter": {
     "source_hidden": true
    },
    "tags": []
   },
   "source": [
    "from sklearn.linear_model import LinearRegression\n",
    "model = LinearRegression()\n",
    "model.fit(t_ir_flir_1122.reshape(-1,1),t_meas_1122.reshape(-1,1))\n",
    "T_pred_flir = model.intercept_+model.coef_*t_ir_flir_1122\n",
    "import pickle\n",
    "filename = os.path.join(p13,'calibration_nsar2.pk.sav')\n",
    "pickle.dump(model, open(filename, 'wb'))"
   ]
  },
  {
   "cell_type": "raw",
   "id": "7ca8df1e-b786-4b37-beab-35b26d98c00f",
   "metadata": {
    "jupyter": {
     "source_hidden": true
    },
    "tags": []
   },
   "source": [
    "plt.plot(t_ir_flir,t_meas_flir,'o',t_ir_flir_1122,t_meas_1122,'+')"
   ]
  },
  {
   "cell_type": "raw",
   "id": "6b29b7ab-6556-418a-8413-234cbf97fb7f",
   "metadata": {
    "jupyter": {
     "source_hidden": true
    },
    "tags": []
   },
   "source": [
    "model.intercept_[0],model.coef_[0][0]"
   ]
  },
  {
   "cell_type": "raw",
   "id": "8fdb312c-ace3-4338-910c-fd91a73b2e6e",
   "metadata": {
    "jupyter": {
     "source_hidden": true
    },
    "tags": []
   },
   "source": [
    "ir_imgs = []\n",
    "t_bb_v2 = []\n",
    "t_ir_v2 = []\n",
    "for f in os.listdir(p9):\n",
    "    if 'ir' in f:\n",
    "        ir_imgs.append(cv2.imread(os.path.join(p9,f),cv2.IMREAD_UNCHANGED))\n",
    "        t_bb_v2.append(float(f[0:4])+273.15)\n",
    "        \n",
    "for ir in ir_imgs:\n",
    "    t_ir_v2.append(np.mean(ir[35:56,95:116]))\n",
    "    \n",
    "t_bb_v2 = np.array(t_bb_v2).reshape(-1,1)\n",
    "t_ir_v2 = np.array(t_ir_v2).reshape(-1,1)"
   ]
  },
  {
   "cell_type": "raw",
   "id": "869813d0-6aa2-40b4-9a2c-31f49ef0d270",
   "metadata": {
    "jupyter": {
     "source_hidden": true
    },
    "tags": []
   },
   "source": [
    "from sklearn.linear_model import LinearRegression\n",
    "model = LinearRegression()\n",
    "model.fit(t_ir_v2,t_bb_v2)\n",
    "t_pred_v2 = model.intercept_+model.coef_*t_ir_v2\n",
    "import pickle\n",
    "filename = os.path.join(p13,'calibration_nsar3.pk.sav')\n",
    "pickle.dump(model, open(filename, 'wb'))"
   ]
  },
  {
   "cell_type": "raw",
   "id": "a3d2e6d9-4be0-4a42-9664-62ae4dfa7741",
   "metadata": {
    "jupyter": {
     "source_hidden": true
    },
    "tags": []
   },
   "source": [
    "model.intercept_[0],model.coef_[0][0]"
   ]
  },
  {
   "cell_type": "raw",
   "id": "8c442df4-fe19-4e6d-b4f0-a9bc087b7bd5",
   "metadata": {
    "jupyter": {
     "source_hidden": true
    },
    "tags": []
   },
   "source": [
    "plt.plot(t_ir_v2,t_bb_v2,'o',t_ir_v2,t_pred_v2)"
   ]
  },
  {
   "cell_type": "raw",
   "id": "783fdb6e-ef95-431e-88e7-ba956a6a4f6f",
   "metadata": {
    "jupyter": {
     "source_hidden": true
    },
    "tags": []
   },
   "source": [
    "#filter outliers\n",
    "delta = abs(t_bb_v2-t_pred_v2)"
   ]
  },
  {
   "cell_type": "raw",
   "id": "c1d65eb0-7e47-4b0d-af19-37938bddf833",
   "metadata": {
    "jupyter": {
     "source_hidden": true
    },
    "tags": []
   },
   "source": [
    "t_bb_v2 = t_bb_v2[delta<=5].reshape(-1,1)\n",
    "t_ir_v2 = t_ir_v2[delta<=5].reshape(-1,1)"
   ]
  },
  {
   "cell_type": "raw",
   "id": "f709a696-e81c-4361-8cd6-b27907d133c0",
   "metadata": {
    "jupyter": {
     "source_hidden": true
    },
    "tags": []
   },
   "source": [
    "from sklearn.linear_model import LinearRegression\n",
    "model = LinearRegression()\n",
    "model.fit(t_ir_v2,t_bb_v2)\n",
    "t_pred_v2 = model.intercept_+model.coef_*t_ir_v2\n",
    "import pickle\n",
    "filename = os.path.join(p13,'calibration_nsar3.pk.sav')\n",
    "pickle.dump(model, open(filename, 'wb'))"
   ]
  },
  {
   "cell_type": "raw",
   "id": "9c8c9832-dbf9-4a54-81ff-b9a4d7547a01",
   "metadata": {
    "jupyter": {
     "source_hidden": true
    },
    "tags": []
   },
   "source": [
    "model.intercept_[0],model.coef_[0][0]"
   ]
  },
  {
   "cell_type": "raw",
   "id": "b55f5266-f2a0-45f8-a4cb-431c44242952",
   "metadata": {
    "jupyter": {
     "source_hidden": true
    },
    "tags": []
   },
   "source": [
    "plt.plot(t_ir_v2,t_bb_v2,'o',t_ir_v2,t_pred_v2)"
   ]
  },
  {
   "cell_type": "raw",
   "id": "540dba07-88b4-4d02-ba19-99c50d8059fc",
   "metadata": {
    "jupyter": {
     "source_hidden": true
    },
    "tags": []
   },
   "source": [
    "max(abs(delta))\n"
   ]
  },
  {
   "cell_type": "code",
   "execution_count": 18,
   "id": "e9a539c1-5f9d-4560-bb89-724cfc5e6d39",
   "metadata": {},
   "outputs": [],
   "source": [
    "T_ir=[]\n",
    "T_bb=[]\n",
    "T_ir_field=[]\n",
    "T_bb_field=[]\n",
    "\n",
    "for f in np.sort(os.listdir(p11)):\n",
    "    if 'ir' in f: \n",
    "        if f=='27_1_ir.png' or f=='32_1_ir.png':\n",
    "            i=56\n",
    "            di=2\n",
    "            j=96\n",
    "            dj=2\n",
    "            ir = cv2.imread(os.path.join(p11,f),cv2.IMREAD_UNCHANGED)          \n",
    "            T_bb_field.append(int(f.split('.png')[0].split('_')[0])+int(f.split('.png')[0].split('_')[1])/10+273.15)\n",
    "            T_ir_field.append(np.mean(ir[i-di:i+di,j-dj:j+dj]))\n",
    "        else:\n",
    "            i=66\n",
    "            di=10\n",
    "            j=116\n",
    "            dj=10\n",
    "            ir = cv2.imread(os.path.join(p11,f),cv2.IMREAD_UNCHANGED)\n",
    "            T_bb.append(int(f.split('.png')[0].split('_')[0])+int(f.split('.png')[0].split('_')[1])/10+273.15)\n",
    "            T_ir.append(np.mean(ir[i-di:i+di,j-dj:j+dj]))\n",
    "\n",
    "ind=np.argsort(np.array(T_ir))"
   ]
  },
  {
   "cell_type": "code",
   "execution_count": 19,
   "id": "839f7429-b70c-40fc-813b-9e27fb71a5a9",
   "metadata": {},
   "outputs": [],
   "source": [
    "T_ir=np.array(T_ir)[ind].reshape((-1,1))\n",
    "T_bb=np.array(T_bb)[ind].reshape((-1,1))\n",
    "T_bb_field=np.array(T_bb_field)\n",
    "T_ir_field=np.array(T_ir_field)"
   ]
  },
  {
   "cell_type": "code",
   "execution_count": 20,
   "id": "491e77bd-13cb-4680-9af5-51f11ba3d70b",
   "metadata": {},
   "outputs": [],
   "source": [
    "I0=T_ir[8]\n",
    "I1=T_ir[9]"
   ]
  },
  {
   "cell_type": "code",
   "execution_count": 21,
   "id": "7acaa1e2-cad4-4447-8211-1f5ca3fcdc86",
   "metadata": {},
   "outputs": [],
   "source": [
    "outliers = [10,14]"
   ]
  },
  {
   "cell_type": "code",
   "execution_count": 22,
   "id": "90c4c1e2-8b1a-412c-a01c-d58458c619ad",
   "metadata": {},
   "outputs": [],
   "source": [
    "T_ir=np.delete(T_ir,outliers).reshape((-1,1))\n",
    "T_bb=np.delete(T_bb,outliers).reshape((-1,1))"
   ]
  },
  {
   "cell_type": "code",
   "execution_count": 27,
   "id": "f352a26a-7a86-471a-9082-33665965896f",
   "metadata": {},
   "outputs": [
    {
     "data": {
      "text/html": [
       "<style>#sk-container-id-3 {color: black;background-color: white;}#sk-container-id-3 pre{padding: 0;}#sk-container-id-3 div.sk-toggleable {background-color: white;}#sk-container-id-3 label.sk-toggleable__label {cursor: pointer;display: block;width: 100%;margin-bottom: 0;padding: 0.3em;box-sizing: border-box;text-align: center;}#sk-container-id-3 label.sk-toggleable__label-arrow:before {content: \"▸\";float: left;margin-right: 0.25em;color: #696969;}#sk-container-id-3 label.sk-toggleable__label-arrow:hover:before {color: black;}#sk-container-id-3 div.sk-estimator:hover label.sk-toggleable__label-arrow:before {color: black;}#sk-container-id-3 div.sk-toggleable__content {max-height: 0;max-width: 0;overflow: hidden;text-align: left;background-color: #f0f8ff;}#sk-container-id-3 div.sk-toggleable__content pre {margin: 0.2em;color: black;border-radius: 0.25em;background-color: #f0f8ff;}#sk-container-id-3 input.sk-toggleable__control:checked~div.sk-toggleable__content {max-height: 200px;max-width: 100%;overflow: auto;}#sk-container-id-3 input.sk-toggleable__control:checked~label.sk-toggleable__label-arrow:before {content: \"▾\";}#sk-container-id-3 div.sk-estimator input.sk-toggleable__control:checked~label.sk-toggleable__label {background-color: #d4ebff;}#sk-container-id-3 div.sk-label input.sk-toggleable__control:checked~label.sk-toggleable__label {background-color: #d4ebff;}#sk-container-id-3 input.sk-hidden--visually {border: 0;clip: rect(1px 1px 1px 1px);clip: rect(1px, 1px, 1px, 1px);height: 1px;margin: -1px;overflow: hidden;padding: 0;position: absolute;width: 1px;}#sk-container-id-3 div.sk-estimator {font-family: monospace;background-color: #f0f8ff;border: 1px dotted black;border-radius: 0.25em;box-sizing: border-box;margin-bottom: 0.5em;}#sk-container-id-3 div.sk-estimator:hover {background-color: #d4ebff;}#sk-container-id-3 div.sk-parallel-item::after {content: \"\";width: 100%;border-bottom: 1px solid gray;flex-grow: 1;}#sk-container-id-3 div.sk-label:hover label.sk-toggleable__label {background-color: #d4ebff;}#sk-container-id-3 div.sk-serial::before {content: \"\";position: absolute;border-left: 1px solid gray;box-sizing: border-box;top: 0;bottom: 0;left: 50%;z-index: 0;}#sk-container-id-3 div.sk-serial {display: flex;flex-direction: column;align-items: center;background-color: white;padding-right: 0.2em;padding-left: 0.2em;position: relative;}#sk-container-id-3 div.sk-item {position: relative;z-index: 1;}#sk-container-id-3 div.sk-parallel {display: flex;align-items: stretch;justify-content: center;background-color: white;position: relative;}#sk-container-id-3 div.sk-item::before, #sk-container-id-3 div.sk-parallel-item::before {content: \"\";position: absolute;border-left: 1px solid gray;box-sizing: border-box;top: 0;bottom: 0;left: 50%;z-index: -1;}#sk-container-id-3 div.sk-parallel-item {display: flex;flex-direction: column;z-index: 1;position: relative;background-color: white;}#sk-container-id-3 div.sk-parallel-item:first-child::after {align-self: flex-end;width: 50%;}#sk-container-id-3 div.sk-parallel-item:last-child::after {align-self: flex-start;width: 50%;}#sk-container-id-3 div.sk-parallel-item:only-child::after {width: 0;}#sk-container-id-3 div.sk-dashed-wrapped {border: 1px dashed gray;margin: 0 0.4em 0.5em 0.4em;box-sizing: border-box;padding-bottom: 0.4em;background-color: white;}#sk-container-id-3 div.sk-label label {font-family: monospace;font-weight: bold;display: inline-block;line-height: 1.2em;}#sk-container-id-3 div.sk-label-container {text-align: center;}#sk-container-id-3 div.sk-container {/* jupyter's `normalize.less` sets `[hidden] { display: none; }` but bootstrap.min.css set `[hidden] { display: none !important; }` so we also need the `!important` here to be able to override the default hidden behavior on the sphinx rendered scikit-learn.org. See: https://github.com/scikit-learn/scikit-learn/issues/21755 */display: inline-block !important;position: relative;}#sk-container-id-3 div.sk-text-repr-fallback {display: none;}</style><div id=\"sk-container-id-3\" class=\"sk-top-container\"><div class=\"sk-text-repr-fallback\"><pre>LinearRegression()</pre><b>In a Jupyter environment, please rerun this cell to show the HTML representation or trust the notebook. <br />On GitHub, the HTML representation is unable to render, please try loading this page with nbviewer.org.</b></div><div class=\"sk-container\" hidden><div class=\"sk-item\"><div class=\"sk-estimator sk-toggleable\"><input class=\"sk-toggleable__control sk-hidden--visually\" id=\"sk-estimator-id-3\" type=\"checkbox\" checked><label for=\"sk-estimator-id-3\" class=\"sk-toggleable__label sk-toggleable__label-arrow\">LinearRegression</label><div class=\"sk-toggleable__content\"><pre>LinearRegression()</pre></div></div></div></div></div>"
      ],
      "text/plain": [
       "LinearRegression()"
      ]
     },
     "execution_count": 27,
     "metadata": {},
     "output_type": "execute_result"
    }
   ],
   "source": [
    "model0 = LinearRegression()\n",
    "model0.fit(T_ir[0:9],T_bb[0:9])\n",
    "model1 = LinearRegression()\n",
    "model1.fit(T_ir[8:10],T_bb[8:10])\n",
    "model2 = LinearRegression()\n",
    "model2.fit(T_ir[9:],T_bb[9:])"
   ]
  },
  {
   "cell_type": "code",
   "execution_count": 28,
   "id": "1160ecc5-c657-4901-8a9d-385889785dff",
   "metadata": {},
   "outputs": [
    {
     "data": {
      "text/plain": [
       "[<matplotlib.lines.Line2D at 0x1499371f7a80>,\n",
       " <matplotlib.lines.Line2D at 0x1499373c4fb0>,\n",
       " <matplotlib.lines.Line2D at 0x149936c22630>]"
      ]
     },
     "execution_count": 28,
     "metadata": {},
     "output_type": "execute_result"
    },
    {
     "data": {
      "image/png": "[encoded data removed]",
      "text/plain": [
       "<Figure size 640x480 with 1 Axes>"
      ]
     },
     "metadata": {},
     "output_type": "display_data"
    }
   ],
   "source": [
    "T_pred = np.piecewise(T_ir, [T_ir < I0, (T_ir>=I0) & (T_ir<I1), T_ir>=I1], [lambda x: model0.intercept_[0]+model0.coef_[0][0]*x, lambda x: model1.intercept_[0]+model1.coef_[0][0]*x, lambda x: model2.intercept_[0]+model2.coef_[0][0]*x])\n",
    "\n",
    "\n",
    "plt.plot(T_ir,T_bb,'.',T_ir,T_pred,T_ir_field,T_bb_field,'x')"
   ]
  },
  {
   "cell_type": "code",
   "execution_count": 29,
   "id": "009142ff-00a1-4912-875c-11c64ed7245e",
   "metadata": {},
   "outputs": [],
   "source": [
    "with open(os.path.join(p13,'calibration_nsar_pwlf.pk.sav'), 'wb') as f:  # Python 3: open(..., 'wb'\n",
    "    pickle.dump([model0, model1, model2, I0, I1], f)"
   ]
  },
  {
   "cell_type": "code",
   "execution_count": null,
   "id": "5f7eca23-49bc-430c-8d98-591285d0b38b",
   "metadata": {},
   "outputs": [],
   "source": [
    "p0 = os.path.join('../../','raw','CookIRCamET','Images','CookHY2023','V1')\n",
    "for f in np.flip(np.sort(os.listdir(p0))):\n",
    "    if 'ir' in f:\n",
    "        T_ir = cv2.imread(os.path.join(p0,f),cv2.IMREAD_UNCHANGED)\n",
    "               \n",
    "        T_ir = np.piecewise(T_ir, [T_ir < I0, (T_ir>=I0) & (T_ir<I1), T_ir>=I1], [lambda x: model0.intercept_[0]+model0.coef_[0][0]*x, lambda x: model1.intercept_[0]+model1.coef_[0][0]*x, lambda x: model2.intercept_[0]+model2.coef_[0][0]*x])\n",
    "        print(f)\n",
    "        plt.imshow(T_ir)\n",
    "\n",
    "        plt.colorbar()\n",
    "        plt.show()\n",
    "        "
   ]
  },
  {
   "cell_type": "code",
   "execution_count": null,
   "id": "15c656b8-6eb8-4132-a084-cb8844b0fa8e",
   "metadata": {},
   "outputs": [],
   "source": []
  }
 ],
 "metadata": {
  "kernelspec": {
   "display_name": "nsaru-cv",
   "language": "python",
   "name": "nsaru-cv"
  },
  "language_info": {
   "codemirror_mode": {
    "name": "ipython",
    "version": 3
   },
   "file_extension": ".py",
   "mimetype": "text/x-python",
   "name": "python",
   "nbconvert_exporter": "python",
   "pygments_lexer": "ipython3",
   "version": "3.11.1"
  }
 },
 "nbformat": 4,
 "nbformat_minor": 5
}
