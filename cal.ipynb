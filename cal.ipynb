{
 "cells": [
  {
   "cell_type": "code",
   "execution_count": null,
   "id": "1376b9a1-c760-4b43-a8b0-6dc7d0ca5a2f",
   "metadata": {
    "tags": []
   },
   "outputs": [],
   "source": [
    "#### import sys\n",
    "import numpy as np\n",
    "import cv2\n",
    "from time import sleep\n",
    "from datetime import datetime\n",
    "import os\n",
    "import numpy as np\n",
    "from matplotlib import pyplot as plt\n",
    "from pandas import read_csv, read_excel, DataFrame\n",
    "from sklearn.mixture import GaussianMixture\n",
    "from sklearn.preprocessing import StandardScaler\n",
    "import matplotlib.pyplot as plt\n",
    "import logging\n",
    "logging.basicConfig(level=logging.INFO)\n",
    "p1 = os.path.join('../../','raw','CookIRCamET','Images','NsarIRCal')\n",
    "p2 = os.path.join('../../','work','CookIRCamET','Working')\n",
    "p3 = os.path.join('../../','raw','CookIRCamET','Images','CprlIRCal')\n",
    "p4 = os.path.join('../../','work','CookIRCamET','Working')\n",
    "p5 = os.path.join('../../','raw','CookIRCamET','Images','NsarIRCalFlir2')\n",
    "p6 = os.path.join('../../','work','CookIRCamET','Working')\n",
    "p7 = os.path.join('../../','raw','CookIRCamET','Images','NsarIRCalFlir3')\n",
    "p8 = os.path.join('../../','work','CookIRCamET','Working')\n",
    "p9 = os.path.join('../../','raw','CookIRCamET','Images','NsarIRCalFlirV2')\n",
    "p10 = os.path.join('../../','work','CookIRCamET','Working')"
   ]
  },
  {
   "cell_type": "raw",
   "id": "fc367df9-a8c8-4845-8182-860e1317ea28",
   "metadata": {
    "jupyter": {
     "source_hidden": true
    },
    "tags": []
   },
   "source": [
    "bgr_5_9 = cv2.imread(os.path.join(p1,'cal_5_9_bgr.png'),cv2.IMREAD_UNCHANGED)\n",
    "ir_5_9 = cv2.imread(os.path.join(p1,'cal_5_9_ir.png'),cv2.IMREAD_UNCHANGED)\n",
    "bgr_7_0 = cv2.imread(os.path.join(p1,'cal_7_0_bgr.png'),cv2.IMREAD_UNCHANGED)\n",
    "ir_7_0 = cv2.imread(os.path.join(p1,'cal_7_0_ir.png'),cv2.IMREAD_UNCHANGED)\n",
    "bgr_7_2 = cv2.imread(os.path.join(p1,'cal_7_2_bgr.png'),cv2.IMREAD_UNCHANGED)\n",
    "ir_7_2 = cv2.imread(os.path.join(p1,'cal_7_2_ir.png'),cv2.IMREAD_UNCHANGED)\n",
    "bgr_7_5 = cv2.imread(os.path.join(p1,'cal_7_5_bgr.png'),cv2.IMREAD_UNCHANGED)\n",
    "ir_7_5 = cv2.imread(os.path.join(p1,'cal_7_5_ir.png'),cv2.IMREAD_UNCHANGED)\n",
    "\n",
    "bgr_35_4 = cv2.imread(os.path.join(p1,'cal_35_4_bgr.png'),cv2.IMREAD_UNCHANGED)\n",
    "ir_35_4 = cv2.imread(os.path.join(p1,'cal_35_4_ir.png'),cv2.IMREAD_UNCHANGED)\n",
    "bgr_36_2 = cv2.imread(os.path.join(p1,'cal_36_2_bgr.png'),cv2.IMREAD_UNCHANGED)\n",
    "ir_36_2 = cv2.imread(os.path.join(p1,'cal_36_2_ir.png'),cv2.IMREAD_UNCHANGED)\n",
    "bgr_37_1 = cv2.imread(os.path.join(p1,'cal_37_1_bgr.png'),cv2.IMREAD_UNCHANGED)\n",
    "ir_37_1 = cv2.imread(os.path.join(p1,'cal_37_1_ir.png'),cv2.IMREAD_UNCHANGED)\n",
    "bgr_38_0 = cv2.imread(os.path.join(p1,'cal_38_0_bgr.png'),cv2.IMREAD_UNCHANGED)\n",
    "ir_38_0 = cv2.imread(os.path.join(p1,'cal_38_0_ir.png'),cv2.IMREAD_UNCHANGED)\n",
    "bgr_39_4 = cv2.imread(os.path.join(p1,'cal_39_4_bgr.png'),cv2.IMREAD_UNCHANGED)\n",
    "ir_39_4 = cv2.imread(os.path.join(p1,'cal_39_4_ir.png'),cv2.IMREAD_UNCHANGED)\n"
   ]
  },
  {
   "cell_type": "raw",
   "id": "f4ba0747-b464-43f4-8c54-c3f048484ad7",
   "metadata": {
    "jupyter": {
     "source_hidden": true
    },
    "tags": []
   },
   "source": [
    "bgr_20_0 = cv2.imread(os.path.join(p3,'20220430170628_nofix_20C_bgr.png'),cv2.IMREAD_UNCHANGED)\n",
    "ir_20_0 = cv2.imread(os.path.join(p3,'20220430170628_nofix_20C_ir.png'),cv2.IMREAD_UNCHANGED)\n",
    "bgr_25_0 = cv2.imread(os.path.join(p3,'20220430170937_nofix_25C_bgr.png'),cv2.IMREAD_UNCHANGED)\n",
    "ir_25_0 = cv2.imread(os.path.join(p3,'20220430170937_nofix_25C_ir.png'),cv2.IMREAD_UNCHANGED)\n",
    "bgr_30_0 = cv2.imread(os.path.join(p3,'20220430171240_nofix_30C_bgr.png'),cv2.IMREAD_UNCHANGED)\n",
    "ir_30_0 = cv2.imread(os.path.join(p3,'20220430171240_nofix_30C_ir.png'),cv2.IMREAD_UNCHANGED)\n",
    "bgr_35_0 = cv2.imread(os.path.join(p3,'20220430171612_nofix_35C_bgr.png'),cv2.IMREAD_UNCHANGED)\n",
    "ir_35_0 = cv2.imread(os.path.join(p3,'20220430171612_nofix_35C_ir.png'),cv2.IMREAD_UNCHANGED)\n"
   ]
  },
  {
   "cell_type": "code",
   "execution_count": null,
   "id": "74fefc5d-f036-441f-a196-444d52c87df9",
   "metadata": {},
   "outputs": [],
   "source": [
    "bgr_38_8 = cv2.imread(os.path.join(p5,'20220705200229_38_8_bgr.png'),cv2.IMREAD_UNCHANGED)\n",
    "ir_38_8 = cv2.imread(os.path.join(p5,'20220705200229_38_8_ir.png'),cv2.IMREAD_UNCHANGED)\n",
    "flir_max = np.max(np.max(ir_38_8))\n",
    "i,j=np.where(ir_38_8==flir_max)\n",
    "j=j+1\n",
    "i=i+4\n",
    "t_ir_flir=[]\n",
    "t_meas_flir=[]\n",
    "for f in os.listdir(p5):\n",
    "    if '_ir' in f:\n",
    "        ir = cv2.imread(os.path.join(p5,f),cv2.IMREAD_UNCHANGED)\n",
    "        t_ir_flir.append(np.mean(ir[int(i)-3:int(i)+3,int(j)-3:int(j)+3]))\n",
    "        t_meas_flir.append(int(f.split('_')[1])+int(f.split('_')[2])/10) \n",
    "        plt.imshow(ir[int(i)-9:int(i)+9,int(j)-9:int(j)+9])\n",
    "        plt.show()"
   ]
  },
  {
   "cell_type": "code",
   "execution_count": null,
   "id": "450d9079-a3af-401e-8bd5-0a5a0f06e552",
   "metadata": {},
   "outputs": [],
   "source": [
    "t_meas_flir=np.array(t_meas_flir).reshape(-1,1)+273.15\n",
    "t_ir_flir=np.array(t_ir_flir).reshape(-1,1)"
   ]
  },
  {
   "cell_type": "raw",
   "id": "03e89f2a-b74f-485b-9c74-cda46ef978cb",
   "metadata": {
    "jupyter": {
     "source_hidden": true
    },
    "tags": []
   },
   "source": [
    "i,j=np.where(ir_5_9==np.min(np.min(ir_5_9)))\n",
    "t_5_9=np.mean(ir_5_9[int(i)-5:int(i)+5,int(j)-5:int(j)+5])\n",
    "\n",
    "i,j=np.where(ir_7_0==np.min(np.min(ir_7_0)))\n",
    "t_7_0=np.mean(ir_7_0[int(i)-5:int(i)+5,int(j)-5:int(j)+5])\n",
    "\n",
    "i,j=np.where(ir_7_2==np.min(np.min(ir_7_2)))\n",
    "t_7_2=np.mean(ir_7_2[int(i)-5:int(i)+5,int(j)-5:int(j)+5])\n",
    "\n",
    "i,j=np.where(ir_7_5==np.min(np.min(ir_7_5)))\n",
    "t_7_5=np.mean(ir_7_5[int(i)-5:int(i)+5,int(j)-5:int(j)+5])\n"
   ]
  },
  {
   "cell_type": "raw",
   "id": "ac32702a-724b-4783-b479-a55197fe0624",
   "metadata": {
    "jupyter": {
     "source_hidden": true
    },
    "tags": []
   },
   "source": [
    "i,j=np.where(ir_39_4==np.max(np.max(ir_39_4)))\n",
    "t_39_4=np.mean(ir_39_4[int(i)-5:int(i)+5,int(j)-5:int(j)+5])\n",
    "\n",
    "i,j=np.where(ir_38_0==np.max(np.max(ir_38_0)))\n",
    "t_38_0=np.mean(ir_38_0[int(i)-5:int(i)+5,int(j)-5:int(j)+5])\n",
    "\n",
    "i,j=np.where(ir_37_1==np.max(np.max(ir_37_1)))\n",
    "t_37_1=np.mean(ir_37_1[int(i)-5:int(i)+5,int(j)-5:int(j)+5])\n",
    "\n",
    "i,j=np.where(ir_36_2==np.max(np.max(ir_36_2)))\n",
    "t_36_2=np.mean(ir_36_2[int(i)-5:int(i)+5,int(j)-5:int(j)+5])\n",
    "\n",
    "i,j=np.where(ir_35_4==np.max(np.max(ir_35_4)))\n",
    "t_35_4=np.mean(ir_35_4[int(i)-5:int(i)+5,int(j)-5:int(j)+5])"
   ]
  },
  {
   "cell_type": "raw",
   "id": "04936cdb-7551-46c0-a803-3d7078695b26",
   "metadata": {
    "jupyter": {
     "source_hidden": true
    },
    "tags": []
   },
   "source": [
    "i,j=np.where(ir_35_0==np.max(np.max(ir_35_0)))\n",
    "t_35_0=np.mean(ir_35_0[int(i)-5:int(i)+5,int(j)-5:int(j)+5])"
   ]
  },
  {
   "cell_type": "raw",
   "id": "d2881b7f-f048-4c72-9ab3-870b56737d09",
   "metadata": {
    "jupyter": {
     "source_hidden": true
    },
    "tags": []
   },
   "source": [
    "t_30_0=np.mean(ir_30_0[int(i)-5:int(i)+5,int(j)-5:int(j)+5])"
   ]
  },
  {
   "cell_type": "raw",
   "id": "7f31699c-14b1-478e-bc6f-9ff9451faca0",
   "metadata": {
    "jupyter": {
     "source_hidden": true
    },
    "tags": []
   },
   "source": [
    "#i,j=np.where(ir_25_0==np.max(np.max(ir_25_0)))\n",
    "t_25_0=np.mean(ir_25_0[int(i)-5:int(i)+5,int(j)-5:int(j)+5])"
   ]
  },
  {
   "cell_type": "raw",
   "id": "3640fedd-c670-429d-a761-1623e7a56f84",
   "metadata": {
    "jupyter": {
     "source_hidden": true
    },
    "tags": []
   },
   "source": [
    "i,j=np.where(ir_20_0==np.min(np.min(ir_20_0)))\n",
    "i = int(np.mean(i))\n",
    "j = int(np.mean(j))\n",
    "t_20_0=np.mean(ir_20_0[int(i)-5:int(i)+5,int(j)-5:int(j)+5])"
   ]
  },
  {
   "cell_type": "code",
   "execution_count": null,
   "id": "9bd2997d-55e6-4e51-a82e-214088f514ca",
   "metadata": {},
   "outputs": [],
   "source": [
    "bgr_01_7 = cv2.imread(os.path.join(p7,'20221122181944_nofix_bgr.png'),cv2.IMREAD_UNCHANGED)\n",
    "ir_01_7 = cv2.imread(os.path.join(p7,'20221122181939_nofix_ir.png'),cv2.IMREAD_UNCHANGED)\n",
    "\n",
    "bgr_9_0 = cv2.imread(os.path.join(p7,'20221122183450_nofix_bgr.png'),cv2.IMREAD_UNCHANGED)\n",
    "ir_9_0 = cv2.imread(os.path.join(p7,'20221122183440_nofix_ir.png'),cv2.IMREAD_UNCHANGED)\n",
    "\n",
    "bgr_13_8 = cv2.imread(os.path.join(p7,'20221122184955_nofix_bgr.png'),cv2.IMREAD_UNCHANGED)\n",
    "ir_13_8 = cv2.imread(os.path.join(p7,'20221122184940_nofix_ir.png'),cv2.IMREAD_UNCHANGED)\n",
    "\n",
    "bgr_16_6 = cv2.imread(os.path.join(p7,'20221122190501_nofix_bgr.png'),cv2.IMREAD_UNCHANGED)\n",
    "ir_16_6 = cv2.imread(os.path.join(p7,'20221122190441_nofix_ir.png'),cv2.IMREAD_UNCHANGED)\n",
    "\n",
    "bgr_18_2 = cv2.imread(os.path.join(p7,'20221122192006_nofix_bgr.png'),cv2.IMREAD_UNCHANGED)\n",
    "ir_18_2 = cv2.imread(os.path.join(p7,'20221122191941_nofix_ir.png'),cv2.IMREAD_UNCHANGED)\n",
    "\n",
    "bgr_19_0 = cv2.imread(os.path.join(p7,'20221122193512_nofix_bgr.png'),cv2.IMREAD_UNCHANGED)\n",
    "ir_19_0 = cv2.imread(os.path.join(p7,'20221122193442_nofix_ir.png'),cv2.IMREAD_UNCHANGED)\n",
    "\n",
    "bgr_35_0 = cv2.imread(os.path.join(p7,'20221122195338_nofix_bgr.png'),cv2.IMREAD_UNCHANGED)\n",
    "ir_35_0 = cv2.imread(os.path.join(p7,'20221122195333_nofix_ir.png'),cv2.IMREAD_UNCHANGED)\n",
    "\n",
    "bgr_30_2 = cv2.imread(os.path.join(p7,'20221122195804_nofix_bgr.png'),cv2.IMREAD_UNCHANGED)\n",
    "ir_30_2 = cv2.imread(os.path.join(p7,'20221122195759_nofix_ir.png'),cv2.IMREAD_UNCHANGED)\n",
    "\n",
    "bgr_24_1 = cv2.imread(os.path.join(p7,'20221122201310_nofix_bgr.png'),cv2.IMREAD_UNCHANGED)\n",
    "ir_24_1 = cv2.imread(os.path.join(p7,'20221122201300_nofix_ir.png'),cv2.IMREAD_UNCHANGED)\n",
    "\n",
    "bgr_22_3 = cv2.imread(os.path.join(p7,'20221122202815_nofix_bgr.png'),cv2.IMREAD_UNCHANGED)\n",
    "ir_22_3 = cv2.imread(os.path.join(p7,'20221122202800_nofix_ir.png'),cv2.IMREAD_UNCHANGED)\n",
    "\n",
    "bgr_21_5 = cv2.imread(os.path.join(p7,'20221122204320_nofix_bgr.png'),cv2.IMREAD_UNCHANGED)\n",
    "ir_21_5 = cv2.imread(os.path.join(p7,'20221122204301_nofix_ir.png'),cv2.IMREAD_UNCHANGED)\n",
    "\n",
    "bgr_21_1 = cv2.imread(os.path.join(p7,'20221122205826_nofix_bgr.png'),cv2.IMREAD_UNCHANGED)\n",
    "ir_21_1 = cv2.imread(os.path.join(p7,'20221122205801_nofix_ir.png'),cv2.IMREAD_UNCHANGED)\n",
    "\n",
    "bgr_21_0 = cv2.imread(os.path.join(p7,'20221122211236_nofix_bgr.png'),cv2.IMREAD_UNCHANGED)\n",
    "ir_21_0 = cv2.imread(os.path.join(p7,'20221122211231_nofix_ir.png'),cv2.IMREAD_UNCHANGED)\n",
    "\n",
    "ir_list = [ir_01_7,ir_9_0,ir_13_8,ir_16_6,ir_18_2,ir_19_0,ir_35_0,ir_30_2,ir_24_1,ir_22_3,ir_21_5,ir_21_1,ir_21_0]\n",
    "t_meas_1122 = [1.7,9.0,13.8,16.6,18.2,19,35,30.2,24.1,22.3,21.5,21.1,21.0]"
   ]
  },
  {
   "cell_type": "code",
   "execution_count": null,
   "id": "b3c5e3c1-0a28-4700-9cef-a246356f8c95",
   "metadata": {},
   "outputs": [],
   "source": [
    "flir_max = np.max(np.max(ir_35_0))\n",
    "i,j=np.where(ir_35_0==flir_max)\n",
    "flir_min = np.min(np.min(ir_01_7))\n",
    "k,l=np.where(ir_01_7==flir_min)\n",
    "j=(l+j)/2+2\n",
    "i=(k+i)/2\n",
    "t_ir_flir_1122=[]\n",
    "\n",
    "for ir in ir_list:\n",
    "    t_ir_flir_1122.append(np.mean(ir[int(i)-3:int(i)+3,int(j)-3:int(j)+3]))\n",
    "    plt.imshow(ir[int(i)-7:int(i)+7,int(j)-7:int(j)+7])\n",
    "    plt.show()"
   ]
  },
  {
   "cell_type": "raw",
   "id": "bc459a43-217d-4c25-ad8d-fc1ee7b932ec",
   "metadata": {
    "jupyter": {
     "source_hidden": true
    },
    "tags": []
   },
   "source": [
    "T_nsar = np.array([5.9,7.0,7.2,7.5,35.4,36.2,37.1,38.0,39.4])+273.15\n",
    "IR_nsar = np.array([t_5_9,t_7_0,t_7_2,t_7_5,t_35_4,t_36_2,t_37_1,t_38_0,t_39_4])"
   ]
  },
  {
   "cell_type": "code",
   "execution_count": null,
   "id": "c26deab5-db04-4766-a083-ceac6b1c0235",
   "metadata": {},
   "outputs": [],
   "source": [
    "t_meas_1122=np.array(t_meas_1122)+273.15\n",
    "t_ir_flir_1122=np.array(t_ir_flir_1122)"
   ]
  },
  {
   "cell_type": "raw",
   "id": "b2c5739d-2ff0-4e90-9a40-380ac20a57ee",
   "metadata": {
    "jupyter": {
     "source_hidden": true
    },
    "tags": []
   },
   "source": [
    "T_cprl = np.array([20,25,30,35])+273.15\n",
    "IR_cprl = np.array([t_20_0,t_25_0,t_30_0,t_35_0])"
   ]
  },
  {
   "cell_type": "raw",
   "id": "5714e8f8-89ad-46dc-a957-28be9c3483e3",
   "metadata": {
    "jupyter": {
     "source_hidden": true
    },
    "tags": []
   },
   "source": [
    "from sklearn.linear_model import LinearRegression\n",
    "model = LinearRegression()\n",
    "model.fit(IR_nsar.reshape(-1,1),T_nsar.reshape(-1,1))\n",
    "T_pred_nsar = model.intercept_+model.coef_*IR_nsar"
   ]
  },
  {
   "cell_type": "raw",
   "id": "11b1bdb5-326c-463b-9479-5722825eada4",
   "metadata": {
    "jupyter": {
     "source_hidden": true
    },
    "tags": []
   },
   "source": [
    "from sklearn.linear_model import LinearRegression\n",
    "model = LinearRegression()\n",
    "model.fit(IR_cprl.reshape(-1,1),T_cprl.reshape(-1,1))\n",
    "T_pred_cprl = model.intercept_+model.coef_*IR_cprl"
   ]
  },
  {
   "cell_type": "code",
   "execution_count": null,
   "id": "a6955e59-8c65-4e65-8b5e-3b89491f976e",
   "metadata": {},
   "outputs": [],
   "source": [
    "from sklearn.linear_model import LinearRegression\n",
    "model = LinearRegression()\n",
    "model.fit(t_ir_flir,t_meas_flir)\n",
    "T_pred_flir = model.intercept_+model.coef_*t_ir_flir\n",
    "filename = os.path.join(p6,'calibration_nsar1.pk.sav')\n",
    "import pickle\n",
    "pickle.dump(model, open(filename, 'wb'))"
   ]
  },
  {
   "cell_type": "code",
   "execution_count": null,
   "id": "7715ff76-fed4-49bb-8061-0a7bb75a435b",
   "metadata": {},
   "outputs": [],
   "source": [
    "model.intercept_[0],model.coef_[0][0]"
   ]
  },
  {
   "cell_type": "code",
   "execution_count": null,
   "id": "91d8d962-b07d-4161-923f-79800f793c5f",
   "metadata": {},
   "outputs": [],
   "source": [
    "from sklearn.linear_model import LinearRegression\n",
    "model = LinearRegression()\n",
    "model.fit(t_ir_flir_1122.reshape(-1,1),t_meas_1122.reshape(-1,1))\n",
    "T_pred_flir = model.intercept_+model.coef_*t_ir_flir_1122\n",
    "import pickle\n",
    "filename = os.path.join(p8,'calibration_nsar2.pk.sav')\n",
    "pickle.dump(model, open(filename, 'wb'))"
   ]
  },
  {
   "cell_type": "code",
   "execution_count": null,
   "id": "7f2144ca-14df-43b3-8301-db66ef9effa7",
   "metadata": {},
   "outputs": [],
   "source": [
    "plt.plot(t_ir_flir,t_meas_flir,'o',t_ir_flir_1122,t_meas_1122,'+')"
   ]
  },
  {
   "cell_type": "code",
   "execution_count": null,
   "id": "166acd9e-02d3-4fa5-bb16-dcba21f92699",
   "metadata": {},
   "outputs": [],
   "source": [
    "model.intercept_[0],model.coef_[0][0]"
   ]
  },
  {
   "cell_type": "code",
   "execution_count": 71,
   "id": "96037d1f-4d78-432b-a79a-0c046934cee9",
   "metadata": {},
   "outputs": [],
   "source": [
    "ir_imgs = []\n",
    "t_bb_v2 = []\n",
    "t_ir_v2 = []\n",
    "for f in os.listdir(p9):\n",
    "    if 'ir' in f:\n",
    "        ir_imgs.append(cv2.imread(os.path.join(p9,f),cv2.IMREAD_UNCHANGED))\n",
    "        t_bb_v2.append(float(f[0:4])+273.15)\n",
    "        \n",
    "for ir in ir_imgs:\n",
    "    t_ir_v2.append(np.mean(ir[35:56,95:116]))\n",
    "    \n",
    "t_bb_v2 = np.array(t_bb_v2).reshape(-1,1)\n",
    "t_ir_v2 = np.array(t_ir_v2).reshape(-1,1)"
   ]
  },
  {
   "cell_type": "code",
   "execution_count": 72,
   "id": "445afdbf-5e93-4fdd-a9d1-4b5fe1ed29a9",
   "metadata": {},
   "outputs": [],
   "source": [
    "from sklearn.linear_model import LinearRegression\n",
    "model = LinearRegression()\n",
    "model.fit(t_ir_v2,t_bb_v2)\n",
    "t_pred_v2 = model.intercept_+model.coef_*t_ir_v2\n",
    "import pickle\n",
    "filename = os.path.join(p8,'calibration_nsar3.pk.sav')\n",
    "pickle.dump(model, open(filename, 'wb'))"
   ]
  },
  {
   "cell_type": "code",
   "execution_count": 73,
   "id": "eb19d131-5c11-49b7-b814-31da91a5edc8",
   "metadata": {},
   "outputs": [
    {
     "data": {
      "text/plain": [
       "(-458.26068409069575, 0.02557175739271647)"
      ]
     },
     "execution_count": 73,
     "metadata": {},
     "output_type": "execute_result"
    }
   ],
   "source": [
    "model.intercept_[0],model.coef_[0][0]"
   ]
  },
  {
   "cell_type": "code",
   "execution_count": 74,
   "id": "78b16b37-1d43-4f2d-b516-da41240bb377",
   "metadata": {},
   "outputs": [
    {
     "data": {
      "text/plain": [
       "[<matplotlib.lines.Line2D at 0x2b7cddfc5550>,\n",
       " <matplotlib.lines.Line2D at 0x2b7cddfc5280>]"
      ]
     },
     "execution_count": 74,
     "metadata": {},
     "output_type": "execute_result"
    },
    {
     "data": {
      "image/png": "[encoded data removed]",
      "text/plain": [
       "<Figure size 432x288 with 1 Axes>"
      ]
     },
     "metadata": {
      "needs_background": "light"
     },
     "output_type": "display_data"
    }
   ],
   "source": [
    "plt.plot(t_ir_v2,t_bb_v2,'o',t_ir_v2,t_pred_v2)"
   ]
  },
  {
   "cell_type": "code",
   "execution_count": 75,
   "id": "3fec636e-8f1b-4f49-a95a-041ca42af337",
   "metadata": {},
   "outputs": [],
   "source": [
    "#filter outliers\n",
    "delta = abs(t_bb_v2-t_pred_v2)"
   ]
  },
  {
   "cell_type": "code",
   "execution_count": 76,
   "id": "4d7e1a8d-bd40-457c-a361-ea657cd0f621",
   "metadata": {},
   "outputs": [],
   "source": [
    "t_bb_v2 = t_bb_v2[delta<=5].reshape(-1,1)\n",
    "t_ir_v2 = t_ir_v2[delta<=5].reshape(-1,1)"
   ]
  },
  {
   "cell_type": "code",
   "execution_count": 77,
   "id": "669ab74f-a5c5-414f-8f4d-5b3d013ef914",
   "metadata": {},
   "outputs": [],
   "source": [
    "from sklearn.linear_model import LinearRegression\n",
    "model = LinearRegression()\n",
    "model.fit(t_ir_v2,t_bb_v2)\n",
    "t_pred_v2 = model.intercept_+model.coef_*t_ir_v2\n",
    "import pickle\n",
    "filename = os.path.join(p8,'calibration_nsar3.pk.sav')\n",
    "pickle.dump(model, open(filename, 'wb'))"
   ]
  },
  {
   "cell_type": "code",
   "execution_count": 78,
   "id": "b2286838-de93-4ddf-9933-c58ada2da052",
   "metadata": {},
   "outputs": [
    {
     "data": {
      "text/plain": [
       "(-536.3049124466229, 0.02820605431542941)"
      ]
     },
     "execution_count": 78,
     "metadata": {},
     "output_type": "execute_result"
    }
   ],
   "source": [
    "model.intercept_[0],model.coef_[0][0]"
   ]
  },
  {
   "cell_type": "code",
   "execution_count": 79,
   "id": "e6000bbb-52f7-41ba-93a4-7de94ec04674",
   "metadata": {},
   "outputs": [
    {
     "data": {
      "text/plain": [
       "[<matplotlib.lines.Line2D at 0x2b7cdc95d760>,\n",
       " <matplotlib.lines.Line2D at 0x2b7cdc95d490>]"
      ]
     },
     "execution_count": 79,
     "metadata": {},
     "output_type": "execute_result"
    },
    {
     "data": {
      "image/png": "[encoded data removed]",
      "text/plain": [
       "<Figure size 432x288 with 1 Axes>"
      ]
     },
     "metadata": {
      "needs_background": "light"
     },
     "output_type": "display_data"
    }
   ],
   "source": [
    "plt.plot(t_ir_v2,t_bb_v2,'o',t_ir_v2,t_pred_v2)"
   ]
  },
  {
   "cell_type": "code",
   "execution_count": 80,
   "id": "d0cb3124-33a2-4781-8aa6-d12057f4a042",
   "metadata": {},
   "outputs": [
    {
     "data": {
      "text/plain": [
       "array([15.67061852])"
      ]
     },
     "execution_count": 80,
     "metadata": {},
     "output_type": "execute_result"
    }
   ],
   "source": [
    "max(abs(delta))\n"
   ]
  },
  {
   "cell_type": "code",
   "execution_count": null,
   "id": "158c9ca6-b573-49c6-ad98-1edf015a9624",
   "metadata": {},
   "outputs": [],
   "source": []
  }
 ],
 "metadata": {
  "kernelspec": {
   "display_name": "nsaru-cv",
   "language": "python",
   "name": "nsaru-cv"
  },
  "language_info": {
   "codemirror_mode": {
    "name": "ipython",
    "version": 3
   },
   "file_extension": ".py",
   "mimetype": "text/x-python",
   "name": "python",
   "nbconvert_exporter": "python",
   "pygments_lexer": "ipython3",
   "version": "3.9.2"
  }
 },
 "nbformat": 4,
 "nbformat_minor": 5
}
