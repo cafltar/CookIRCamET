{
 "cells": [
  {
   "cell_type": "code",
   "execution_count": 1,
   "id": "602dd85a-1c4a-4e4c-ba04-55a62660f724",
   "metadata": {
    "tags": []
   },
   "outputs": [
    {
     "data": {
      "text/html": [
       "<script type=\"esms-options\">{\"shimMode\": true}</script><style>*[data-root-id],\n",
       "*[data-root-id] > * {\n",
       "  box-sizing: border-box;\n",
       "  font-family: var(--jp-ui-font-family);\n",
       "  font-size: var(--jp-ui-font-size1);\n",
       "  color: var(--vscode-editor-foreground, var(--jp-ui-font-color1));\n",
       "}\n",
       "\n",
       "/* Override VSCode background color */\n",
       ".cell-output-ipywidget-background:has(\n",
       "    > .cell-output-ipywidget-background > .lm-Widget > *[data-root-id]\n",
       "  ),\n",
       ".cell-output-ipywidget-background:has(> .lm-Widget > *[data-root-id]) {\n",
       "  background-color: transparent !important;\n",
       "}\n",
       "</style>"
      ]
     },
     "metadata": {},
     "output_type": "display_data"
    },
    {
     "data": {
      "application/javascript": [
       "(function(root) {\n",
       "  function now() {\n",
       "    return new Date();\n",
       "  }\n",
       "\n",
       "  const force = true;\n",
       "  const py_version = '3.6.2'.replace('rc', '-rc.').replace('.dev', '-dev.');\n",
       "  const reloading = false;\n",
       "  const Bokeh = root.Bokeh;\n",
       "\n",
       "  // Set a timeout for this load but only if we are not already initializing\n",
       "  if (typeof (root._bokeh_timeout) === \"undefined\" || (force || !root._bokeh_is_initializing)) {\n",
       "    root._bokeh_timeout = Date.now() + 5000;\n",
       "    root._bokeh_failed_load = false;\n",
       "  }\n",
       "\n",
       "  function run_callbacks() {\n",
       "    try {\n",
       "      root._bokeh_onload_callbacks.forEach(function(callback) {\n",
       "        if (callback != null)\n",
       "          callback();\n",
       "      });\n",
       "    } finally {\n",
       "      delete root._bokeh_onload_callbacks;\n",
       "    }\n",
       "    console.debug(\"Bokeh: all callbacks have finished\");\n",
       "  }\n",
       "\n",
       "  function load_libs(css_urls, js_urls, js_modules, js_exports, callback) {\n",
       "    if (css_urls == null) css_urls = [];\n",
       "    if (js_urls == null) js_urls = [];\n",
       "    if (js_modules == null) js_modules = [];\n",
       "    if (js_exports == null) js_exports = {};\n",
       "\n",
       "    root._bokeh_onload_callbacks.push(callback);\n",
       "\n",
       "    if (root._bokeh_is_loading > 0) {\n",
       "      // Don't load bokeh if it is still initializing\n",
       "      console.debug(\"Bokeh: BokehJS is being loaded, scheduling callback at\", now());\n",
       "      return null;\n",
       "    } else if (js_urls.length === 0 && js_modules.length === 0 && Object.keys(js_exports).length === 0) {\n",
       "      // There is nothing to load\n",
       "      run_callbacks();\n",
       "      return null;\n",
       "    }\n",
       "\n",
       "    function on_load() {\n",
       "      root._bokeh_is_loading--;\n",
       "      if (root._bokeh_is_loading === 0) {\n",
       "        console.debug(\"Bokeh: all BokehJS libraries/stylesheets loaded\");\n",
       "        run_callbacks()\n",
       "      }\n",
       "    }\n",
       "    window._bokeh_on_load = on_load\n",
       "\n",
       "    function on_error(e) {\n",
       "      const src_el = e.srcElement\n",
       "      console.error(\"failed to load \" + (src_el.href || src_el.src));\n",
       "    }\n",
       "\n",
       "    const skip = [];\n",
       "    if (window.requirejs) {\n",
       "      window.requirejs.config({'packages': {}, 'paths': {}, 'shim': {}});\n",
       "      root._bokeh_is_loading = css_urls.length + 0;\n",
       "    } else {\n",
       "      root._bokeh_is_loading = css_urls.length + js_urls.length + js_modules.length + Object.keys(js_exports).length;\n",
       "    }\n",
       "\n",
       "    const existing_stylesheets = []\n",
       "    const links = document.getElementsByTagName('link')\n",
       "    for (let i = 0; i < links.length; i++) {\n",
       "      const link = links[i]\n",
       "      if (link.href != null) {\n",
       "        existing_stylesheets.push(link.href)\n",
       "      }\n",
       "    }\n",
       "    for (let i = 0; i < css_urls.length; i++) {\n",
       "      const url = css_urls[i];\n",
       "      const escaped = encodeURI(url)\n",
       "      if (existing_stylesheets.indexOf(escaped) !== -1) {\n",
       "        on_load()\n",
       "        continue;\n",
       "      }\n",
       "      const element = document.createElement(\"link\");\n",
       "      element.onload = on_load;\n",
       "      element.onerror = on_error;\n",
       "      element.rel = \"stylesheet\";\n",
       "      element.type = \"text/css\";\n",
       "      element.href = url;\n",
       "      console.debug(\"Bokeh: injecting link tag for BokehJS stylesheet: \", url);\n",
       "      document.body.appendChild(element);\n",
       "    }    var existing_scripts = []\n",
       "    const scripts = document.getElementsByTagName('script')\n",
       "    for (let i = 0; i < scripts.length; i++) {\n",
       "      var script = scripts[i]\n",
       "      if (script.src != null) {\n",
       "        existing_scripts.push(script.src)\n",
       "      }\n",
       "    }\n",
       "    for (let i = 0; i < js_urls.length; i++) {\n",
       "      const url = js_urls[i];\n",
       "      const escaped = encodeURI(url)\n",
       "      if (skip.indexOf(escaped) !== -1 || existing_scripts.indexOf(escaped) !== -1) {\n",
       "        if (!window.requirejs) {\n",
       "          on_load();\n",
       "        }\n",
       "        continue;\n",
       "      }\n",
       "      const element = document.createElement('script');\n",
       "      element.onload = on_load;\n",
       "      element.onerror = on_error;\n",
       "      element.async = false;\n",
       "      element.src = url;\n",
       "      console.debug(\"Bokeh: injecting script tag for BokehJS library: \", url);\n",
       "      document.head.appendChild(element);\n",
       "    }\n",
       "    for (let i = 0; i < js_modules.length; i++) {\n",
       "      const url = js_modules[i];\n",
       "      const escaped = encodeURI(url)\n",
       "      if (skip.indexOf(escaped) !== -1 || existing_scripts.indexOf(escaped) !== -1) {\n",
       "        if (!window.requirejs) {\n",
       "          on_load();\n",
       "        }\n",
       "        continue;\n",
       "      }\n",
       "      var element = document.createElement('script');\n",
       "      element.onload = on_load;\n",
       "      element.onerror = on_error;\n",
       "      element.async = false;\n",
       "      element.src = url;\n",
       "      element.type = \"module\";\n",
       "      console.debug(\"Bokeh: injecting script tag for BokehJS library: \", url);\n",
       "      document.head.appendChild(element);\n",
       "    }\n",
       "    for (const name in js_exports) {\n",
       "      const url = js_exports[name];\n",
       "      const escaped = encodeURI(url)\n",
       "      if (skip.indexOf(escaped) >= 0 || root[name] != null) {\n",
       "        if (!window.requirejs) {\n",
       "          on_load();\n",
       "        }\n",
       "        continue;\n",
       "      }\n",
       "      var element = document.createElement('script');\n",
       "      element.onerror = on_error;\n",
       "      element.async = false;\n",
       "      element.type = \"module\";\n",
       "      console.debug(\"Bokeh: injecting script tag for BokehJS library: \", url);\n",
       "      element.textContent = `\n",
       "      import ${name} from \"${url}\"\n",
       "      window.${name} = ${name}\n",
       "      window._bokeh_on_load()\n",
       "      `\n",
       "      document.head.appendChild(element);\n",
       "    }\n",
       "    if (!js_urls.length && !js_modules.length) {\n",
       "      on_load()\n",
       "    }\n",
       "  };\n",
       "\n",
       "  function inject_raw_css(css) {\n",
       "    const element = document.createElement(\"style\");\n",
       "    element.appendChild(document.createTextNode(css));\n",
       "    document.body.appendChild(element);\n",
       "  }\n",
       "\n",
       "  const js_urls = [\"https://cdn.holoviz.org/panel/1.5.5/dist/bundled/reactiveesm/es-module-shims@^1.10.0/dist/es-module-shims.min.js\", \"https://cdn.bokeh.org/bokeh/release/bokeh-3.6.2.min.js\", \"https://cdn.bokeh.org/bokeh/release/bokeh-gl-3.6.2.min.js\", \"https://cdn.bokeh.org/bokeh/release/bokeh-widgets-3.6.2.min.js\", \"https://cdn.bokeh.org/bokeh/release/bokeh-tables-3.6.2.min.js\", \"https://cdn.holoviz.org/panel/1.5.5/dist/panel.min.js\"];\n",
       "  const js_modules = [];\n",
       "  const js_exports = {};\n",
       "  const css_urls = [];\n",
       "  const inline_js = [    function(Bokeh) {\n",
       "      Bokeh.set_log_level(\"info\");\n",
       "    },\n",
       "function(Bokeh) {} // ensure no trailing comma for IE\n",
       "  ];\n",
       "\n",
       "  function run_inline_js() {\n",
       "    if ((root.Bokeh !== undefined) || (force === true)) {\n",
       "      for (let i = 0; i < inline_js.length; i++) {\n",
       "        try {\n",
       "          inline_js[i].call(root, root.Bokeh);\n",
       "        } catch(e) {\n",
       "          if (!reloading) {\n",
       "            throw e;\n",
       "          }\n",
       "        }\n",
       "      }\n",
       "      // Cache old bokeh versions\n",
       "      if (Bokeh != undefined && !reloading) {\n",
       "        var NewBokeh = root.Bokeh;\n",
       "        if (Bokeh.versions === undefined) {\n",
       "          Bokeh.versions = new Map();\n",
       "        }\n",
       "        if (NewBokeh.version !== Bokeh.version) {\n",
       "          Bokeh.versions.set(NewBokeh.version, NewBokeh)\n",
       "        }\n",
       "        root.Bokeh = Bokeh;\n",
       "      }\n",
       "    } else if (Date.now() < root._bokeh_timeout) {\n",
       "      setTimeout(run_inline_js, 100);\n",
       "    } else if (!root._bokeh_failed_load) {\n",
       "      console.log(\"Bokeh: BokehJS failed to load within specified timeout.\");\n",
       "      root._bokeh_failed_load = true;\n",
       "    }\n",
       "    root._bokeh_is_initializing = false\n",
       "  }\n",
       "\n",
       "  function load_or_wait() {\n",
       "    // Implement a backoff loop that tries to ensure we do not load multiple\n",
       "    // versions of Bokeh and its dependencies at the same time.\n",
       "    // In recent versions we use the root._bokeh_is_initializing flag\n",
       "    // to determine whether there is an ongoing attempt to initialize\n",
       "    // bokeh, however for backward compatibility we also try to ensure\n",
       "    // that we do not start loading a newer (Panel>=1.0 and Bokeh>3) version\n",
       "    // before older versions are fully initialized.\n",
       "    if (root._bokeh_is_initializing && Date.now() > root._bokeh_timeout) {\n",
       "      // If the timeout and bokeh was not successfully loaded we reset\n",
       "      // everything and try loading again\n",
       "      root._bokeh_timeout = Date.now() + 5000;\n",
       "      root._bokeh_is_initializing = false;\n",
       "      root._bokeh_onload_callbacks = undefined;\n",
       "      root._bokeh_is_loading = 0\n",
       "      console.log(\"Bokeh: BokehJS was loaded multiple times but one version failed to initialize.\");\n",
       "      load_or_wait();\n",
       "    } else if (root._bokeh_is_initializing || (typeof root._bokeh_is_initializing === \"undefined\" && root._bokeh_onload_callbacks !== undefined)) {\n",
       "      setTimeout(load_or_wait, 100);\n",
       "    } else {\n",
       "      root._bokeh_is_initializing = true\n",
       "      root._bokeh_onload_callbacks = []\n",
       "      const bokeh_loaded = root.Bokeh != null && (root.Bokeh.version === py_version || (root.Bokeh.versions !== undefined && root.Bokeh.versions.has(py_version)));\n",
       "      if (!reloading && !bokeh_loaded) {\n",
       "        if (root.Bokeh) {\n",
       "          root.Bokeh = undefined;\n",
       "        }\n",
       "        console.debug(\"Bokeh: BokehJS not loaded, scheduling load and callback at\", now());\n",
       "      }\n",
       "      load_libs(css_urls, js_urls, js_modules, js_exports, function() {\n",
       "        console.debug(\"Bokeh: BokehJS plotting callback run at\", now());\n",
       "        run_inline_js();\n",
       "      });\n",
       "    }\n",
       "  }\n",
       "  // Give older versions of the autoload script a head-start to ensure\n",
       "  // they initialize before we start loading newer version.\n",
       "  setTimeout(load_or_wait, 100)\n",
       "}(window));"
      ],
      "application/vnd.holoviews_load.v0+json": "(function(root) {\n  function now() {\n    return new Date();\n  }\n\n  const force = true;\n  const py_version = '3.6.2'.replace('rc', '-rc.').replace('.dev', '-dev.');\n  const reloading = false;\n  const Bokeh = root.Bokeh;\n\n  // Set a timeout for this load but only if we are not already initializing\n  if (typeof (root._bokeh_timeout) === \"undefined\" || (force || !root._bokeh_is_initializing)) {\n    root._bokeh_timeout = Date.now() + 5000;\n    root._bokeh_failed_load = false;\n  }\n\n  function run_callbacks() {\n    try {\n      root._bokeh_onload_callbacks.forEach(function(callback) {\n        if (callback != null)\n          callback();\n      });\n    } finally {\n      delete root._bokeh_onload_callbacks;\n    }\n    console.debug(\"Bokeh: all callbacks have finished\");\n  }\n\n  function load_libs(css_urls, js_urls, js_modules, js_exports, callback) {\n    if (css_urls == null) css_urls = [];\n    if (js_urls == null) js_urls = [];\n    if (js_modules == null) js_modules = [];\n    if (js_exports == null) js_exports = {};\n\n    root._bokeh_onload_callbacks.push(callback);\n\n    if (root._bokeh_is_loading > 0) {\n      // Don't load bokeh if it is still initializing\n      console.debug(\"Bokeh: BokehJS is being loaded, scheduling callback at\", now());\n      return null;\n    } else if (js_urls.length === 0 && js_modules.length === 0 && Object.keys(js_exports).length === 0) {\n      // There is nothing to load\n      run_callbacks();\n      return null;\n    }\n\n    function on_load() {\n      root._bokeh_is_loading--;\n      if (root._bokeh_is_loading === 0) {\n        console.debug(\"Bokeh: all BokehJS libraries/stylesheets loaded\");\n        run_callbacks()\n      }\n    }\n    window._bokeh_on_load = on_load\n\n    function on_error(e) {\n      const src_el = e.srcElement\n      console.error(\"failed to load \" + (src_el.href || src_el.src));\n    }\n\n    const skip = [];\n    if (window.requirejs) {\n      window.requirejs.config({'packages': {}, 'paths': {}, 'shim': {}});\n      root._bokeh_is_loading = css_urls.length + 0;\n    } else {\n      root._bokeh_is_loading = css_urls.length + js_urls.length + js_modules.length + Object.keys(js_exports).length;\n    }\n\n    const existing_stylesheets = []\n    const links = document.getElementsByTagName('link')\n    for (let i = 0; i < links.length; i++) {\n      const link = links[i]\n      if (link.href != null) {\n        existing_stylesheets.push(link.href)\n      }\n    }\n    for (let i = 0; i < css_urls.length; i++) {\n      const url = css_urls[i];\n      const escaped = encodeURI(url)\n      if (existing_stylesheets.indexOf(escaped) !== -1) {\n        on_load()\n        continue;\n      }\n      const element = document.createElement(\"link\");\n      element.onload = on_load;\n      element.onerror = on_error;\n      element.rel = \"stylesheet\";\n      element.type = \"text/css\";\n      element.href = url;\n      console.debug(\"Bokeh: injecting link tag for BokehJS stylesheet: \", url);\n      document.body.appendChild(element);\n    }    var existing_scripts = []\n    const scripts = document.getElementsByTagName('script')\n    for (let i = 0; i < scripts.length; i++) {\n      var script = scripts[i]\n      if (script.src != null) {\n        existing_scripts.push(script.src)\n      }\n    }\n    for (let i = 0; i < js_urls.length; i++) {\n      const url = js_urls[i];\n      const escaped = encodeURI(url)\n      if (skip.indexOf(escaped) !== -1 || existing_scripts.indexOf(escaped) !== -1) {\n        if (!window.requirejs) {\n          on_load();\n        }\n        continue;\n      }\n      const element = document.createElement('script');\n      element.onload = on_load;\n      element.onerror = on_error;\n      element.async = false;\n      element.src = url;\n      console.debug(\"Bokeh: injecting script tag for BokehJS library: \", url);\n      document.head.appendChild(element);\n    }\n    for (let i = 0; i < js_modules.length; i++) {\n      const url = js_modules[i];\n      const escaped = encodeURI(url)\n      if (skip.indexOf(escaped) !== -1 || existing_scripts.indexOf(escaped) !== -1) {\n        if (!window.requirejs) {\n          on_load();\n        }\n        continue;\n      }\n      var element = document.createElement('script');\n      element.onload = on_load;\n      element.onerror = on_error;\n      element.async = false;\n      element.src = url;\n      element.type = \"module\";\n      console.debug(\"Bokeh: injecting script tag for BokehJS library: \", url);\n      document.head.appendChild(element);\n    }\n    for (const name in js_exports) {\n      const url = js_exports[name];\n      const escaped = encodeURI(url)\n      if (skip.indexOf(escaped) >= 0 || root[name] != null) {\n        if (!window.requirejs) {\n          on_load();\n        }\n        continue;\n      }\n      var element = document.createElement('script');\n      element.onerror = on_error;\n      element.async = false;\n      element.type = \"module\";\n      console.debug(\"Bokeh: injecting script tag for BokehJS library: \", url);\n      element.textContent = `\n      import ${name} from \"${url}\"\n      window.${name} = ${name}\n      window._bokeh_on_load()\n      `\n      document.head.appendChild(element);\n    }\n    if (!js_urls.length && !js_modules.length) {\n      on_load()\n    }\n  };\n\n  function inject_raw_css(css) {\n    const element = document.createElement(\"style\");\n    element.appendChild(document.createTextNode(css));\n    document.body.appendChild(element);\n  }\n\n  const js_urls = [\"https://cdn.holoviz.org/panel/1.5.5/dist/bundled/reactiveesm/es-module-shims@^1.10.0/dist/es-module-shims.min.js\", \"https://cdn.bokeh.org/bokeh/release/bokeh-3.6.2.min.js\", \"https://cdn.bokeh.org/bokeh/release/bokeh-gl-3.6.2.min.js\", \"https://cdn.bokeh.org/bokeh/release/bokeh-widgets-3.6.2.min.js\", \"https://cdn.bokeh.org/bokeh/release/bokeh-tables-3.6.2.min.js\", \"https://cdn.holoviz.org/panel/1.5.5/dist/panel.min.js\"];\n  const js_modules = [];\n  const js_exports = {};\n  const css_urls = [];\n  const inline_js = [    function(Bokeh) {\n      Bokeh.set_log_level(\"info\");\n    },\nfunction(Bokeh) {} // ensure no trailing comma for IE\n  ];\n\n  function run_inline_js() {\n    if ((root.Bokeh !== undefined) || (force === true)) {\n      for (let i = 0; i < inline_js.length; i++) {\n        try {\n          inline_js[i].call(root, root.Bokeh);\n        } catch(e) {\n          if (!reloading) {\n            throw e;\n          }\n        }\n      }\n      // Cache old bokeh versions\n      if (Bokeh != undefined && !reloading) {\n        var NewBokeh = root.Bokeh;\n        if (Bokeh.versions === undefined) {\n          Bokeh.versions = new Map();\n        }\n        if (NewBokeh.version !== Bokeh.version) {\n          Bokeh.versions.set(NewBokeh.version, NewBokeh)\n        }\n        root.Bokeh = Bokeh;\n      }\n    } else if (Date.now() < root._bokeh_timeout) {\n      setTimeout(run_inline_js, 100);\n    } else if (!root._bokeh_failed_load) {\n      console.log(\"Bokeh: BokehJS failed to load within specified timeout.\");\n      root._bokeh_failed_load = true;\n    }\n    root._bokeh_is_initializing = false\n  }\n\n  function load_or_wait() {\n    // Implement a backoff loop that tries to ensure we do not load multiple\n    // versions of Bokeh and its dependencies at the same time.\n    // In recent versions we use the root._bokeh_is_initializing flag\n    // to determine whether there is an ongoing attempt to initialize\n    // bokeh, however for backward compatibility we also try to ensure\n    // that we do not start loading a newer (Panel>=1.0 and Bokeh>3) version\n    // before older versions are fully initialized.\n    if (root._bokeh_is_initializing && Date.now() > root._bokeh_timeout) {\n      // If the timeout and bokeh was not successfully loaded we reset\n      // everything and try loading again\n      root._bokeh_timeout = Date.now() + 5000;\n      root._bokeh_is_initializing = false;\n      root._bokeh_onload_callbacks = undefined;\n      root._bokeh_is_loading = 0\n      console.log(\"Bokeh: BokehJS was loaded multiple times but one version failed to initialize.\");\n      load_or_wait();\n    } else if (root._bokeh_is_initializing || (typeof root._bokeh_is_initializing === \"undefined\" && root._bokeh_onload_callbacks !== undefined)) {\n      setTimeout(load_or_wait, 100);\n    } else {\n      root._bokeh_is_initializing = true\n      root._bokeh_onload_callbacks = []\n      const bokeh_loaded = root.Bokeh != null && (root.Bokeh.version === py_version || (root.Bokeh.versions !== undefined && root.Bokeh.versions.has(py_version)));\n      if (!reloading && !bokeh_loaded) {\n        if (root.Bokeh) {\n          root.Bokeh = undefined;\n        }\n        console.debug(\"Bokeh: BokehJS not loaded, scheduling load and callback at\", now());\n      }\n      load_libs(css_urls, js_urls, js_modules, js_exports, function() {\n        console.debug(\"Bokeh: BokehJS plotting callback run at\", now());\n        run_inline_js();\n      });\n    }\n  }\n  // Give older versions of the autoload script a head-start to ensure\n  // they initialize before we start loading newer version.\n  setTimeout(load_or_wait, 100)\n}(window));"
     },
     "metadata": {},
     "output_type": "display_data"
    },
    {
     "data": {
      "application/javascript": [
       "\n",
       "if ((window.PyViz === undefined) || (window.PyViz instanceof HTMLElement)) {\n",
       "  window.PyViz = {comms: {}, comm_status:{}, kernels:{}, receivers: {}, plot_index: []}\n",
       "}\n",
       "\n",
       "\n",
       "    function JupyterCommManager() {\n",
       "    }\n",
       "\n",
       "    JupyterCommManager.prototype.register_target = function(plot_id, comm_id, msg_handler) {\n",
       "      if (window.comm_manager || ((window.Jupyter !== undefined) && (Jupyter.notebook.kernel != null))) {\n",
       "        var comm_manager = window.comm_manager || Jupyter.notebook.kernel.comm_manager;\n",
       "        comm_manager.register_target(comm_id, function(comm) {\n",
       "          comm.on_msg(msg_handler);\n",
       "        });\n",
       "      } else if ((plot_id in window.PyViz.kernels) && (window.PyViz.kernels[plot_id])) {\n",
       "        window.PyViz.kernels[plot_id].registerCommTarget(comm_id, function(comm) {\n",
       "          comm.onMsg = msg_handler;\n",
       "        });\n",
       "      } else if (typeof google != 'undefined' && google.colab.kernel != null) {\n",
       "        google.colab.kernel.comms.registerTarget(comm_id, (comm) => {\n",
       "          var messages = comm.messages[Symbol.asyncIterator]();\n",
       "          function processIteratorResult(result) {\n",
       "            var message = result.value;\n",
       "            console.log(message)\n",
       "            var content = {data: message.data, comm_id};\n",
       "            var buffers = []\n",
       "            for (var buffer of message.buffers || []) {\n",
       "              buffers.push(new DataView(buffer))\n",
       "            }\n",
       "            var metadata = message.metadata || {};\n",
       "            var msg = {content, buffers, metadata}\n",
       "            msg_handler(msg);\n",
       "            return messages.next().then(processIteratorResult);\n",
       "          }\n",
       "          return messages.next().then(processIteratorResult);\n",
       "        })\n",
       "      }\n",
       "    }\n",
       "\n",
       "    JupyterCommManager.prototype.get_client_comm = function(plot_id, comm_id, msg_handler) {\n",
       "      if (comm_id in window.PyViz.comms) {\n",
       "        return window.PyViz.comms[comm_id];\n",
       "      } else if (window.comm_manager || ((window.Jupyter !== undefined) && (Jupyter.notebook.kernel != null))) {\n",
       "        var comm_manager = window.comm_manager || Jupyter.notebook.kernel.comm_manager;\n",
       "        var comm = comm_manager.new_comm(comm_id, {}, {}, {}, comm_id);\n",
       "        if (msg_handler) {\n",
       "          comm.on_msg(msg_handler);\n",
       "        }\n",
       "      } else if ((plot_id in window.PyViz.kernels) && (window.PyViz.kernels[plot_id])) {\n",
       "        var comm = window.PyViz.kernels[plot_id].connectToComm(comm_id);\n",
       "        comm.open();\n",
       "        if (msg_handler) {\n",
       "          comm.onMsg = msg_handler;\n",
       "        }\n",
       "      } else if (typeof google != 'undefined' && google.colab.kernel != null) {\n",
       "        var comm_promise = google.colab.kernel.comms.open(comm_id)\n",
       "        comm_promise.then((comm) => {\n",
       "          window.PyViz.comms[comm_id] = comm;\n",
       "          if (msg_handler) {\n",
       "            var messages = comm.messages[Symbol.asyncIterator]();\n",
       "            function processIteratorResult(result) {\n",
       "              var message = result.value;\n",
       "              var content = {data: message.data};\n",
       "              var metadata = message.metadata || {comm_id};\n",
       "              var msg = {content, metadata}\n",
       "              msg_handler(msg);\n",
       "              return messages.next().then(processIteratorResult);\n",
       "            }\n",
       "            return messages.next().then(processIteratorResult);\n",
       "          }\n",
       "        }) \n",
       "        var sendClosure = (data, metadata, buffers, disposeOnDone) => {\n",
       "          return comm_promise.then((comm) => {\n",
       "            comm.send(data, metadata, buffers, disposeOnDone);\n",
       "          });\n",
       "        };\n",
       "        var comm = {\n",
       "          send: sendClosure\n",
       "        };\n",
       "      }\n",
       "      window.PyViz.comms[comm_id] = comm;\n",
       "      return comm;\n",
       "    }\n",
       "    window.PyViz.comm_manager = new JupyterCommManager();\n",
       "    \n",
       "\n",
       "\n",
       "var JS_MIME_TYPE = 'application/javascript';\n",
       "var HTML_MIME_TYPE = 'text/html';\n",
       "var EXEC_MIME_TYPE = 'application/vnd.holoviews_exec.v0+json';\n",
       "var CLASS_NAME = 'output';\n",
       "\n",
       "/**\n",
       " * Render data to the DOM node\n",
       " */\n",
       "function render(props, node) {\n",
       "  var div = document.createElement(\"div\");\n",
       "  var script = document.createElement(\"script\");\n",
       "  node.appendChild(div);\n",
       "  node.appendChild(script);\n",
       "}\n",
       "\n",
       "/**\n",
       " * Handle when a new output is added\n",
       " */\n",
       "function handle_add_output(event, handle) {\n",
       "  var output_area = handle.output_area;\n",
       "  var output = handle.output;\n",
       "  if ((output.data == undefined) || (!output.data.hasOwnProperty(EXEC_MIME_TYPE))) {\n",
       "    return\n",
       "  }\n",
       "  var id = output.metadata[EXEC_MIME_TYPE][\"id\"];\n",
       "  var toinsert = output_area.element.find(\".\" + CLASS_NAME.split(' ')[0]);\n",
       "  if (id !== undefined) {\n",
       "    var nchildren = toinsert.length;\n",
       "    var html_node = toinsert[nchildren-1].children[0];\n",
       "    html_node.innerHTML = output.data[HTML_MIME_TYPE];\n",
       "    var scripts = [];\n",
       "    var nodelist = html_node.querySelectorAll(\"script\");\n",
       "    for (var i in nodelist) {\n",
       "      if (nodelist.hasOwnProperty(i)) {\n",
       "        scripts.push(nodelist[i])\n",
       "      }\n",
       "    }\n",
       "\n",
       "    scripts.forEach( function (oldScript) {\n",
       "      var newScript = document.createElement(\"script\");\n",
       "      var attrs = [];\n",
       "      var nodemap = oldScript.attributes;\n",
       "      for (var j in nodemap) {\n",
       "        if (nodemap.hasOwnProperty(j)) {\n",
       "          attrs.push(nodemap[j])\n",
       "        }\n",
       "      }\n",
       "      attrs.forEach(function(attr) { newScript.setAttribute(attr.name, attr.value) });\n",
       "      newScript.appendChild(document.createTextNode(oldScript.innerHTML));\n",
       "      oldScript.parentNode.replaceChild(newScript, oldScript);\n",
       "    });\n",
       "    if (JS_MIME_TYPE in output.data) {\n",
       "      toinsert[nchildren-1].children[1].textContent = output.data[JS_MIME_TYPE];\n",
       "    }\n",
       "    output_area._hv_plot_id = id;\n",
       "    if ((window.Bokeh !== undefined) && (id in Bokeh.index)) {\n",
       "      window.PyViz.plot_index[id] = Bokeh.index[id];\n",
       "    } else {\n",
       "      window.PyViz.plot_index[id] = null;\n",
       "    }\n",
       "  } else if (output.metadata[EXEC_MIME_TYPE][\"server_id\"] !== undefined) {\n",
       "    var bk_div = document.createElement(\"div\");\n",
       "    bk_div.innerHTML = output.data[HTML_MIME_TYPE];\n",
       "    var script_attrs = bk_div.children[0].attributes;\n",
       "    for (var i = 0; i < script_attrs.length; i++) {\n",
       "      toinsert[toinsert.length - 1].childNodes[1].setAttribute(script_attrs[i].name, script_attrs[i].value);\n",
       "    }\n",
       "    // store reference to server id on output_area\n",
       "    output_area._bokeh_server_id = output.metadata[EXEC_MIME_TYPE][\"server_id\"];\n",
       "  }\n",
       "}\n",
       "\n",
       "/**\n",
       " * Handle when an output is cleared or removed\n",
       " */\n",
       "function handle_clear_output(event, handle) {\n",
       "  var id = handle.cell.output_area._hv_plot_id;\n",
       "  var server_id = handle.cell.output_area._bokeh_server_id;\n",
       "  if (((id === undefined) || !(id in PyViz.plot_index)) && (server_id !== undefined)) { return; }\n",
       "  var comm = window.PyViz.comm_manager.get_client_comm(\"hv-extension-comm\", \"hv-extension-comm\", function () {});\n",
       "  if (server_id !== null) {\n",
       "    comm.send({event_type: 'server_delete', 'id': server_id});\n",
       "    return;\n",
       "  } else if (comm !== null) {\n",
       "    comm.send({event_type: 'delete', 'id': id});\n",
       "  }\n",
       "  delete PyViz.plot_index[id];\n",
       "  if ((window.Bokeh !== undefined) & (id in window.Bokeh.index)) {\n",
       "    var doc = window.Bokeh.index[id].model.document\n",
       "    doc.clear();\n",
       "    const i = window.Bokeh.documents.indexOf(doc);\n",
       "    if (i > -1) {\n",
       "      window.Bokeh.documents.splice(i, 1);\n",
       "    }\n",
       "  }\n",
       "}\n",
       "\n",
       "/**\n",
       " * Handle kernel restart event\n",
       " */\n",
       "function handle_kernel_cleanup(event, handle) {\n",
       "  delete PyViz.comms[\"hv-extension-comm\"];\n",
       "  window.PyViz.plot_index = {}\n",
       "}\n",
       "\n",
       "/**\n",
       " * Handle update_display_data messages\n",
       " */\n",
       "function handle_update_output(event, handle) {\n",
       "  handle_clear_output(event, {cell: {output_area: handle.output_area}})\n",
       "  handle_add_output(event, handle)\n",
       "}\n",
       "\n",
       "function register_renderer(events, OutputArea) {\n",
       "  function append_mime(data, metadata, element) {\n",
       "    // create a DOM node to render to\n",
       "    var toinsert = this.create_output_subarea(\n",
       "    metadata,\n",
       "    CLASS_NAME,\n",
       "    EXEC_MIME_TYPE\n",
       "    );\n",
       "    this.keyboard_manager.register_events(toinsert);\n",
       "    // Render to node\n",
       "    var props = {data: data, metadata: metadata[EXEC_MIME_TYPE]};\n",
       "    render(props, toinsert[0]);\n",
       "    element.append(toinsert);\n",
       "    return toinsert\n",
       "  }\n",
       "\n",
       "  events.on('output_added.OutputArea', handle_add_output);\n",
       "  events.on('output_updated.OutputArea', handle_update_output);\n",
       "  events.on('clear_output.CodeCell', handle_clear_output);\n",
       "  events.on('delete.Cell', handle_clear_output);\n",
       "  events.on('kernel_ready.Kernel', handle_kernel_cleanup);\n",
       "\n",
       "  OutputArea.prototype.register_mime_type(EXEC_MIME_TYPE, append_mime, {\n",
       "    safe: true,\n",
       "    index: 0\n",
       "  });\n",
       "}\n",
       "\n",
       "if (window.Jupyter !== undefined) {\n",
       "  try {\n",
       "    var events = require('base/js/events');\n",
       "    var OutputArea = require('notebook/js/outputarea').OutputArea;\n",
       "    if (OutputArea.prototype.mime_types().indexOf(EXEC_MIME_TYPE) == -1) {\n",
       "      register_renderer(events, OutputArea);\n",
       "    }\n",
       "  } catch(err) {\n",
       "  }\n",
       "}\n"
      ],
      "application/vnd.holoviews_load.v0+json": "\nif ((window.PyViz === undefined) || (window.PyViz instanceof HTMLElement)) {\n  window.PyViz = {comms: {}, comm_status:{}, kernels:{}, receivers: {}, plot_index: []}\n}\n\n\n    function JupyterCommManager() {\n    }\n\n    JupyterCommManager.prototype.register_target = function(plot_id, comm_id, msg_handler) {\n      if (window.comm_manager || ((window.Jupyter !== undefined) && (Jupyter.notebook.kernel != null))) {\n        var comm_manager = window.comm_manager || Jupyter.notebook.kernel.comm_manager;\n        comm_manager.register_target(comm_id, function(comm) {\n          comm.on_msg(msg_handler);\n        });\n      } else if ((plot_id in window.PyViz.kernels) && (window.PyViz.kernels[plot_id])) {\n        window.PyViz.kernels[plot_id].registerCommTarget(comm_id, function(comm) {\n          comm.onMsg = msg_handler;\n        });\n      } else if (typeof google != 'undefined' && google.colab.kernel != null) {\n        google.colab.kernel.comms.registerTarget(comm_id, (comm) => {\n          var messages = comm.messages[Symbol.asyncIterator]();\n          function processIteratorResult(result) {\n            var message = result.value;\n            console.log(message)\n            var content = {data: message.data, comm_id};\n            var buffers = []\n            for (var buffer of message.buffers || []) {\n              buffers.push(new DataView(buffer))\n            }\n            var metadata = message.metadata || {};\n            var msg = {content, buffers, metadata}\n            msg_handler(msg);\n            return messages.next().then(processIteratorResult);\n          }\n          return messages.next().then(processIteratorResult);\n        })\n      }\n    }\n\n    JupyterCommManager.prototype.get_client_comm = function(plot_id, comm_id, msg_handler) {\n      if (comm_id in window.PyViz.comms) {\n        return window.PyViz.comms[comm_id];\n      } else if (window.comm_manager || ((window.Jupyter !== undefined) && (Jupyter.notebook.kernel != null))) {\n        var comm_manager = window.comm_manager || Jupyter.notebook.kernel.comm_manager;\n        var comm = comm_manager.new_comm(comm_id, {}, {}, {}, comm_id);\n        if (msg_handler) {\n          comm.on_msg(msg_handler);\n        }\n      } else if ((plot_id in window.PyViz.kernels) && (window.PyViz.kernels[plot_id])) {\n        var comm = window.PyViz.kernels[plot_id].connectToComm(comm_id);\n        comm.open();\n        if (msg_handler) {\n          comm.onMsg = msg_handler;\n        }\n      } else if (typeof google != 'undefined' && google.colab.kernel != null) {\n        var comm_promise = google.colab.kernel.comms.open(comm_id)\n        comm_promise.then((comm) => {\n          window.PyViz.comms[comm_id] = comm;\n          if (msg_handler) {\n            var messages = comm.messages[Symbol.asyncIterator]();\n            function processIteratorResult(result) {\n              var message = result.value;\n              var content = {data: message.data};\n              var metadata = message.metadata || {comm_id};\n              var msg = {content, metadata}\n              msg_handler(msg);\n              return messages.next().then(processIteratorResult);\n            }\n            return messages.next().then(processIteratorResult);\n          }\n        }) \n        var sendClosure = (data, metadata, buffers, disposeOnDone) => {\n          return comm_promise.then((comm) => {\n            comm.send(data, metadata, buffers, disposeOnDone);\n          });\n        };\n        var comm = {\n          send: sendClosure\n        };\n      }\n      window.PyViz.comms[comm_id] = comm;\n      return comm;\n    }\n    window.PyViz.comm_manager = new JupyterCommManager();\n    \n\n\nvar JS_MIME_TYPE = 'application/javascript';\nvar HTML_MIME_TYPE = 'text/html';\nvar EXEC_MIME_TYPE = 'application/vnd.holoviews_exec.v0+json';\nvar CLASS_NAME = 'output';\n\n/**\n * Render data to the DOM node\n */\nfunction render(props, node) {\n  var div = document.createElement(\"div\");\n  var script = document.createElement(\"script\");\n  node.appendChild(div);\n  node.appendChild(script);\n}\n\n/**\n * Handle when a new output is added\n */\nfunction handle_add_output(event, handle) {\n  var output_area = handle.output_area;\n  var output = handle.output;\n  if ((output.data == undefined) || (!output.data.hasOwnProperty(EXEC_MIME_TYPE))) {\n    return\n  }\n  var id = output.metadata[EXEC_MIME_TYPE][\"id\"];\n  var toinsert = output_area.element.find(\".\" + CLASS_NAME.split(' ')[0]);\n  if (id !== undefined) {\n    var nchildren = toinsert.length;\n    var html_node = toinsert[nchildren-1].children[0];\n    html_node.innerHTML = output.data[HTML_MIME_TYPE];\n    var scripts = [];\n    var nodelist = html_node.querySelectorAll(\"script\");\n    for (var i in nodelist) {\n      if (nodelist.hasOwnProperty(i)) {\n        scripts.push(nodelist[i])\n      }\n    }\n\n    scripts.forEach( function (oldScript) {\n      var newScript = document.createElement(\"script\");\n      var attrs = [];\n      var nodemap = oldScript.attributes;\n      for (var j in nodemap) {\n        if (nodemap.hasOwnProperty(j)) {\n          attrs.push(nodemap[j])\n        }\n      }\n      attrs.forEach(function(attr) { newScript.setAttribute(attr.name, attr.value) });\n      newScript.appendChild(document.createTextNode(oldScript.innerHTML));\n      oldScript.parentNode.replaceChild(newScript, oldScript);\n    });\n    if (JS_MIME_TYPE in output.data) {\n      toinsert[nchildren-1].children[1].textContent = output.data[JS_MIME_TYPE];\n    }\n    output_area._hv_plot_id = id;\n    if ((window.Bokeh !== undefined) && (id in Bokeh.index)) {\n      window.PyViz.plot_index[id] = Bokeh.index[id];\n    } else {\n      window.PyViz.plot_index[id] = null;\n    }\n  } else if (output.metadata[EXEC_MIME_TYPE][\"server_id\"] !== undefined) {\n    var bk_div = document.createElement(\"div\");\n    bk_div.innerHTML = output.data[HTML_MIME_TYPE];\n    var script_attrs = bk_div.children[0].attributes;\n    for (var i = 0; i < script_attrs.length; i++) {\n      toinsert[toinsert.length - 1].childNodes[1].setAttribute(script_attrs[i].name, script_attrs[i].value);\n    }\n    // store reference to server id on output_area\n    output_area._bokeh_server_id = output.metadata[EXEC_MIME_TYPE][\"server_id\"];\n  }\n}\n\n/**\n * Handle when an output is cleared or removed\n */\nfunction handle_clear_output(event, handle) {\n  var id = handle.cell.output_area._hv_plot_id;\n  var server_id = handle.cell.output_area._bokeh_server_id;\n  if (((id === undefined) || !(id in PyViz.plot_index)) && (server_id !== undefined)) { return; }\n  var comm = window.PyViz.comm_manager.get_client_comm(\"hv-extension-comm\", \"hv-extension-comm\", function () {});\n  if (server_id !== null) {\n    comm.send({event_type: 'server_delete', 'id': server_id});\n    return;\n  } else if (comm !== null) {\n    comm.send({event_type: 'delete', 'id': id});\n  }\n  delete PyViz.plot_index[id];\n  if ((window.Bokeh !== undefined) & (id in window.Bokeh.index)) {\n    var doc = window.Bokeh.index[id].model.document\n    doc.clear();\n    const i = window.Bokeh.documents.indexOf(doc);\n    if (i > -1) {\n      window.Bokeh.documents.splice(i, 1);\n    }\n  }\n}\n\n/**\n * Handle kernel restart event\n */\nfunction handle_kernel_cleanup(event, handle) {\n  delete PyViz.comms[\"hv-extension-comm\"];\n  window.PyViz.plot_index = {}\n}\n\n/**\n * Handle update_display_data messages\n */\nfunction handle_update_output(event, handle) {\n  handle_clear_output(event, {cell: {output_area: handle.output_area}})\n  handle_add_output(event, handle)\n}\n\nfunction register_renderer(events, OutputArea) {\n  function append_mime(data, metadata, element) {\n    // create a DOM node to render to\n    var toinsert = this.create_output_subarea(\n    metadata,\n    CLASS_NAME,\n    EXEC_MIME_TYPE\n    );\n    this.keyboard_manager.register_events(toinsert);\n    // Render to node\n    var props = {data: data, metadata: metadata[EXEC_MIME_TYPE]};\n    render(props, toinsert[0]);\n    element.append(toinsert);\n    return toinsert\n  }\n\n  events.on('output_added.OutputArea', handle_add_output);\n  events.on('output_updated.OutputArea', handle_update_output);\n  events.on('clear_output.CodeCell', handle_clear_output);\n  events.on('delete.Cell', handle_clear_output);\n  events.on('kernel_ready.Kernel', handle_kernel_cleanup);\n\n  OutputArea.prototype.register_mime_type(EXEC_MIME_TYPE, append_mime, {\n    safe: true,\n    index: 0\n  });\n}\n\nif (window.Jupyter !== undefined) {\n  try {\n    var events = require('base/js/events');\n    var OutputArea = require('notebook/js/outputarea').OutputArea;\n    if (OutputArea.prototype.mime_types().indexOf(EXEC_MIME_TYPE) == -1) {\n      register_renderer(events, OutputArea);\n    }\n  } catch(err) {\n  }\n}\n"
     },
     "metadata": {},
     "output_type": "display_data"
    },
    {
     "data": {
      "application/vnd.holoviews_exec.v0+json": "",
      "text/html": [
       "<div id='8ebdf73e-db71-4106-b3b3-00df6a3528aa'>\n",
       "  <div id=\"bdac28c7-5460-41a4-8fb6-04d5d6d5b031\" data-root-id=\"8ebdf73e-db71-4106-b3b3-00df6a3528aa\" style=\"display: contents;\"></div>\n",
       "</div>\n",
       "<script type=\"application/javascript\">(function(root) {\n",
       "  var docs_json = {\"e5006eca-2ca3-4705-bc18-328d35b06993\":{\"version\":\"3.6.2\",\"title\":\"Bokeh Application\",\"roots\":[{\"type\":\"object\",\"name\":\"panel.models.browser.BrowserInfo\",\"id\":\"8ebdf73e-db71-4106-b3b3-00df6a3528aa\"},{\"type\":\"object\",\"name\":\"panel.models.comm_manager.CommManager\",\"id\":\"e5fdc2bb-0a5a-4e92-93d7-ab4ab6f77905\",\"attributes\":{\"plot_id\":\"8ebdf73e-db71-4106-b3b3-00df6a3528aa\",\"comm_id\":\"f2ed3d06b2034c3c8905166da2b67980\",\"client_comm_id\":\"cd35e5884bca426d9a0def6fde4c8be3\"}}],\"defs\":[{\"type\":\"model\",\"name\":\"ReactiveHTML1\"},{\"type\":\"model\",\"name\":\"FlexBox1\",\"properties\":[{\"name\":\"align_content\",\"kind\":\"Any\",\"default\":\"flex-start\"},{\"name\":\"align_items\",\"kind\":\"Any\",\"default\":\"flex-start\"},{\"name\":\"flex_direction\",\"kind\":\"Any\",\"default\":\"row\"},{\"name\":\"flex_wrap\",\"kind\":\"Any\",\"default\":\"wrap\"},{\"name\":\"gap\",\"kind\":\"Any\",\"default\":\"\"},{\"name\":\"justify_content\",\"kind\":\"Any\",\"default\":\"flex-start\"}]},{\"type\":\"model\",\"name\":\"FloatPanel1\",\"properties\":[{\"name\":\"config\",\"kind\":\"Any\",\"default\":{\"type\":\"map\"}},{\"name\":\"contained\",\"kind\":\"Any\",\"default\":true},{\"name\":\"position\",\"kind\":\"Any\",\"default\":\"right-top\"},{\"name\":\"offsetx\",\"kind\":\"Any\",\"default\":null},{\"name\":\"offsety\",\"kind\":\"Any\",\"default\":null},{\"name\":\"theme\",\"kind\":\"Any\",\"default\":\"primary\"},{\"name\":\"status\",\"kind\":\"Any\",\"default\":\"normalized\"}]},{\"type\":\"model\",\"name\":\"GridStack1\",\"properties\":[{\"name\":\"mode\",\"kind\":\"Any\",\"default\":\"warn\"},{\"name\":\"ncols\",\"kind\":\"Any\",\"default\":null},{\"name\":\"nrows\",\"kind\":\"Any\",\"default\":null},{\"name\":\"allow_resize\",\"kind\":\"Any\",\"default\":true},{\"name\":\"allow_drag\",\"kind\":\"Any\",\"default\":true},{\"name\":\"state\",\"kind\":\"Any\",\"default\":[]}]},{\"type\":\"model\",\"name\":\"drag1\",\"properties\":[{\"name\":\"slider_width\",\"kind\":\"Any\",\"default\":5},{\"name\":\"slider_color\",\"kind\":\"Any\",\"default\":\"black\"},{\"name\":\"value\",\"kind\":\"Any\",\"default\":50}]},{\"type\":\"model\",\"name\":\"click1\",\"properties\":[{\"name\":\"terminal_output\",\"kind\":\"Any\",\"default\":\"\"},{\"name\":\"debug_name\",\"kind\":\"Any\",\"default\":\"\"},{\"name\":\"clears\",\"kind\":\"Any\",\"default\":0}]},{\"type\":\"model\",\"name\":\"FastWrapper1\",\"properties\":[{\"name\":\"object\",\"kind\":\"Any\",\"default\":null},{\"name\":\"style\",\"kind\":\"Any\",\"default\":null}]},{\"type\":\"model\",\"name\":\"NotificationAreaBase1\",\"properties\":[{\"name\":\"js_events\",\"kind\":\"Any\",\"default\":{\"type\":\"map\"}},{\"name\":\"position\",\"kind\":\"Any\",\"default\":\"bottom-right\"},{\"name\":\"_clear\",\"kind\":\"Any\",\"default\":0}]},{\"type\":\"model\",\"name\":\"NotificationArea1\",\"properties\":[{\"name\":\"js_events\",\"kind\":\"Any\",\"default\":{\"type\":\"map\"}},{\"name\":\"notifications\",\"kind\":\"Any\",\"default\":[]},{\"name\":\"position\",\"kind\":\"Any\",\"default\":\"bottom-right\"},{\"name\":\"_clear\",\"kind\":\"Any\",\"default\":0},{\"name\":\"types\",\"kind\":\"Any\",\"default\":[{\"type\":\"map\",\"entries\":[[\"type\",\"warning\"],[\"background\",\"#ffc107\"],[\"icon\",{\"type\":\"map\",\"entries\":[[\"className\",\"fas fa-exclamation-triangle\"],[\"tagName\",\"i\"],[\"color\",\"white\"]]}]]},{\"type\":\"map\",\"entries\":[[\"type\",\"info\"],[\"background\",\"#007bff\"],[\"icon\",{\"type\":\"map\",\"entries\":[[\"className\",\"fas fa-info-circle\"],[\"tagName\",\"i\"],[\"color\",\"white\"]]}]]}]}]},{\"type\":\"model\",\"name\":\"Notification\",\"properties\":[{\"name\":\"background\",\"kind\":\"Any\",\"default\":null},{\"name\":\"duration\",\"kind\":\"Any\",\"default\":3000},{\"name\":\"icon\",\"kind\":\"Any\",\"default\":null},{\"name\":\"message\",\"kind\":\"Any\",\"default\":\"\"},{\"name\":\"notification_type\",\"kind\":\"Any\",\"default\":null},{\"name\":\"_rendered\",\"kind\":\"Any\",\"default\":false},{\"name\":\"_destroyed\",\"kind\":\"Any\",\"default\":false}]},{\"type\":\"model\",\"name\":\"TemplateActions1\",\"properties\":[{\"name\":\"open_modal\",\"kind\":\"Any\",\"default\":0},{\"name\":\"close_modal\",\"kind\":\"Any\",\"default\":0}]},{\"type\":\"model\",\"name\":\"BootstrapTemplateActions1\",\"properties\":[{\"name\":\"open_modal\",\"kind\":\"Any\",\"default\":0},{\"name\":\"close_modal\",\"kind\":\"Any\",\"default\":0}]},{\"type\":\"model\",\"name\":\"TemplateEditor1\",\"properties\":[{\"name\":\"layout\",\"kind\":\"Any\",\"default\":[]}]},{\"type\":\"model\",\"name\":\"MaterialTemplateActions1\",\"properties\":[{\"name\":\"open_modal\",\"kind\":\"Any\",\"default\":0},{\"name\":\"close_modal\",\"kind\":\"Any\",\"default\":0}]},{\"type\":\"model\",\"name\":\"ReactiveESM1\",\"properties\":[{\"name\":\"esm_constants\",\"kind\":\"Any\",\"default\":{\"type\":\"map\"}}]},{\"type\":\"model\",\"name\":\"JSComponent1\",\"properties\":[{\"name\":\"esm_constants\",\"kind\":\"Any\",\"default\":{\"type\":\"map\"}}]},{\"type\":\"model\",\"name\":\"ReactComponent1\",\"properties\":[{\"name\":\"esm_constants\",\"kind\":\"Any\",\"default\":{\"type\":\"map\"}}]},{\"type\":\"model\",\"name\":\"AnyWidgetComponent1\",\"properties\":[{\"name\":\"esm_constants\",\"kind\":\"Any\",\"default\":{\"type\":\"map\"}}]},{\"type\":\"model\",\"name\":\"request_value1\",\"properties\":[{\"name\":\"fill\",\"kind\":\"Any\",\"default\":\"none\"},{\"name\":\"_synced\",\"kind\":\"Any\",\"default\":null},{\"name\":\"_request_sync\",\"kind\":\"Any\",\"default\":0}]}]}};\n",
       "  var render_items = [{\"docid\":\"e5006eca-2ca3-4705-bc18-328d35b06993\",\"roots\":{\"8ebdf73e-db71-4106-b3b3-00df6a3528aa\":\"bdac28c7-5460-41a4-8fb6-04d5d6d5b031\"},\"root_ids\":[\"8ebdf73e-db71-4106-b3b3-00df6a3528aa\"]}];\n",
       "  var docs = Object.values(docs_json)\n",
       "  if (!docs) {\n",
       "    return\n",
       "  }\n",
       "  const py_version = docs[0].version.replace('rc', '-rc.').replace('.dev', '-dev.')\n",
       "  async function embed_document(root) {\n",
       "    var Bokeh = get_bokeh(root)\n",
       "    await Bokeh.embed.embed_items_notebook(docs_json, render_items);\n",
       "    for (const render_item of render_items) {\n",
       "      for (const root_id of render_item.root_ids) {\n",
       "\tconst id_el = document.getElementById(root_id)\n",
       "\tif (id_el.children.length && id_el.children[0].hasAttribute('data-root-id')) {\n",
       "\t  const root_el = id_el.children[0]\n",
       "\t  root_el.id = root_el.id + '-rendered'\n",
       "\t  for (const child of root_el.children) {\n",
       "            // Ensure JupyterLab does not capture keyboard shortcuts\n",
       "            // see: https://jupyterlab.readthedocs.io/en/4.1.x/extension/notebook.html#keyboard-interaction-model\n",
       "\t    child.setAttribute('data-lm-suppress-shortcuts', 'true')\n",
       "\t  }\n",
       "\t}\n",
       "      }\n",
       "    }\n",
       "  }\n",
       "  function get_bokeh(root) {\n",
       "    if (root.Bokeh === undefined) {\n",
       "      return null\n",
       "    } else if (root.Bokeh.version !== py_version) {\n",
       "      if (root.Bokeh.versions === undefined || !root.Bokeh.versions.has(py_version)) {\n",
       "\treturn null\n",
       "      }\n",
       "      return root.Bokeh.versions.get(py_version);\n",
       "    } else if (root.Bokeh.version === py_version) {\n",
       "      return root.Bokeh\n",
       "    }\n",
       "    return null\n",
       "  }\n",
       "  function is_loaded(root) {\n",
       "    var Bokeh = get_bokeh(root)\n",
       "    return (Bokeh != null && Bokeh.Panel !== undefined)\n",
       "  }\n",
       "  if (is_loaded(root)) {\n",
       "    embed_document(root);\n",
       "  } else {\n",
       "    var attempts = 0;\n",
       "    var timer = setInterval(function(root) {\n",
       "      if (is_loaded(root)) {\n",
       "        clearInterval(timer);\n",
       "        embed_document(root);\n",
       "      } else if (document.readyState == \"complete\") {\n",
       "        attempts++;\n",
       "        if (attempts > 200) {\n",
       "          clearInterval(timer);\n",
       "\t  var Bokeh = get_bokeh(root)\n",
       "\t  if (Bokeh == null || Bokeh.Panel == null) {\n",
       "            console.warn(\"Panel: ERROR: Unable to run Panel code because Bokeh or Panel library is missing\");\n",
       "\t  } else {\n",
       "\t    console.warn(\"Panel: WARNING: Attempting to render but not all required libraries could be resolved.\")\n",
       "\t    embed_document(root)\n",
       "\t  }\n",
       "        }\n",
       "      }\n",
       "    }, 25, root)\n",
       "  }\n",
       "})(window);</script>"
      ]
     },
     "metadata": {
      "application/vnd.holoviews_exec.v0+json": {
       "id": "8ebdf73e-db71-4106-b3b3-00df6a3528aa"
      }
     },
     "output_type": "display_data"
    }
   ],
   "source": [
    "#### import sys\n",
    "import numpy as np\n",
    "import cv2\n",
    "from time import sleep\n",
    "from datetime import datetime\n",
    "import os\n",
    "import numpy as np\n",
    "from matplotlib import pyplot as plt\n",
    "from pandas import read_csv, read_excel, DataFrame\n",
    "from sklearn.mixture import GaussianMixture\n",
    "from sklearn.preprocessing import StandardScaler\n",
    "import matplotlib.pyplot as plt\n",
    "from sklearn.linear_model import  LinearRegression\n",
    "from sklearn.pipeline import make_pipeline\n",
    "import pickle\n",
    "from sklearn.preprocessing import PolynomialFeatures\n",
    "import logging\n",
    "import hvplot.pandas\n",
    "logging.basicConfig(level=logging.INFO)\n",
    "p1 = os.path.join('../../','raw','CookIRCamET','Images','NsarIRCal')\n",
    "p3 = os.path.join('../../','raw','CookIRCamET','Images','CprlIRCal')\n",
    "p5 = os.path.join('../../','raw','CookIRCamET','Images','NsarIRCalFlir2')\n",
    "p7 = os.path.join('../../','raw','CookIRCamET','Images','NsarIRCalFlir3')\n",
    "p9 = os.path.join('../../','raw','CookIRCamET','Images','NsarIRCalFlirV2')\n",
    "p11 = os.path.join('../../','raw','CookIRCamET','Images','NsarIRCalFlirField')\n",
    "p13 = os.path.join('../../','raw','CookIRCamET','Images','NsarIRCalFlirV3')\n",
    "p15 = os.path.join('/90daydata/nsaru','raw','CookIRCamET','Images','CprlIRCalV3')\n",
    "p17 = os.path.join('/90daydata/nsaru','work','CookIRCamET','Working')"
   ]
  },
  {
   "cell_type": "code",
   "execution_count": null,
   "id": "03001b3b-8da9-47e1-b877-f8bd3963d0c1",
   "metadata": {
    "tags": []
   },
   "outputs": [],
   "source": [
    "files = []\n",
    "temps = []\n",
    "pixes = []\n",
    "for f in os.listdir(p15):\n",
    "    if 'ir' in f:\n",
    "        files.append(f)\n",
    "        temps.append(float(f.split('_')[0]+'.'+f.split('_')[1])+273.15)\n",
    "        if temps[-1]-273.15<25:\n",
    "            tempwin = cv2.imread(os.path.join(p15,f),cv2.IMREAD_UNCHANGED)[90-10:90+10,80-10:80+10]\n",
    "        elif temps[-1]-273.15>25:\n",
    "            tempwin = cv2.imread(os.path.join(p15,f),cv2.IMREAD_UNCHANGED)[50-10:50+10,101-10:101+10]\n",
    "        pixes.append(np.mean(tempwin))\n",
    "        \n",
    "raw_vals = np.array(pixes)\n",
    "raw_temps = np.array(temps)\n",
    "order = np.argsort(raw_vals)"
   ]
  },
  {
   "cell_type": "code",
   "execution_count": 72,
   "id": "214edb65-ec89-499f-b767-aef6d2fb7150",
   "metadata": {
    "tags": []
   },
   "outputs": [],
   "source": [
    "raw_vals = raw_vals[order]\n",
    "raw_temps = raw_temps[order]"
   ]
  },
  {
   "cell_type": "code",
   "execution_count": 73,
   "id": "cf0fbc69-f0bd-4276-9506-afa20ff789d4",
   "metadata": {
    "tags": []
   },
   "outputs": [],
   "source": [
    "raw_vals = raw_vals[raw_temps<301]\n",
    "raw_temps = raw_temps[raw_temps<301]"
   ]
  },
  {
   "cell_type": "code",
   "execution_count": 74,
   "id": "17f9baa4-91a2-44b5-b9d3-1330e296bbbb",
   "metadata": {
    "tags": []
   },
   "outputs": [],
   "source": [
    "fit1 = LinearRegression().fit(raw_vals[raw_temps<288].reshape(-1,1),raw_temps[raw_temps<288].reshape(-1,1))\n",
    "fit2 = LinearRegression().fit(raw_vals[(raw_temps>=288) & (raw_temps<=296)].reshape(-1,1),raw_temps[(raw_temps>=288) & (raw_temps<=296)].reshape(-1,1))\n",
    "fit3 = LinearRegression().fit(raw_vals[raw_temps>296].reshape(-1,1),raw_temps[raw_temps>296].reshape(-1,1))"
   ]
  },
  {
   "cell_type": "code",
   "execution_count": 75,
   "id": "74a3afac-b878-43bb-9071-96a112699922",
   "metadata": {
    "tags": []
   },
   "outputs": [
    {
     "data": {
      "text/plain": [
       "(array([[0.01091766]]),\n",
       " array([[0.01925118]]),\n",
       " array([[0.00880147]]),\n",
       " array([-46.75818195]),\n",
       " array([-302.40465789]),\n",
       " array([23.84508168]))"
      ]
     },
     "execution_count": 75,
     "metadata": {},
     "output_type": "execute_result"
    }
   ],
   "source": [
    "fit1.coef_[[0]],fit2.coef_,fit3.coef_,fit1.intercept_,fit2.intercept_,fit3.intercept_"
   ]
  },
  {
   "cell_type": "code",
   "execution_count": 76,
   "id": "3c005c1c-41be-46f1-bb23-6dca1630e042",
   "metadata": {
    "tags": []
   },
   "outputs": [],
   "source": [
    "I0 = (fit1.intercept_[0]-fit2.intercept_[0])/(fit2.coef_[0][0]-fit1.coef_[0][0])"
   ]
  },
  {
   "cell_type": "code",
   "execution_count": 77,
   "id": "2c0e0f2e-0ade-48ab-911f-d6eb964bf894",
   "metadata": {
    "tags": []
   },
   "outputs": [],
   "source": [
    "I1 = (fit2.intercept_[0]-fit3.intercept_[0])/(fit3.coef_[0][0]-fit2.coef_[0][0])"
   ]
  },
  {
   "cell_type": "code",
   "execution_count": 78,
   "id": "64f3f9e9-dcf1-4672-9b79-de84f5350852",
   "metadata": {
    "tags": []
   },
   "outputs": [],
   "source": [
    "df = DataFrame({'raw':raw_vals,'temp':raw_temps,\n",
    "                'fit1_temp':fit1.predict(raw_vals.reshape(-1,1)).reshape(-1),\n",
    "                'fit2_temp':fit2.predict(raw_vals.reshape(-1,1)).reshape(-1),\n",
    "                'fit3_temp':fit3.predict(raw_vals.reshape(-1,1)).reshape(-1)})"
   ]
  },
  {
   "cell_type": "code",
   "execution_count": 79,
   "id": "5aac15f5-92f0-44be-9c7f-77e13ce01883",
   "metadata": {
    "tags": []
   },
   "outputs": [],
   "source": [
    "fit_temp = np.piecewise(raw_vals, [raw_vals < I0, (raw_vals>=I0) & (raw_vals<I1), raw_vals>=I1], [lambda x: fit1.intercept_[0]+fit1.coef_[0][0]*x, lambda x: fit2.intercept_[0]+fit2.coef_[0][0]*x, lambda x: fit3.intercept_[0]+fit3.coef_[0][0]*x])"
   ]
  },
  {
   "cell_type": "code",
   "execution_count": 80,
   "id": "bec09b1a-f9a9-438e-a9eb-046ae8f5e28f",
   "metadata": {
    "tags": []
   },
   "outputs": [],
   "source": [
    "df['fit_temp']=fit_temp"
   ]
  },
  {
   "cell_type": "code",
   "execution_count": 81,
   "id": "acfe1627-c2a1-40e9-be58-2efc52a7cd53",
   "metadata": {
    "tags": []
   },
   "outputs": [],
   "source": [
    "with open(os.path.join(p17,'calibration_cprl_pwlf.pk.sav'), 'wb') as f:  # Python 3: open(..., 'wb'\n",
    "    pickle.dump([fit1, fit2, fit3, I0, I1], f)"
   ]
  },
  {
   "cell_type": "code",
   "execution_count": 85,
   "id": "72566e9d-ad2d-4646-98d6-2ee57162f1af",
   "metadata": {
    "tags": []
   },
   "outputs": [
    {
     "data": {},
     "metadata": {},
     "output_type": "display_data"
    },
    {
     "data": {
      "application/vnd.holoviews_exec.v0+json": "",
      "text/html": [
       "<div id='7f4757bf-c258-42d4-abde-346b46f1000d'>\n",
       "  <div id=\"f8d74310-b067-461d-bc70-04171dd261b1\" data-root-id=\"7f4757bf-c258-42d4-abde-346b46f1000d\" style=\"display: contents;\"></div>\n",
       "</div>\n",
       "<script type=\"application/javascript\">(function(root) {\n",
       "  var docs_json = {\"596a5e1d-3f22-4bda-a4d0-5225dc81ac97\":{\"version\":\"3.6.2\",\"title\":\"Bokeh Application\",\"roots\":[{\"type\":\"object\",\"name\":\"Row\",\"id\":\"7f4757bf-c258-42d4-abde-346b46f1000d\",\"attributes\":{\"name\":\"Row01705\",\"tags\":[\"embedded\"],\"stylesheets\":[\"\\n:host(.pn-loading):before, .pn-loading:before {\\n  background-color: #c3c3c3;\\n  mask-size: auto calc(min(50%, 400px));\\n  -webkit-mask-size: auto calc(min(50%, 400px));\\n}\",{\"type\":\"object\",\"name\":\"ImportedStyleSheet\",\"id\":\"eedfcc69-ac05-4963-9010-147edf4d9a1d\",\"attributes\":{\"url\":\"https://cdn.holoviz.org/panel/1.5.5/dist/css/loading.css\"}},{\"type\":\"object\",\"name\":\"ImportedStyleSheet\",\"id\":\"1b0e7bd5-e2bf-4f6d-88a9-03fb78edcac2\",\"attributes\":{\"url\":\"https://cdn.holoviz.org/panel/1.5.5/dist/css/listpanel.css\"}},{\"type\":\"object\",\"name\":\"ImportedStyleSheet\",\"id\":\"26df14c6-5439-4ac8-bb19-fbda1b7df373\",\"attributes\":{\"url\":\"https://cdn.holoviz.org/panel/1.5.5/dist/bundled/theme/default.css\"}},{\"type\":\"object\",\"name\":\"ImportedStyleSheet\",\"id\":\"18a2498e-8f56-49aa-9b34-cad8f2f2a7be\",\"attributes\":{\"url\":\"https://cdn.holoviz.org/panel/1.5.5/dist/bundled/theme/native.css\"}}],\"min_width\":700,\"margin\":0,\"sizing_mode\":\"stretch_width\",\"align\":\"start\",\"children\":[{\"type\":\"object\",\"name\":\"Spacer\",\"id\":\"1bdb681e-ffab-4894-949f-16fa056b97c8\",\"attributes\":{\"name\":\"HSpacer01709\",\"stylesheets\":[\"\\n:host(.pn-loading):before, .pn-loading:before {\\n  background-color: #c3c3c3;\\n  mask-size: auto calc(min(50%, 400px));\\n  -webkit-mask-size: auto calc(min(50%, 400px));\\n}\",{\"id\":\"eedfcc69-ac05-4963-9010-147edf4d9a1d\"},{\"id\":\"26df14c6-5439-4ac8-bb19-fbda1b7df373\"},{\"id\":\"18a2498e-8f56-49aa-9b34-cad8f2f2a7be\"}],\"margin\":0,\"sizing_mode\":\"stretch_width\",\"align\":\"start\"}},{\"type\":\"object\",\"name\":\"Figure\",\"id\":\"e736fda5-5616-4c23-b629-e25e4c903966\",\"attributes\":{\"width\":700,\"height\":300,\"margin\":[5,10],\"sizing_mode\":\"fixed\",\"align\":\"start\",\"x_range\":{\"type\":\"object\",\"name\":\"Range1d\",\"id\":\"4e408d9a-d4b0-45cd-b467-1615d076478d\",\"attributes\":{\"name\":\"raw\",\"tags\":[[[\"raw\",null]],[]],\"start\":30269.049107142855,\"end\":31566.518392857146,\"reset_start\":30269.049107142855,\"reset_end\":31566.518392857146}},\"y_range\":{\"type\":\"object\",\"name\":\"Range1d\",\"id\":\"03f54de8-edb5-4c72-ba49-8d7960cbb3ad\",\"attributes\":{\"name\":\"temp\",\"tags\":[[[\"value\",null]],{\"type\":\"map\",\"entries\":[[\"invert_yaxis\",false],[\"autorange\",false]]}],\"start\":282.5524031195652,\"end\":302.9235656847828,\"reset_start\":282.5524031195652,\"reset_end\":302.9235656847828}},\"x_scale\":{\"type\":\"object\",\"name\":\"LinearScale\",\"id\":\"5f870a58-b19d-48ae-9bce-0fac6b80c993\"},\"y_scale\":{\"type\":\"object\",\"name\":\"LinearScale\",\"id\":\"d1cc6d67-e95c-4247-ba9f-9953f0de4d93\"},\"title\":{\"type\":\"object\",\"name\":\"Title\",\"id\":\"593a370b-e7c8-4f28-a717-b99611c9b75f\",\"attributes\":{\"text_color\":\"black\",\"text_font_size\":\"12pt\"}},\"renderers\":[{\"type\":\"object\",\"name\":\"GlyphRenderer\",\"id\":\"a4f229f0-5dce-49c0-9055-a0c6537e7f2f\",\"attributes\":{\"name\":\"temp\",\"data_source\":{\"type\":\"object\",\"name\":\"ColumnDataSource\",\"id\":\"6599c140-f4e7-4bd9-b834-4cad27184396\",\"attributes\":{\"selected\":{\"type\":\"object\",\"name\":\"Selection\",\"id\":\"d03b4c70-0008-4ed3-af77-9fb2e9174e79\",\"attributes\":{\"indices\":[],\"line_indices\":[]}},\"selection_policy\":{\"type\":\"object\",\"name\":\"UnionRenderers\",\"id\":\"a11f6a7e-ab44-4855-a3c7-450544b2ef24\"},\"data\":{\"type\":\"map\",\"entries\":[[\"raw\",{\"type\":\"ndarray\",\"array\":{\"type\":\"bytes\",\"data\":\"XI/C9RCc3UCuR+F6bKHdQHsUrkdZq91AXI/C9Xit3UD2KFyPErjdQDMzMzO7vd1AmpmZmVXE3UB7FK5HLdLdQK5H4XoM0t1AFK5H4b7Y3UDXo3A9duPdQOxRuB4V7N1A9ihcj87t3UDsUbgeif7dQI/C9SjcBN5AexSuRx0I3kDsUbgeUQ3eQD0K16O8E95ASOF6FHod3kAAAAAARCLeQBSuR+FmK95A9ihcj84w3kAzMzMzNzHeQDMzMzMvP95A9ihcj6JD3kB7FK5HkVHeQLgeheshRN5ACtejcJVX3kBxPQrXj0neQK5H4XoQTt5AH4XrUTRY3kDD9Shc08beQPYoXI9Wut5AexSuR51l3kDXo3A94qbeQI/C9Sjkrt5AexSuR5GZ3kBI4XoUxnveQLgehet5mN5A\"},\"shape\":[39],\"dtype\":\"float64\",\"order\":\"little\"}],[\"temp\",{\"type\":\"ndarray\",\"array\":{\"type\":\"bytes\",\"data\":\"AAAAAADEcUDMzMzMzMhxQJmZmZmZzXFAZmZmZmbScUAzMzMzM9dxQAAAAAAA3HFAzMzMzMzgcUBmZmZmZupxQJmZmZmZ5XFAzMzMzMzwcUAzMzMzM/dxQMzMzMzMAHJAZmZmZmYCckDMzMzMzAhyQMzMzMzMEHJAzMzMzMwYckAzMzMzMx9yQDMzMzMzJ3JAMzMzMzMvckAzMzMzMzdyQJmZmZmZPXJAmZmZmZlFckAzMzMzM09yQDMzMzMzV3JAMzMzMzNfckCZmZmZmYVyQMzMzMzMaHJAMzMzMzOPckBmZmZmZnJyQAAAAAAAfHJAzMzMzMyYckAzMzMzM89yQMzMzMzMyHJAzMzMzMygckDMzMzMzMByQJmZmZmZxXJAmZmZmZm9ckDMzMzMzLhyQGZmZmZmunJA\"},\"shape\":[39],\"dtype\":\"float64\",\"order\":\"little\"}],[\"Variable\",[\"temp\",\"temp\",\"temp\",\"temp\",\"temp\",\"temp\",\"temp\",\"temp\",\"temp\",\"temp\",\"temp\",\"temp\",\"temp\",\"temp\",\"temp\",\"temp\",\"temp\",\"temp\",\"temp\",\"temp\",\"temp\",\"temp\",\"temp\",\"temp\",\"temp\",\"temp\",\"temp\",\"temp\",\"temp\",\"temp\",\"temp\",\"temp\",\"temp\",\"temp\",\"temp\",\"temp\",\"temp\",\"temp\",\"temp\"]]]}}},\"view\":{\"type\":\"object\",\"name\":\"CDSView\",\"id\":\"3fb11d57-6df7-49e9-9f5a-125f1fc2038d\",\"attributes\":{\"filter\":{\"type\":\"object\",\"name\":\"AllIndices\",\"id\":\"95601398-a5f9-40b9-bcc1-915adba9ec2a\"}}},\"glyph\":{\"type\":\"object\",\"name\":\"Scatter\",\"id\":\"f4cb7ca5-82a5-4c11-a393-48c557093292\",\"attributes\":{\"tags\":[\"apply_ranges\"],\"x\":{\"type\":\"field\",\"field\":\"raw\"},\"y\":{\"type\":\"field\",\"field\":\"temp\"},\"size\":{\"type\":\"value\",\"value\":5.477225575051661},\"line_color\":{\"type\":\"value\",\"value\":\"#30a2da\"},\"fill_color\":{\"type\":\"value\",\"value\":\"#30a2da\"},\"hatch_color\":{\"type\":\"value\",\"value\":\"#30a2da\"}}},\"selection_glyph\":{\"type\":\"object\",\"name\":\"Scatter\",\"id\":\"fde86b38-4ac6-403d-9f8b-193fca9986cb\",\"attributes\":{\"tags\":[\"apply_ranges\"],\"x\":{\"type\":\"field\",\"field\":\"raw\"},\"y\":{\"type\":\"field\",\"field\":\"temp\"},\"size\":{\"type\":\"value\",\"value\":5.477225575051661},\"angle\":{\"type\":\"value\",\"value\":0.0},\"line_color\":{\"type\":\"value\",\"value\":\"#30a2da\"},\"line_alpha\":{\"type\":\"value\",\"value\":1.0},\"line_width\":{\"type\":\"value\",\"value\":1},\"line_join\":{\"type\":\"value\",\"value\":\"bevel\"},\"line_cap\":{\"type\":\"value\",\"value\":\"butt\"},\"line_dash\":{\"type\":\"value\",\"value\":[]},\"line_dash_offset\":{\"type\":\"value\",\"value\":0},\"fill_color\":{\"type\":\"value\",\"value\":\"#30a2da\"},\"fill_alpha\":{\"type\":\"value\",\"value\":1.0},\"hatch_color\":{\"type\":\"value\",\"value\":\"#30a2da\"},\"hatch_alpha\":{\"type\":\"value\",\"value\":1.0},\"hatch_scale\":{\"type\":\"value\",\"value\":12.0},\"hatch_pattern\":{\"type\":\"value\",\"value\":null},\"hatch_weight\":{\"type\":\"value\",\"value\":1.0},\"marker\":{\"type\":\"value\",\"value\":\"circle\"}}},\"nonselection_glyph\":{\"type\":\"object\",\"name\":\"Scatter\",\"id\":\"cd7f2052-1e72-4f1a-a28a-09c3afbfa495\",\"attributes\":{\"tags\":[\"apply_ranges\"],\"x\":{\"type\":\"field\",\"field\":\"raw\"},\"y\":{\"type\":\"field\",\"field\":\"temp\"},\"size\":{\"type\":\"value\",\"value\":5.477225575051661},\"line_color\":{\"type\":\"value\",\"value\":\"#30a2da\"},\"line_alpha\":{\"type\":\"value\",\"value\":0.1},\"fill_color\":{\"type\":\"value\",\"value\":\"#30a2da\"},\"fill_alpha\":{\"type\":\"value\",\"value\":0.1},\"hatch_color\":{\"type\":\"value\",\"value\":\"#30a2da\"},\"hatch_alpha\":{\"type\":\"value\",\"value\":0.1}}},\"muted_glyph\":{\"type\":\"object\",\"name\":\"Scatter\",\"id\":\"eb480e32-9fb8-49ff-af6d-203fa7f18975\",\"attributes\":{\"tags\":[\"apply_ranges\"],\"x\":{\"type\":\"field\",\"field\":\"raw\"},\"y\":{\"type\":\"field\",\"field\":\"temp\"},\"size\":{\"type\":\"value\",\"value\":5.477225575051661},\"line_color\":{\"type\":\"value\",\"value\":\"#30a2da\"},\"line_alpha\":{\"type\":\"value\",\"value\":0.2},\"fill_color\":{\"type\":\"value\",\"value\":\"#30a2da\"},\"fill_alpha\":{\"type\":\"value\",\"value\":0.2},\"hatch_color\":{\"type\":\"value\",\"value\":\"#30a2da\"},\"hatch_alpha\":{\"type\":\"value\",\"value\":0.2}}}}},{\"type\":\"object\",\"name\":\"GlyphRenderer\",\"id\":\"f6b4b58f-7a1d-4e14-bc66-5829ef6c47e4\",\"attributes\":{\"name\":\"fit_temp\",\"data_source\":{\"type\":\"object\",\"name\":\"ColumnDataSource\",\"id\":\"38fc2138-f1a8-4bd5-81fc-2acc3225fd44\",\"attributes\":{\"selected\":{\"type\":\"object\",\"name\":\"Selection\",\"id\":\"5f47c192-c0af-4ebf-a523-f1a5dc9c1976\",\"attributes\":{\"indices\":[],\"line_indices\":[]}},\"selection_policy\":{\"type\":\"object\",\"name\":\"UnionRenderers\",\"id\":\"4f99dceb-a832-45ac-8183-08367ab1daec\"},\"data\":{\"type\":\"map\",\"entries\":[[\"raw\",{\"type\":\"ndarray\",\"array\":{\"type\":\"bytes\",\"data\":\"XI/C9RCc3UCuR+F6bKHdQHsUrkdZq91AXI/C9Xit3UD2KFyPErjdQDMzMzO7vd1AmpmZmVXE3UB7FK5HLdLdQK5H4XoM0t1AFK5H4b7Y3UDXo3A9duPdQOxRuB4V7N1A9ihcj87t3UDsUbgeif7dQI/C9SjcBN5AexSuRx0I3kDsUbgeUQ3eQD0K16O8E95ASOF6FHod3kAAAAAARCLeQBSuR+FmK95A9ihcj84w3kAzMzMzNzHeQDMzMzMvP95A9ihcj6JD3kB7FK5HkVHeQLgeheshRN5ACtejcJVX3kBxPQrXj0neQK5H4XoQTt5AH4XrUTRY3kDD9Shc08beQPYoXI9Wut5AexSuR51l3kDXo3A94qbeQI/C9Sjkrt5AexSuR5GZ3kBI4XoUxnveQLgehet5mN5A\"},\"shape\":[39],\"dtype\":\"float64\",\"order\":\"little\"}],[\"fit_temp\",{\"type\":\"ndarray\",\"array\":{\"type\":\"bytes\",\"data\":\"6wkg5UnEcUCCPJg3CMhxQKj84Iz3znFALj+Sb3PQcUBMGW+C29dxQObhu7fP23FApOTS2WzgcUAOsSTtGOpxQKUiDAIC6nFA4GEi6a/ucUAWNVDHLPZxQIbxssoy/HFAamA5PWf9cUB0sTjtDw5yQHKi1rTaFXJAAOlaLN0ZckBe9NMZRiByQL4StwovKHJA6KoHJi80ckDOhiGTFTpyQHoUd0BXRXJAbvjcDABMckDeKIL5gExyQOwJjeC2XXJAouekpzJjckDAT6sfXXRyQMyGb5LPY3JAuDyjt8Z7ckAAJgAPgGpyQJy5wTIMcHJA7AMyeIp8ckB0CXeRndNyQN9Gk9SUzHJAvNHLIhCNckBZrlZyn8FyQNcpbScixnJA+ZZKMx+6ckCIuGN0XahyQAQ7rdaBuXJA\"},\"shape\":[39],\"dtype\":\"float64\",\"order\":\"little\"}],[\"Variable\",[\"fit_temp\",\"fit_temp\",\"fit_temp\",\"fit_temp\",\"fit_temp\",\"fit_temp\",\"fit_temp\",\"fit_temp\",\"fit_temp\",\"fit_temp\",\"fit_temp\",\"fit_temp\",\"fit_temp\",\"fit_temp\",\"fit_temp\",\"fit_temp\",\"fit_temp\",\"fit_temp\",\"fit_temp\",\"fit_temp\",\"fit_temp\",\"fit_temp\",\"fit_temp\",\"fit_temp\",\"fit_temp\",\"fit_temp\",\"fit_temp\",\"fit_temp\",\"fit_temp\",\"fit_temp\",\"fit_temp\",\"fit_temp\",\"fit_temp\",\"fit_temp\",\"fit_temp\",\"fit_temp\",\"fit_temp\",\"fit_temp\",\"fit_temp\"]]]}}},\"view\":{\"type\":\"object\",\"name\":\"CDSView\",\"id\":\"2b18b61c-2ec5-4a38-a116-bbad1654111f\",\"attributes\":{\"filter\":{\"type\":\"object\",\"name\":\"AllIndices\",\"id\":\"6dbd3eeb-e2a2-4200-8d26-01b215e266a5\"}}},\"glyph\":{\"type\":\"object\",\"name\":\"Scatter\",\"id\":\"c38a02dc-cdbc-48d3-b052-2418d95fb742\",\"attributes\":{\"tags\":[\"apply_ranges\"],\"x\":{\"type\":\"field\",\"field\":\"raw\"},\"y\":{\"type\":\"field\",\"field\":\"fit_temp\"},\"size\":{\"type\":\"value\",\"value\":5.477225575051661},\"line_color\":{\"type\":\"value\",\"value\":\"#fc4f30\"},\"fill_color\":{\"type\":\"value\",\"value\":\"#fc4f30\"},\"hatch_color\":{\"type\":\"value\",\"value\":\"#fc4f30\"}}},\"selection_glyph\":{\"type\":\"object\",\"name\":\"Scatter\",\"id\":\"cd4ac912-2ba4-4ae0-b038-dfeae165b72e\",\"attributes\":{\"tags\":[\"apply_ranges\"],\"x\":{\"type\":\"field\",\"field\":\"raw\"},\"y\":{\"type\":\"field\",\"field\":\"fit_temp\"},\"size\":{\"type\":\"value\",\"value\":5.477225575051661},\"angle\":{\"type\":\"value\",\"value\":0.0},\"line_color\":{\"type\":\"value\",\"value\":\"#fc4f30\"},\"line_alpha\":{\"type\":\"value\",\"value\":1.0},\"line_width\":{\"type\":\"value\",\"value\":1},\"line_join\":{\"type\":\"value\",\"value\":\"bevel\"},\"line_cap\":{\"type\":\"value\",\"value\":\"butt\"},\"line_dash\":{\"type\":\"value\",\"value\":[]},\"line_dash_offset\":{\"type\":\"value\",\"value\":0},\"fill_color\":{\"type\":\"value\",\"value\":\"#fc4f30\"},\"fill_alpha\":{\"type\":\"value\",\"value\":1.0},\"hatch_color\":{\"type\":\"value\",\"value\":\"#fc4f30\"},\"hatch_alpha\":{\"type\":\"value\",\"value\":1.0},\"hatch_scale\":{\"type\":\"value\",\"value\":12.0},\"hatch_pattern\":{\"type\":\"value\",\"value\":null},\"hatch_weight\":{\"type\":\"value\",\"value\":1.0},\"marker\":{\"type\":\"value\",\"value\":\"circle\"}}},\"nonselection_glyph\":{\"type\":\"object\",\"name\":\"Scatter\",\"id\":\"cd041a40-8064-4df8-8de1-93dac043d2e4\",\"attributes\":{\"tags\":[\"apply_ranges\"],\"x\":{\"type\":\"field\",\"field\":\"raw\"},\"y\":{\"type\":\"field\",\"field\":\"fit_temp\"},\"size\":{\"type\":\"value\",\"value\":5.477225575051661},\"line_color\":{\"type\":\"value\",\"value\":\"#fc4f30\"},\"line_alpha\":{\"type\":\"value\",\"value\":0.1},\"fill_color\":{\"type\":\"value\",\"value\":\"#fc4f30\"},\"fill_alpha\":{\"type\":\"value\",\"value\":0.1},\"hatch_color\":{\"type\":\"value\",\"value\":\"#fc4f30\"},\"hatch_alpha\":{\"type\":\"value\",\"value\":0.1}}},\"muted_glyph\":{\"type\":\"object\",\"name\":\"Scatter\",\"id\":\"73972672-98b9-483e-94b1-07043865beae\",\"attributes\":{\"tags\":[\"apply_ranges\"],\"x\":{\"type\":\"field\",\"field\":\"raw\"},\"y\":{\"type\":\"field\",\"field\":\"fit_temp\"},\"size\":{\"type\":\"value\",\"value\":5.477225575051661},\"line_color\":{\"type\":\"value\",\"value\":\"#fc4f30\"},\"line_alpha\":{\"type\":\"value\",\"value\":0.2},\"fill_color\":{\"type\":\"value\",\"value\":\"#fc4f30\"},\"fill_alpha\":{\"type\":\"value\",\"value\":0.2},\"hatch_color\":{\"type\":\"value\",\"value\":\"#fc4f30\"},\"hatch_alpha\":{\"type\":\"value\",\"value\":0.2}}}}}],\"toolbar\":{\"type\":\"object\",\"name\":\"Toolbar\",\"id\":\"81367a7a-17af-4cad-afad-a9102b06aca7\",\"attributes\":{\"tools\":[{\"type\":\"object\",\"name\":\"WheelZoomTool\",\"id\":\"3705d12b-082e-4b64-9703-62e87d717ac8\",\"attributes\":{\"tags\":[\"hv_created\"],\"renderers\":\"auto\",\"zoom_together\":\"none\"}},{\"type\":\"object\",\"name\":\"HoverTool\",\"id\":\"a828df1b-637a-4669-ad87-d11c4823ba26\",\"attributes\":{\"tags\":[\"hv_created\"],\"renderers\":[{\"id\":\"a4f229f0-5dce-49c0-9055-a0c6537e7f2f\"}],\"tooltips\":[[\"Variable\",\"@{Variable}\"],[\"raw\",\"@{raw}\"],[\"value\",\"@{temp}\"]]}},{\"type\":\"object\",\"name\":\"HoverTool\",\"id\":\"89960b43-86fd-4652-91e1-ff3bc830066a\",\"attributes\":{\"tags\":[\"hv_created\"],\"renderers\":[{\"id\":\"f6b4b58f-7a1d-4e14-bc66-5829ef6c47e4\"}],\"tooltips\":[[\"Variable\",\"@{Variable}\"],[\"raw\",\"@{raw}\"],[\"value\",\"@{fit_temp}\"]]}},{\"type\":\"object\",\"name\":\"SaveTool\",\"id\":\"ecf7c8d7-8393-4bf9-9a9f-100d027f2e7d\"},{\"type\":\"object\",\"name\":\"PanTool\",\"id\":\"98ee3944-180f-489c-a47a-aebca5bc309e\"},{\"type\":\"object\",\"name\":\"BoxZoomTool\",\"id\":\"09c155cd-fa23-4578-8285-27e7c7fa7efd\",\"attributes\":{\"overlay\":{\"type\":\"object\",\"name\":\"BoxAnnotation\",\"id\":\"dd129019-72be-4374-9ee1-a518970b8139\",\"attributes\":{\"syncable\":false,\"line_color\":\"black\",\"line_alpha\":1.0,\"line_width\":2,\"line_dash\":[4,4],\"fill_color\":\"lightgrey\",\"fill_alpha\":0.5,\"level\":\"overlay\",\"visible\":false,\"left\":{\"type\":\"number\",\"value\":\"nan\"},\"right\":{\"type\":\"number\",\"value\":\"nan\"},\"top\":{\"type\":\"number\",\"value\":\"nan\"},\"bottom\":{\"type\":\"number\",\"value\":\"nan\"},\"left_units\":\"canvas\",\"right_units\":\"canvas\",\"top_units\":\"canvas\",\"bottom_units\":\"canvas\",\"handles\":{\"type\":\"object\",\"name\":\"BoxInteractionHandles\",\"id\":\"af97d8f5-613e-45c2-ad87-36f7744fa55e\",\"attributes\":{\"all\":{\"type\":\"object\",\"name\":\"AreaVisuals\",\"id\":\"689c9439-aa68-4070-81eb-b8a693dce866\",\"attributes\":{\"fill_color\":\"white\",\"hover_fill_color\":\"lightgray\"}}}}}}}},{\"type\":\"object\",\"name\":\"ResetTool\",\"id\":\"99387fff-53b8-439d-8dde-a7566fa826e3\"}],\"active_drag\":{\"id\":\"98ee3944-180f-489c-a47a-aebca5bc309e\"},\"active_scroll\":{\"id\":\"3705d12b-082e-4b64-9703-62e87d717ac8\"}}},\"left\":[{\"type\":\"object\",\"name\":\"LinearAxis\",\"id\":\"ec87d07d-31c3-4df8-bfc3-2b43857b8a6d\",\"attributes\":{\"ticker\":{\"type\":\"object\",\"name\":\"BasicTicker\",\"id\":\"4cffdb4a-3649-40f9-9920-52f5ccb39b4a\",\"attributes\":{\"mantissas\":[1,2,5]}},\"formatter\":{\"type\":\"object\",\"name\":\"BasicTickFormatter\",\"id\":\"ab49df55-181a-4d15-9534-aac2d9a3ffb0\"},\"axis_label\":\"\",\"major_label_policy\":{\"type\":\"object\",\"name\":\"AllLabels\",\"id\":\"93e52f88-bae3-41fa-9641-7f3ab4697e3c\"}}}],\"right\":[{\"type\":\"object\",\"name\":\"Legend\",\"id\":\"f05e4c99-6997-4d2c-aac5-2d878b50937c\",\"attributes\":{\"location\":[0,0],\"title\":\"Variable\",\"click_policy\":\"mute\",\"items\":[{\"type\":\"object\",\"name\":\"LegendItem\",\"id\":\"448d2c13-034d-41d8-a804-e4ee6ae05136\",\"attributes\":{\"label\":{\"type\":\"value\",\"value\":\"temp\"},\"renderers\":[{\"id\":\"a4f229f0-5dce-49c0-9055-a0c6537e7f2f\"}]}},{\"type\":\"object\",\"name\":\"LegendItem\",\"id\":\"1ba55afd-b098-4c30-9d81-9225b61416e7\",\"attributes\":{\"label\":{\"type\":\"value\",\"value\":\"fit_temp\"},\"renderers\":[{\"id\":\"f6b4b58f-7a1d-4e14-bc66-5829ef6c47e4\"}]}}]}}],\"below\":[{\"type\":\"object\",\"name\":\"LinearAxis\",\"id\":\"dcb0c29d-5a11-4586-bd49-4b714c04432c\",\"attributes\":{\"ticker\":{\"type\":\"object\",\"name\":\"BasicTicker\",\"id\":\"07aed5a4-174b-4431-bbe7-19661c20359c\",\"attributes\":{\"mantissas\":[1,2,5]}},\"formatter\":{\"type\":\"object\",\"name\":\"BasicTickFormatter\",\"id\":\"69108ae6-da5b-4acc-b118-ff10f4e37bfa\"},\"axis_label\":\"raw\",\"major_label_policy\":{\"type\":\"object\",\"name\":\"AllLabels\",\"id\":\"623e6c0f-012b-4670-90a4-9809078ace33\"}}}],\"center\":[{\"type\":\"object\",\"name\":\"Grid\",\"id\":\"481cf90b-57f7-4321-99a5-d7de38896dfd\",\"attributes\":{\"axis\":{\"id\":\"dcb0c29d-5a11-4586-bd49-4b714c04432c\"},\"grid_line_color\":null}},{\"type\":\"object\",\"name\":\"Grid\",\"id\":\"037ac636-35ad-4184-b8c2-eee80165642f\",\"attributes\":{\"dimension\":1,\"axis\":{\"id\":\"ec87d07d-31c3-4df8-bfc3-2b43857b8a6d\"},\"grid_line_color\":null}}],\"min_border_top\":10,\"min_border_bottom\":10,\"min_border_left\":10,\"min_border_right\":10,\"output_backend\":\"webgl\"}},{\"type\":\"object\",\"name\":\"Spacer\",\"id\":\"72dd3d2a-ee9d-4bbd-9672-86febc089616\",\"attributes\":{\"name\":\"HSpacer01710\",\"stylesheets\":[\"\\n:host(.pn-loading):before, .pn-loading:before {\\n  background-color: #c3c3c3;\\n  mask-size: auto calc(min(50%, 400px));\\n  -webkit-mask-size: auto calc(min(50%, 400px));\\n}\",{\"id\":\"eedfcc69-ac05-4963-9010-147edf4d9a1d\"},{\"id\":\"26df14c6-5439-4ac8-bb19-fbda1b7df373\"},{\"id\":\"18a2498e-8f56-49aa-9b34-cad8f2f2a7be\"}],\"margin\":0,\"sizing_mode\":\"stretch_width\",\"align\":\"start\"}}]}}],\"defs\":[{\"type\":\"model\",\"name\":\"ReactiveHTML1\"},{\"type\":\"model\",\"name\":\"FlexBox1\",\"properties\":[{\"name\":\"align_content\",\"kind\":\"Any\",\"default\":\"flex-start\"},{\"name\":\"align_items\",\"kind\":\"Any\",\"default\":\"flex-start\"},{\"name\":\"flex_direction\",\"kind\":\"Any\",\"default\":\"row\"},{\"name\":\"flex_wrap\",\"kind\":\"Any\",\"default\":\"wrap\"},{\"name\":\"gap\",\"kind\":\"Any\",\"default\":\"\"},{\"name\":\"justify_content\",\"kind\":\"Any\",\"default\":\"flex-start\"}]},{\"type\":\"model\",\"name\":\"FloatPanel1\",\"properties\":[{\"name\":\"config\",\"kind\":\"Any\",\"default\":{\"type\":\"map\"}},{\"name\":\"contained\",\"kind\":\"Any\",\"default\":true},{\"name\":\"position\",\"kind\":\"Any\",\"default\":\"right-top\"},{\"name\":\"offsetx\",\"kind\":\"Any\",\"default\":null},{\"name\":\"offsety\",\"kind\":\"Any\",\"default\":null},{\"name\":\"theme\",\"kind\":\"Any\",\"default\":\"primary\"},{\"name\":\"status\",\"kind\":\"Any\",\"default\":\"normalized\"}]},{\"type\":\"model\",\"name\":\"GridStack1\",\"properties\":[{\"name\":\"mode\",\"kind\":\"Any\",\"default\":\"warn\"},{\"name\":\"ncols\",\"kind\":\"Any\",\"default\":null},{\"name\":\"nrows\",\"kind\":\"Any\",\"default\":null},{\"name\":\"allow_resize\",\"kind\":\"Any\",\"default\":true},{\"name\":\"allow_drag\",\"kind\":\"Any\",\"default\":true},{\"name\":\"state\",\"kind\":\"Any\",\"default\":[]}]},{\"type\":\"model\",\"name\":\"drag1\",\"properties\":[{\"name\":\"slider_width\",\"kind\":\"Any\",\"default\":5},{\"name\":\"slider_color\",\"kind\":\"Any\",\"default\":\"black\"},{\"name\":\"value\",\"kind\":\"Any\",\"default\":50}]},{\"type\":\"model\",\"name\":\"click1\",\"properties\":[{\"name\":\"terminal_output\",\"kind\":\"Any\",\"default\":\"\"},{\"name\":\"debug_name\",\"kind\":\"Any\",\"default\":\"\"},{\"name\":\"clears\",\"kind\":\"Any\",\"default\":0}]},{\"type\":\"model\",\"name\":\"FastWrapper1\",\"properties\":[{\"name\":\"object\",\"kind\":\"Any\",\"default\":null},{\"name\":\"style\",\"kind\":\"Any\",\"default\":null}]},{\"type\":\"model\",\"name\":\"NotificationAreaBase1\",\"properties\":[{\"name\":\"js_events\",\"kind\":\"Any\",\"default\":{\"type\":\"map\"}},{\"name\":\"position\",\"kind\":\"Any\",\"default\":\"bottom-right\"},{\"name\":\"_clear\",\"kind\":\"Any\",\"default\":0}]},{\"type\":\"model\",\"name\":\"NotificationArea1\",\"properties\":[{\"name\":\"js_events\",\"kind\":\"Any\",\"default\":{\"type\":\"map\"}},{\"name\":\"notifications\",\"kind\":\"Any\",\"default\":[]},{\"name\":\"position\",\"kind\":\"Any\",\"default\":\"bottom-right\"},{\"name\":\"_clear\",\"kind\":\"Any\",\"default\":0},{\"name\":\"types\",\"kind\":\"Any\",\"default\":[{\"type\":\"map\",\"entries\":[[\"type\",\"warning\"],[\"background\",\"#ffc107\"],[\"icon\",{\"type\":\"map\",\"entries\":[[\"className\",\"fas fa-exclamation-triangle\"],[\"tagName\",\"i\"],[\"color\",\"white\"]]}]]},{\"type\":\"map\",\"entries\":[[\"type\",\"info\"],[\"background\",\"#007bff\"],[\"icon\",{\"type\":\"map\",\"entries\":[[\"className\",\"fas fa-info-circle\"],[\"tagName\",\"i\"],[\"color\",\"white\"]]}]]}]}]},{\"type\":\"model\",\"name\":\"Notification\",\"properties\":[{\"name\":\"background\",\"kind\":\"Any\",\"default\":null},{\"name\":\"duration\",\"kind\":\"Any\",\"default\":3000},{\"name\":\"icon\",\"kind\":\"Any\",\"default\":null},{\"name\":\"message\",\"kind\":\"Any\",\"default\":\"\"},{\"name\":\"notification_type\",\"kind\":\"Any\",\"default\":null},{\"name\":\"_rendered\",\"kind\":\"Any\",\"default\":false},{\"name\":\"_destroyed\",\"kind\":\"Any\",\"default\":false}]},{\"type\":\"model\",\"name\":\"TemplateActions1\",\"properties\":[{\"name\":\"open_modal\",\"kind\":\"Any\",\"default\":0},{\"name\":\"close_modal\",\"kind\":\"Any\",\"default\":0}]},{\"type\":\"model\",\"name\":\"BootstrapTemplateActions1\",\"properties\":[{\"name\":\"open_modal\",\"kind\":\"Any\",\"default\":0},{\"name\":\"close_modal\",\"kind\":\"Any\",\"default\":0}]},{\"type\":\"model\",\"name\":\"TemplateEditor1\",\"properties\":[{\"name\":\"layout\",\"kind\":\"Any\",\"default\":[]}]},{\"type\":\"model\",\"name\":\"MaterialTemplateActions1\",\"properties\":[{\"name\":\"open_modal\",\"kind\":\"Any\",\"default\":0},{\"name\":\"close_modal\",\"kind\":\"Any\",\"default\":0}]},{\"type\":\"model\",\"name\":\"ReactiveESM1\",\"properties\":[{\"name\":\"esm_constants\",\"kind\":\"Any\",\"default\":{\"type\":\"map\"}}]},{\"type\":\"model\",\"name\":\"JSComponent1\",\"properties\":[{\"name\":\"esm_constants\",\"kind\":\"Any\",\"default\":{\"type\":\"map\"}}]},{\"type\":\"model\",\"name\":\"ReactComponent1\",\"properties\":[{\"name\":\"esm_constants\",\"kind\":\"Any\",\"default\":{\"type\":\"map\"}}]},{\"type\":\"model\",\"name\":\"AnyWidgetComponent1\",\"properties\":[{\"name\":\"esm_constants\",\"kind\":\"Any\",\"default\":{\"type\":\"map\"}}]},{\"type\":\"model\",\"name\":\"request_value1\",\"properties\":[{\"name\":\"fill\",\"kind\":\"Any\",\"default\":\"none\"},{\"name\":\"_synced\",\"kind\":\"Any\",\"default\":null},{\"name\":\"_request_sync\",\"kind\":\"Any\",\"default\":0}]}]}};\n",
       "  var render_items = [{\"docid\":\"596a5e1d-3f22-4bda-a4d0-5225dc81ac97\",\"roots\":{\"7f4757bf-c258-42d4-abde-346b46f1000d\":\"f8d74310-b067-461d-bc70-04171dd261b1\"},\"root_ids\":[\"7f4757bf-c258-42d4-abde-346b46f1000d\"]}];\n",
       "  var docs = Object.values(docs_json)\n",
       "  if (!docs) {\n",
       "    return\n",
       "  }\n",
       "  const py_version = docs[0].version.replace('rc', '-rc.').replace('.dev', '-dev.')\n",
       "  async function embed_document(root) {\n",
       "    var Bokeh = get_bokeh(root)\n",
       "    await Bokeh.embed.embed_items_notebook(docs_json, render_items);\n",
       "    for (const render_item of render_items) {\n",
       "      for (const root_id of render_item.root_ids) {\n",
       "\tconst id_el = document.getElementById(root_id)\n",
       "\tif (id_el.children.length && id_el.children[0].hasAttribute('data-root-id')) {\n",
       "\t  const root_el = id_el.children[0]\n",
       "\t  root_el.id = root_el.id + '-rendered'\n",
       "\t  for (const child of root_el.children) {\n",
       "            // Ensure JupyterLab does not capture keyboard shortcuts\n",
       "            // see: https://jupyterlab.readthedocs.io/en/4.1.x/extension/notebook.html#keyboard-interaction-model\n",
       "\t    child.setAttribute('data-lm-suppress-shortcuts', 'true')\n",
       "\t  }\n",
       "\t}\n",
       "      }\n",
       "    }\n",
       "  }\n",
       "  function get_bokeh(root) {\n",
       "    if (root.Bokeh === undefined) {\n",
       "      return null\n",
       "    } else if (root.Bokeh.version !== py_version) {\n",
       "      if (root.Bokeh.versions === undefined || !root.Bokeh.versions.has(py_version)) {\n",
       "\treturn null\n",
       "      }\n",
       "      return root.Bokeh.versions.get(py_version);\n",
       "    } else if (root.Bokeh.version === py_version) {\n",
       "      return root.Bokeh\n",
       "    }\n",
       "    return null\n",
       "  }\n",
       "  function is_loaded(root) {\n",
       "    var Bokeh = get_bokeh(root)\n",
       "    return (Bokeh != null && Bokeh.Panel !== undefined)\n",
       "  }\n",
       "  if (is_loaded(root)) {\n",
       "    embed_document(root);\n",
       "  } else {\n",
       "    var attempts = 0;\n",
       "    var timer = setInterval(function(root) {\n",
       "      if (is_loaded(root)) {\n",
       "        clearInterval(timer);\n",
       "        embed_document(root);\n",
       "      } else if (document.readyState == \"complete\") {\n",
       "        attempts++;\n",
       "        if (attempts > 200) {\n",
       "          clearInterval(timer);\n",
       "\t  var Bokeh = get_bokeh(root)\n",
       "\t  if (Bokeh == null || Bokeh.Panel == null) {\n",
       "            console.warn(\"Panel: ERROR: Unable to run Panel code because Bokeh or Panel library is missing\");\n",
       "\t  } else {\n",
       "\t    console.warn(\"Panel: WARNING: Attempting to render but not all required libraries could be resolved.\")\n",
       "\t    embed_document(root)\n",
       "\t  }\n",
       "        }\n",
       "      }\n",
       "    }, 25, root)\n",
       "  }\n",
       "})(window);</script>"
      ],
      "text/plain": [
       ":NdOverlay   [Variable]\n",
       "   :Scatter   [raw]   (value)"
      ]
     },
     "execution_count": 85,
     "metadata": {
      "application/vnd.holoviews_exec.v0+json": {
       "id": "7f4757bf-c258-42d4-abde-346b46f1000d"
      }
     },
     "output_type": "execute_result"
    }
   ],
   "source": [
    "df.hvplot.scatter(x='raw',y=['temp','fit_temp'])"
   ]
  },
  {
   "cell_type": "code",
   "execution_count": 84,
   "id": "cb64187f-c725-4a11-8c7a-04c0d22c69a7",
   "metadata": {
    "tags": []
   },
   "outputs": [],
   "source": [
    "filename = os.path.join(p17,'calibration_cprl_lf_v3.pk.sav')\n",
    "import pickle\n",
    "with open(filename, 'wb') as f:\n",
    "    pickle.dump(fit2, f)"
   ]
  },
  {
   "cell_type": "code",
   "execution_count": null,
   "id": "6058a276-aabe-47be-9a30-97ae71776f46",
   "metadata": {
    "tags": []
   },
   "outputs": [],
   "source": [
    "import logging\n",
    "import traceback\n",
    "logging.basicConfig(level=logging.INFO)\n",
    "from utils_segmentation import *\n",
    "\n",
    "#cal_nsar_v0 = pickle.load(open(os.path.join(p3,'calibration_nsar1.pk.sav'), 'rb'))#20220705\n",
    "#cal_nsar_v1 = pickle.load(open(os.path.join(p3,'calibration_nsar2.pk.sav'), 'rb'))#20221122\n",
    "#cal_nsar_v2 = pickle.load(open(os.path.join(p3,'calibration_nsar3.pk.sav'), 'rb'))#20230315\n",
    "[model0,model1,model2,I0,I1] = pickle.load(open(os.path.join(p3,'calibration_nsar_pwlf.pk.sav'), 'rb'))#V3\n",
    "#[model0_v3,model1_v3,model2_v3,I0_v3,I1_v3] = pickle.load(open(os.path.join(p3,'calibration_nsar_pwlf_v3.pk.sav'), 'rb'))#V3\n",
    "cal_nsar_v3 = pickle.load(open(os.path.join(p3,'calibration_nsar_lf_v3.pk.sav'), 'rb'))#V3\n",
    "cal_cprl_v3 = pickle.load(open(os.path.join(p3,'calibration_cprl_lf_v3.pk.sav'), 'rb'))#V3\n",
    "\n",
    "cal_cprl = pickle.load(open(os.path.join(p3,'calibration_cprl1.pk.sav'), 'rb'))#20230305\n",
    "\n",
    "\n",
    "print('%3.4fx%3.4f'%(cal_cprl.coef_[0][0],cal_cprl.intercept_))\n",
    "print('%3.4fx%3.4f'%(cal_cprl_v3.coef_[0][0],cal_cprl_v3.intercept_))\n",
    "#print('%3.4fx%3.4f'%(cal_nsar_v2.coef_[0][0],cal_nsar_v2.intercept_))\n",
    "print('%3.4fx%3.4f'%(cal_nsar_v3.coef_[0][0],cal_nsar_v3.intercept_))\n",
    "print('%3.4fx+%3.4f x<%3.4f'%(model0.coef_[0][0],model0.intercept_,I0))\n",
    "print('%3.5fx+%3.4f %3.5f<=x<%3.4f'%(model1.coef_[0][0],model1.intercept_,I0,I1))\n",
    "print('%3.4fx+%3.4f x>=%3.4f'%(model2.coef_[0][0],model2.intercept_,I1))"
   ]
  },
  {
   "cell_type": "code",
   "execution_count": null,
   "id": "611b91ad-40ec-4359-9d90-dcc274590891",
   "metadata": {
    "tags": []
   },
   "outputs": [],
   "source": [
    "stop_dates_cprl_v3 = pd.read_excel(os.path.join(p11,'StartStopDates.xlsx'),dtype={'Start':str,'Stop':str}).Stop.str.strip(\"'\").values.tolist()\n"
   ]
  },
  {
   "cell_type": "raw",
   "id": "fc367df9-a8c8-4845-8182-860e1317ea28",
   "metadata": {
    "tags": []
   },
   "source": [
    "bgr_5_9 = cv2.imread(os.path.join(p1,'cal_5_9_bgr.png'),cv2.IMREAD_UNCHANGED)\n",
    "ir_5_9 = cv2.imread(os.path.join(p1,'cal_5_9_ir.png'),cv2.IMREAD_UNCHANGED)\n",
    "bgr_7_0 = cv2.imread(os.path.join(p1,'cal_7_0_bgr.png'),cv2.IMREAD_UNCHANGED)\n",
    "ir_7_0 = cv2.imread(os.path.join(p1,'cal_7_0_ir.png'),cv2.IMREAD_UNCHANGED)\n",
    "bgr_7_2 = cv2.imread(os.path.join(p1,'cal_7_2_bgr.png'),cv2.IMREAD_UNCHANGED)\n",
    "ir_7_2 = cv2.imread(os.path.join(p1,'cal_7_2_ir.png'),cv2.IMREAD_UNCHANGED)\n",
    "bgr_7_5 = cv2.imread(os.path.join(p1,'cal_7_5_bgr.png'),cv2.IMREAD_UNCHANGED)\n",
    "ir_7_5 = cv2.imread(os.path.join(p1,'cal_7_5_ir.png'),cv2.IMREAD_UNCHANGED)\n",
    "\n",
    "bgr_35_4 = cv2.imread(os.path.join(p1,'cal_35_4_bgr.png'),cv2.IMREAD_UNCHANGED)\n",
    "ir_35_4 = cv2.imread(os.path.join(p1,'cal_35_4_ir.png'),cv2.IMREAD_UNCHANGED)\n",
    "bgr_36_2 = cv2.imread(os.path.join(p1,'cal_36_2_bgr.png'),cv2.IMREAD_UNCHANGED)\n",
    "ir_36_2 = cv2.imread(os.path.join(p1,'cal_36_2_ir.png'),cv2.IMREAD_UNCHANGED)\n",
    "bgr_37_1 = cv2.imread(os.path.join(p1,'cal_37_1_bgr.png'),cv2.IMREAD_UNCHANGED)\n",
    "ir_37_1 = cv2.imread(os.path.join(p1,'cal_37_1_ir.png'),cv2.IMREAD_UNCHANGED)\n",
    "bgr_38_0 = cv2.imread(os.path.join(p1,'cal_38_0_bgr.png'),cv2.IMREAD_UNCHANGED)\n",
    "ir_38_0 = cv2.imread(os.path.join(p1,'cal_38_0_ir.png'),cv2.IMREAD_UNCHANGED)\n",
    "bgr_39_4 = cv2.imread(os.path.join(p1,'cal_39_4_bgr.png'),cv2.IMREAD_UNCHANGED)\n",
    "ir_39_4 = cv2.imread(os.path.join(p1,'cal_39_4_ir.png'),cv2.IMREAD_UNCHANGED)\n"
   ]
  },
  {
   "cell_type": "raw",
   "id": "f4ba0747-b464-43f4-8c54-c3f048484ad7",
   "metadata": {
    "jupyter": {
     "source_hidden": true
    },
    "tags": []
   },
   "source": [
    "bgr_20_0 = cv2.imread(os.path.join(p3,'20220430170628_nofix_20C_bgr.png'),cv2.IMREAD_UNCHANGED)\n",
    "ir_20_0 = cv2.imread(os.path.join(p3,'20220430170628_nofix_20C_ir.png'),cv2.IMREAD_UNCHANGED)\n",
    "bgr_25_0 = cv2.imread(os.path.join(p3,'20220430170937_nofix_25C_bgr.png'),cv2.IMREAD_UNCHANGED)\n",
    "ir_25_0 = cv2.imread(os.path.join(p3,'20220430170937_nofix_25C_ir.png'),cv2.IMREAD_UNCHANGED)\n",
    "bgr_30_0 = cv2.imread(os.path.join(p3,'20220430171240_nofix_30C_bgr.png'),cv2.IMREAD_UNCHANGED)\n",
    "ir_30_0 = cv2.imread(os.path.join(p3,'20220430171240_nofix_30C_ir.png'),cv2.IMREAD_UNCHANGED)\n",
    "bgr_35_0 = cv2.imread(os.path.join(p3,'20220430171612_nofix_35C_bgr.png'),cv2.IMREAD_UNCHANGED)\n",
    "ir_35_0 = cv2.imread(os.path.join(p3,'20220430171612_nofix_35C_ir.png'),cv2.IMREAD_UNCHANGED)\n"
   ]
  },
  {
   "cell_type": "raw",
   "id": "2cb482a8-2143-4d34-ad9b-1da69e3de7be",
   "metadata": {
    "jupyter": {
     "source_hidden": true
    },
    "tags": []
   },
   "source": [
    "bgr_38_8 = cv2.imread(os.path.join(p5,'20220705200229_38_8_bgr.png'),cv2.IMREAD_UNCHANGED)\n",
    "ir_38_8 = cv2.imread(os.path.join(p5,'20220705200229_38_8_ir.png'),cv2.IMREAD_UNCHANGED)\n",
    "flir_max = np.max(np.max(ir_38_8))\n",
    "i,j=np.where(ir_38_8==flir_max)\n",
    "j=j+1\n",
    "i=i+4\n",
    "t_ir_flir=[]\n",
    "t_meas_flir=[]\n",
    "for f in os.listdir(p5):\n",
    "    if '_ir' in f:\n",
    "        ir = cv2.imread(os.path.join(p5,f),cv2.IMREAD_UNCHANGED)\n",
    "        t_ir_flir.append(np.mean(ir[int(i)-3:int(i)+3,int(j)-3:int(j)+3]))\n",
    "        t_meas_flir.append(int(f.split('_')[1])+int(f.split('_')[2])/10) \n",
    "        plt.imshow(ir[int(i)-9:int(i)+9,int(j)-9:int(j)+9])\n",
    "        plt.show()"
   ]
  },
  {
   "cell_type": "raw",
   "id": "fea78a70-2198-4d40-a4ac-6818c3d7fa1a",
   "metadata": {
    "jupyter": {
     "source_hidden": true
    },
    "tags": []
   },
   "source": [
    "t_meas_flir=np.array(t_meas_flir).reshape(-1,1)+273.15\n",
    "t_ir_flir=np.array(t_ir_flir).reshape(-1,1)"
   ]
  },
  {
   "cell_type": "raw",
   "id": "03e89f2a-b74f-485b-9c74-cda46ef978cb",
   "metadata": {
    "jupyter": {
     "source_hidden": true
    },
    "tags": []
   },
   "source": [
    "i,j=np.where(ir_5_9==np.min(np.min(ir_5_9)))\n",
    "t_5_9=np.mean(ir_5_9[int(i)-5:int(i)+5,int(j)-5:int(j)+5])\n",
    "\n",
    "i,j=np.where(ir_7_0==np.min(np.min(ir_7_0)))\n",
    "t_7_0=np.mean(ir_7_0[int(i)-5:int(i)+5,int(j)-5:int(j)+5])\n",
    "\n",
    "i,j=np.where(ir_7_2==np.min(np.min(ir_7_2)))\n",
    "t_7_2=np.mean(ir_7_2[int(i)-5:int(i)+5,int(j)-5:int(j)+5])\n",
    "\n",
    "i,j=np.where(ir_7_5==np.min(np.min(ir_7_5)))\n",
    "t_7_5=np.mean(ir_7_5[int(i)-5:int(i)+5,int(j)-5:int(j)+5])\n"
   ]
  },
  {
   "cell_type": "raw",
   "id": "ac32702a-724b-4783-b479-a55197fe0624",
   "metadata": {
    "jupyter": {
     "source_hidden": true
    },
    "tags": []
   },
   "source": [
    "i,j=np.where(ir_39_4==np.max(np.max(ir_39_4)))\n",
    "t_39_4=np.mean(ir_39_4[int(i)-5:int(i)+5,int(j)-5:int(j)+5])\n",
    "\n",
    "i,j=np.where(ir_38_0==np.max(np.max(ir_38_0)))\n",
    "t_38_0=np.mean(ir_38_0[int(i)-5:int(i)+5,int(j)-5:int(j)+5])\n",
    "\n",
    "i,j=np.where(ir_37_1==np.max(np.max(ir_37_1)))\n",
    "t_37_1=np.mean(ir_37_1[int(i)-5:int(i)+5,int(j)-5:int(j)+5])\n",
    "\n",
    "i,j=np.where(ir_36_2==np.max(np.max(ir_36_2)))\n",
    "t_36_2=np.mean(ir_36_2[int(i)-5:int(i)+5,int(j)-5:int(j)+5])\n",
    "\n",
    "i,j=np.where(ir_35_4==np.max(np.max(ir_35_4)))\n",
    "t_35_4=np.mean(ir_35_4[int(i)-5:int(i)+5,int(j)-5:int(j)+5])"
   ]
  },
  {
   "cell_type": "raw",
   "id": "04936cdb-7551-46c0-a803-3d7078695b26",
   "metadata": {
    "jupyter": {
     "source_hidden": true
    },
    "tags": []
   },
   "source": [
    "i,j=np.where(ir_35_0==np.max(np.max(ir_35_0)))\n",
    "t_35_0=np.mean(ir_35_0[int(i)-5:int(i)+5,int(j)-5:int(j)+5])"
   ]
  },
  {
   "cell_type": "raw",
   "id": "d2881b7f-f048-4c72-9ab3-870b56737d09",
   "metadata": {
    "jupyter": {
     "source_hidden": true
    },
    "tags": []
   },
   "source": [
    "t_30_0=np.mean(ir_30_0[int(i)-5:int(i)+5,int(j)-5:int(j)+5])"
   ]
  },
  {
   "cell_type": "raw",
   "id": "7f31699c-14b1-478e-bc6f-9ff9451faca0",
   "metadata": {
    "jupyter": {
     "source_hidden": true
    },
    "tags": []
   },
   "source": [
    "#i,j=np.where(ir_25_0==np.max(np.max(ir_25_0)))\n",
    "t_25_0=np.mean(ir_25_0[int(i)-5:int(i)+5,int(j)-5:int(j)+5])"
   ]
  },
  {
   "cell_type": "raw",
   "id": "3640fedd-c670-429d-a761-1623e7a56f84",
   "metadata": {
    "jupyter": {
     "source_hidden": true
    },
    "tags": []
   },
   "source": [
    "i,j=np.where(ir_20_0==np.min(np.min(ir_20_0)))\n",
    "i = int(np.mean(i))\n",
    "j = int(np.mean(j))\n",
    "t_20_0=np.mean(ir_20_0[int(i)-5:int(i)+5,int(j)-5:int(j)+5])"
   ]
  },
  {
   "cell_type": "raw",
   "id": "5c1c937e-f503-4d21-bfe5-db8b2612d3c1",
   "metadata": {
    "jupyter": {
     "source_hidden": true
    },
    "tags": []
   },
   "source": [
    "bgr_01_7 = cv2.imread(os.path.join(p7,'20221122181944_nofix_bgr.png'),cv2.IMREAD_UNCHANGED)\n",
    "ir_01_7 = cv2.imread(os.path.join(p7,'20221122181939_nofix_ir.png'),cv2.IMREAD_UNCHANGED)\n",
    "\n",
    "bgr_9_0 = cv2.imread(os.path.join(p7,'20221122183450_nofix_bgr.png'),cv2.IMREAD_UNCHANGED)\n",
    "ir_9_0 = cv2.imread(os.path.join(p7,'20221122183440_nofix_ir.png'),cv2.IMREAD_UNCHANGED)\n",
    "\n",
    "bgr_13_8 = cv2.imread(os.path.join(p7,'20221122184955_nofix_bgr.png'),cv2.IMREAD_UNCHANGED)\n",
    "ir_13_8 = cv2.imread(os.path.join(p7,'20221122184940_nofix_ir.png'),cv2.IMREAD_UNCHANGED)\n",
    "\n",
    "bgr_16_6 = cv2.imread(os.path.join(p7,'20221122190501_nofix_bgr.png'),cv2.IMREAD_UNCHANGED)\n",
    "ir_16_6 = cv2.imread(os.path.join(p7,'20221122190441_nofix_ir.png'),cv2.IMREAD_UNCHANGED)\n",
    "\n",
    "bgr_18_2 = cv2.imread(os.path.join(p7,'20221122192006_nofix_bgr.png'),cv2.IMREAD_UNCHANGED)\n",
    "ir_18_2 = cv2.imread(os.path.join(p7,'20221122191941_nofix_ir.png'),cv2.IMREAD_UNCHANGED)\n",
    "\n",
    "bgr_19_0 = cv2.imread(os.path.join(p7,'20221122193512_nofix_bgr.png'),cv2.IMREAD_UNCHANGED)\n",
    "ir_19_0 = cv2.imread(os.path.join(p7,'20221122193442_nofix_ir.png'),cv2.IMREAD_UNCHANGED)\n",
    "\n",
    "bgr_35_0 = cv2.imread(os.path.join(p7,'20221122195338_nofix_bgr.png'),cv2.IMREAD_UNCHANGED)\n",
    "ir_35_0 = cv2.imread(os.path.join(p7,'20221122195333_nofix_ir.png'),cv2.IMREAD_UNCHANGED)\n",
    "\n",
    "bgr_30_2 = cv2.imread(os.path.join(p7,'20221122195804_nofix_bgr.png'),cv2.IMREAD_UNCHANGED)\n",
    "ir_30_2 = cv2.imread(os.path.join(p7,'20221122195759_nofix_ir.png'),cv2.IMREAD_UNCHANGED)\n",
    "\n",
    "bgr_24_1 = cv2.imread(os.path.join(p7,'20221122201310_nofix_bgr.png'),cv2.IMREAD_UNCHANGED)\n",
    "ir_24_1 = cv2.imread(os.path.join(p7,'20221122201300_nofix_ir.png'),cv2.IMREAD_UNCHANGED)\n",
    "\n",
    "bgr_22_3 = cv2.imread(os.path.join(p7,'20221122202815_nofix_bgr.png'),cv2.IMREAD_UNCHANGED)\n",
    "ir_22_3 = cv2.imread(os.path.join(p7,'20221122202800_nofix_ir.png'),cv2.IMREAD_UNCHANGED)\n",
    "\n",
    "bgr_21_5 = cv2.imread(os.path.join(p7,'20221122204320_nofix_bgr.png'),cv2.IMREAD_UNCHANGED)\n",
    "ir_21_5 = cv2.imread(os.path.join(p7,'20221122204301_nofix_ir.png'),cv2.IMREAD_UNCHANGED)\n",
    "\n",
    "bgr_21_1 = cv2.imread(os.path.join(p7,'20221122205826_nofix_bgr.png'),cv2.IMREAD_UNCHANGED)\n",
    "ir_21_1 = cv2.imread(os.path.join(p7,'20221122205801_nofix_ir.png'),cv2.IMREAD_UNCHANGED)\n",
    "\n",
    "bgr_21_0 = cv2.imread(os.path.join(p7,'20221122211236_nofix_bgr.png'),cv2.IMREAD_UNCHANGED)\n",
    "ir_21_0 = cv2.imread(os.path.join(p7,'20221122211231_nofix_ir.png'),cv2.IMREAD_UNCHANGED)\n",
    "\n",
    "ir_list = [ir_01_7,ir_9_0,ir_13_8,ir_16_6,ir_18_2,ir_19_0,ir_35_0,ir_30_2,ir_24_1,ir_22_3,ir_21_5,ir_21_1,ir_21_0]\n",
    "t_meas_1122 = [1.7,9.0,13.8,16.6,18.2,19,35,30.2,24.1,22.3,21.5,21.1,21.0]"
   ]
  },
  {
   "cell_type": "raw",
   "id": "591a7d58-f7ac-409a-80fe-8e20dbb80a98",
   "metadata": {
    "tags": []
   },
   "source": [
    "flir_max = np.max(np.max(ir_35_0))\n",
    "i,j=np.where(ir_35_0==flir_max)\n",
    "flir_min = np.min(np.min(ir_01_7))\n",
    "k,l=np.where(ir_01_7==flir_min)\n",
    "j=(l+j)/2+2\n",
    "i=(k+i)/2\n",
    "t_ir_flir_1122=[]\n",
    "\n",
    "for ir in ir_list:\n",
    "    t_ir_flir_1122.append(np.mean(ir[int(i)-3:int(i)+3,int(j)-3:int(j)+3]))\n",
    "    plt.imshow(ir[int(i)-7:int(i)+7,int(j)-7:int(j)+7])\n",
    "    plt.show()"
   ]
  },
  {
   "cell_type": "raw",
   "id": "bc459a43-217d-4c25-ad8d-fc1ee7b932ec",
   "metadata": {
    "tags": []
   },
   "source": [
    "T_nsar = np.array([5.9,7.0,7.2,7.5,35.4,36.2,37.1,38.0,39.4])+273.15\n",
    "IR_nsar = np.array([t_5_9,t_7_0,t_7_2,t_7_5,t_35_4,t_36_2,t_37_1,t_38_0,t_39_4])"
   ]
  },
  {
   "cell_type": "raw",
   "id": "d46cb7c9-69a4-4398-9047-5667a8895286",
   "metadata": {
    "jupyter": {
     "source_hidden": true
    },
    "tags": []
   },
   "source": [
    "t_meas_1122=np.array(t_meas_1122)+273.15\n",
    "t_ir_flir_1122=np.array(t_ir_flir_1122)"
   ]
  },
  {
   "cell_type": "raw",
   "id": "b2c5739d-2ff0-4e90-9a40-380ac20a57ee",
   "metadata": {
    "jupyter": {
     "source_hidden": true
    },
    "tags": []
   },
   "source": [
    "T_cprl = np.array([20,25,30,35])+273.15\n",
    "IR_cprl = np.array([t_20_0,t_25_0,t_30_0,t_35_0])"
   ]
  },
  {
   "cell_type": "raw",
   "id": "5714e8f8-89ad-46dc-a957-28be9c3483e3",
   "metadata": {
    "jupyter": {
     "source_hidden": true
    },
    "tags": []
   },
   "source": [
    "from sklearn.linear_model import LinearRegression\n",
    "model = LinearRegression()\n",
    "model.fit(IR_nsar.reshape(-1,1),T_nsar.reshape(-1,1))\n",
    "T_pred_nsar = model.intercept_+model.coef_*IR_nsar"
   ]
  },
  {
   "cell_type": "raw",
   "id": "11b1bdb5-326c-463b-9479-5722825eada4",
   "metadata": {
    "jupyter": {
     "source_hidden": true
    },
    "tags": []
   },
   "source": [
    "from sklearn.linear_model import LinearRegression\n",
    "model = LinearRegression()\n",
    "model.fit(IR_cprl.reshape(-1,1),T_cprl.reshape(-1,1))\n",
    "T_pred_cprl = model.intercept_+model.coef_*IR_cprl"
   ]
  },
  {
   "cell_type": "raw",
   "id": "c7178db4-b6ca-4782-8c04-5a2b21d3a761",
   "metadata": {
    "tags": []
   },
   "source": [
    "from sklearn.linear_model import LinearRegression\n",
    "model = LinearRegression()\n",
    "model.fit(t_ir_flir,t_meas_flir)\n",
    "T_pred_flir = model.intercept_+model.coef_*t_ir_flir\n",
    "filename = os.path.join(p6,'calibration_nsar1.pk.sav')\n",
    "import pickle\n",
    "pickle.dump(model, open(filename, 'wb'))"
   ]
  },
  {
   "cell_type": "raw",
   "id": "88d6b5f1-80be-4f66-a376-1107d374c744",
   "metadata": {
    "jupyter": {
     "source_hidden": true
    },
    "tags": []
   },
   "source": [
    "model.intercept_[0],model.coef_[0][0]"
   ]
  },
  {
   "cell_type": "raw",
   "id": "f227988c-61c4-48e6-afe3-2279f7bf0b48",
   "metadata": {
    "jupyter": {
     "source_hidden": true
    },
    "tags": []
   },
   "source": [
    "from sklearn.linear_model import LinearRegression\n",
    "model = LinearRegression()\n",
    "model.fit(t_ir_flir_1122.reshape(-1,1),t_meas_1122.reshape(-1,1))\n",
    "T_pred_flir = model.intercept_+model.coef_*t_ir_flir_1122\n",
    "import pickle\n",
    "filename = os.path.join(p13,'calibration_nsar2.pk.sav')\n",
    "pickle.dump(model, open(filename, 'wb'))"
   ]
  },
  {
   "cell_type": "raw",
   "id": "7ca8df1e-b786-4b37-beab-35b26d98c00f",
   "metadata": {
    "jupyter": {
     "source_hidden": true
    },
    "tags": []
   },
   "source": [
    "plt.plot(t_ir_flir,t_meas_flir,'o',t_ir_flir_1122,t_meas_1122,'+')"
   ]
  },
  {
   "cell_type": "raw",
   "id": "6b29b7ab-6556-418a-8413-234cbf97fb7f",
   "metadata": {
    "jupyter": {
     "source_hidden": true
    },
    "tags": []
   },
   "source": [
    "model.intercept_[0],model.coef_[0][0]"
   ]
  },
  {
   "cell_type": "raw",
   "id": "8fdb312c-ace3-4338-910c-fd91a73b2e6e",
   "metadata": {
    "jupyter": {
     "source_hidden": true
    },
    "tags": []
   },
   "source": [
    "ir_imgs = []\n",
    "t_bb_v2 = []\n",
    "t_ir_v2 = []\n",
    "for f in os.listdir(p9):\n",
    "    if 'ir' in f:\n",
    "        ir_imgs.append(cv2.imread(os.path.join(p9,f),cv2.IMREAD_UNCHANGED))\n",
    "        t_bb_v2.append(float(f[0:4])+273.15)\n",
    "        \n",
    "for ir in ir_imgs:\n",
    "    t_ir_v2.append(np.mean(ir[35:56,95:116]))\n",
    "    \n",
    "t_bb_v2 = np.array(t_bb_v2).reshape(-1,1)\n",
    "t_ir_v2 = np.array(t_ir_v2).reshape(-1,1)"
   ]
  },
  {
   "cell_type": "raw",
   "id": "869813d0-6aa2-40b4-9a2c-31f49ef0d270",
   "metadata": {
    "jupyter": {
     "source_hidden": true
    },
    "tags": []
   },
   "source": [
    "from sklearn.linear_model import LinearRegression\n",
    "model = LinearRegression()\n",
    "model.fit(t_ir_v2,t_bb_v2)\n",
    "t_pred_v2 = model.intercept_+model.coef_*t_ir_v2\n",
    "import pickle\n",
    "filename = os.path.join(p13,'calibration_nsar3.pk.sav')\n",
    "pickle.dump(model, open(filename, 'wb'))"
   ]
  },
  {
   "cell_type": "raw",
   "id": "a3d2e6d9-4be0-4a42-9664-62ae4dfa7741",
   "metadata": {
    "jupyter": {
     "source_hidden": true
    },
    "tags": []
   },
   "source": [
    "model.intercept_[0],model.coef_[0][0]"
   ]
  },
  {
   "cell_type": "raw",
   "id": "8c442df4-fe19-4e6d-b4f0-a9bc087b7bd5",
   "metadata": {
    "jupyter": {
     "source_hidden": true
    },
    "tags": []
   },
   "source": [
    "plt.plot(t_ir_v2,t_bb_v2,'o',t_ir_v2,t_pred_v2)"
   ]
  },
  {
   "cell_type": "raw",
   "id": "783fdb6e-ef95-431e-88e7-ba956a6a4f6f",
   "metadata": {
    "jupyter": {
     "source_hidden": true
    },
    "tags": []
   },
   "source": [
    "#filter outliers\n",
    "delta = abs(t_bb_v2-t_pred_v2)"
   ]
  },
  {
   "cell_type": "raw",
   "id": "c1d65eb0-7e47-4b0d-af19-37938bddf833",
   "metadata": {
    "jupyter": {
     "source_hidden": true
    },
    "tags": []
   },
   "source": [
    "t_bb_v2 = t_bb_v2[delta<=5].reshape(-1,1)\n",
    "t_ir_v2 = t_ir_v2[delta<=5].reshape(-1,1)"
   ]
  },
  {
   "cell_type": "raw",
   "id": "f709a696-e81c-4361-8cd6-b27907d133c0",
   "metadata": {
    "jupyter": {
     "source_hidden": true
    },
    "tags": []
   },
   "source": [
    "from sklearn.linear_model import LinearRegression\n",
    "model = LinearRegression()\n",
    "model.fit(t_ir_v2,t_bb_v2)\n",
    "t_pred_v2 = model.intercept_+model.coef_*t_ir_v2\n",
    "import pickle\n",
    "filename = os.path.join(p13,'calibration_nsar3.pk.sav')\n",
    "pickle.dump(model, open(filename, 'wb'))"
   ]
  },
  {
   "cell_type": "raw",
   "id": "9c8c9832-dbf9-4a54-81ff-b9a4d7547a01",
   "metadata": {
    "tags": []
   },
   "source": [
    "model.intercept_[0],model.coef_[0][0]"
   ]
  },
  {
   "cell_type": "raw",
   "id": "b55f5266-f2a0-45f8-a4cb-431c44242952",
   "metadata": {
    "tags": []
   },
   "source": [
    "plt.plot(t_ir_v2,t_bb_v2,'o',t_ir_v2,t_pred_v2)"
   ]
  },
  {
   "cell_type": "raw",
   "id": "540dba07-88b4-4d02-ba19-99c50d8059fc",
   "metadata": {
    "tags": []
   },
   "source": [
    "max(abs(delta))\n"
   ]
  },
  {
   "cell_type": "raw",
   "id": "d769dc13-63a3-4fb2-98b6-4106f2fff458",
   "metadata": {},
   "source": [
    "T_ir=[]\n",
    "T_bb=[]\n",
    "T_ir_field=[]\n",
    "T_bb_field=[]\n",
    "\n",
    "for f in np.sort(os.listdir(p11)):\n",
    "    if 'ir' in f: \n",
    "        if f=='27_1_ir.png' or f=='32_1_ir.png':\n",
    "            i=56\n",
    "            di=2\n",
    "            j=96\n",
    "            dj=2\n",
    "            ir = cv2.imread(os.path.join(p11,f),cv2.IMREAD_UNCHANGED)          \n",
    "            T_bb_field.append(int(f.split('.png')[0].split('_')[0])+int(f.split('.png')[0].split('_')[1])/10+273.15)\n",
    "            T_ir_field.append(np.mean(ir[i-di:i+di,j-dj:j+dj]))\n",
    "        else:\n",
    "            i=66\n",
    "            di=10\n",
    "            j=116\n",
    "            dj=10\n",
    "            ir = cv2.imread(os.path.join(p11,f),cv2.IMREAD_UNCHANGED)\n",
    "            T_bb.append(int(f.split('.png')[0].split('_')[0])+int(f.split('.png')[0].split('_')[1])/10+273.15)\n",
    "            T_ir.append(np.mean(ir[i-di:i+di,j-dj:j+dj]))\n",
    "\n",
    "ind=np.argsort(np.array(T_ir))"
   ]
  },
  {
   "cell_type": "raw",
   "id": "76a0ae9f-b70a-4973-b052-b35971e85eb3",
   "metadata": {},
   "source": [
    "T_ir=np.array(T_ir)[ind].reshape((-1,1))\n",
    "T_bb=np.array(T_bb)[ind].reshape((-1,1))\n",
    "T_bb_field=np.array(T_bb_field)\n",
    "T_ir_field=np.array(T_ir_field)"
   ]
  },
  {
   "cell_type": "raw",
   "id": "c9c4654b-75d0-4710-91e0-5059ff0f98dc",
   "metadata": {},
   "source": [
    "I0=T_ir[8]\n",
    "I1=T_ir[9]"
   ]
  },
  {
   "cell_type": "raw",
   "id": "050a9ba0-dc5e-4929-92b0-d3ec217142b3",
   "metadata": {},
   "source": [
    "print(\"I0 {0}, I1 {1}\".format(I0,I1))"
   ]
  },
  {
   "cell_type": "raw",
   "id": "89d92cf2-c8af-4729-b014-b6f6da954127",
   "metadata": {},
   "source": [
    "outliers = [10,14]"
   ]
  },
  {
   "cell_type": "raw",
   "id": "b794efce-f43a-4b5a-bd11-9d173f57833c",
   "metadata": {
    "jupyter": {
     "source_hidden": true
    }
   },
   "source": [
    "T_ir=np.delete(T_ir,outliers).reshape((-1,1))\n",
    "T_bb=np.delete(T_bb,outliers).reshape((-1,1))"
   ]
  },
  {
   "cell_type": "raw",
   "id": "3da24900-d792-479c-b96c-083541cea6f2",
   "metadata": {},
   "source": [
    "model0 = LinearRegression()\n",
    "model0.fit(T_ir[0:9],T_bb[0:9])\n",
    "model1 = LinearRegression()\n",
    "model1.fit(T_ir[8:10],T_bb[8:10])\n",
    "model2 = LinearRegression()\n",
    "model2.fit(T_ir[9:],T_bb[9:])"
   ]
  },
  {
   "cell_type": "raw",
   "id": "213da4db-e142-4d98-a0a3-120061744401",
   "metadata": {},
   "source": [
    "print(\"model 0 {0}, {1}\".format(model0.coef_,model0.intercept_))\n",
    "print(\"model 1 {0}, {1}\".format(model1.coef_,model1.intercept_))\n",
    "print(\"model 2 {0}, {1}\".format(model2.coef_,model2.intercept_))"
   ]
  },
  {
   "cell_type": "raw",
   "id": "2e588558-8298-4f25-9894-23e9b4b5d4ba",
   "metadata": {},
   "source": [
    "T_pred = np.piecewise(T_ir, [T_ir < I0, (T_ir>=I0) & (T_ir<I1), T_ir>=I1], [lambda x: model0.intercept_[0]+model0.coef_[0][0]*x, lambda x: model1.intercept_[0]+model1.coef_[0][0]*x, lambda x: model2.intercept_[0]+model2.coef_[0][0]*x])\n",
    "\n",
    "\n",
    "plt.plot(T_ir,T_bb,'.',T_ir,T_pred,T_ir_field,T_bb_field,'x')"
   ]
  },
  {
   "cell_type": "raw",
   "id": "d6ff8691-6ae6-4809-b39e-8b882cb916e8",
   "metadata": {},
   "source": [
    "with open(os.path.join(p15,'calibration_nsar_pwlf.pk.sav'), 'wb') as f:  # Python 3: open(..., 'wb'\n",
    "    pickle.dump([model0, model1, model2, I0, I1], f)"
   ]
  },
  {
   "cell_type": "raw",
   "id": "5748699f-cd77-41cf-9fa0-4090515485db",
   "metadata": {},
   "source": [
    "T_ir=[]\n",
    "T_bb=[]\n",
    "T_ir_field=[]\n",
    "T_bb_field=[]\n",
    "#'13_7_ir.png','15_7_ir.png','18_3_ir.png','21_6_ir.png','25_7_ir.png','30_7_ir.png','37_0_ir.png',\n",
    "a = ['5_6_ir.png'] \n",
    "hot  = ['26_5_ir.png','29_8_ir.png','32_6_ir.png','34_7_ir.png','36_4_ir.png','37_6_ir.png','38_6_ir.png','39_3_ir.png','39_9_ir.png','40_3_ir.png','40_7_ir.png','41_0_ir.png']\n",
    "cold = ['7_1_ir.png','7_7_ir.png','8_4_ir.png','9_2_ir.png','10_1_ir.png','11_3_ir.png','13_7_ir (2).png','15_6_ir.png','17_6_ir.png','19_8_ir.png']\n",
    "#c = ['19_5_ir.png','17_5_ir.png','15_4_ir.png']\n",
    "\n",
    "di=12\n",
    "dj=12\n",
    "for f in np.sort(os.listdir(p13)):\n",
    "    if f in a:        \n",
    "        i=66\n",
    "        j=90\n",
    "        print(f)\n",
    "        ir = cv2.imread(os.path.join(p13,f),cv2.IMREAD_UNCHANGED)\n",
    "        # plt.imshow(ir)\n",
    "        # plt.show()\n",
    "    \n",
    "        T_bb.append(int(f.split('.png')[0].split('_')[0])+int(f.split('.png')[0].split('_')[1])/10+273.15)\n",
    "        T_ir.append(np.mean(ir[i-di:i+di,j-dj:j+dj]))\n",
    "        # plt.imshow(ir[i-di:i+di,j-dj:j+dj])\n",
    "        # plt.show()\n",
    "    elif f in hot:        \n",
    "        i=84\n",
    "        j=90\n",
    "        print(f)\n",
    "        ir = cv2.imread(os.path.join(p13,f),cv2.IMREAD_UNCHANGED)\n",
    "        # plt.imshow(ir)\n",
    "        # plt.show()\n",
    "    \n",
    "        T_bb.append(int(f.split('.png')[0].split('_')[0])+int(f.split('.png')[0].split('_')[1])/10+273.15)\n",
    "        T_ir.append(np.mean(ir[i-di:i+di,j-dj:j+dj]))\n",
    "        # plt.imshow(ir[i-di:i+di,j-dj:j+dj])\n",
    "        # plt.show()\n",
    "    elif f in cold:        \n",
    "        i=86\n",
    "        j=75\n",
    "        print(f)\n",
    "        ir = cv2.imread(os.path.join(p13,f),cv2.IMREAD_UNCHANGED)\n",
    "        # plt.imshow(ir)\n",
    "        # plt.show()\n",
    "    \n",
    "        T_bb.append(int(f.split('.png')[0].split('_')[0])+int(f.split('.png')[0].split('_')[1])/10+273.15)\n",
    "        T_ir.append(np.mean(ir[i-di:i+di,j-dj:j+dj]))\n",
    "        # plt.imshow(ir[i-di:i+di,j-dj:j+dj])\n",
    "        # plt.show()\n",
    "\n",
    "ind=np.argsort(np.array(T_ir))"
   ]
  },
  {
   "cell_type": "raw",
   "id": "5f142e6a-a396-460d-880f-4927b6dcaaef",
   "metadata": {},
   "source": [
    "T_ir=np.array(T_ir)[ind].reshape((-1,1))\n",
    "T_bb=np.array(T_bb)[ind].reshape((-1,1))\n",
    "T_bb_field=np.array(T_bb_field)\n",
    "T_ir_field=np.array(T_ir_field)"
   ]
  },
  {
   "cell_type": "raw",
   "id": "a48cad1d-6578-43b7-bfb9-603a87f7e158",
   "metadata": {},
   "source": [
    "plt.plot(T_ir,T_bb-273.15,'.')"
   ]
  },
  {
   "cell_type": "raw",
   "id": "9ac32d29-6e89-4acf-b28b-8c52c916fbd3",
   "metadata": {},
   "source": [
    "i0 = 10\n",
    "i1 = 11"
   ]
  },
  {
   "cell_type": "raw",
   "id": "75c1f412-5b94-4a2e-8c6e-c5c0ad274926",
   "metadata": {},
   "source": [
    "I0=T_ir[i0]\n",
    "I1=T_ir[i1]"
   ]
  },
  {
   "cell_type": "raw",
   "id": "c3222396-c34d-4498-b136-d301136d48ec",
   "metadata": {},
   "source": [
    "print(\"I0 {0}, I1 {1}\".format(I0,I1))"
   ]
  },
  {
   "cell_type": "raw",
   "id": "f1f5f76c-be87-4bab-9d2e-71f6135a49b4",
   "metadata": {},
   "source": [
    "model0 = make_pipeline(PolynomialFeatures(2),LinearRegression())\n",
    "model0.fit(T_ir[0:i0+1],T_bb[0:i0+1])\n",
    "model1 = make_pipeline(PolynomialFeatures(2),LinearRegression())\n",
    "model1.fit(T_ir[i0:i1+1],T_bb[i0:i1+1])\n",
    "model2 = make_pipeline(PolynomialFeatures(2),LinearRegression())\n",
    "model2.fit(T_ir[i1:,:],T_bb[i1:])\n",
    "model = LinearRegression()\n",
    "model.fit(T_ir,T_bb)"
   ]
  },
  {
   "cell_type": "raw",
   "id": "9c1e2de8-1094-4b9e-acb8-96e5dfbfd550",
   "metadata": {},
   "source": [
    "T_pred_0 = model0.predict(T_ir)\n",
    "T_pred_1 = model1.predict(T_ir)\n",
    "T_pred_2 = model2.predict(T_ir)\n",
    "T_pred_all = model.predict(T_ir)\n",
    "\n",
    "plt.plot(T_ir,T_bb,'.',T_ir,T_pred_0,T_ir,T_pred_1,T_ir,T_pred_2,T_ir,T_pred_all)"
   ]
  },
  {
   "cell_type": "raw",
   "id": "bdb351b3-363e-421d-8208-ae8be37e25f7",
   "metadata": {},
   "source": [
    "with open(os.path.join(p15,'calibration_nsar_pwlf_v3.pk.sav'), 'wb') as f:  # Python 3: open(..., 'wb'\n",
    "    pickle.dump([model0, model1, model2, I0, I1], f)"
   ]
  },
  {
   "cell_type": "raw",
   "id": "3a3ad7f0-f228-42c5-a3a9-2f587d5beab2",
   "metadata": {},
   "source": [
    "with open(os.path.join(p15,'calibration_nsar_lf_v3.pk.sav'), 'wb') as f:  # Python 3: open(..., 'wb'\n",
    "    pickle.dump(model, f)"
   ]
  },
  {
   "cell_type": "raw",
   "id": "32beb3bb-fdeb-4f3b-a62d-a3d48b88630e",
   "metadata": {
    "scrolled": true
   },
   "source": [
    "p0 = os.path.join('../../','raw','CookIRCamET','Images','CookHY2024','V3')\n",
    "for f in np.flip(np.sort(os.listdir(p0))):\n",
    "    if 'ir' in f:\n",
    "        T_ir = cv2.imread(os.path.join(p0,f),cv2.IMREAD_UNCHANGED)\n",
    "        T_ir_ = T_ir.reshape(-1)\n",
    "        try:\n",
    "            tmp = model0.predict(T_ir_[T_ir_ < I0].reshape(-1,1))\n",
    "            T_ir_[T_ir_ < I0] = tmp.reshape(-1)\n",
    "        except Exception as e:\n",
    "            print(e)\n",
    "\n",
    "        try:\n",
    "            tmp = model1.predict(T_ir_[(T_ir_>=I0) & (T_ir_<I1)].reshape(-1,1))\n",
    "            T_ir_[(T_ir_>=I0) & (T_ir_<I1)] = tmp.reshape(-1)\n",
    "        except Exception as e:\n",
    "            print(e)\n",
    "        \n",
    "        try:\n",
    "            tmp = model2.predict(T_ir_[T_ir_>=I1].reshape(-1,1))\n",
    "            T_ir_[T_ir_>=I1] = tmp.reshape(-1)\n",
    "        except Exception as e:\n",
    "            print(e)\n",
    "        \n",
    "        T_ir = T_ir_.reshape(T_ir.shape)\n",
    "        print(f)\n",
    "        plt.imshow(T_ir)\n",
    "\n",
    "        plt.colorbar()\n",
    "        plt.show()\n",
    "        "
   ]
  },
  {
   "cell_type": "raw",
   "id": "f3c2df6a-e39a-44a9-b2f3-7bec876936f3",
   "metadata": {
    "scrolled": true
   },
   "source": [
    "p0 = os.path.join('../../','raw','CookIRCamET','Images','CookHY2024','V3')\n",
    "for f in np.flip(np.sort(os.listdir(p0))):\n",
    "    if 'ir' in f:\n",
    "        T_ir = cv2.imread(os.path.join(p0,f),cv2.IMREAD_UNCHANGED)\n",
    "        T_ir_ = T_ir.reshape(-1)\n",
    "        try:\n",
    "            tmp = model.predict(T_ir_.reshape(-1,1))\n",
    "            T_ir_ = tmp.reshape(-1)\n",
    "        except Exception as e:\n",
    "            print(e)\n",
    "        \n",
    "        T_ir = T_ir_.reshape(T_ir.shape)\n",
    "        print(f)\n",
    "        plt.imshow(T_ir)\n",
    "\n",
    "        plt.colorbar()\n",
    "        plt.show()\n",
    "        "
   ]
  },
  {
   "cell_type": "raw",
   "id": "b0a64c94-548b-4e76-90b6-b9229f06f45e",
   "metadata": {},
   "source": []
  }
 ],
 "metadata": {
  "kernelspec": {
   "display_name": "Python 3 (ipykernel)",
   "language": "python",
   "name": "python3"
  },
  "language_info": {
   "codemirror_mode": {
    "name": "ipython",
    "version": 3
   },
   "file_extension": ".py",
   "mimetype": "text/x-python",
   "name": "python",
   "nbconvert_exporter": "python",
   "pygments_lexer": "ipython3",
   "version": "3.10.13"
  }
 },
 "nbformat": 4,
 "nbformat_minor": 5
}
