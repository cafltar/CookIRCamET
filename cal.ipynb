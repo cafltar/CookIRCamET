{
 "cells": [
  {
   "cell_type": "code",
   "execution_count": 1,
   "id": "534d4f19-d155-4691-a4e0-cfdc80c9fd35",
   "metadata": {},
   "outputs": [],
   "source": [
    "import sys\n",
    "import numpy as np\n",
    "import cv2\n",
    "from time import sleep\n",
    "from datetime import datetime\n",
    "import os\n",
    "import numpy as np\n",
    "from matplotlib import pyplot as plt\n",
    "from pandas import read_csv, read_excel, DataFrame\n",
    "from sklearn.mixture import GaussianMixture\n",
    "from sklearn.preprocessing import StandardScaler\n",
    "import matplotlib.pyplot as plt\n",
    "import logging\n",
    "logging.basicConfig(level=logging.INFO)\n",
    "p1 = os.path.join('C:\\\\Users\\\\joaquin','usda','raw','CookIRCamET','Images','NsarIRCal')\n",
    "p2 = os.path.join('C:\\\\Users\\\\joaquin','usda','work','CookIRCamET','Working')\n",
    "p3 = os.path.join('C:\\\\Users\\\\joaquin','usda','raw','CookIRCamET','Images','CprlIRCal')\n",
    "p4 = os.path.join('C:\\\\Users\\\\joaquin','usda','work','CookIRCamET','Working')\n"
   ]
  },
  {
   "cell_type": "code",
   "execution_count": 2,
   "id": "611fcc4f-8cb3-4d5e-900e-ce41fafcf7d0",
   "metadata": {},
   "outputs": [],
   "source": [
    "bgr_5_9 = cv2.imread(os.path.join(p1,'cal_5_9_bgr.png'),cv2.IMREAD_UNCHANGED)\n",
    "ir_5_9 = cv2.imread(os.path.join(p1,'cal_5_9_ir.png'),cv2.IMREAD_UNCHANGED)\n",
    "bgr_7_0 = cv2.imread(os.path.join(p1,'cal_7_0_bgr.png'),cv2.IMREAD_UNCHANGED)\n",
    "ir_7_0 = cv2.imread(os.path.join(p1,'cal_7_0_ir.png'),cv2.IMREAD_UNCHANGED)\n",
    "bgr_7_2 = cv2.imread(os.path.join(p1,'cal_7_2_bgr.png'),cv2.IMREAD_UNCHANGED)\n",
    "ir_7_2 = cv2.imread(os.path.join(p1,'cal_7_2_ir.png'),cv2.IMREAD_UNCHANGED)\n",
    "bgr_7_5 = cv2.imread(os.path.join(p1,'cal_7_5_bgr.png'),cv2.IMREAD_UNCHANGED)\n",
    "ir_7_5 = cv2.imread(os.path.join(p1,'cal_7_5_ir.png'),cv2.IMREAD_UNCHANGED)\n",
    "\n",
    "bgr_35_4 = cv2.imread(os.path.join(p1,'cal_35_4_bgr.png'),cv2.IMREAD_UNCHANGED)\n",
    "ir_35_4 = cv2.imread(os.path.join(p1,'cal_35_4_ir.png'),cv2.IMREAD_UNCHANGED)\n",
    "bgr_36_2 = cv2.imread(os.path.join(p1,'cal_36_2_bgr.png'),cv2.IMREAD_UNCHANGED)\n",
    "ir_36_2 = cv2.imread(os.path.join(p1,'cal_36_2_ir.png'),cv2.IMREAD_UNCHANGED)\n",
    "bgr_37_1 = cv2.imread(os.path.join(p1,'cal_37_1_bgr.png'),cv2.IMREAD_UNCHANGED)\n",
    "ir_37_1 = cv2.imread(os.path.join(p1,'cal_37_1_ir.png'),cv2.IMREAD_UNCHANGED)\n",
    "bgr_38_0 = cv2.imread(os.path.join(p1,'cal_38_0_bgr.png'),cv2.IMREAD_UNCHANGED)\n",
    "ir_38_0 = cv2.imread(os.path.join(p1,'cal_38_0_ir.png'),cv2.IMREAD_UNCHANGED)\n",
    "bgr_39_4 = cv2.imread(os.path.join(p1,'cal_39_4_bgr.png'),cv2.IMREAD_UNCHANGED)\n",
    "ir_39_4 = cv2.imread(os.path.join(p1,'cal_39_4_ir.png'),cv2.IMREAD_UNCHANGED)\n"
   ]
  },
  {
   "cell_type": "code",
   "execution_count": 3,
   "id": "f5676de0-4147-4811-9e67-5eb6617ed05a",
   "metadata": {},
   "outputs": [],
   "source": [
    "bgr_20_0 = cv2.imread(os.path.join(p3,'20220430170628_nofix_20C_bgr.png'),cv2.IMREAD_UNCHANGED)\n",
    "ir_20_0 = cv2.imread(os.path.join(p3,'20220430170628_nofix_20C_ir.png'),cv2.IMREAD_UNCHANGED)\n",
    "bgr_25_0 = cv2.imread(os.path.join(p3,'20220430170937_nofix_25C_bgr.png'),cv2.IMREAD_UNCHANGED)\n",
    "ir_25_0 = cv2.imread(os.path.join(p3,'20220430170937_nofix_25C_ir.png'),cv2.IMREAD_UNCHANGED)\n",
    "bgr_30_0 = cv2.imread(os.path.join(p3,'20220430171240_nofix_30C_bgr.png'),cv2.IMREAD_UNCHANGED)\n",
    "ir_30_0 = cv2.imread(os.path.join(p3,'20220430171240_nofix_30C_ir.png'),cv2.IMREAD_UNCHANGED)\n",
    "bgr_35_0 = cv2.imread(os.path.join(p3,'20220430171612_nofix_35C_bgr.png'),cv2.IMREAD_UNCHANGED)\n",
    "ir_35_0 = cv2.imread(os.path.join(p3,'20220430171612_nofix_35C_ir.png'),cv2.IMREAD_UNCHANGED)\n"
   ]
  },
  {
   "cell_type": "code",
   "execution_count": 4,
   "id": "875cb637-b412-44d5-8772-c07c582d0dc2",
   "metadata": {},
   "outputs": [],
   "source": [
    "vmax,vmin = np.max(np.max(ir_39_4)),np.min(np.min(ir_5_9))"
   ]
  },
  {
   "cell_type": "code",
   "execution_count": 7,
   "id": "63ca938f-4aeb-4926-96a7-9d66effce17d",
   "metadata": {},
   "outputs": [
    {
     "data": {
      "text/plain": [
       "<matplotlib.image.AxesImage at 0x1ff9057ac40>"
      ]
     },
     "execution_count": 7,
     "metadata": {},
     "output_type": "execute_result"
    },
    {
     "data": {
      "image/png": "[encoded data removed]",
      "text/plain": [
       "<Figure size 432x288 with 13 Axes>"
      ]
     },
     "metadata": {
      "needs_background": "light"
     },
     "output_type": "display_data"
    }
   ],
   "source": [
    "plt.subplot(5,3,1)\n",
    "plt.imshow(ir_39_4, vmin=vmin, vmax=vmax)\n",
    "plt.subplot(5,3,2)\n",
    "plt.imshow(ir_38_0, vmin=vmin, vmax=vmax)\n",
    "plt.subplot(5,3,3)\n",
    "plt.imshow(ir_37_1, vmin=vmin, vmax=vmax)\n",
    "plt.subplot(5,3,4)\n",
    "plt.imshow(ir_36_2, vmin=vmin, vmax=vmax)\n",
    "plt.subplot(5,3,5)\n",
    "plt.imshow(ir_35_4, vmin=vmin, vmax=vmax)\n",
    "plt.subplot(5,3,6)\n",
    "plt.imshow(ir_7_5, vmin=vmin, vmax=vmax)\n",
    "plt.subplot(5,3,7)\n",
    "plt.imshow(ir_7_2, vmin=vmin, vmax=vmax)\n",
    "plt.subplot(5,3,8)\n",
    "plt.imshow(ir_7_0, vmin=vmin, vmax=vmax)\n",
    "plt.subplot(5,3,9)\n",
    "plt.imshow(ir_5_9, vmin=vmin, vmax=vmax)\n",
    "plt.subplot(5,3,10)\n",
    "plt.imshow(ir_35_0, vmin=vmin, vmax=vmax)\n",
    "plt.subplot(5,3,11)\n",
    "plt.imshow(ir_30_0, vmin=vmin, vmax=vmax)\n",
    "plt.subplot(5,3,12)\n",
    "plt.imshow(ir_25_0, vmin=vmin, vmax=vmax)\n",
    "plt.subplot(5,3,13)\n",
    "plt.imshow(ir_20_0, vmin=vmin, vmax=vmax)"
   ]
  },
  {
   "cell_type": "code",
   "execution_count": 8,
   "id": "d7522054-7601-4f81-92b9-083879b54458",
   "metadata": {},
   "outputs": [],
   "source": [
    "i,j=np.where(ir_5_9==np.min(np.min(ir_5_9)))\n",
    "t_5_9=np.mean(ir_5_9[int(i)-5:int(i)+5,int(j)-5:int(j)+5])\n",
    "\n",
    "i,j=np.where(ir_7_0==np.min(np.min(ir_7_0)))\n",
    "t_7_0=np.mean(ir_7_0[int(i)-5:int(i)+5,int(j)-5:int(j)+5])\n",
    "\n",
    "i,j=np.where(ir_7_2==np.min(np.min(ir_7_2)))\n",
    "t_7_2=np.mean(ir_7_2[int(i)-5:int(i)+5,int(j)-5:int(j)+5])\n",
    "\n",
    "i,j=np.where(ir_7_5==np.min(np.min(ir_7_5)))\n",
    "t_7_5=np.mean(ir_7_5[int(i)-5:int(i)+5,int(j)-5:int(j)+5])\n"
   ]
  },
  {
   "cell_type": "code",
   "execution_count": 25,
   "id": "28f40703-72fe-48d3-b3e5-bcc0c805241e",
   "metadata": {},
   "outputs": [
    {
     "data": {
      "text/plain": [
       "array([[30448, 30456, 30479, 30463, 30479, 30473, 30471, 30462, 30448,\n",
       "        30442],\n",
       "       [30467, 30481, 30495, 30519, 30538, 30532, 30517, 30487, 30469,\n",
       "        30458],\n",
       "       [30479, 30525, 30604, 30666, 30684, 30692, 30682, 30628, 30548,\n",
       "        30483],\n",
       "       [30526, 30641, 30703, 30713, 30725, 30732, 30719, 30707, 30672,\n",
       "        30556],\n",
       "       [30616, 30694, 30713, 30717, 30727, 30732, 30727, 30723, 30711,\n",
       "        30651],\n",
       "       [30678, 30707, 30719, 30725, 30723, 30738, 30728, 30709, 30715,\n",
       "        30692],\n",
       "       [30697, 30715, 30717, 30725, 30728, 30715, 30728, 30730, 30725,\n",
       "        30717],\n",
       "       [30692, 30697, 30717, 30723, 30717, 30709, 30725, 30717, 30723,\n",
       "        30705],\n",
       "       [30678, 30697, 30715, 30711, 30713, 30717, 30728, 30721, 30717,\n",
       "        30703],\n",
       "       [30651, 30694, 30696, 30705, 30711, 30715, 30713, 30709, 30705,\n",
       "        30692]], dtype=uint16)"
      ]
     },
     "execution_count": 25,
     "metadata": {},
     "output_type": "execute_result"
    }
   ],
   "source": [
    "i,j=np.where(ir_39_4==np.max(np.max(ir_39_4)))\n",
    "t_39_4=np.mean(ir_39_4[int(i)-5:int(i)+5,int(j)-5:int(j)+5])\n",
    "\n",
    "i,j=np.where(ir_38_0==np.max(np.max(ir_38_0)))\n",
    "t_38_0=np.mean(ir_38_0[int(i)-5:int(i)+5,int(j)-5:int(j)+5])\n",
    "\n",
    "i,j=np.where(ir_37_1==np.max(np.max(ir_37_1)))\n",
    "t_37_1=np.mean(ir_37_1[int(i)-5:int(i)+5,int(j)-5:int(j)+5])\n",
    "\n",
    "i,j=np.where(ir_36_2==np.max(np.max(ir_36_2)))\n",
    "t_36_2=np.mean(ir_36_2[int(i)-5:int(i)+5,int(j)-5:int(j)+5])\n",
    "\n",
    "i,j=np.where(ir_35_4==np.max(np.max(ir_35_4)))\n",
    "t_35_4=np.mean(ir_35_4[int(i)-5:int(i)+5,int(j)-5:int(j)+5])"
   ]
  },
  {
   "cell_type": "code",
   "execution_count": 29,
   "id": "31cdb390-c03a-4efd-913c-8e0c81bb5da2",
   "metadata": {},
   "outputs": [
    {
     "data": {
      "text/plain": [
       "array([[30759, 30757, 30779, 30759, 30763, 30767, 30771, 30769, 30773,\n",
       "        30777],\n",
       "       [30748, 30761, 30767, 30761, 30761, 30773, 30773, 30761, 30775,\n",
       "        30785],\n",
       "       [30752, 30767, 30771, 30763, 30763, 30777, 30775, 30763, 30777,\n",
       "        30775],\n",
       "       [30753, 30759, 30767, 30763, 30761, 30775, 30771, 30769, 30773,\n",
       "        30769],\n",
       "       [30750, 30757, 30750, 30761, 30761, 30771, 30769, 30771, 30779,\n",
       "        30759],\n",
       "       [30755, 30767, 30759, 30765, 30775, 30791, 30765, 30769, 30773,\n",
       "        30773],\n",
       "       [30767, 30753, 30771, 30769, 30767, 30769, 30771, 30773, 30765,\n",
       "        30773],\n",
       "       [30759, 30769, 30773, 30767, 30763, 30773, 30775, 30773, 30773,\n",
       "        30775],\n",
       "       [30755, 30773, 30781, 30773, 30765, 30777, 30777, 30773, 30767,\n",
       "        30775],\n",
       "       [30761, 30759, 30769, 30769, 30759, 30775, 30765, 30769, 30769,\n",
       "        30767]], dtype=uint16)"
      ]
     },
     "execution_count": 29,
     "metadata": {},
     "output_type": "execute_result"
    }
   ],
   "source": [
    "i,j=np.where(ir_35_0==np.max(np.max(ir_35_0)))\n",
    "t_35_0=np.mean(ir_35_0[int(i)-5:int(i)+5,int(j)-5:int(j)+5])\n",
    "ir_35_0[int(i)-5:int(i)+5,int(j)-5:int(j)+5]"
   ]
  },
  {
   "cell_type": "code",
   "execution_count": 30,
   "id": "992a66d7-c0cb-4dc3-911d-2f6f2ac8c4bc",
   "metadata": {},
   "outputs": [
    {
     "data": {
      "text/plain": [
       "(array([97], dtype=int64), array([50], dtype=int64))"
      ]
     },
     "execution_count": 30,
     "metadata": {},
     "output_type": "execute_result"
    }
   ],
   "source": [
    "t_30_0=np.mean(ir_30_0[int(i)-5:int(i)+5,int(j)-5:int(j)+5])\n",
    "ir_30_0[int(i)-5:int(i)+5,int(j)-5:int(j)+5]\n",
    "i,j"
   ]
  },
  {
   "cell_type": "code",
   "execution_count": 31,
   "id": "fc6b7489-05a5-4c84-b5ae-6b97a7a2f9fd",
   "metadata": {},
   "outputs": [
    {
     "data": {
      "text/plain": [
       "array([[29852, 29869, 29854, 29858, 29869, 29884, 29850, 29839, 29861,\n",
       "        29835],\n",
       "       [29871, 29875, 29880, 29869, 29873, 29878, 29867, 29848, 29867,\n",
       "        29839],\n",
       "       [29869, 29846, 29863, 29890, 29858, 29880, 29856, 29850, 29863,\n",
       "        29858],\n",
       "       [29850, 29882, 29865, 29875, 29867, 29865, 29852, 29858, 29852,\n",
       "        29873],\n",
       "       [29867, 29873, 29871, 29867, 29878, 29878, 29884, 29856, 29854,\n",
       "        29844],\n",
       "       [29852, 29875, 29871, 29865, 29884, 29882, 29869, 29880, 29869,\n",
       "        29861],\n",
       "       [29858, 29867, 29850, 29861, 29856, 29873, 29869, 29865, 29875,\n",
       "        29848],\n",
       "       [29839, 29865, 29865, 29873, 29865, 29861, 29861, 29861, 29863,\n",
       "        29852],\n",
       "       [29865, 29867, 29882, 29886, 29863, 29880, 29861, 29873, 29861,\n",
       "        29848],\n",
       "       [29850, 29865, 29884, 29867, 29882, 29873, 29888, 29890, 29869,\n",
       "        29846]], dtype=uint16)"
      ]
     },
     "execution_count": 31,
     "metadata": {},
     "output_type": "execute_result"
    }
   ],
   "source": [
    "#i,j=np.where(ir_25_0==np.max(np.max(ir_25_0)))\n",
    "t_25_0=np.mean(ir_25_0[int(i)-5:int(i)+5,int(j)-5:int(j)+5])\n",
    "ir_25_0[int(i)-5:int(i)+5,int(j)-5:int(j)+5]"
   ]
  },
  {
   "cell_type": "code",
   "execution_count": 32,
   "id": "80b2648b-2bac-4889-92da-d821b3b4f359",
   "metadata": {},
   "outputs": [],
   "source": [
    "i,j=np.where(ir_20_0==np.min(np.min(ir_20_0)))\n",
    "i = int(np.mean(i))\n",
    "j = int(np.mean(j))\n",
    "t_20_0=np.mean(ir_20_0[int(i)-5:int(i)+5,int(j)-5:int(j)+5])"
   ]
  },
  {
   "cell_type": "code",
   "execution_count": 33,
   "id": "c39560be-9111-4119-8c3a-1a163801fc41",
   "metadata": {},
   "outputs": [],
   "source": [
    "T_nsar = np.array([5.9,7.0,7.2,7.5,35.4,36.2,37.1,38.0,39.4])+273.15\n",
    "IR_nsar = np.array([t_5_9,t_7_0,t_7_2,t_7_5,t_35_4,t_36_2,t_37_1,t_38_0,t_39_4])"
   ]
  },
  {
   "cell_type": "code",
   "execution_count": 34,
   "id": "0530f4d4-85d7-4bbc-91a3-03a791fcc55c",
   "metadata": {},
   "outputs": [],
   "source": [
    "T_cprl = np.array([20,25,30,35])+273.15\n",
    "IR_cprl = np.array([t_20_0,t_25_0,t_30_0,t_35_0])"
   ]
  },
  {
   "cell_type": "code",
   "execution_count": 35,
   "id": "efe717f7-c179-463e-9eac-3a75ad1413ce",
   "metadata": {},
   "outputs": [],
   "source": [
    "from sklearn.linear_model import LinearRegression\n",
    "model = LinearRegression()\n",
    "model.fit(IR_nsar.reshape(-1,1),T_nsar.reshape(-1,1))\n",
    "T_pred_nsar = model.intercept_+model.coef_*IR_nsar"
   ]
  },
  {
   "cell_type": "code",
   "execution_count": 36,
   "id": "da0e2d33-d484-489d-81e0-92266bce6f61",
   "metadata": {},
   "outputs": [
    {
     "data": {
      "text/plain": [
       "array([293.15, 298.15, 303.15, 308.15])"
      ]
     },
     "execution_count": 36,
     "metadata": {},
     "output_type": "execute_result"
    }
   ],
   "source": [
    "T_cprl"
   ]
  },
  {
   "cell_type": "code",
   "execution_count": 37,
   "id": "de8c9e10-e81d-493e-a62f-aae922f6170d",
   "metadata": {},
   "outputs": [
    {
     "data": {
      "text/plain": [
       "[<matplotlib.lines.Line2D at 0x1ff9073dc10>,\n",
       " <matplotlib.lines.Line2D at 0x1ff9073db80>,\n",
       " <matplotlib.lines.Line2D at 0x1ff9073dd90>,\n",
       " <matplotlib.lines.Line2D at 0x1ff9073dd60>,\n",
       " <matplotlib.lines.Line2D at 0x1ff9074d040>]"
      ]
     },
     "execution_count": 37,
     "metadata": {},
     "output_type": "execute_result"
    },
    {
     "data": {
      "image/png": "[encoded data removed]",
      "text/plain": [
       "<Figure size 432x288 with 1 Axes>"
      ]
     },
     "metadata": {
      "needs_background": "light"
     },
     "output_type": "display_data"
    }
   ],
   "source": [
    "from sklearn.linear_model import LinearRegression\n",
    "model = LinearRegression()\n",
    "model.fit(IR_cprl.reshape(-1,1),T_cprl.reshape(-1,1))\n",
    "T_pred_cprl = model.intercept_+model.coef_*IR_cprl\n",
    "plt.plot(IR_nsar,T_nsar,'o',IR_cprl,T_cprl,'x',IR_nsar,T_pred_nsar.reshape(-1,1),'-',IR_cprl,T_pred_cprl.reshape(-1,1),'-',IR_nsar,IR_nsar/100,'-.')"
   ]
  },
  {
   "cell_type": "code",
   "execution_count": 38,
   "id": "166acd9e-02d3-4fa5-bb16-dcba21f92699",
   "metadata": {},
   "outputs": [
    {
     "data": {
      "text/plain": [
       "(array([-7.31657001]), array([[0.01025149]]))"
      ]
     },
     "execution_count": 38,
     "metadata": {},
     "output_type": "execute_result"
    }
   ],
   "source": [
    "model.intercept_,model.coef_"
   ]
  },
  {
   "cell_type": "code",
   "execution_count": null,
   "id": "93cf2765-6aa4-4757-a5eb-6ae920e5ddc3",
   "metadata": {},
   "outputs": [],
   "source": []
  }
 ],
 "metadata": {
  "kernelspec": {
   "display_name": "Python 3 (ipykernel)",
   "language": "python",
   "name": "python3"
  },
  "language_info": {
   "codemirror_mode": {
    "name": "ipython",
    "version": 3
   },
   "file_extension": ".py",
   "mimetype": "text/x-python",
   "name": "python",
   "nbconvert_exporter": "python",
   "pygments_lexer": "ipython3",
   "version": "3.9.7"
  }
 },
 "nbformat": 4,
 "nbformat_minor": 5
}
