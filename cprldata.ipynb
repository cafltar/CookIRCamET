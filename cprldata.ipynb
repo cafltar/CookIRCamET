{
 "cells": [
  {
   "cell_type": "code",
   "execution_count": 3,
   "id": "a0b550bd-ba2c-4de2-af29-d6e4cd59a9cd",
   "metadata": {},
   "outputs": [],
   "source": [
    "import sys\n",
    "import numpy as np\n",
    "import cv2\n",
    "from time import sleep\n",
    "from datetime import datetime\n",
    "import os\n",
    "import numpy as np\n",
    "from matplotlib import pyplot as plt\n",
    "from pandas import read_csv, read_excel, DataFrame\n",
    "import matplotlib.pyplot as plt\n",
    "import logging\n",
    "logging.basicConfig(level=logging.INFO)\n",
    "p = os.path.join('C:\\\\Users\\\\joaquin','usda','raw','CookIRCamET','Meteorological','Cprl')\n",
    "p2 = os.path.join('C:\\\\Users\\\\joaquin','usda','work','CookIRCamET','Inputs','Cprl')"
   ]
  },
  {
   "cell_type": "code",
   "execution_count": 53,
   "id": "7e6803e5-2d57-44f1-9d13-2ce463d69e3b",
   "metadata": {},
   "outputs": [],
   "source": [
    "cprl_weather = read_csv(os.path.join(p,'15-min_SWMRU_CPRL_weather_data_2016.csv'),na_values='NaN',skiprows=[1])\n",
    "cprl_weather = cprl_weather.merge(read_csv(os.path.join(p,'15-min_SWMRU_CPRL_weather_data_2016_aux.csv'),na_values='NaN',skiprows=[1]), how='inner',right_on=['Year','DOY','Time'],left_on=['Year','DOY','Time'])\n",
    "\n",
    "cprl_sensors = read_csv(os.path.join(p,'TSEB_Crop_Sensors.csv'),na_values='NaN',skiprows=[1])\n",
    "\n",
    "cprl_crop = read_csv(os.path.join(p,'TSEB_Crop_Daily.csv'),na_values='NaN',skiprows=[1])\n",
    "\n",
    "cprl_params_0 = read_csv(os.path.join(p,'TSEB_Crop_Seasonal.csv'),na_values='NaN')\n",
    "\n",
    "cprl_params_1 = read_csv(os.path.join(p,'TSEB_Constants.csv'),na_values='NaN')"
   ]
  },
  {
   "cell_type": "code",
   "execution_count": 54,
   "id": "3b1f22ee-74d1-4dfd-84d6-6a767e8fa088",
   "metadata": {},
   "outputs": [],
   "source": [
    "cprl_ts = cprl_weather.merge(cprl_crop, how='outer',right_on=['Year','DOY'],left_on=['Year','DOY'])"
   ]
  },
  {
   "cell_type": "code",
   "execution_count": 55,
   "id": "7f260c90-d8b7-4a58-b08b-1cd754c43af9",
   "metadata": {},
   "outputs": [
    {
     "data": {
      "text/plain": [
       "Index(['Decimal_DOY_x', 'Year', 'DOY', 'Time', 'Solar_irradiance', 'RH',\n",
       "       'Air_temperature', 'Wind_speed', 'Mean_Precip_from_4_lysimeters',\n",
       "       'NE_Lys._Precip.', 'SE_Lys._Precip.', 'NW_Lys._Precip.',\n",
       "       'SW_Lys._Precip.', 'Decimal_DOY_y', 'Tair_ht', 'Tair_hc', 'Hm_Opt',\n",
       "       'Hm_ht', 'Hm_hc', 'Windsp_ht', 'Wind_dir', 'Wind_dir_ht', 'Wind_hc',\n",
       "       'BP', 'Prec_SW_Lys', 'Irrig', 'fSoilWetIrrig', 'IrrigEvent_flag',\n",
       "       'Soil_albedo_dry_vis', 'Soil_albedo_dry_nir', 'Soil_albedo_wet_vis',\n",
       "       'Soil_albedo_wet_nir', 'REW', 'TEW', 'Kemax', 'Kcmax', 'XE',\n",
       "       'Leaf_abs_vis', 'Leaf_abs_nir', 'wc', 'hc', 'LAI', 'fGLAI',\n",
       "       'Leaf_size_s'],\n",
       "      dtype='object')"
      ]
     },
     "execution_count": 55,
     "metadata": {},
     "output_type": "execute_result"
    }
   ],
   "source": [
    "cprl_ts.columns"
   ]
  },
  {
   "cell_type": "code",
   "execution_count": 70,
   "id": "0e1dc4be-7ec3-4b65-88ac-2eda31a99a71",
   "metadata": {},
   "outputs": [],
   "source": [
    "cprl_merge = cprl_ts[['Year','DOY','Time','Solar_irradiance','Air_temperature','RH','Wind_speed','Mean_Precip_from_4_lysimeters','Irrig','BP', 'wc', 'hc', 'LAI',\n",
    "       'Leaf_size_s']]"
   ]
  },
  {
   "cell_type": "code",
   "execution_count": 71,
   "id": "7a19452c-4841-4a86-8367-4e346b51d660",
   "metadata": {},
   "outputs": [],
   "source": [
    "cprl_merge = cprl_merge.rename(columns={'Solar_irradiance':'Sd','Air_temperature':'Ta','Wind_speed':'u_z','Mean_Precip_from_4_lysimeters':'Precip'})"
   ]
  },
  {
   "cell_type": "code",
   "execution_count": 76,
   "id": "7bd4fe46-96d9-4f3b-a015-8faf06ed4516",
   "metadata": {},
   "outputs": [
    {
     "data": {
      "text/plain": [
       "[<matplotlib.lines.Line2D at 0x2646b3cd2b0>]"
      ]
     },
     "execution_count": 76,
     "metadata": {},
     "output_type": "execute_result"
    },
    {
     "data": {
      "image/png": "[encoded data removed]",
      "text/plain": [
       "<Figure size 432x288 with 1 Axes>"
      ]
     },
     "metadata": {
      "needs_background": "light"
     },
     "output_type": "display_data"
    }
   ],
   "source": []
  },
  {
   "cell_type": "code",
   "execution_count": null,
   "id": "9bd3ab3e-861d-4683-9d24-0687bb5a4316",
   "metadata": {},
   "outputs": [],
   "source": []
  }
 ],
 "metadata": {
  "kernelspec": {
   "display_name": "Python 3 (ipykernel)",
   "language": "python",
   "name": "python3"
  },
  "language_info": {
   "codemirror_mode": {
    "name": "ipython",
    "version": 3
   },
   "file_extension": ".py",
   "mimetype": "text/x-python",
   "name": "python",
   "nbconvert_exporter": "python",
   "pygments_lexer": "ipython3",
   "version": "3.9.7"
  }
 },
 "nbformat": 4,
 "nbformat_minor": 5
}
