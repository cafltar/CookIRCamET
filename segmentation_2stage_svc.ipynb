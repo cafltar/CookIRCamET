{
 "cells": [
  {
   "cell_type": "code",
   "execution_count": 39,
   "id": "73c9113c-0448-455d-82c9-aed885f591ed",
   "metadata": {},
   "outputs": [],
   "source": [
    "import sys\n",
    "import numpy as np\n",
    "import cv2\n",
    "import cv2.ml\n",
    "from time import sleep\n",
    "from datetime import datetime\n",
    "import os\n",
    "import numpy as np\n",
    "from random import shuffle\n",
    "from matplotlib import pyplot as plt\n",
    "from pandas import read_csv, read_excel, DataFrame\n",
    "from skimage.feature import hessian_matrix_det as Hessian\n",
    "from skimage.feature import local_binary_pattern as LBP\n",
    "from sklearn.model_selection import train_test_split\n",
    "from sklearn.model_selection import GridSearchCV\n",
    "from sklearn.feature_selection import RFECV\n",
    "from sklearn import svm\n",
    "from sklearn.linear_model import SGDClassifier\n",
    "from sklearn.neural_network import MLPClassifier\n",
    "from sklearn.preprocessing import StandardScaler\n",
    "import matplotlib.pyplot as plt\n",
    "import logging\n",
    "logging.basicConfig(level=logging.INFO)\n",
    "\n",
    "p = os.path.join('../../','raw','CookIRCamET','Images','CookTests','MedRes')\n",
    "p2 = os.path.join('../../','work','CookIRCamET','Images','CookTests','MedRes')\n",
    "n_components1 = 2\n",
    "n_components2 = 3\n",
    "n_components3 = 6"
   ]
  },
  {
   "cell_type": "code",
   "execution_count": 40,
   "id": "74f0ca7b-fe05-4e92-8727-b7e1de7b598e",
   "metadata": {},
   "outputs": [],
   "source": [
    "def localSD(mat, n):    \n",
    "    mat=np.float32(mat)\n",
    "    mu = cv2.blur(mat,(n,n))\n",
    "    mdiff=mu-mat\n",
    "    mat2=cv2.blur(np.float64(mdiff*mdiff),(n,n))\n",
    "    sd = np.float32(cv2.sqrt(mat2))\n",
    "    \n",
    "    return sd"
   ]
  },
  {
   "cell_type": "code",
   "execution_count": 41,
   "id": "7bdd0979-3dfb-4055-9d28-46be158c63be",
   "metadata": {},
   "outputs": [],
   "source": [
    "f_imgs=[]\n",
    "imgs=[]\n",
    "n_img=0\n",
    "fs=os.listdir(p)\n",
    "shuffle(fs)\n",
    "for f in fs:\n",
    "    if 'bgr' in f:\n",
    "        f_imgs = np.append(f_imgs,f)\n",
    "        bgr = cv2.imread(os.path.join(p,f),cv2.IMREAD_UNCHANGED)\n",
    "        f_labels = f.split('_nofix_bgr')[0]+'_sun.tif'\n",
    "        labels1 = cv2.imread(os.path.join(p,f_labels),cv2.IMREAD_UNCHANGED)\n",
    "        f_labels = f.split('_nofix_bgr')[0]+'_src.tif'\n",
    "        labels2 = cv2.imread(os.path.join(p,f_labels),cv2.IMREAD_UNCHANGED)\n",
    "        lab = cv2.cvtColor(bgr, cv2.COLOR_BGR2LAB)\n",
    "        hsv = cv2.cvtColor(bgr, cv2.COLOR_BGR2HSV)\n",
    "        img = cv2.cvtColor(bgr, cv2.COLOR_BGR2GRAY)\n",
    "        l,a,bb = cv2.split(lab)\n",
    "        h,s,v = cv2.split(hsv)\n",
    "        \n",
    "        sd_l1 = localSD(l, 127)\n",
    "        sd_l2 = localSD(l, 63)\n",
    "        sd_l3 = localSD(l, 31)\n",
    "        \n",
    "        lbp_l1 = LBP(l, 32, 4, method='ror')\n",
    "        lbp_l2 = LBP(l, 24, 3, method='ror')\n",
    "        lbp_l3 = LBP(l, 16, 2, method='ror')\n",
    "        \n",
    "        sd_a1 = localSD(a, 127)\n",
    "        sd_a2 = localSD(a, 63)\n",
    "        sd_a3 = localSD(a, 31)\n",
    "        \n",
    "        lbp_a1 = LBP(a, 32, 4, method='ror')\n",
    "        lbp_a2 = LBP(a, 24, 3, method='ror')\n",
    "        lbp_a3 = LBP(a, 16, 2, method='ror')\n",
    "        \n",
    "        sd_b1 = localSD(bb, 127)\n",
    "        sd_b2 = localSD(bb, 63)\n",
    "        sd_b3 = localSD(bb, 31)\n",
    "        \n",
    "        lbp_b1 = LBP(bb, 32, 4, method='ror')\n",
    "        lbp_b2 = LBP(bb, 24, 3, method='ror')\n",
    "        lbp_b3 = LBP(bb, 16, 2, method='ror')\n",
    "        \n",
    "        sd_h1 = localSD(h, 127)\n",
    "        sd_h2 = localSD(h, 63)\n",
    "        sd_h3 = localSD(h, 31)\n",
    "        \n",
    "        lbp_h1 = LBP(h, 32, 4, method='ror')\n",
    "        lbp_h2 = LBP(h, 24, 3, method='ror')\n",
    "        lbp_h3 = LBP(h, 16, 2, method='ror')\n",
    "        \n",
    "        sd_s1 = localSD(s, 127)\n",
    "        sd_s2 = localSD(s, 63)\n",
    "        sd_s3 = localSD(s, 31)\n",
    "        \n",
    "        lbp_s1 = LBP(s, 32, 4, method='ror')\n",
    "        lbp_s2 = LBP(s, 24, 3, method='ror')\n",
    "        lbp_s3 = LBP(s, 16, 2, method='ror')\n",
    "        \n",
    "        sd_v1 = localSD(v, 127)\n",
    "        sd_v2 = localSD(v, 63)\n",
    "        sd_v3 = localSD(v, 31)\n",
    "        \n",
    "        lbp_v1 = LBP(v, 32, 4, method='ror')\n",
    "        lbp_v2 = LBP(v, 24, 3, method='ror')\n",
    "        lbp_v3 = LBP(v, 16, 2, method='ror')\n",
    "        \n",
    "        ddepth = cv2.CV_16S\n",
    "        \n",
    "        lap_l1 = cv2.Laplacian(l,ddepth,ksize=3)\n",
    "        lap_l2 = cv2.Laplacian(l,ddepth,ksize=7)\n",
    "        lap_l3 = cv2.Laplacian(l,ddepth,ksize=15)\n",
    "        \n",
    "        lap_a1 = cv2.Laplacian(a,ddepth,ksize=3)\n",
    "        lap_a2 = cv2.Laplacian(a,ddepth,ksize=7)\n",
    "        lap_a3 = cv2.Laplacian(a,ddepth,ksize=15)\n",
    "        \n",
    "        lap_b1 = cv2.Laplacian(bb,ddepth,ksize=3)\n",
    "        lap_b2 = cv2.Laplacian(bb,ddepth,ksize=7)\n",
    "        lap_b3 = cv2.Laplacian(bb,ddepth,ksize=15)\n",
    "        \n",
    "        lap_h1 = cv2.Laplacian(h,ddepth,ksize=3)\n",
    "        lap_h2 = cv2.Laplacian(h,ddepth,ksize=7)\n",
    "        lap_h3 = cv2.Laplacian(h,ddepth,ksize=15)\n",
    "        \n",
    "        lap_s1 = cv2.Laplacian(s,ddepth,ksize=3)\n",
    "        lap_s2 = cv2.Laplacian(s,ddepth,ksize=7)\n",
    "        lap_s3 = cv2.Laplacian(s,ddepth,ksize=15)\n",
    "        \n",
    "        lap_v1 = cv2.Laplacian(v,ddepth,ksize=3)\n",
    "        lap_v2 = cv2.Laplacian(v,ddepth,ksize=7)\n",
    "        lap_v3 = cv2.Laplacian(v,ddepth,ksize=15)\n",
    "        \n",
    "        img_size = l.shape\n",
    "        bb = bb.ravel()\n",
    "        a = a.ravel()\n",
    "        l = l.ravel()\n",
    "        h = h.ravel()\n",
    "        s = s.ravel()\n",
    "        v = v.ravel()\n",
    "        sd_l1 = sd_l1.ravel()\n",
    "        sd_l2 = sd_l2.ravel()\n",
    "        sd_l3 = sd_l3.ravel()\n",
    "        lbp_l1 = lbp_l1.ravel()\n",
    "        lbp_l2 = lbp_l2.ravel()\n",
    "        lbp_l3 = lbp_l3.ravel()\n",
    "        lap_l1 = lap_l1.ravel()\n",
    "        lap_l2 = lap_l2.ravel()\n",
    "        lap_l3 = lap_l3.ravel()\n",
    "        sd_a1 = sd_a1.ravel()\n",
    "        sd_a2 = sd_a2.ravel()\n",
    "        sd_a3 = sd_a3.ravel()\n",
    "        lbp_a1 = lbp_a1.ravel()\n",
    "        lbp_a2 = lbp_a2.ravel()\n",
    "        lbp_a3 = lbp_a3.ravel()\n",
    "        lap_a1 = lap_a1.ravel()\n",
    "        lap_a2 = lap_a2.ravel()\n",
    "        lap_a3 = lap_a3.ravel()\n",
    "        sd_b1 = sd_b1.ravel()\n",
    "        sd_b2 = sd_b2.ravel()\n",
    "        sd_b3 = sd_b3.ravel()\n",
    "        lbp_b1 = lbp_b1.ravel()\n",
    "        lbp_b2 = lbp_b2.ravel()\n",
    "        lbp_b3 = lbp_b3.ravel()\n",
    "        lap_b1 = lap_b1.ravel()\n",
    "        lap_b2 = lap_b2.ravel()\n",
    "        lap_b3 = lap_b3.ravel()\n",
    "        sd_h1 = sd_h1.ravel()\n",
    "        sd_h2 = sd_h2.ravel()\n",
    "        sd_h3 = sd_h3.ravel()\n",
    "        lbp_h1 = lbp_h1.ravel()\n",
    "        lbp_h2 = lbp_h2.ravel()\n",
    "        lbp_h3 = lbp_h3.ravel()\n",
    "        lap_h1 = lap_h1.ravel()\n",
    "        lap_h2 = lap_h2.ravel()\n",
    "        lap_h3 = lap_h3.ravel()\n",
    "        sd_s1 = sd_s1.ravel()\n",
    "        sd_s2 = sd_s2.ravel()\n",
    "        sd_s3 = sd_s3.ravel()\n",
    "        lbp_s1 = lbp_s1.ravel()\n",
    "        lbp_s2 = lbp_s2.ravel()\n",
    "        lbp_s3 = lbp_s3.ravel()\n",
    "        lap_s1 = lap_s1.ravel()\n",
    "        lap_s2 = lap_s2.ravel()\n",
    "        lap_s3 = lap_s3.ravel()\n",
    "        sd_v1 = sd_v1.ravel()\n",
    "        sd_v2 = sd_v2.ravel()\n",
    "        sd_v3 = sd_v3.ravel()\n",
    "        lbp_v1 = lbp_v1.ravel()\n",
    "        lbp_v2 = lbp_v2.ravel()\n",
    "        lbp_v3 = lbp_v3.ravel()\n",
    "        lap_v1 = lap_v1.ravel()\n",
    "        lap_v2 = lap_v2.ravel()\n",
    "        lap_v3 = lap_v3.ravel()\n",
    "        feat = np.vstack((l.T,a.T,bb.T,h.T,s.T,v.T,\n",
    "                          sd_l1.T,sd_l2.T,sd_l3.T,\n",
    "                          lbp_l1.T,lbp_l2.T,lbp_l3.T,\n",
    "                          lap_l1.T,lap_l2.T,lap_l3.T,\n",
    "                          sd_a1.T,sd_a2.T,sd_a3.T,\n",
    "                          lbp_a1.T,lbp_a2.T,lbp_a3.T,\n",
    "                          lap_a1.T,lap_a2.T,lap_a3.T,\n",
    "                          sd_b1.T,sd_b2.T,sd_b3.T,\n",
    "                          lbp_b1.T,lbp_b2.T,lbp_b3.T,\n",
    "                          lap_b1.T,lap_b2.T,lap_b3.T,\n",
    "                          sd_h1.T,sd_h2.T,sd_h3.T,\n",
    "                          lbp_h1.T,lbp_h2.T,lbp_h3.T,\n",
    "                          lap_h1.T,lap_h2.T,lap_h3.T,\n",
    "                          sd_s1.T,sd_s2.T,sd_s3.T,\n",
    "                          lbp_s1.T,lbp_s2.T,lbp_s3.T,\n",
    "                          lap_s1.T,lap_s2.T,lap_s3.T,\n",
    "                          sd_v1.T,sd_v2.T,sd_v3.T,\n",
    "                          lbp_v1.T,lbp_v2.T,lbp_v3.T,\n",
    "                          lap_v1.T,lap_v2.T,lap_v3.T)).T\n",
    "        #labels = np.sum(np.vstack((soil.ravel().T, residue.ravel().T*2, shadow.ravel().T*3, vegetation.ravel().T*4)).T,axis=1)\n",
    "        labels1 = labels1.ravel()        \n",
    "        labels2 = labels2.ravel() \n",
    "        #6-class\n",
    "        labels3 = 3*labels1+labels2   \n",
    "        \n",
    "        imgs.append({'bgr':bgr,'feats':feat,'labels1':labels1,'labels2':labels2,'labels3':labels3})\n",
    "        n_img=n_img+1\n",
    "n_feat = feat.shape[1]"
   ]
  },
  {
   "cell_type": "code",
   "execution_count": 42,
   "id": "efe75928-38d9-4317-8d60-25d1bcf0c82f",
   "metadata": {},
   "outputs": [
    {
     "data": {
      "text/plain": [
       "60"
      ]
     },
     "execution_count": 42,
     "metadata": {},
     "output_type": "execute_result"
    }
   ],
   "source": [
    "n_feat"
   ]
  },
  {
   "cell_type": "code",
   "execution_count": 43,
   "id": "e4794676-5fcb-475f-87b6-b7d5736e1aea",
   "metadata": {},
   "outputs": [],
   "source": [
    "feats = []\n",
    "labels1 = []\n",
    "labels2 = []\n",
    "labels3 = []\n",
    "for sample in imgs:\n",
    "    feats.append(sample['feats'])\n",
    "    labels1.append(sample['labels1'])\n",
    "    labels2.append(sample['labels2'])\n",
    "    labels3.append(sample['labels3'])"
   ]
  },
  {
   "cell_type": "code",
   "execution_count": 44,
   "id": "0475d70f-cd38-4c2c-8baa-1e5bf9fbb78a",
   "metadata": {},
   "outputs": [],
   "source": [
    "feats = np.array(feats).reshape((-1,n_feat)).astype(np.float32)\n",
    "labels1 = np.array(labels1).reshape((-1,1)).astype(np.int32).ravel()\n",
    "labels2 = np.array(labels2).reshape((-1,1)).astype(np.int32).ravel()\n",
    "labels3 = np.array(labels3).reshape((-1,1)).astype(np.int32).ravel()\n",
    "scaler = StandardScaler()\n",
    "feats = scaler.fit_transform(feats)"
   ]
  },
  {
   "cell_type": "code",
   "execution_count": 45,
   "id": "143c9be5-0c0f-4a1f-888a-3f38fc15d4f7",
   "metadata": {},
   "outputs": [],
   "source": [
    "train_feats1, test_feats1, train_labels1, test_labels1 = train_test_split(feats, labels1, test_size=0.2, random_state=42)\n",
    "train_feats2, test_feats2, train_labels2, test_labels2 = train_test_split(feats, labels2, test_size=0.2, random_state=42)\n",
    "train_feats3, test_feats3, train_labels3, test_labels3 = train_test_split(feats, labels3, test_size=0.2, random_state=42)"
   ]
  },
  {
   "cell_type": "code",
   "execution_count": 46,
   "id": "d61b67c6-870c-46ad-913e-43703d0ea2c8",
   "metadata": {},
   "outputs": [],
   "source": [
    "def cornfusion(obs,pred,nclass):\n",
    "    M = np.zeros((nclass,nclass))\n",
    "    for i in range(obs.shape[0]):\n",
    "        o = obs[i]\n",
    "        p = pred[i]\n",
    "        M[o,p] = M[o,p]+1\n",
    "    return M"
   ]
  },
  {
   "cell_type": "code",
   "execution_count": 47,
   "id": "bae07fc9-7aa4-4f31-bcc8-a4f07931f102",
   "metadata": {},
   "outputs": [],
   "source": [
    "#need feature selection here\n",
    "svc = SGDClassifier(loss='hinge',max_iter=100000)\n",
    "clf_svc1 = RFECV(svc,step=1, cv=5,n_jobs=-1)\n",
    "clf_svc1.fit(train_feats1, train_labels1)\n",
    "\n",
    "r1 = clf_svc1.ranking_\n",
    "mask1 = r1==1"
   ]
  },
  {
   "cell_type": "code",
   "execution_count": 48,
   "id": "a7def5b5-1751-4fa1-9b73-1ff966da90e5",
   "metadata": {},
   "outputs": [],
   "source": [
    "train_feats = train_feats1[:,mask1]\n",
    "test_feats = test_feats1[:,mask1]"
   ]
  },
  {
   "cell_type": "code",
   "execution_count": 49,
   "id": "54d8610b-88af-4b5b-97c4-44f36613c05f",
   "metadata": {},
   "outputs": [
    {
     "name": "stdout",
     "output_type": "stream",
     "text": [
      "Fitting 5 folds for each of 21 candidates, totalling 105 fits\n"
     ]
    }
   ],
   "source": [
    "parameters = {'loss':('hinge', 'log_loss', 'perceptron'),'alpha':np.logspace(-6,0,7)}\n",
    "svc = SGDClassifier(max_iter=100000,random_state=42)\n",
    "\n",
    "clf_svc1 = GridSearchCV(svc, parameters,n_jobs=-1,cv=5,verbose=3)\n",
    "clf_svc1.fit(train_feats, train_labels1)\n",
    "clf_svc1.best_params_\n",
    "model_svc1 = clf_svc1.best_estimator_\n"
   ]
  },
  {
   "cell_type": "code",
   "execution_count": 50,
   "id": "d8719a51-69a5-40fc-a122-30db0431ad36",
   "metadata": {},
   "outputs": [],
   "source": [
    "pred_svc1 = model_svc1.predict(test_feats)"
   ]
  },
  {
   "cell_type": "code",
   "execution_count": 51,
   "id": "dce54e9d-232d-4b1f-a9c0-334f089f8259",
   "metadata": {},
   "outputs": [],
   "source": [
    "import pickle\n",
    "filename = 'finalized_model1_svc.pk.sav'\n",
    "pickle.dump(model_svc1, open(filename, 'wb'))"
   ]
  },
  {
   "cell_type": "code",
   "execution_count": 52,
   "id": "fd25eef7-0fab-475f-a867-74e362c7bbe8",
   "metadata": {},
   "outputs": [
    {
     "data": {
      "text/plain": [
       "array([[0.22505085, 0.04862707],\n",
       "       [0.03594027, 0.69038182]])"
      ]
     },
     "execution_count": 52,
     "metadata": {},
     "output_type": "execute_result"
    }
   ],
   "source": [
    "M_svc1 = cornfusion(test_labels1,pred_svc1,n_components1)\n",
    "M_svc1 = M_svc1/np.sum(np.sum(M_svc1))\n",
    "recall1 = np.diag(M_svc1)/np.sum(M_svc1,axis=1)\n",
    "precis1 = np.diag(M_svc1)/np.sum(M_svc1,axis=0)\n",
    "M_svc1"
   ]
  },
  {
   "cell_type": "code",
   "execution_count": 53,
   "id": "b5768a67-7cb8-4cfa-a2f1-f6d3c22d95bf",
   "metadata": {},
   "outputs": [
    {
     "name": "stdout",
     "output_type": "stream",
     "text": [
      "[CV 4/5] END ...........alpha=1e-06, loss=hinge;, score=0.910 total time= 4.4min\n",
      "[CV 2/5] END ...........alpha=1e-06, loss=hinge;, score=0.913 total time= 4.4min\n",
      "[CV 2/5] END ...........alpha=1e-05, loss=hinge;, score=0.914 total time= 2.3min\n",
      "[CV 4/5] END ........alpha=0.001, loss=log_loss;, score=0.915 total time= 1.1min\n",
      "[CV 4/5] END ..........alpha=0.1, loss=log_loss;, score=0.878 total time=  56.7s\n",
      "[CV 5/5] END ...........alpha=1e-06, loss=hinge;, score=0.911 total time= 4.4min\n",
      "[CV 4/5] END ........alpha=1e-05, loss=log_loss;, score=0.914 total time= 2.4min\n",
      "[CV 5/5] END ........alpha=0.001, loss=log_loss;, score=0.915 total time=  58.7s\n",
      "[CV 2/5] END ..........alpha=0.1, loss=log_loss;, score=0.879 total time= 1.1min\n",
      "[CV 1/5] END ..........alpha=0.0001, loss=hinge;, score=0.915 total time=  53.3s\n",
      "[CV 4/5] END ..........alpha=0.0001, loss=hinge;, score=0.915 total time=  51.1s\n",
      "[CV 4/5] END .....alpha=0.0001, loss=perceptron;, score=0.832 total time=  31.3s\n",
      "[CV 2/5] END ........alpha=0.001, loss=log_loss;, score=0.915 total time=  27.2s\n",
      "[CV 1/5] END .........alpha=0.01, loss=log_loss;, score=0.911 total time=  27.9s\n",
      "[CV 4/5] END .......alpha=0.01, loss=perceptron;, score=0.895 total time=  23.8s\n",
      "[CV 1/5] END ........alpha=0.1, loss=perceptron;, score=0.874 total time=  21.9s\n",
      "[CV 2/5] END ..........alpha=1.0, loss=log_loss;, score=0.782 total time=  27.5s\n",
      "[CV 5/5] END ........alpha=1e-06, loss=log_loss;, score=0.914 total time= 3.9min\n",
      "[CV 2/5] END .............alpha=1.0, loss=hinge;, score=0.817 total time=  37.0s\n",
      "[CV 5/5] END ...........alpha=1e-05, loss=hinge;, score=0.913 total time= 2.6min\n",
      "[CV 3/5] END ............alpha=0.01, loss=hinge;, score=0.914 total time=  46.8s\n",
      "[CV 1/5] END ..........alpha=0.1, loss=log_loss;, score=0.879 total time=  40.1s\n",
      "[CV 3/5] END ..........alpha=1.0, loss=log_loss;, score=0.782 total time=  33.2s\n",
      "[CV 1/5] END ......alpha=1e-05, loss=perceptron;, score=0.871 total time= 2.3min\n",
      "[CV 3/5] END ........alpha=0.001, loss=log_loss;, score=0.915 total time=  55.8s\n",
      "[CV 2/5] END .............alpha=0.1, loss=hinge;, score=0.900 total time=  37.8s\n",
      "[CV 3/5] END .............alpha=1.0, loss=hinge;, score=0.817 total time=  41.4s\n",
      "[CV 4/5] END ...........alpha=1e-05, loss=hinge;, score=0.912 total time= 2.5min\n",
      "[CV 5/5] END ......alpha=0.001, loss=perceptron;, score=0.880 total time=  44.7s\n",
      "[CV 5/5] END .......alpha=0.01, loss=perceptron;, score=0.879 total time= 1.4min\n",
      "[CV 2/5] END ......alpha=1e-06, loss=perceptron;, score=0.898 total time= 4.2min\n",
      "[CV 2/5] END ........alpha=1.0, loss=perceptron;, score=0.883 total time=  27.2s\n",
      "[CV 3/5] END ......alpha=1e-06, loss=perceptron;, score=0.895 total time= 4.1min\n",
      "[CV 4/5] END ..........alpha=1.0, loss=log_loss;, score=0.786 total time=  35.5s\n",
      "[CV 3/5] END ......alpha=1e-05, loss=perceptron;, score=0.847 total time= 1.3min\n",
      "[CV 4/5] END .......alpha=0.0001, loss=log_loss;, score=0.915 total time=  44.8s\n",
      "[CV 5/5] END ...........alpha=0.001, loss=hinge;, score=0.916 total time=  24.6s\n",
      "[CV 2/5] END ......alpha=0.001, loss=perceptron;, score=0.891 total time=  36.2s\n",
      "[CV 4/5] END .........alpha=0.01, loss=log_loss;, score=0.911 total time=  36.2s\n",
      "[CV 3/5] END ........alpha=0.1, loss=perceptron;, score=0.874 total time=  32.6s\n",
      "[CV 4/5] END ........alpha=1.0, loss=perceptron;, score=0.850 total time=  27.8s\n",
      "[CV 3/5] END ...........alpha=1e-05, loss=hinge;, score=0.914 total time= 2.4min\n",
      "[CV 3/5] END ......alpha=0.001, loss=perceptron;, score=0.881 total time=  40.6s\n",
      "[CV 1/5] END .......alpha=0.01, loss=perceptron;, score=0.889 total time=  33.4s\n",
      "[CV 4/5] END ........alpha=0.1, loss=perceptron;, score=0.876 total time=  30.1s\n",
      "[CV 3/5] END ........alpha=1.0, loss=perceptron;, score=0.871 total time=  30.3s\n",
      "[CV 1/5] END ...........alpha=1e-05, loss=hinge;, score=0.915 total time= 2.5min\n",
      "[CV 4/5] END ......alpha=0.001, loss=perceptron;, score=0.897 total time=  43.7s\n",
      "[CV 3/5] END .......alpha=0.01, loss=perceptron;, score=0.889 total time=  56.8s\n",
      "[CV 1/5] END ........alpha=1.0, loss=perceptron;, score=0.878 total time=  34.5s\n",
      "[CV 5/5] END ......alpha=1e-05, loss=perceptron;, score=0.853 total time= 2.5min\n",
      "[CV 1/5] END ............alpha=0.01, loss=hinge;, score=0.914 total time=  48.3s\n",
      "[CV 3/5] END .............alpha=0.1, loss=hinge;, score=0.900 total time=  40.3s\n",
      "[CV 1/5] END ..........alpha=1.0, loss=log_loss;, score=0.782 total time=  47.8s\n",
      "[CV 3/5] END ...........alpha=1e-06, loss=hinge;, score=0.911 total time= 3.1min\n",
      "[CV 5/5] END .........alpha=0.01, loss=log_loss;, score=0.911 total time= 1.1min\n",
      "[CV 5/5] END ........alpha=1.0, loss=perceptron;, score=0.876 total time=  31.0s\n",
      "[CV 4/5] END ......alpha=1e-05, loss=perceptron;, score=0.868 total time= 1.1min\n",
      "[CV 2/5] END .......alpha=0.0001, loss=log_loss;, score=0.915 total time=  26.5s\n",
      "[CV 1/5] END .....alpha=0.0001, loss=perceptron;, score=0.867 total time=  26.9s\n",
      "[CV 4/5] END ...........alpha=0.001, loss=hinge;, score=0.915 total time=  23.0s\n",
      "[CV 1/5] END ......alpha=0.001, loss=perceptron;, score=0.901 total time=  35.8s\n",
      "[CV 2/5] END .........alpha=0.01, loss=log_loss;, score=0.911 total time=  40.2s\n",
      "[CV 2/5] END ........alpha=0.1, loss=perceptron;, score=0.894 total time=  28.2s\n",
      "[CV 5/5] END ..........alpha=1.0, loss=log_loss;, score=0.789 total time=  40.8s\n",
      "[CV 1/5] END ........alpha=1e-05, loss=log_loss;, score=0.915 total time= 1.9min\n",
      "[CV 1/5] END ...........alpha=0.001, loss=hinge;, score=0.915 total time= 2.0min\n",
      "[CV 5/5] END .............alpha=1.0, loss=hinge;, score=0.817 total time=  51.6s\n",
      "[CV 2/5] END ..........alpha=0.0001, loss=hinge;, score=0.915 total time=  38.0s\n",
      "[CV 3/5] END ..........alpha=0.0001, loss=hinge;, score=0.915 total time=  27.9s\n",
      "[CV 3/5] END .......alpha=0.0001, loss=log_loss;, score=0.915 total time=  27.1s\n",
      "[CV 2/5] END .....alpha=0.0001, loss=perceptron;, score=0.875 total time= 1.7min\n",
      "[CV 5/5] END .............alpha=0.1, loss=hinge;, score=0.900 total time= 1.5min\n",
      "[CV 5/5] END ........alpha=1e-05, loss=log_loss;, score=0.915 total time= 1.0min\n",
      "[CV 1/5] END .......alpha=0.0001, loss=log_loss;, score=0.915 total time=  34.7s\n",
      "[CV 3/5] END .....alpha=0.0001, loss=perceptron;, score=0.894 total time= 1.7min\n",
      "[CV 4/5] END .............alpha=0.1, loss=hinge;, score=0.900 total time= 1.6min\n",
      "[CV 1/5] END ........alpha=1e-06, loss=log_loss;, score=0.908 total time= 3.4min\n",
      "[CV 3/5] END ..........alpha=0.1, loss=log_loss;, score=0.879 total time= 1.5min\n",
      "[CV 4/5] END ......alpha=1e-06, loss=perceptron;, score=0.893 total time= 5.0min\n",
      "[CV 2/5] END ........alpha=1e-06, loss=log_loss;, score=0.912 total time= 5.1min\n",
      "[CV 4/5] END ........alpha=1e-06, loss=log_loss;, score=0.912 total time= 5.2min\n",
      "[CV 5/5] END ......alpha=1e-06, loss=perceptron;, score=0.890 total time= 5.2min\n",
      "[CV 1/5] END ......alpha=1e-06, loss=perceptron;, score=0.894 total time= 5.6min\n",
      "[CV 3/5] END ........alpha=1e-06, loss=log_loss;, score=0.911 total time= 2.1min\n",
      "[CV 1/5] END ........alpha=0.001, loss=log_loss;, score=0.915 total time=  31.2s\n",
      "[CV 4/5] END ............alpha=0.01, loss=hinge;, score=0.914 total time=  22.1s\n",
      "[CV 3/5] END .........alpha=0.01, loss=log_loss;, score=0.911 total time=  26.6s\n",
      "[CV 5/5] END ..........alpha=0.1, loss=log_loss;, score=0.879 total time=  26.6s\n",
      "[CV 4/5] END .............alpha=1.0, loss=hinge;, score=0.816 total time=  24.3s\n",
      "[CV 1/5] END ...........alpha=1e-06, loss=hinge;, score=0.906 total time= 4.3min\n",
      "[CV 2/5] END ........alpha=1e-05, loss=log_loss;, score=0.915 total time= 1.8min\n",
      "[CV 5/5] END .....alpha=0.0001, loss=perceptron;, score=0.847 total time= 2.5min\n",
      "[CV 3/5] END ........alpha=1e-05, loss=log_loss;, score=0.914 total time= 2.0min\n",
      "[CV 3/5] END ...........alpha=0.001, loss=hinge;, score=0.915 total time=  43.0s\n",
      "[CV 5/5] END ............alpha=0.01, loss=hinge;, score=0.914 total time=  32.5s\n",
      "[CV 1/5] END .............alpha=0.1, loss=hinge;, score=0.900 total time=  35.2s\n",
      "[CV 1/5] END .............alpha=1.0, loss=hinge;, score=0.817 total time=  29.9s\n",
      "[CV 2/5] END ......alpha=1e-05, loss=perceptron;, score=0.833 total time=  57.3s\n",
      "[CV 5/5] END ..........alpha=0.0001, loss=hinge;, score=0.916 total time=  27.3s\n",
      "[CV 5/5] END .......alpha=0.0001, loss=log_loss;, score=0.915 total time=  30.6s\n",
      "[CV 2/5] END ...........alpha=0.001, loss=hinge;, score=0.915 total time=  32.4s\n",
      "[CV 2/5] END ............alpha=0.01, loss=hinge;, score=0.914 total time=  41.3s\n",
      "[CV 2/5] END .......alpha=0.01, loss=perceptron;, score=0.888 total time=  35.0s\n",
      "[CV 5/5] END ........alpha=0.1, loss=perceptron;, score=0.887 total time=  33.0s\n"
     ]
    }
   ],
   "source": [
    "#need feature selection here\n",
    "svc = SGDClassifier(loss='hinge',max_iter=100000)\n",
    "clf_svc2 = RFECV(svc,step=1, cv=5,n_jobs=-1)\n",
    "clf_svc2.fit(train_feats2, train_labels2)\n",
    "r2 = clf_svc2.ranking_\n",
    "mask2 = r2==1"
   ]
  },
  {
   "cell_type": "code",
   "execution_count": 54,
   "id": "af62f9e6-0622-496e-869e-7dfa86656aa2",
   "metadata": {},
   "outputs": [],
   "source": [
    "train_feats = train_feats2[:,mask2]\n",
    "test_feats = test_feats2[:,mask2]"
   ]
  },
  {
   "cell_type": "code",
   "execution_count": 55,
   "id": "282afec1-bf84-4c15-aa40-c7f608dcd93a",
   "metadata": {},
   "outputs": [
    {
     "name": "stdout",
     "output_type": "stream",
     "text": [
      "Fitting 5 folds for each of 21 candidates, totalling 105 fits\n"
     ]
    }
   ],
   "source": [
    "parameters = {'loss':('hinge', 'log_loss', 'perceptron'),'alpha':np.logspace(-6,0,7)}\n",
    "svc = SGDClassifier(max_iter=100000, random_state=42)\n",
    "clf_svc2 = GridSearchCV(svc, parameters,n_jobs=-1,cv=5,verbose=3)\n",
    "clf_svc2.fit(train_feats, train_labels2)\n",
    "\n",
    "model_svc2 = clf_svc2.best_estimator_\n",
    "pred_svc2 = model_svc2.predict(test_feats)"
   ]
  },
  {
   "cell_type": "code",
   "execution_count": 56,
   "id": "feaa9bd4-6922-4f80-ba2e-1bc81a610121",
   "metadata": {},
   "outputs": [
    {
     "data": {
      "text/plain": [
       "array([[1.55633000e-03, 1.93195551e-02, 5.66682836e-03],\n",
       "       [5.39343342e-04, 1.59362660e-01, 4.76653986e-02],\n",
       "       [3.54243260e-04, 2.87075334e-02, 7.36828108e-01]])"
      ]
     },
     "execution_count": 56,
     "metadata": {},
     "output_type": "execute_result"
    }
   ],
   "source": [
    "M_svc2 = cornfusion(test_labels2,pred_svc2,n_components2)\n",
    "M_svc2 = M_svc2/np.sum(np.sum(M_svc2))\n",
    "recall2 = np.diag(M_svc2)/np.sum(M_svc2,axis=1)\n",
    "precis2 = np.diag(M_svc2)/np.sum(M_svc2,axis=0)\n",
    "M_svc2"
   ]
  },
  {
   "cell_type": "code",
   "execution_count": 57,
   "id": "f304986d-e6cc-4765-8600-d963f28fe884",
   "metadata": {},
   "outputs": [
    {
     "data": {
      "text/plain": [
       "array([0.63525836, 0.76842111, 0.93250455])"
      ]
     },
     "execution_count": 57,
     "metadata": {},
     "output_type": "execute_result"
    }
   ],
   "source": [
    "precis2"
   ]
  },
  {
   "cell_type": "code",
   "execution_count": 58,
   "id": "a0160a4c-0463-43f0-ad55-4f98efbe4598",
   "metadata": {},
   "outputs": [],
   "source": [
    "filename = 'finalized_model2_svc.pk.sav'\n",
    "pickle.dump(model_svc2, open(filename, 'wb'))"
   ]
  },
  {
   "cell_type": "code",
   "execution_count": 59,
   "id": "115f5b07-355e-4877-a700-c5b6f1db3964",
   "metadata": {},
   "outputs": [
    {
     "name": "stdout",
     "output_type": "stream",
     "text": [
      "[CV 5/5] END ........alpha=1e-06, loss=log_loss;, score=0.896 total time= 4.5min\n",
      "[CV 4/5] END ............alpha=0.01, loss=hinge;, score=0.894 total time= 1.6min\n",
      "[CV 4/5] END ........alpha=0.1, loss=perceptron;, score=0.873 total time=  58.4s\n",
      "[CV 3/5] END ......alpha=1e-05, loss=perceptron;, score=0.811 total time= 2.1min\n",
      "[CV 1/5] END .......alpha=0.0001, loss=log_loss;, score=0.898 total time= 1.1min\n",
      "[CV 4/5] END .....alpha=0.0001, loss=perceptron;, score=0.880 total time= 1.1min\n",
      "[CV 1/5] END ............alpha=0.01, loss=hinge;, score=0.894 total time= 1.9min\n",
      "[CV 3/5] END .............alpha=1.0, loss=hinge;, score=0.858 total time=  48.6s\n",
      "[CV 2/5] END ......alpha=1e-06, loss=perceptron;, score=0.887 total time= 4.3min\n",
      "[CV 4/5] END ......alpha=0.001, loss=perceptron;, score=0.862 total time=  56.4s\n",
      "[CV 2/5] END .............alpha=0.1, loss=hinge;, score=0.883 total time=  59.6s\n",
      "[CV 4/5] END .............alpha=1.0, loss=hinge;, score=0.858 total time=  49.3s\n",
      "[CV 2/5] END ...........alpha=1e-06, loss=hinge;, score=0.892 total time= 4.4min\n",
      "[CV 2/5] END ............alpha=0.01, loss=hinge;, score=0.894 total time= 1.5min\n",
      "[CV 5/5] END ..........alpha=0.1, loss=log_loss;, score=0.876 total time= 1.2min\n",
      "[CV 4/5] END ........alpha=1e-05, loss=log_loss;, score=0.898 total time= 3.3min\n",
      "[CV 5/5] END .....alpha=0.0001, loss=perceptron;, score=0.881 total time= 1.2min\n",
      "[CV 5/5] END ............alpha=0.01, loss=hinge;, score=0.894 total time= 1.6min\n",
      "[CV 5/5] END ........alpha=0.1, loss=perceptron;, score=0.882 total time= 1.1min\n",
      "[CV 1/5] END ......alpha=1e-06, loss=perceptron;, score=0.865 total time= 5.4min\n",
      "[CV 3/5] END .............alpha=0.1, loss=hinge;, score=0.883 total time=  58.8s\n",
      "[CV 5/5] END .............alpha=1.0, loss=hinge;, score=0.858 total time=  55.6s\n",
      "[CV 4/5] END ......alpha=1e-06, loss=perceptron;, score=0.872 total time= 5.4min\n",
      "[CV 1/5] END ..........alpha=0.1, loss=log_loss;, score=0.876 total time= 1.9min\n",
      "[CV 1/5] END ...........alpha=1e-05, loss=hinge;, score=0.896 total time= 5.3min\n",
      "[CV 4/5] END .............alpha=0.1, loss=hinge;, score=0.883 total time= 2.1min\n",
      "[CV 2/5] END ......alpha=1e-05, loss=perceptron;, score=0.825 total time= 6.1min\n",
      "[CV 1/5] END .............alpha=1.0, loss=hinge;, score=0.859 total time= 1.3min\n",
      "[CV 4/5] END ........alpha=1e-06, loss=log_loss;, score=0.897 total time= 4.1min\n",
      "[CV 5/5] END ...........alpha=0.001, loss=hinge;, score=0.897 total time= 1.1min\n",
      "[CV 2/5] END .......alpha=0.01, loss=perceptron;, score=0.884 total time= 1.6min\n",
      "[CV 2/5] END ........alpha=1.0, loss=perceptron;, score=0.877 total time=  40.8s\n",
      "[CV 5/5] END ......alpha=1e-06, loss=perceptron;, score=0.873 total time= 4.2min\n",
      "[CV 1/5] END ......alpha=0.001, loss=perceptron;, score=0.872 total time= 1.0min\n",
      "[CV 1/5] END .............alpha=0.1, loss=hinge;, score=0.883 total time= 1.1min\n",
      "[CV 1/5] END ..........alpha=1.0, loss=log_loss;, score=0.847 total time= 1.2min\n",
      "[CV 3/5] END ......alpha=1e-06, loss=perceptron;, score=0.878 total time= 4.2min\n",
      "[CV 3/5] END ........alpha=0.001, loss=log_loss;, score=0.896 total time=  58.0s\n",
      "[CV 3/5] END .......alpha=0.01, loss=perceptron;, score=0.882 total time= 1.7min\n",
      "[CV 4/5] END ........alpha=1.0, loss=perceptron;, score=0.884 total time=  45.8s\n",
      "[CV 3/5] END ...........alpha=1e-06, loss=hinge;, score=0.893 total time= 7.6min\n",
      "[CV 2/5] END ........alpha=1e-06, loss=log_loss;, score=0.896 total time= 3.7min\n",
      "[CV 3/5] END ...........alpha=0.001, loss=hinge;, score=0.897 total time= 1.2min\n",
      "[CV 5/5] END .........alpha=0.01, loss=log_loss;, score=0.890 total time= 2.7min\n",
      "[CV 5/5] END ......alpha=1e-05, loss=perceptron;, score=0.871 total time= 2.8min\n",
      "[CV 5/5] END .......alpha=0.0001, loss=log_loss;, score=0.897 total time= 1.3min\n",
      "[CV 2/5] END ........alpha=0.001, loss=log_loss;, score=0.896 total time= 1.3min\n",
      "[CV 2/5] END ..........alpha=0.1, loss=log_loss;, score=0.876 total time= 1.2min\n",
      "[CV 2/5] END ..........alpha=1.0, loss=log_loss;, score=0.847 total time= 1.0min\n",
      "[CV 1/5] END ........alpha=1e-06, loss=log_loss;, score=0.897 total time= 4.4min\n",
      "[CV 5/5] END ......alpha=0.001, loss=perceptron;, score=0.876 total time= 1.1min\n",
      "[CV 3/5] END ..........alpha=0.1, loss=log_loss;, score=0.876 total time= 1.3min\n",
      "[CV 5/5] END ..........alpha=1.0, loss=log_loss;, score=0.844 total time=  54.5s\n",
      "[CV 5/5] END ...........alpha=1e-06, loss=hinge;, score=0.895 total time= 4.9min\n",
      "[CV 3/5] END .........alpha=0.01, loss=log_loss;, score=0.890 total time= 1.9min\n",
      "[CV 4/5] END ..........alpha=1.0, loss=log_loss;, score=0.843 total time=  56.4s\n",
      "[CV 3/5] END ...........alpha=1e-05, loss=hinge;, score=0.896 total time= 2.6min\n",
      "[CV 3/5] END .......alpha=0.0001, loss=log_loss;, score=0.898 total time= 1.2min\n",
      "[CV 4/5] END ...........alpha=0.001, loss=hinge;, score=0.897 total time= 1.2min\n",
      "[CV 4/5] END .........alpha=0.01, loss=log_loss;, score=0.890 total time= 1.9min\n",
      "[CV 1/5] END ........alpha=1.0, loss=perceptron;, score=0.866 total time=  55.7s\n",
      "[CV 5/5] END ...........alpha=1e-05, loss=hinge;, score=0.895 total time= 5.5min\n",
      "[CV 4/5] END ..........alpha=0.1, loss=log_loss;, score=0.876 total time= 2.2min\n",
      "[CV 1/5] END ...........alpha=1e-06, loss=hinge;, score=0.894 total time= 7.8min\n",
      "[CV 2/5] END ........alpha=1e-05, loss=log_loss;, score=0.897 total time= 2.0min\n",
      "[CV 4/5] END ..........alpha=0.0001, loss=hinge;, score=0.897 total time= 1.2min\n",
      "[CV 3/5] END .....alpha=0.0001, loss=perceptron;, score=0.880 total time= 1.4min\n",
      "[CV 2/5] END .........alpha=0.01, loss=log_loss;, score=0.890 total time= 2.3min\n",
      "[CV 3/5] END ........alpha=1.0, loss=perceptron;, score=0.877 total time=  57.4s\n",
      "[CV 5/5] END ........alpha=1e-05, loss=log_loss;, score=0.898 total time= 2.7min\n",
      "[CV 4/5] END .......alpha=0.0001, loss=log_loss;, score=0.898 total time= 1.3min\n",
      "[CV 1/5] END ........alpha=0.001, loss=log_loss;, score=0.896 total time= 1.2min\n",
      "[CV 5/5] END .......alpha=0.01, loss=perceptron;, score=0.877 total time= 1.4min\n",
      "[CV 3/5] END ..........alpha=1.0, loss=log_loss;, score=0.846 total time= 1.2min\n",
      "[CV 1/5] END ..........alpha=0.0001, loss=hinge;, score=0.897 total time= 2.0min\n",
      "[CV 5/5] END ..........alpha=0.0001, loss=hinge;, score=0.897 total time= 2.5min\n",
      "[CV 1/5] END .........alpha=0.01, loss=log_loss;, score=0.890 total time= 3.3min\n",
      "[CV 3/5] END ........alpha=1e-06, loss=log_loss;, score=0.896 total time= 7.9min\n",
      "[CV 3/5] END ........alpha=1e-05, loss=log_loss;, score=0.897 total time= 5.1min\n",
      "[CV 1/5] END .......alpha=0.01, loss=perceptron;, score=0.870 total time= 2.9min\n",
      "[CV 1/5] END ......alpha=1e-05, loss=perceptron;, score=0.885 total time= 4.2min\n",
      "[CV 4/5] END ........alpha=0.001, loss=log_loss;, score=0.897 total time= 2.7min\n",
      "[CV 5/5] END ........alpha=1.0, loss=perceptron;, score=0.872 total time= 1.1min\n",
      "[CV 4/5] END ...........alpha=1e-06, loss=hinge;, score=0.894 total time= 8.3min\n",
      "[CV 1/5] END ........alpha=1e-05, loss=log_loss;, score=0.898 total time= 2.8min\n",
      "[CV 1/5] END .....alpha=0.0001, loss=perceptron;, score=0.882 total time= 1.4min\n",
      "[CV 5/5] END ........alpha=0.001, loss=log_loss;, score=0.896 total time= 1.2min\n",
      "[CV 5/5] END .............alpha=0.1, loss=hinge;, score=0.883 total time=  47.7s\n",
      "[CV 2/5] END .............alpha=1.0, loss=hinge;, score=0.858 total time=  51.4s\n",
      "[CV 2/5] END ..........alpha=0.0001, loss=hinge;, score=0.897 total time= 1.3min\n",
      "[CV 3/5] END ..........alpha=0.0001, loss=hinge;, score=0.897 total time= 2.0min\n",
      "[CV 2/5] END ...........alpha=0.001, loss=hinge;, score=0.897 total time= 2.6min\n",
      "[CV 1/5] END ........alpha=0.1, loss=perceptron;, score=0.879 total time= 1.0min\n",
      "[CV 2/5] END ...........alpha=1e-05, loss=hinge;, score=0.896 total time= 3.0min\n",
      "[CV 2/5] END .....alpha=0.0001, loss=perceptron;, score=0.872 total time= 1.5min\n",
      "[CV 3/5] END ............alpha=0.01, loss=hinge;, score=0.894 total time= 1.4min\n",
      "[CV 3/5] END ........alpha=0.1, loss=perceptron;, score=0.871 total time= 1.0min\n",
      "[CV 4/5] END ...........alpha=1e-05, loss=hinge;, score=0.895 total time= 2.2min\n",
      "[CV 2/5] END .......alpha=0.0001, loss=log_loss;, score=0.898 total time= 1.1min\n",
      "[CV 1/5] END ...........alpha=0.001, loss=hinge;, score=0.897 total time=  56.0s\n",
      "[CV 2/5] END ......alpha=0.001, loss=perceptron;, score=0.866 total time=  58.5s\n",
      "[CV 4/5] END .......alpha=0.01, loss=perceptron;, score=0.878 total time= 1.7min\n",
      "[CV 4/5] END ......alpha=1e-05, loss=perceptron;, score=0.880 total time= 4.2min\n",
      "[CV 3/5] END ......alpha=0.001, loss=perceptron;, score=0.879 total time= 1.7min\n",
      "[CV 2/5] END ........alpha=0.1, loss=perceptron;, score=0.883 total time= 1.1min\n"
     ]
    }
   ],
   "source": [
    "#need feature selection here\n",
    "svc = SGDClassifier(loss='hinge',max_iter=100000)\n",
    "clf_svc3 = RFECV(svc,step=1, cv=5,n_jobs=-1)\n",
    "clf_svc3.fit(train_feats3, train_labels3)\n",
    "r3 = clf_svc3.ranking_"
   ]
  },
  {
   "cell_type": "code",
   "execution_count": 60,
   "id": "2e484c4c-d465-4caa-8076-0223359e99cb",
   "metadata": {},
   "outputs": [],
   "source": [
    "mask3 = r3==1"
   ]
  },
  {
   "cell_type": "code",
   "execution_count": 61,
   "id": "c44bb8f8-a3e3-4452-97d1-24bff3a6290f",
   "metadata": {},
   "outputs": [],
   "source": [
    "train_feats = train_feats3[:,mask3]\n",
    "test_feats = test_feats3[:,mask3]"
   ]
  },
  {
   "cell_type": "code",
   "execution_count": 62,
   "id": "1bc9fb53-a104-4bf0-b31a-aaf099e7bb80",
   "metadata": {},
   "outputs": [
    {
     "name": "stdout",
     "output_type": "stream",
     "text": [
      "Fitting 5 folds for each of 21 candidates, totalling 105 fits\n",
      "[CV 5/5] END ......alpha=1e-05, loss=perceptron;, score=0.772 total time= 6.0min\n",
      "[CV 1/5] END .......alpha=0.0001, loss=log_loss;, score=0.807 total time= 6.5min\n",
      "[CV 4/5] END ......alpha=0.001, loss=perceptron;, score=0.735 total time= 6.6min\n",
      "[CV 5/5] END .......alpha=0.01, loss=perceptron;, score=0.752 total time= 5.1min\n",
      "[CV 2/5] END ..........alpha=0.0001, loss=hinge;, score=0.791 total time= 3.3min\n",
      "[CV 3/5] END ..........alpha=0.0001, loss=hinge;, score=0.791 total time= 7.7min\n",
      "[CV 1/5] END ........alpha=0.001, loss=log_loss;, score=0.804 total time= 9.4min\n",
      "[CV 1/5] END ........alpha=0.1, loss=perceptron;, score=0.731 total time= 3.7min\n",
      "[CV 1/5] END ........alpha=1e-05, loss=log_loss;, score=0.807 total time= 6.8min\n",
      "[CV 1/5] END .....alpha=0.0001, loss=perceptron;, score=0.735 total time= 4.2min\n",
      "[CV 5/5] END ...........alpha=0.001, loss=hinge;, score=0.791 total time= 8.2min\n",
      "[CV 1/5] END .............alpha=0.1, loss=hinge;, score=0.767 total time= 2.8min\n",
      "[CV 1/5] END .............alpha=1.0, loss=hinge;, score=0.673 total time= 2.3min\n",
      "[CV 2/5] END ........alpha=1e-05, loss=log_loss;, score=0.807 total time= 6.9min\n",
      "[CV 2/5] END .....alpha=0.0001, loss=perceptron;, score=0.751 total time= 3.6min\n",
      "[CV 2/5] END ...........alpha=0.001, loss=hinge;, score=0.791 total time= 6.6min\n",
      "[CV 5/5] END .........alpha=0.01, loss=log_loss;, score=0.793 total time= 7.4min\n",
      "[CV 1/5] END ...........alpha=1e-05, loss=hinge;, score=0.799 total time= 7.3min\n",
      "[CV 3/5] END .....alpha=0.0001, loss=perceptron;, score=0.760 total time= 3.8min\n",
      "[CV 2/5] END ........alpha=0.001, loss=log_loss;, score=0.804 total time=13.5min\n",
      "[CV 5/5] END ...........alpha=1e-05, loss=hinge;, score=0.798 total time= 6.6min\n",
      "[CV 5/5] END .......alpha=0.0001, loss=log_loss;, score=0.808 total time= 4.7min\n",
      "[CV 4/5] END ........alpha=0.001, loss=log_loss;, score=0.804 total time= 9.5min\n",
      "[CV 3/5] END ........alpha=0.1, loss=perceptron;, score=0.738 total time= 3.8min\n",
      "[CV 4/5] END ........alpha=1e-05, loss=log_loss;, score=0.806 total time= 9.2min\n",
      "[CV 1/5] END ...........alpha=0.001, loss=hinge;, score=0.791 total time= 7.7min\n",
      "[CV 3/5] END .........alpha=0.01, loss=log_loss;, score=0.793 total time= 5.1min\n",
      "[CV 2/5] END .............alpha=1.0, loss=hinge;, score=0.672 total time= 2.7min\n",
      "[CV 4/5] END ...........alpha=1e-05, loss=hinge;, score=0.803 total time=12.6min\n",
      "[CV 5/5] END ......alpha=0.001, loss=perceptron;, score=0.736 total time=12.2min\n",
      "[CV 3/5] END ......alpha=1e-06, loss=perceptron;, score=0.765 total time=17.0min\n",
      "[CV 4/5] END .........alpha=0.01, loss=log_loss;, score=0.791 total time= 4.1min\n",
      "[CV 4/5] END ........alpha=0.1, loss=perceptron;, score=0.752 total time= 3.7min\n",
      "[CV 1/5] END ........alpha=1e-06, loss=log_loss;, score=0.804 total time=19.6min\n",
      "[CV 5/5] END .............alpha=0.1, loss=hinge;, score=0.768 total time= 5.6min\n",
      "[CV 3/5] END ...........alpha=1e-06, loss=hinge;, score=0.788 total time=25.2min\n",
      "[CV 5/5] END ...........alpha=1e-06, loss=hinge;, score=0.796 total time=16.5min\n",
      "[CV 1/5] END .........alpha=0.01, loss=log_loss;, score=0.791 total time= 5.6min\n",
      "[CV 4/5] END .............alpha=1.0, loss=hinge;, score=0.674 total time= 3.1min\n",
      "[CV 3/5] END ........alpha=1e-05, loss=log_loss;, score=0.808 total time=12.0min\n",
      "[CV 2/5] END ......alpha=0.001, loss=perceptron;, score=0.759 total time= 7.2min\n",
      "[CV 2/5] END .............alpha=0.1, loss=hinge;, score=0.768 total time= 2.8min\n",
      "[CV 3/5] END .............alpha=1.0, loss=hinge;, score=0.672 total time= 3.3min\n",
      "[CV 4/5] END ...........alpha=1e-06, loss=hinge;, score=0.796 total time=18.1min\n",
      "[CV 2/5] END .......alpha=0.01, loss=perceptron;, score=0.741 total time= 7.3min\n",
      "[CV 5/5] END ......alpha=1e-06, loss=perceptron;, score=0.742 total time=16.7min\n",
      "[CV 2/5] END .........alpha=0.01, loss=log_loss;, score=0.793 total time= 3.6min\n",
      "[CV 4/5] END ..........alpha=0.1, loss=log_loss;, score=0.749 total time= 2.5min\n",
      "[CV 1/5] END ..........alpha=1.0, loss=log_loss;, score=0.660 total time= 2.7min\n",
      "[CV 2/5] END ........alpha=1e-06, loss=log_loss;, score=0.798 total time=25.4min\n",
      "[CV 1/5] END ......alpha=1e-06, loss=perceptron;, score=0.741 total time=22.5min\n",
      "[CV 5/5] END .............alpha=1.0, loss=hinge;, score=0.674 total time= 2.9min\n",
      "[CV 3/5] END ........alpha=1e-06, loss=log_loss;, score=0.801 total time=11.6min\n",
      "[CV 5/5] END ........alpha=0.001, loss=log_loss;, score=0.805 total time=14.2min\n",
      "[CV 4/5] END ......alpha=1e-05, loss=perceptron;, score=0.755 total time= 6.2min\n",
      "[CV 3/5] END .......alpha=0.0001, loss=log_loss;, score=0.808 total time= 8.5min\n",
      "[CV 3/5] END ............alpha=0.01, loss=hinge;, score=0.794 total time= 5.6min\n",
      "[CV 5/5] END ..........alpha=0.1, loss=log_loss;, score=0.750 total time= 5.5min\n",
      "[CV 2/5] END ......alpha=1e-06, loss=perceptron;, score=0.739 total time=13.5min\n",
      "[CV 1/5] END ............alpha=0.01, loss=hinge;, score=0.795 total time= 5.3min\n",
      "[CV 3/5] END .......alpha=0.01, loss=perceptron;, score=0.728 total time= 5.4min\n",
      "[CV 5/5] END ........alpha=1.0, loss=perceptron;, score=0.736 total time= 1.9min\n",
      "[CV 1/5] END ......alpha=1e-05, loss=perceptron;, score=0.764 total time= 5.6min\n",
      "[CV 5/5] END ..........alpha=0.0001, loss=hinge;, score=0.792 total time= 5.3min\n",
      "[CV 4/5] END ...........alpha=0.001, loss=hinge;, score=0.790 total time= 3.9min\n",
      "[CV 4/5] END ............alpha=0.01, loss=hinge;, score=0.791 total time= 2.6min\n",
      "[CV 1/5] END .......alpha=0.01, loss=perceptron;, score=0.738 total time= 3.1min\n",
      "[CV 2/5] END ........alpha=0.1, loss=perceptron;, score=0.737 total time= 2.6min\n",
      "[CV 3/5] END ..........alpha=1.0, loss=log_loss;, score=0.658 total time= 2.8min\n",
      "[CV 5/5] END ........alpha=1e-05, loss=log_loss;, score=0.809 total time= 6.1min\n",
      "[CV 2/5] END .......alpha=0.0001, loss=log_loss;, score=0.807 total time= 5.7min\n",
      "[CV 1/5] END ......alpha=0.001, loss=perceptron;, score=0.729 total time= 9.8min\n",
      "[CV 5/5] END ........alpha=0.1, loss=perceptron;, score=0.754 total time= 4.6min\n",
      "[CV 1/5] END ..........alpha=0.0001, loss=hinge;, score=0.791 total time= 4.6min\n",
      "[CV 4/5] END ..........alpha=0.0001, loss=hinge;, score=0.792 total time= 3.5min\n",
      "[CV 4/5] END .....alpha=0.0001, loss=perceptron;, score=0.744 total time= 4.2min\n",
      "[CV 3/5] END ......alpha=0.001, loss=perceptron;, score=0.718 total time= 7.5min\n",
      "[CV 1/5] END ..........alpha=0.1, loss=log_loss;, score=0.750 total time= 3.8min\n",
      "[CV 1/5] END ........alpha=1.0, loss=perceptron;, score=0.740 total time= 2.8min\n",
      "[CV 2/5] END ......alpha=1e-05, loss=perceptron;, score=0.762 total time= 6.3min\n",
      "[CV 4/5] END .......alpha=0.0001, loss=log_loss;, score=0.808 total time= 4.3min\n",
      "[CV 3/5] END ...........alpha=0.001, loss=hinge;, score=0.791 total time= 9.4min\n",
      "[CV 2/5] END ..........alpha=0.1, loss=log_loss;, score=0.750 total time= 3.5min\n",
      "[CV 5/5] END ..........alpha=1.0, loss=log_loss;, score=0.662 total time= 2.9min\n",
      "[CV 3/5] END ...........alpha=1e-05, loss=hinge;, score=0.796 total time=11.2min\n",
      "[CV 3/5] END ........alpha=0.001, loss=log_loss;, score=0.804 total time= 7.7min\n",
      "[CV 4/5] END .......alpha=0.01, loss=perceptron;, score=0.721 total time= 4.1min\n",
      "[CV 2/5] END ..........alpha=1.0, loss=log_loss;, score=0.661 total time= 3.4min\n",
      "[CV 3/5] END ......alpha=1e-05, loss=perceptron;, score=0.751 total time= 8.8min\n",
      "[CV 5/5] END .....alpha=0.0001, loss=perceptron;, score=0.736 total time= 5.5min\n",
      "[CV 2/5] END ............alpha=0.01, loss=hinge;, score=0.797 total time= 5.7min\n",
      "[CV 3/5] END ..........alpha=0.1, loss=log_loss;, score=0.750 total time= 4.1min\n",
      "[CV 4/5] END ........alpha=1.0, loss=perceptron;, score=0.730 total time= 2.4min\n",
      "[CV 4/5] END ........alpha=1e-06, loss=log_loss;, score=0.803 total time=19.2min\n",
      "[CV 3/5] END .............alpha=0.1, loss=hinge;, score=0.767 total time= 4.7min\n",
      "[CV 3/5] END ........alpha=1.0, loss=perceptron;, score=0.720 total time= 2.5min\n",
      "[CV 2/5] END ...........alpha=1e-05, loss=hinge;, score=0.798 total time=16.5min\n",
      "[CV 5/5] END ............alpha=0.01, loss=hinge;, score=0.799 total time=10.2min\n",
      "[CV 5/5] END ........alpha=1e-06, loss=log_loss;, score=0.804 total time=19.3min\n",
      "[CV 4/5] END .............alpha=0.1, loss=hinge;, score=0.766 total time= 4.1min\n",
      "[CV 4/5] END ..........alpha=1.0, loss=log_loss;, score=0.660 total time= 3.3min\n"
     ]
    }
   ],
   "source": [
    "parameters = {'loss':('hinge', 'log_loss', 'perceptron'),'alpha':np.logspace(-6,0,7)}\n",
    "svc = SGDClassifier(max_iter=100000,random_state=42)\n",
    "clf_svc3 = GridSearchCV(svc, parameters,n_jobs=-1,cv=5,verbose=3)\n",
    "clf_svc3.fit(train_feats, train_labels3)\n",
    "clf_svc3.best_params_\n",
    "model_svc3 = clf_svc3.best_estimator_\n",
    "#model_svc1 = svc.fit(train_feats,train_labels1)\n",
    "pred_svc3 = model_svc3.predict(test_feats)"
   ]
  },
  {
   "cell_type": "code",
   "execution_count": 63,
   "id": "be356b1b-582d-4a9f-8fb2-1a02886945e2",
   "metadata": {},
   "outputs": [
    {
     "data": {
      "text/plain": [
       "array([[1.84568185e-03, 2.26375272e-03, 5.39768859e-03, 2.12758715e-06,\n",
       "        2.66161152e-03, 1.73398352e-04],\n",
       "       [8.13802083e-04, 2.20045701e-02, 1.59335001e-02, 2.12758715e-06,\n",
       "        1.47165203e-02, 2.74033224e-03],\n",
       "       [3.04244962e-04, 6.59764774e-03, 1.49064074e-01, 3.19138072e-06,\n",
       "        3.82752928e-03, 4.53261166e-02],\n",
       "       [1.56377655e-04, 6.59552015e-05, 8.82948666e-05, 1.39356958e-04,\n",
       "        1.09996255e-02, 2.74884259e-03],\n",
       "       [1.49994894e-04, 1.88504221e-03, 1.45633340e-03, 8.93586601e-05,\n",
       "        1.13895059e-01, 3.38807615e-02],\n",
       "       [1.26591435e-04, 4.47857094e-04, 2.32949517e-02, 4.36155365e-05,\n",
       "        1.44782305e-02, 5.22375834e-01]])"
      ]
     },
     "execution_count": 63,
     "metadata": {},
     "output_type": "execute_result"
    }
   ],
   "source": [
    "M_svc3 = cornfusion(test_labels3,pred_svc3,n_components3)\n",
    "M_svc3 = M_svc3/np.sum(np.sum(M_svc3))\n",
    "recall3 = np.diag(M_svc3)/np.sum(M_svc3,axis=1)\n",
    "precis3 = np.diag(M_svc3)/np.sum(M_svc3,axis=0)\n",
    "M_svc3"
   ]
  },
  {
   "cell_type": "code",
   "execution_count": 64,
   "id": "c2dd7afb-3c14-415b-862f-22ecc9cac256",
   "metadata": {},
   "outputs": [
    {
     "name": "stdout",
     "output_type": "stream",
     "text": [
      "[0.23450699 0.4918559  0.74465456 0.01925055 0.73024837 0.8944697 ]\n",
      "[0.18344024 0.59602612 0.76804897 0.02600248 0.75299336 0.89921019]\n"
     ]
    }
   ],
   "source": [
    "M_svc4 = cornfusion(test_labels3,3*pred_svc1+pred_svc2,n_components3)\n",
    "M_svc4 = M_svc4/np.sum(np.sum(M_svc4))\n",
    "recall4 = np.diag(M_svc4)/np.sum(M_svc4,axis=1)\n",
    "precis4 = np.diag(M_svc4)/np.sum(M_svc4,axis=0)\n",
    "M_svc4\n",
    "\n",
    "f3=(recall3*precis3/(recall3+precis3)*2)\n",
    "f4=(recall4*precis4/(recall4+precis4)*2)\n",
    "\n",
    "print(f3)\n",
    "\n",
    "print(f4)"
   ]
  },
  {
   "cell_type": "code",
   "execution_count": 65,
   "id": "02f6f90d-1220-4520-8f35-b20bdb8ee503",
   "metadata": {},
   "outputs": [],
   "source": [
    "filename = 'finalized_model3_svc.pk.sav'\n",
    "pickle.dump(model_svc3, open(filename, 'wb'))"
   ]
  },
  {
   "cell_type": "code",
   "execution_count": 66,
   "id": "043c2540-64b4-4ed0-be3a-013a95152ed2",
   "metadata": {},
   "outputs": [],
   "source": [
    "M_svc1_df = {}\n",
    "M_svc1_df['shade'] = M_svc1[:,0]\n",
    "M_svc1_df['sun'] = M_svc1[:,1]\n",
    "M_svc1_df = DataFrame(M_svc1_df)\n",
    "M_svc1_df.to_csv(os.path.join(p2,'M1_svc.csv'))\n",
    "\n",
    "M_svc2_df = {}\n",
    "M_svc2_df['soil'] = M_svc2[:,0]\n",
    "M_svc2_df['res'] = M_svc2[:,1]\n",
    "M_svc2_df['can'] = M_svc2[:,2]\n",
    "M_svc2_df = DataFrame(M_svc2_df)\n",
    "M_svc2_df.to_csv(os.path.join(p2,'M2_svc.csv'))\n",
    "\n",
    "M_svc3_df = {}\n",
    "M_svc3_df['shade_soil'] = M_svc3[:,0]\n",
    "M_svc3_df['shade_res'] = M_svc3[:,1]\n",
    "M_svc3_df['shade_can'] = M_svc3[:,2]\n",
    "M_svc3_df['sun_soil'] = M_svc3[:,3]\n",
    "M_svc3_df['sun_res'] = M_svc3[:,4]\n",
    "M_svc3_df['sun_can'] = M_svc3[:,5]\n",
    "M_svc3_df = DataFrame(M_svc3_df)\n",
    "M_svc3_df.to_csv(os.path.join(p2,'M3_svc.csv'))\n",
    "\n",
    "M_svc4_df = {}\n",
    "M_svc4_df['shade_soil'] = M_svc4[:,0]\n",
    "M_svc4_df['shade_res'] = M_svc4[:,1]\n",
    "M_svc4_df['shade_can'] = M_svc4[:,2]\n",
    "M_svc4_df['sun_soil'] = M_svc4[:,3]\n",
    "M_svc4_df['sun_res'] = M_svc4[:,4]\n",
    "M_svc4_df['sun_can'] = M_svc4[:,5]\n",
    "M_svc4_df = DataFrame(M_svc4_df)\n",
    "M_svc4_df.to_csv(os.path.join(p2,'M4_svc.csv'))"
   ]
  },
  {
   "cell_type": "code",
   "execution_count": 67,
   "id": "17c5e583-aaf8-4626-ad40-96eaeb4f7ff5",
   "metadata": {},
   "outputs": [
    {
     "data": {
      "text/plain": [
       "array([ 1,  1,  1,  1,  1,  1,  1,  1,  1,  9,  1,  1,  1,  1,  1,  1,  2,\n",
       "        1,  1, 11, 10,  1,  1,  1,  1,  1,  1,  8,  7,  1,  1,  1,  6,  1,\n",
       "        1,  1,  1,  1, 13,  1,  1,  3,  1,  1,  1,  5,  4, 12,  1,  1,  1,\n",
       "        1,  1,  1,  1,  1,  1,  1,  1,  1])"
      ]
     },
     "execution_count": 67,
     "metadata": {},
     "output_type": "execute_result"
    }
   ],
   "source": [
    "r1"
   ]
  },
  {
   "cell_type": "code",
   "execution_count": 68,
   "id": "e70532f3-372f-4579-9a60-726431c61d43",
   "metadata": {},
   "outputs": [
    {
     "data": {
      "text/plain": [
       "array([ 1,  1,  1,  1,  1,  1,  1,  1,  1, 10,  1,  1,  1,  1,  1,  1,  1,\n",
       "        1,  8,  1,  2,  1,  1,  1,  1,  1,  1,  1,  6,  1,  1,  1,  1,  1,\n",
       "        1,  1,  7,  4,  1,  1,  1,  9,  1,  1,  1, 11,  1,  5,  1,  1,  1,\n",
       "        1,  1,  1,  3,  1,  1,  1,  1,  1])"
      ]
     },
     "execution_count": 68,
     "metadata": {},
     "output_type": "execute_result"
    }
   ],
   "source": [
    "r2"
   ]
  },
  {
   "cell_type": "code",
   "execution_count": 69,
   "id": "92d12af1-6d48-491b-95dc-2e9a6ec1f3b5",
   "metadata": {},
   "outputs": [
    {
     "data": {
      "text/plain": [
       "array([1, 1, 1, 1, 1, 1, 1, 1, 1, 4, 1, 1, 1, 1, 1, 1, 1, 1, 1, 1, 1, 1,\n",
       "       1, 1, 1, 1, 1, 1, 3, 1, 1, 1, 1, 1, 1, 1, 1, 2, 1, 1, 1, 1, 1, 1,\n",
       "       1, 1, 1, 1, 1, 1, 1, 1, 1, 1, 1, 1, 1, 1, 1, 1])"
      ]
     },
     "execution_count": 69,
     "metadata": {},
     "output_type": "execute_result"
    },
    {
     "name": "stdout",
     "output_type": "stream",
     "text": [
      "[CV 4/5] END ......alpha=1e-06, loss=perceptron;, score=0.742 total time=23.7min\n",
      "[CV 2/5] END ........alpha=1.0, loss=perceptron;, score=0.719 total time= 3.2min\n",
      "[CV 2/5] END ...........alpha=1e-06, loss=hinge;, score=0.793 total time=27.9min\n",
      "[CV 1/5] END ...........alpha=1e-06, loss=hinge;, score=0.800 total time=28.8min\n"
     ]
    }
   ],
   "source": [
    "r3"
   ]
  },
  {
   "cell_type": "code",
   "execution_count": null,
   "id": "d2856577-5292-451d-a779-724a1826688a",
   "metadata": {},
   "outputs": [],
   "source": []
  }
 ],
 "metadata": {
  "kernelspec": {
   "display_name": "Python 3 (ipykernel)",
   "language": "python",
   "name": "python3"
  },
  "language_info": {
   "codemirror_mode": {
    "name": "ipython",
    "version": 3
   },
   "file_extension": ".py",
   "mimetype": "text/x-python",
   "name": "python",
   "nbconvert_exporter": "python",
   "pygments_lexer": "ipython3",
   "version": "3.9.2"
  }
 },
 "nbformat": 4,
 "nbformat_minor": 5
}
