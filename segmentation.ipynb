{
 "cells": [
  {
   "cell_type": "code",
   "execution_count": null,
   "id": "927f3a98-6f24-40ab-97db-beac4ae9d4f7",
   "metadata": {},
   "outputs": [],
   "source": [
    "import sys\n",
    "import numpy as np\n",
    "import cv2\n",
    "import cv2.ml\n",
    "from time import sleep\n",
    "from datetime import datetime\n",
    "import os\n",
    "import numpy as np\n",
    "from matplotlib import pyplot as plt\n",
    "from pandas import read_csv, read_excel, DataFrame\n",
    "from sklearn.mixture import GaussianMixture\n",
    "from sklearn.model_selection import GridSearchCV\n",
    "from sklearn.ensemble import RandmForestClassifier\n",
    "from sklearn import svm\n",
    "from sklearn.preprocessing import StandardScaler\n",
    "import matplotlib.pyplot as plt\n",
    "import logging\n",
    "logging.basicConfig(level=logging.INFO)\n",
    "p = os.path.join('../../','raw','CookIRCamET','Images','CookTests','HiRes')\n",
    "p2 = os.path.join('../../','work','CookIRCamET','Images','CookTests','HiRes')\n",
    "n_feat = 4\n",
    "n_components = 4"
   ]
  },
  {
   "cell_type": "code",
   "execution_count": null,
   "id": "8ed46e2d-74a9-4384-8c96-5f3da88d74bd",
   "metadata": {},
   "outputs": [],
   "source": [
    "def localSD(mat, n):    \n",
    "    mat=np.float32(mat)\n",
    "    mu = cv2.blur(mat,(n,n))\n",
    "    mdiff=mu-mat\n",
    "    mat2=cv2.blur(np.float64(mdiff*mdiff),(n,n))\n",
    "    sd = np.float32(cv2.sqrt(mat2))\n",
    "    \n",
    "    return sd"
   ]
  },
  {
   "cell_type": "code",
   "execution_count": null,
   "id": "a05c1cf2-d372-4815-950d-966cd1c3a3ee",
   "metadata": {},
   "outputs": [],
   "source": [
    "f_imgs=[]\n",
    "test_imgs=[]\n",
    "train_imgs=[]\n",
    "for f in os.listdir(p):\n",
    "    if 'bgr' in f:\n",
    "        f_imgs = np.append(f_imgs,f)\n",
    "        bgr = cv2.imread(os.path.join(p,f),cv2.IMREAD_UNCHANGED)\n",
    "        f_labels = f.split('_bgr')[0]+'_labels.tif'\n",
    "        labels = cv2.imread(os.path.join(p,f_labels),cv2.IMREAD_UNCHANGED)\n",
    "        lab = cv2.cvtColor(bgr, cv2.COLOR_BGR2LAB)\n",
    "        img = cv2.cvtColor(bgr, cv2.COLOR_BGR2GRAY)\n",
    "        l,a,bb = cv2.split(lab)\n",
    "        sd = localSD(l, 451)\n",
    "        img_size = l.shape\n",
    "        bb = bb.ravel()\n",
    "        a = a.ravel()\n",
    "        l = l.ravel()\n",
    "        sd = sd.ravel()\n",
    "        feat = np.vstack((l.T,a.T,bb.T,sd.T)).T\n",
    "        plt.subplot(211)\n",
    "        plt.imshow(bgr)\n",
    "        plt.subplot(212)\n",
    "        plt.imshow(labels)\n",
    "        plt.show()\n",
    "        #labels = np.sum(np.vstack((soil.ravel().T, residue.ravel().T*2, shadow.ravel().T*3, vegetation.ravel().T*4)).T,axis=1)\n",
    "        labels = labels.ravel()\n",
    "        if f.split('_')[0]=='20220509152045' or f.split('_')[0]=='20220509152630':\n",
    "            train_imgs.append({'bgr':bgr,'feats':feat,'labels':labels})\n",
    "        else:\n",
    "            test_imgs.append({'bgr':bgr,'feats':feat,'labels':labels})"
   ]
  },
  {
   "cell_type": "code",
   "execution_count": null,
   "id": "7afbffc5-7d28-413d-b572-4b1211f82e36",
   "metadata": {},
   "outputs": [],
   "source": [
    "train_feats = []\n",
    "train_labels = []\n",
    "for sample in train_imgs:\n",
    "    train_feats.append(sample['feats'])\n",
    "    train_labels.append(sample['labels'])"
   ]
  },
  {
   "cell_type": "code",
   "execution_count": null,
   "id": "0cbc9976-5041-4ea1-a7a1-1c29d746fcf7",
   "metadata": {},
   "outputs": [],
   "source": [
    "test_feats = []\n",
    "test_labels = []\n",
    "for sample in test_imgs:\n",
    "    test_feats.append(sample['feats'])\n",
    "    test_labels.append(sample['labels'])"
   ]
  },
  {
   "cell_type": "code",
   "execution_count": null,
   "id": "9313a9c0-5788-431f-8d41-f8afdb7a5bb2",
   "metadata": {},
   "outputs": [],
   "source": [
    "train_feats = np.array(train_feats).reshape((-1,n_feat)).astype(np.float32)\n",
    "train_labels = np.array(train_labels).reshape((-1,1)).astype(np.int32)\n",
    "test_feats = np.array(test_feats).reshape((-1,n_feat)).astype(np.float32)\n",
    "test_labels = np.array(test_labels).reshape((-1,1)).astype(np.int32)"
   ]
  },
  {
   "cell_type": "code",
   "execution_count": null,
   "id": "8fa37a23-c5e2-48a9-974c-8d8e947cbffc",
   "metadata": {},
   "outputs": [],
   "source": [
    "parameters= { \n",
    "    'n_estimators': [100,200,400],\n",
    "    'max_features': ['auto', 'sqrt'],\n",
    "    'max_depth' : [4,5,6,7,8],\n",
    "    'criterion' :['gini', 'entropy']}\n",
    "rfc = RandomForestClassifier()\n",
    "clf_rfc = GridSearchCV(rfc, parameters,n_jobs=-1)\n",
    "clf_rfc.fit(train_feats,train_labels)"
   ]
  },
  {
   "cell_type": "code",
   "execution_count": null,
   "id": "9d115ab1-f7d2-4c29-9deb-2ac6edcf2db0",
   "metadata": {},
   "outputs": [],
   "source": [
    "parameters = {'kernel':('linear', 'rbf'), 'C':np.logspace(-3,3,7), 'gamma':np.logspace(-4,0,5)}\n",
    "svc = svm.SVC()\n",
    "clf_svc = GridSearchCV(svc, parameters,n_jobs=-1)\n",
    "clf_svc.fit(train_feats, train_labels)"
   ]
  },
  {
   "cell_type": "raw",
   "id": "f4409461-d7c9-46cb-9b8e-cce2c1077013",
   "metadata": {},
   "source": [
    "data = cv2.ml.TrainData_create(feats,cv2.ml.ROW_SAMPLE,labels)\n",
    "data.setTrainTestSplitRatio(.8,shuffle=True)\n",
    "train_samples = data.getTrainSamples()\n",
    "train_responses = data.getTrainResponses()\n",
    "test_samples = data.getTestSamples()\n",
    "test_responses = data.getTestResponses()"
   ]
  },
  {
   "cell_type": "raw",
   "id": "7c2dc53c-3e11-4470-9d0e-b370ac04e2ba",
   "metadata": {},
   "source": [
    "model_rt = cv2.ml.RTrees_create()\n",
    "model_rt.setMaxCategories(4)\n",
    "model_rt.setMaxDepth(4)\n",
    "model_rt.setTermCriteria((cv2.TERM_CRITERIA_MAX_ITER+cv2.TERM_CRITERIA_EPS, 250, 1e-6))\n",
    "model_rt.train(train_samples,cv2.ml.ROW_SAMPLE,train_responses)\n",
    "_,pred_rt = model_rt.predict(test_samples)"
   ]
  },
  {
   "cell_type": "raw",
   "id": "1f5d0fbf-718f-4d3d-b0f4-6eb2d88f9d80",
   "metadata": {},
   "source": [
    "model_nb = cv2.ml.NormalBayesClassifier_create()\n",
    "#model_nb.setTermCriteria((cv2.TERM_CRITERIA_MAX_ITER+cv2.TERM_CRITERIA_EPS, 250, 1e-6))\n",
    "model_nb.train(train_samples,cv2.ml.ROW_SAMPLE,train_responses)\n",
    "_, pred_nb = model_nb.predict(test_samples)\n",
    "\n",
    "pred_nb = pred_nb.astype(np.int32)"
   ]
  },
  {
   "cell_type": "raw",
   "id": "bb4fd242-cd0d-46ff-ab4d-7aa1fa7deed1",
   "metadata": {},
   "source": [
    "model_em  = cv2.ml.EM_create()\n",
    "model_em.setClustersNumber(4)\n",
    "model_em.setCovarianceMatrixType(cv2.ml.EM_COV_MAT_DIAGONAL)\n",
    "model_em.setTermCriteria((cv2.TERM_CRITERIA_MAX_ITER+cv2.TERM_CRITERIA_EPS, 250, 1e-6))\n",
    "_ , _ , pred_em_train , _ = model_em.trainEM(train_samples)\n",
    "_ , pred_em_test = model_em.predict(test_samples)\n",
    "\n",
    "pred_em = np.argmax(pred_em_test,axis=1).reshape((-1,1))"
   ]
  },
  {
   "cell_type": "raw",
   "id": "ffcf784e-59e3-44ea-a820-5d02e73a5f9c",
   "metadata": {},
   "source": [
    "model_svm_rbf = cv2.ml.SVM_create()\n",
    "model_svm_rbf.setType(cv2.ml.SVM_C_SVC)\n",
    "model_svm_rbf.setKernel(cv2.ml.SVM_RBF)\n",
    "model_svm_rbf.setTermCriteria((cv2.TERM_CRITERIA_MAX_ITER+cv2.TERM_CRITERIA_EPS, 250, 1e-6))\n",
    "model_svm_rbf.trainAuto(train_samples,cv2.ml.ROW_SAMPLE,train_responses)\n",
    "_,pred_svm_rbf = model_svm_rbf.predict(test_samples)\n",
    "\n",
    "pred_svm_rbf = pred_svm_rbf.astype(np.int32)"
   ]
  },
  {
   "cell_type": "raw",
   "id": "984c3451-fb10-42f4-b171-4a30c8e06959",
   "metadata": {},
   "source": [
    "model_svm_lin = cv2.ml.SVM_create()\n",
    "model_svm_lin.setType(cv2.ml.SVM_C_SVC)\n",
    "model_svm_lin.setKernel(cv2.ml.SVM_LINEAR)\n",
    "model_svm_lin.setTermCriteria((cv2.TERM_CRITERIA_MAX_ITER+cv2.TERM_CRITERIA_EPS, 250, 1e-6))\n",
    "model_svm_lin.trainAuto(train_samples,cv2.ml.ROW_SAMPLE,train_responses)\n",
    "_,pred_svm_lin = model_svm_lin.predict(test_samples)\n",
    "\n",
    "pred_svm_lin = pred_svm_lin.astype(np.int32)"
   ]
  },
  {
   "cell_type": "raw",
   "id": "c63337f4-815c-4ade-b914-dc6b0ddaafae",
   "metadata": {},
   "source": [
    "model_svm_pol = cv2.ml.SVM_create()\n",
    "model_svm_pol.setType(cv2.ml.SVM_C_SVC)\n",
    "model_svm_pol.setKernel(cv2.ml.SVM_POLY)\n",
    "model_svm_pol.setDegree(2)\n",
    "model_svm_pol.setTermCriteria((cv2.TERM_CRITERIA_MAX_ITER+cv2.TERM_CRITERIA_EPS, 250, 1e-6))\n",
    "model_svm_pol.trainAuto(train_samples,cv2.ml.ROW_SAMPLE,train_responses)\n",
    "_,pred_svm_pol = model_svm_pol.predict(test_samples)\n",
    "\n",
    "pred_svm_pol = pred_svm_pol.astype(np.int32)"
   ]
  },
  {
   "cell_type": "code",
   "execution_count": null,
   "id": "d61b67c6-870c-46ad-913e-43703d0ea2c8",
   "metadata": {},
   "outputs": [],
   "source": [
    "def cornfusion(obs,pred,nclass):\n",
    "    M = np.zeros((nclass,nclass))\n",
    "    for i in range(obs.shape[0]):\n",
    "        o = obs[i][0]\n",
    "        p = pred[i][0]\n",
    "        M[o,p] = M[o,p]+1\n",
    "    return M"
   ]
  },
  {
   "cell_type": "code",
   "execution_count": null,
   "id": "e7c2cf06-4e70-482e-85a7-58668c8d100b",
   "metadata": {},
   "outputs": [],
   "source": [
    "M_svm_rbf = cornfusion(test_labels,pred_svm_rbf,n_components)\n",
    "\n",
    "M_svm_lin = cornfusion(test_labels,pred_svm_lin,n_components)\n",
    "\n",
    "M_svm_pol = cornfusion(test_labels,pred_svm_pol,n_components)\n",
    "\n",
    "M_nb = cornfusion(test_labels,pred_nb,n_components)\n",
    "\n",
    "M_rt = cornfusion(test_labels,pred_rt,n_components)\n",
    "\n",
    "M_em = cornfusion(test_labels,pred_em,n_components)\n",
    "\n",
    "M_rt = M_rt/np.sum(M_rt,axis=1).reshape((-1,1))\n",
    "\n",
    "M_nb = M_nb/np.sum(M_nb,axis=1).reshape((-1,1))\n",
    "\n",
    "M_svm_rbf = M_svm_rbf/np.sum(M_svm_rbf,axis=1).reshape((-1,1))\n",
    "\n",
    "M_svm_lin = M_svm_lin/np.sum(M_svm_lin,axis=1).reshape((-1,1))\n",
    "\n",
    "M_svm_pol = M_svm_pol/np.sum(M_svm_pol,axis=1).reshape((-1,1))\n",
    "\n",
    "M_em = M_em/np.sum(M_em,axis=1).reshape((-1,1))"
   ]
  },
  {
   "cell_type": "code",
   "execution_count": null,
   "id": "0515f044-ac4f-4974-af20-0dbac754c749",
   "metadata": {},
   "outputs": [],
   "source": []
  }
 ],
 "metadata": {
  "kernelspec": {
   "display_name": "Python 3 (ipykernel)",
   "language": "python",
   "name": "python3"
  },
  "language_info": {
   "codemirror_mode": {
    "name": "ipython",
    "version": 3
   },
   "file_extension": ".py",
   "mimetype": "text/x-python",
   "name": "python",
   "nbconvert_exporter": "python",
   "pygments_lexer": "ipython3",
   "version": "3.9.2"
  }
 },
 "nbformat": 4,
 "nbformat_minor": 5
}
