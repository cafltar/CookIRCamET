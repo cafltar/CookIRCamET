{
 "cells": [
  {
   "cell_type": "code",
   "execution_count": 3,
   "id": "ba2f3914-07ae-4ddb-a066-973ecdc2a325",
   "metadata": {},
   "outputs": [
    {
     "ename": "SyntaxError",
     "evalue": "invalid syntax (solar.py, line 342)",
     "output_type": "error",
     "traceback": [
      "Traceback \u001b[1;36m(most recent call last)\u001b[0m:\n",
      "  File \u001b[0;32m\"C:\\Users\\joaquin\\anaconda3\\envs\\python-cv\\lib\\site-packages\\IPython\\core\\interactiveshell.py\"\u001b[0m, line \u001b[0;32m3444\u001b[0m, in \u001b[0;35mrun_code\u001b[0m\n    exec(code_obj, self.user_global_ns, self.user_ns)\n",
      "\u001b[1;36m  File \u001b[1;32m\"C:\\Users\\joaquin\\AppData\\Local\\Temp/ipykernel_20112/2708379975.py\"\u001b[1;36m, line \u001b[1;32m8\u001b[1;36m, in \u001b[1;35m<module>\u001b[1;36m\u001b[0m\n\u001b[1;33m    import solar\u001b[0m\n",
      "\u001b[1;36m  File \u001b[1;32m\"C:\\Users\\joaquin\\usda\\py\\CookIRCamET\\solar.py\"\u001b[1;36m, line \u001b[1;32m342\u001b[0m\n\u001b[1;33m    if RsOpt = 1:\u001b[0m\n\u001b[1;37m             ^\u001b[0m\n\u001b[1;31mSyntaxError\u001b[0m\u001b[1;31m:\u001b[0m invalid syntax\n"
     ]
    }
   ],
   "source": [
    "import sys\n",
    "import numpy as np\n",
    "import cv2\n",
    "from time import sleep\n",
    "from datetime import datetime\n",
    "import os\n",
    "import numpy as np\n",
    "import solar\n",
    "from pandas import read_csv, DataFrame\n",
    "\n",
    "import logging\n",
    "logging.basicConfig(level=logging.INFO)"
   ]
  },
  {
   "cell_type": "code",
   "execution_count": null,
   "id": "b15e01d6-a381-4971-b8dc-4a469c18b1d8",
   "metadata": {},
   "outputs": [],
   "source": []
  }
 ],
 "metadata": {
  "kernelspec": {
   "display_name": "Python 3 (ipykernel)",
   "language": "python",
   "name": "python3"
  },
  "language_info": {
   "codemirror_mode": {
    "name": "ipython",
    "version": 3
   },
   "file_extension": ".py",
   "mimetype": "text/x-python",
   "name": "python",
   "nbconvert_exporter": "python",
   "pygments_lexer": "ipython3",
   "version": "3.9.7"
  }
 },
 "nbformat": 4,
 "nbformat_minor": 5
}
