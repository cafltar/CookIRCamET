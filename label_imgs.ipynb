{
 "cells": [
  {
   "cell_type": "code",
   "execution_count": null,
   "id": "bdab2c62-7f51-4cf4-8b70-1eb61e82487a",
   "metadata": {},
   "outputs": [],
   "source": [
    "import sys\n",
    "import numpy as np\n",
    "import cv2\n",
    "import cv2.ml\n",
    "from time import sleep\n",
    "import pytz\n",
    "from datetime import datetime\n",
    "from pysolar import solar\n",
    "import os\n",
    "import numpy as np\n",
    "from random import shuffle\n",
    "from matplotlib import pyplot as plt\n",
    "import matplotlib as mpl\n",
    "import pandas as pd\n",
    "from pandas import read_csv, read_excel, DataFrame\n",
    "from skimage.feature import hessian_matrix_det as Hessian\n",
    "from skimage.feature import local_binary_pattern as LBP\n",
    "import pickle\n",
    "import logging\n",
    "logging.basicConfig(level=logging.INFO)\n",
    "\n",
    "p0 = os.path.join('../../','raw','CookIRCamET','Images','CookHY2023')\n",
    "p00 = os.path.join('../../','raw','CookIRCamET','Images','CprlHY2023')\n",
    "p3 = os.path.join('../../','work','CookIRCamET','Working')\n",
    "n_components1 = 2\n",
    "n_components2 = 4\n",
    "n_components3 = 8\n",
    "\n",
    "\n",
    "# In[2]:\n",
    "\n",
    "cmap3 = mpl.colors.ListedColormap(['y', 'r', 'g','w','b','m','c','k'])\n",
    "norm3 = mpl.colors.BoundaryNorm([0,1,2,3,4,5,6,7,8], cmap3.N)"
   ]
  },
  {
   "cell_type": "code",
   "execution_count": null,
   "id": "f982153e-c009-4163-9128-3e99a52e6b8b",
   "metadata": {},
   "outputs": [],
   "source": [
    "model_mlp3_v1 = pickle.load(open(os.path.join(p3,'finalized_model3_mlp.pk.sav'), 'rb'))\n",
    "scaler_v1 = pickle.load(open(os.path.join(p3,'scaler_mlp.pk.sav'), 'rb'))\n",
    "model_mlp3_v2 = pickle.load(open(os.path.join(p3,'finalized_model3_mlp_v2.pk.sav'), 'rb'))\n",
    "scaler_v2 = pickle.load(open(os.path.join(p3,'scaler_mlp_v2.pk.sav'), 'rb'))\n",
    "\n",
    "cal_nsar_v0 = pickle.load(open(os.path.join(p3,'calibration_nsar1.pk.sav'), 'rb'))#20220705\n",
    "cal_nsar_v1 = pickle.load(open(os.path.join(p3,'calibration_nsar2.pk.sav'), 'rb'))#20221122\n",
    "cal_nsar_v2 = pickle.load(open(os.path.join(p3,'calibration_nsar3.pk.sav'), 'rb'))#20230315\n",
    "cal_cprl = pickle.load(open(os.path.join(p3,'calibration_cprl1.pk.sav'), 'rb'))#20230305"
   ]
  },
  {
   "cell_type": "code",
   "execution_count": null,
   "id": "0ae971e5-0fa1-40b9-bd3a-1472752448c1",
   "metadata": {},
   "outputs": [],
   "source": [
    "def localSD(mat, n):    \n",
    "    mat=np.float32(mat)\n",
    "    mu = cv2.blur(mat,(n,n))\n",
    "    mdiff=mu-mat\n",
    "    mat2=cv2.blur(np.float64(mdiff*mdiff),(n,n))\n",
    "    sd = np.float32(cv2.sqrt(mat2))\n",
    "    \n",
    "    return sd"
   ]
  },
  {
   "cell_type": "code",
   "execution_count": null,
   "id": "ddc1eb1c-c87d-4621-850b-37fde4e1845b",
   "metadata": {},
   "outputs": [],
   "source": [
    "def quadrant(img_size,coord):\n",
    "    if coord[0]>img_size[1]/2 and coord[1]>img_size[0]/2:\n",
    "        return 1\n",
    "    elif coord[0]>img_size[1]/2 and coord[1]<=img_size[0]/2:\n",
    "        return 4\n",
    "    elif coord[0]<=img_size[1]/2 and coord[1]>img_size[0]/2:\n",
    "        return 2\n",
    "    else:\n",
    "        return 3"
   ]
  },
  {
   "cell_type": "code",
   "execution_count": null,
   "id": "85a4fed8-bb28-41ec-85ca-0ea9672019ec",
   "metadata": {
    "tags": []
   },
   "outputs": [],
   "source": [
    "def register_ir(ir,v,bgr,warp_mat=None):\n",
    "    \n",
    "    dilate_v=True\n",
    "    dilate_ir=False\n",
    "    erode_v=True\n",
    "    erode_ir=False\n",
    "    hough_thresh_ir=36\n",
    "    if v.shape[1]==1280:\n",
    "        hough_thresh_v=240    \n",
    "    elif v.shape[1]==1920:\n",
    "        hough_thresh_v=360\n",
    "    if warp_mat is None:\n",
    "        print('Calculate affine')\n",
    "        srcXY, dstXY = [], []\n",
    "        cv2.normalize(ir, ir, 0, 65535, cv2.NORM_MINMAX)\n",
    "        cv2.normalize(v, v, 0, 255, cv2.NORM_MINMAX)\n",
    "\n",
    "        ir=np.uint8(np.right_shift(ir, 8, ir))\n",
    "\n",
    "        # Otsu's thresholding\n",
    "        xwin = int(v.shape[1]/(1280/240))+1\n",
    "        C=-50\n",
    "        if v.shape[1]==1920: C=-87\n",
    "        # print(xwin,C)\n",
    "        # print(v.shape)\n",
    "        v = cv2.adaptiveThreshold(v,255,cv2.ADAPTIVE_THRESH_MEAN_C,cv2.THRESH_BINARY,xwin,C)\n",
    "        #_,v = cv2.threshold(v,245,255,cv2.THRESH_BINARY+cv2.THRESH_OTSU)\n",
    "        ir = cv2.adaptiveThreshold(ir,255,cv2.ADAPTIVE_THRESH_MEAN_C,cv2.THRESH_BINARY_INV,41,50)\n",
    "        #_,ir = cv2.threshold(ir,137,255,cv2.THRESH_BINARY_INV+cv2.THRESH_OTSU)\n",
    "        erodewin = int(1920/(1280/2))+1\n",
    "        if erode_v:\n",
    "            kernel = np.ones((erodewin,erodewin),np.uint8)\n",
    "            v = cv2.erode(v,kernel,iterations = 1)\n",
    "\n",
    "        if erode_ir:    \n",
    "            kernel = np.ones((erodewin,erodewin),np.uint8)\n",
    "            ir = cv2.erode(ir,kernel,iterations = 1)\n",
    "\n",
    "        if dilate_v:\n",
    "            kernel = np.ones((erodewin,erodewin),np.uint8)\n",
    "            v = cv2.dilate(v,kernel,iterations = 1)\n",
    "\n",
    "        if dilate_ir:\n",
    "            kernel = np.ones((erodewin,erodewin),np.uint8)\n",
    "            ir = cv2.dilate(ir,kernel,iterations = 1)\n",
    "        \n",
    "        # plt.imshow(v)\n",
    "        # plt.title('v')\n",
    "        # plt.show()     \n",
    "        # plt.imshow(ir)\n",
    "        # plt.title('ir')\n",
    "        # plt.show()     \n",
    "\n",
    "        line_params_v={'slope':[],'intercept':[]}\n",
    "        lines_v = cv2.HoughLines(v,1,np.pi/180,hough_thresh_v)\n",
    "        slope = np.zeros(lines_v.shape[0])\n",
    "        intercept = np.zeros(lines_v.shape[0])\n",
    "        four_v = np.zeros((lines_v.shape[0],4))\n",
    "        ii = 0\n",
    "        for line in lines_v:\n",
    "            rho,theta = line[0]\n",
    "            a = np.cos(theta)\n",
    "            b = np.sin(theta)\n",
    "            x0 = a*rho\n",
    "            y0 = b*rho\n",
    "            x1 = int(x0 + v.shape[1]*(-b))\n",
    "            y1 = int(y0 + v.shape[1]*(a))\n",
    "            x2 = int(x0 - v.shape[1]*(-b))\n",
    "            y2 = int(y0 - v.shape[1]*(a))\n",
    "            cv2.line(bgr,(x1,y1),(x2,y2),(0,0,255),2)\n",
    "            four_v[ii,:]=np.array([x1,y1,x2,y2])\n",
    "            if x2==x1:\n",
    "                slope[ii]=(y2-y1)/(x2-x1+.0000001*np.random.randn(1))\n",
    "            else:\n",
    "                slope[ii]=(y2-y1)/(x2-x1)\n",
    "            intercept[ii]=(y2-slope[ii]*x2)\n",
    "            ii = ii+1\n",
    "\n",
    "        line_params_v['slope']=slope\n",
    "        line_params_v['intercept']=intercept\n",
    "\n",
    "        lines_ir = cv2.HoughLines(ir,1,np.pi/180,hough_thresh_ir)\n",
    "        line_params_ir={'slope':[],'intercept':[]}\n",
    "        slope = np.zeros(lines_ir.shape[0])\n",
    "        intercept = np.zeros(lines_ir.shape[0])\n",
    "        four_ir = np.zeros((lines_ir.shape[0],4))\n",
    "        ii = 0\n",
    "        for line in lines_ir:\n",
    "            rho,theta = line[0]\n",
    "            a = np.cos(theta)\n",
    "            b = np.sin(theta)\n",
    "            x0 = a*rho\n",
    "            y0 = b*rho\n",
    "            x1 = int(x0 + 200*(-b))\n",
    "            y1 = int(y0 + 200*(a))\n",
    "            x2 = int(x0 - 200*(-b))\n",
    "            y2 = int(y0 - 200*(a))\n",
    "            cv2.line(bgr,(x1,y1),(x2,y2),(255,0,0),2)\n",
    "            four_ir[ii,:]=np.array([x1,y1,x2,y2])\n",
    "            if x2==x1:\n",
    "                slope[ii]=(y2-y1)/(x2-x1+.0000001*np.random.randn(1))\n",
    "            else:\n",
    "                slope[ii]=(y2-y1)/(x2-x1)\n",
    "            intercept[ii]=(y2-slope[ii]*x2)\n",
    "            ii = ii+1\n",
    "        line_params_ir['slope']=slope\n",
    "        line_params_ir['intercept']=intercept\n",
    "\n",
    "        n = line_params_v['slope'].shape[0]\n",
    "        combos = int((n*(n-1))/2)\n",
    "        corner_v = np.zeros((combos,2))\n",
    "        kk = 0\n",
    "        for ii in range(line_params_v['slope'].shape[0]):\n",
    "            for jj in range(ii,line_params_v['slope'].shape[0]):\n",
    "                if ii!=jj:\n",
    "                    if np.abs(np.abs(line_params_v['slope'][ii])*np.abs(line_params_v['slope'][jj])-1)<.1:\n",
    "                        x = (line_params_v['intercept'][jj]-line_params_v['intercept'][ii])/(line_params_v['slope'][ii]-line_params_v['slope'][jj])\n",
    "                        y = line_params_v['slope'][ii]*x+line_params_v['intercept'][ii]\n",
    "                        corner_v[kk,0] = x\n",
    "                        corner_v[kk,1] = y\n",
    "                        kk = kk+1\n",
    "                        try:\n",
    "                            cv2.circle(bgr, (int(x),int(y)), radius=3, color=(0, 0, 0), thickness=-1)\n",
    "                        except:\n",
    "                            pass\n",
    "                    else:\n",
    "                        x = np.nan\n",
    "                        y = np.nan\n",
    "                        corner_v[kk,0] = x\n",
    "                        corner_v[kk,1] = y\n",
    "                        kk = kk+1\n",
    "        n = line_params_ir['slope'].shape[0]\n",
    "        combos = int((n*(n-1))/2)\n",
    "        corner_ir = np.zeros((combos,2))\n",
    "        kk = 0\n",
    "        for ii in range(line_params_ir['slope'].shape[0]):\n",
    "            for jj in range(ii,line_params_ir['slope'].shape[0]):\n",
    "                if ii!=jj:\n",
    "                    if np.abs(np.abs(line_params_ir['slope'][ii])*np.abs(line_params_ir['slope'][jj])-1)<.1:\n",
    "                        x = (line_params_ir['intercept'][jj]-line_params_ir['intercept'][ii])/(line_params_ir['slope'][ii]-line_params_ir['slope'][jj])\n",
    "                        y = line_params_ir['slope'][ii]*x+line_params_ir['intercept'][ii]\n",
    "                        corner_ir[kk,0] = x\n",
    "                        corner_ir[kk,1] = y\n",
    "                        kk = kk+1\n",
    "                        try:\n",
    "                            cv2.circle(bgr, (int(x),int(y)), radius=3, color=(255, 255, 255), thickness=-1)\n",
    "                        except:\n",
    "                            pass\n",
    "                    else:\n",
    "                        x = np.nan\n",
    "                        y = np.nan\n",
    "                        corner_ir[kk,0] = x\n",
    "                        corner_ir[kk,1] = y\n",
    "                        kk = kk+1\n",
    "\n",
    "        corner_ir = corner_ir[np.argwhere(np.isnan(corner_ir[:,0])==False)[:,0],]\n",
    "        corner_v = corner_v[np.argwhere(np.isnan(corner_v[:,0])==False)[:,0],]\n",
    "\n",
    "       \n",
    "        # plt.imshow(bgr)\n",
    "        # plt.show()     \n",
    "        # plt.imshow(ir)\n",
    "        # plt.show()     \n",
    "\n",
    "        q_v = np.zeros(corner_v.shape[0])\n",
    "        q_ir = np.zeros(corner_ir.shape[0])\n",
    "        for ii in range(corner_v.shape[0]):\n",
    "            q_v[ii] = quadrant(bgr.shape[0:2],corner_v[ii,:])    \n",
    "        for jj in range(corner_ir.shape[0]):\n",
    "            q_ir[jj] = quadrant(ir.shape[0:2],corner_ir[jj,:])\n",
    "\n",
    "        q_list=list()\n",
    "        for ii in range(corner_v.shape[0]):\n",
    "            for jj in range(corner_ir.shape[0]):\n",
    "                if q_v[ii]==q_ir[jj]:\n",
    "                    srcXY.append(corner_ir[jj,:])\n",
    "                    dstXY.append(corner_v[ii,:])\n",
    "                    q_list.append(q_v[ii])\n",
    "                    \n",
    "        srcXY = np.float32(np.array(srcXY))\n",
    "        dstXY = np.float32(np.array(dstXY))\n",
    "        q_list = np.float32(np.array(q_list))\n",
    "        \n",
    "        src = np.zeros((4,2))\n",
    "        dst = np.zeros((4,2))\n",
    "        \n",
    "        for i in range(4):\n",
    "            src[i,:] = np.mean(srcXY[q_list==i+1,:],axis=0)\n",
    "            dst[i,:] = np.mean(dstXY[q_list==i+1,:],axis=0)\n",
    "        warp_mat = cv2.estimateAffine2D(src,dst)\n",
    "        warp_dst = None\n",
    "    else:\n",
    "        print('Apply affine')\n",
    "        warp_dst = cv2.warpAffine(ir, warp_mat[0], (v.shape[1], v.shape[0]),flags=cv2.INTER_NEAREST)   \n",
    "    return warp_mat, warp_dst"
   ]
  },
  {
   "cell_type": "code",
   "execution_count": 45,
   "id": "62bef15d-f62d-4ce3-b02e-35445ea1fc1f",
   "metadata": {
    "tags": []
   },
   "outputs": [
    {
     "name": "stdout",
     "output_type": "stream",
     "text": [
      "20230405_145216_bgr.png\n",
      "20230405_155216_bgr.png\n",
      "20230405_165217_bgr.png\n",
      "20230405_175217_bgr.png\n",
      "20230405_185218_bgr.png\n",
      "20230405_195219_bgr.png\n",
      "20230405_205219_bgr.png\n",
      "20230405_215220_bgr.png\n",
      "20230405_225220_bgr.png\n",
      "20230405_235220_bgr.png\n",
      "20230406_005221_bgr.png\n",
      "20230406_015221_bgr.png\n",
      "20230406_025222_bgr.png\n",
      "20230406_035222_bgr.png\n",
      "20230406_045222_bgr.png\n",
      "20230406_055223_bgr.png\n",
      "20230406_065223_bgr.png\n",
      "20230406_075223_bgr.png\n",
      "20230406_085223_bgr.png\n",
      "20230406_095224_bgr.png\n",
      "20230406_105224_bgr.png\n",
      "20230406_115224_bgr.png\n",
      "20230406_125225_bgr.png\n",
      "20230406_135225_bgr.png\n",
      "20230406_145225_bgr.png\n",
      "20230406_155226_bgr.png\n",
      "20230406_165226_bgr.png\n",
      "20230406_175227_bgr.png\n",
      "20230406_185227_bgr.png\n",
      "20230406_195228_bgr.png\n",
      "20230406_205228_bgr.png\n",
      "20230406_215229_bgr.png\n",
      "20230406_225229_bgr.png\n",
      "20230406_235230_bgr.png\n",
      "20230407_005230_bgr.png\n",
      "20230407_015231_bgr.png\n",
      "20230407_025231_bgr.png\n",
      "20230407_035231_bgr.png\n",
      "20230407_045232_bgr.png\n",
      "20230407_055232_bgr.png\n",
      "20230407_065232_bgr.png\n",
      "20230407_075233_bgr.png\n",
      "20230407_085233_bgr.png\n",
      "20230407_095233_bgr.png\n",
      "20230407_105233_bgr.png\n",
      "20230407_115234_bgr.png\n",
      "20230407_125234_bgr.png\n",
      "20230407_135234_bgr.png\n",
      "20230407_145235_bgr.png\n",
      "20230407_155235_bgr.png\n",
      "20230407_165236_bgr.png\n",
      "20230407_175236_bgr.png\n",
      "20230407_185237_bgr.png\n",
      "20230407_195237_bgr.png\n",
      "20230407_205238_bgr.png\n",
      "20230407_215238_bgr.png\n",
      "20230407_225239_bgr.png\n",
      "20230407_235239_bgr.png\n",
      "20230408_005240_bgr.png\n",
      "20230408_015240_bgr.png\n",
      "20230408_025241_bgr.png\n",
      "20230408_035241_bgr.png\n",
      "20230408_045241_bgr.png\n",
      "20230408_055241_bgr.png\n",
      "20230408_065242_bgr.png\n",
      "20230408_075242_bgr.png\n",
      "20230408_085242_bgr.png\n",
      "20230408_095242_bgr.png\n",
      "20230408_105243_bgr.png\n",
      "20230408_115243_bgr.png\n",
      "20230408_125243_bgr.png\n",
      "20230408_135243_bgr.png\n",
      "20230408_145244_bgr.png\n",
      "20230408_155244_bgr.png\n",
      "20230408_165245_bgr.png\n",
      "20230408_175245_bgr.png\n",
      "20230408_185246_bgr.png\n",
      "20230408_195246_bgr.png\n",
      "20230408_205247_bgr.png\n",
      "20230408_215247_bgr.png\n",
      "20230408_225248_bgr.png\n",
      "20230408_235248_bgr.png\n",
      "20230409_005249_bgr.png\n",
      "20230409_015249_bgr.png\n",
      "20230409_025250_bgr.png\n",
      "20230409_035250_bgr.png\n",
      "20230409_045250_bgr.png\n",
      "20230409_055250_bgr.png\n",
      "20230409_065251_bgr.png\n",
      "20230409_075251_bgr.png\n",
      "20230409_085251_bgr.png\n",
      "20230409_095252_bgr.png\n",
      "20230409_105252_bgr.png\n",
      "20230409_115252_bgr.png\n",
      "20230409_125252_bgr.png\n",
      "20230409_135253_bgr.png\n",
      "20230409_145253_bgr.png\n",
      "20230409_155254_bgr.png\n",
      "20230409_165254_bgr.png\n",
      "20230409_175255_bgr.png\n",
      "20230409_185255_bgr.png\n",
      "20230409_195256_bgr.png\n",
      "20230409_205256_bgr.png\n",
      "20230409_215257_bgr.png\n",
      "20230409_225257_bgr.png\n",
      "20230409_235258_bgr.png\n",
      "20230410_005258_bgr.png\n",
      "20230410_015259_bgr.png\n",
      "20230410_025259_bgr.png\n",
      "20230410_035259_bgr.png\n",
      "20230410_045259_bgr.png\n",
      "20230410_055300_bgr.png\n",
      "20230410_065300_bgr.png\n",
      "20230410_075300_bgr.png\n",
      "20230410_085300_bgr.png\n",
      "20230410_095301_bgr.png\n",
      "20230410_105301_bgr.png\n",
      "20230410_115301_bgr.png\n",
      "20230410_125301_bgr.png\n",
      "20230410_135302_bgr.png\n",
      "20230410_145302_bgr.png\n",
      "20230410_155303_bgr.png\n",
      "20230410_165303_bgr.png\n",
      "20230410_175304_bgr.png\n",
      "20230410_185304_bgr.png\n",
      "20230410_195305_bgr.png\n",
      "20230410_205305_bgr.png\n",
      "20230410_215306_bgr.png\n",
      "20230410_225306_bgr.png\n",
      "20230410_235307_bgr.png\n",
      "20230411_005307_bgr.png\n",
      "20230411_015308_bgr.png\n",
      "20230411_025308_bgr.png\n",
      "20230411_035309_bgr.png\n",
      "20230411_045309_bgr.png\n",
      "20230411_055309_bgr.png\n",
      "20230411_065309_bgr.png\n",
      "20230411_075310_bgr.png\n",
      "20230411_085310_bgr.png\n",
      "20230411_095310_bgr.png\n",
      "20230411_105310_bgr.png\n",
      "20230411_115311_bgr.png\n",
      "20230411_125311_bgr.png\n",
      "20230411_135311_bgr.png\n",
      "20230411_145312_bgr.png\n",
      "20230411_155312_bgr.png\n",
      "20230411_165313_bgr.png\n",
      "20230411_175313_bgr.png\n",
      "20230411_185314_bgr.png\n",
      "20230411_195314_bgr.png\n",
      "20230411_205315_bgr.png\n",
      "20230411_215315_bgr.png\n",
      "20230411_225316_bgr.png\n",
      "20230411_235316_bgr.png\n",
      "20230412_005317_bgr.png\n",
      "20230412_015317_bgr.png\n",
      "20230412_025318_bgr.png\n",
      "20230412_035318_bgr.png\n",
      "20230412_045318_bgr.png\n",
      "20230412_055318_bgr.png\n",
      "20230412_065319_bgr.png\n",
      "20230412_075319_bgr.png\n",
      "20230412_085319_bgr.png\n",
      "20230412_095319_bgr.png\n",
      "20230412_105320_bgr.png\n",
      "20230412_115320_bgr.png\n",
      "20230412_125320_bgr.png\n",
      "20230412_135321_bgr.png\n",
      "20230412_145321_bgr.png\n",
      "20230412_155322_bgr.png\n",
      "20230412_165322_bgr.png\n",
      "20230412_175323_bgr.png\n",
      "20230412_185323_bgr.png\n",
      "20230412_195324_bgr.png\n",
      "20230412_205324_bgr.png\n",
      "20230412_215325_bgr.png\n",
      "20230412_225325_bgr.png\n",
      "20230412_235326_bgr.png\n",
      "20230413_005326_bgr.png\n",
      "20230413_015328_bgr.png\n",
      "20230413_025329_bgr.png\n",
      "20230413_035329_bgr.png\n",
      "20230413_045329_bgr.png\n",
      "20230413_055330_bgr.png\n",
      "20230413_065330_bgr.png\n",
      "20230413_075330_bgr.png\n",
      "20230413_085330_bgr.png\n",
      "20230413_095331_bgr.png\n",
      "20230413_105331_bgr.png\n",
      "20230413_115331_bgr.png\n",
      "20230413_125331_bgr.png\n",
      "20230413_135332_bgr.png\n",
      "20230413_145332_bgr.png\n",
      "20230413_155333_bgr.png\n",
      "20230413_165333_bgr.png\n",
      "20230413_175334_bgr.png\n",
      "20230413_185334_bgr.png\n",
      "20230413_195335_bgr.png\n",
      "20230413_205335_bgr.png\n",
      "20230413_215336_bgr.png\n",
      "20230413_225336_bgr.png\n",
      "20230413_235337_bgr.png\n",
      "20230414_005337_bgr.png\n",
      "20230414_015338_bgr.png\n",
      "20230414_025338_bgr.png\n",
      "20230414_035338_bgr.png\n",
      "20230414_045339_bgr.png\n",
      "20230414_055339_bgr.png\n",
      "20230414_065339_bgr.png\n",
      "20230414_075339_bgr.png\n",
      "20230414_085340_bgr.png\n",
      "20230414_095340_bgr.png\n",
      "20230414_105340_bgr.png\n",
      "20230414_115340_bgr.png\n",
      "20230414_125341_bgr.png\n",
      "20230414_135341_bgr.png\n",
      "20230414_145342_bgr.png\n",
      "20230414_155342_bgr.png\n",
      "20230414_165342_bgr.png\n",
      "20230414_175343_bgr.png\n",
      "20230414_185343_bgr.png\n",
      "20230414_195344_bgr.png\n",
      "20230414_205344_bgr.png\n",
      "20230414_215345_bgr.png\n",
      "20230414_225345_bgr.png\n",
      "20230414_235346_bgr.png\n",
      "20230415_005346_bgr.png\n",
      "20230415_015347_bgr.png\n",
      "20230415_025347_bgr.png\n",
      "20230415_035348_bgr.png\n",
      "20230415_045348_bgr.png\n",
      "20230415_055348_bgr.png\n",
      "20230415_065348_bgr.png\n",
      "20230415_075349_bgr.png\n",
      "20230415_085349_bgr.png\n",
      "20230415_095349_bgr.png\n",
      "20230415_105349_bgr.png\n",
      "20230415_115350_bgr.png\n",
      "20230415_125350_bgr.png\n",
      "20230415_135350_bgr.png\n",
      "20230415_145351_bgr.png\n",
      "20230415_155351_bgr.png\n",
      "20230415_165352_bgr.png\n",
      "20230415_175352_bgr.png\n",
      "20230415_185353_bgr.png\n",
      "20230415_195353_bgr.png\n",
      "20230415_205354_bgr.png\n",
      "20230415_215354_bgr.png\n",
      "20230415_225355_bgr.png\n",
      "20230415_235355_bgr.png\n",
      "20230416_005356_bgr.png\n",
      "20230416_015356_bgr.png\n",
      "20230416_025357_bgr.png\n",
      "20230416_035357_bgr.png\n",
      "20230416_045357_bgr.png\n",
      "20230416_055358_bgr.png\n",
      "20230416_065358_bgr.png\n",
      "20230416_075358_bgr.png\n",
      "20230416_085358_bgr.png\n",
      "20230416_095359_bgr.png\n",
      "20230416_105359_bgr.png\n",
      "20230416_115359_bgr.png\n",
      "20230416_125400_bgr.png\n",
      "20230416_135400_bgr.png\n",
      "20230416_145400_bgr.png\n",
      "20230416_155401_bgr.png\n",
      "20230416_165401_bgr.png\n",
      "20230416_175402_bgr.png\n",
      "20230416_185402_bgr.png\n",
      "20230416_195403_bgr.png\n",
      "20230416_205403_bgr.png\n",
      "20230416_215404_bgr.png\n",
      "20230416_225404_bgr.png\n",
      "20230416_235405_bgr.png\n",
      "20230417_005405_bgr.png\n",
      "20230417_015406_bgr.png\n",
      "20230417_025406_bgr.png\n",
      "20230417_035406_bgr.png\n",
      "20230417_045407_bgr.png\n",
      "20230417_055407_bgr.png\n",
      "20230417_065407_bgr.png\n",
      "20230417_075407_bgr.png\n",
      "20230417_085408_bgr.png\n",
      "20230417_095408_bgr.png\n",
      "20230417_105408_bgr.png\n",
      "20230417_115409_bgr.png\n",
      "20230417_125409_bgr.png\n",
      "20230417_135409_bgr.png\n",
      "20230417_145410_bgr.png\n",
      "20230417_155410_bgr.png\n",
      "20230417_165411_bgr.png\n",
      "20230417_175411_bgr.png\n",
      "20230417_185412_bgr.png\n",
      "20230417_195412_bgr.png\n",
      "20230417_205413_bgr.png\n",
      "20230417_215413_bgr.png\n",
      "20230417_225414_bgr.png\n",
      "20230417_235414_bgr.png\n",
      "20230418_005415_bgr.png\n",
      "20230418_015415_bgr.png\n",
      "20230418_025416_bgr.png\n",
      "20230418_035416_bgr.png\n",
      "20230418_045416_bgr.png\n",
      "20230418_055417_bgr.png\n",
      "20230418_065417_bgr.png\n",
      "20230418_075417_bgr.png\n",
      "20230418_085417_bgr.png\n",
      "20230418_095417_bgr.png\n",
      "20230418_105418_bgr.png\n",
      "20230418_115418_bgr.png\n",
      "20230418_125418_bgr.png\n",
      "20230418_135419_bgr.png\n",
      "20230418_145419_bgr.png\n",
      "20230418_155419_bgr.png\n",
      "20230418_165420_bgr.png\n",
      "20230418_175420_bgr.png\n",
      "20230418_185421_bgr.png\n",
      "20230418_195421_bgr.png\n",
      "20230418_205422_bgr.png\n",
      "20230418_215423_bgr.png\n",
      "20230418_225423_bgr.png\n",
      "20230418_235423_bgr.png\n",
      "20230419_005424_bgr.png\n",
      "20230419_015424_bgr.png\n",
      "20230419_025425_bgr.png\n",
      "20230419_035425_bgr.png\n",
      "20230419_045425_bgr.png\n",
      "20230419_055426_bgr.png\n",
      "20230419_065426_bgr.png\n",
      "20230419_075426_bgr.png\n",
      "20230419_085426_bgr.png\n",
      "20230419_095427_bgr.png\n",
      "20230419_105427_bgr.png\n",
      "20230419_115427_bgr.png\n",
      "20230419_125427_bgr.png\n",
      "20230419_135428_bgr.png\n",
      "20230419_145428_bgr.png\n",
      "20230419_155429_bgr.png\n",
      "20230419_165429_bgr.png\n",
      "20230419_175430_bgr.png\n",
      "20230419_185430_bgr.png\n",
      "20230419_195431_bgr.png\n",
      "20230419_205431_bgr.png\n",
      "20230419_215432_bgr.png\n",
      "20230419_225432_bgr.png\n",
      "20230419_235433_bgr.png\n",
      "20230420_005433_bgr.png\n",
      "20230420_015434_bgr.png\n",
      "20230420_025434_bgr.png\n",
      "20230420_035435_bgr.png\n",
      "20230420_045435_bgr.png\n",
      "20230420_055435_bgr.png\n",
      "20230420_065436_bgr.png\n",
      "20230420_075436_bgr.png\n",
      "20230420_085436_bgr.png\n",
      "20230420_095436_bgr.png\n",
      "20230420_105437_bgr.png\n",
      "20230420_115437_bgr.png\n",
      "20230420_125437_bgr.png\n",
      "20230420_135437_bgr.png\n",
      "20230420_145438_bgr.png\n",
      "20230420_155438_bgr.png\n",
      "20230420_165439_bgr.png\n",
      "20230420_175439_bgr.png\n",
      "20230420_185440_bgr.png\n",
      "20230420_195440_bgr.png\n",
      "20230420_205441_bgr.png\n",
      "20230420_215441_bgr.png\n",
      "20230420_225442_bgr.png\n",
      "20230420_235442_bgr.png\n",
      "20230421_005443_bgr.png\n",
      "20230421_015443_bgr.png\n",
      "20230421_025444_bgr.png\n",
      "20230421_035444_bgr.png\n",
      "20230421_045444_bgr.png\n",
      "20230421_055445_bgr.png\n",
      "20230421_065445_bgr.png\n",
      "20230421_075445_bgr.png\n",
      "20230421_085445_bgr.png\n",
      "20230421_095446_bgr.png\n",
      "20230421_105446_bgr.png\n",
      "20230421_115446_bgr.png\n",
      "20230421_125446_bgr.png\n",
      "20230421_135447_bgr.png\n",
      "20230421_145447_bgr.png\n",
      "20230421_155448_bgr.png\n",
      "20230421_165448_bgr.png\n",
      "20230421_175449_bgr.png\n",
      "20230421_185449_bgr.png\n",
      "20230421_195450_bgr.png\n",
      "20230421_205450_bgr.png\n",
      "20230421_215451_bgr.png\n",
      "20230421_225451_bgr.png\n",
      "20230421_235452_bgr.png\n",
      "20230422_005452_bgr.png\n",
      "20230422_015453_bgr.png\n",
      "20230422_025453_bgr.png\n",
      "20230422_035454_bgr.png\n",
      "20230422_045454_bgr.png\n",
      "20230422_055454_bgr.png\n",
      "20230422_065454_bgr.png\n",
      "20230422_075455_bgr.png\n",
      "20230422_085455_bgr.png\n",
      "20230422_095455_bgr.png\n",
      "20230422_105455_bgr.png\n",
      "20230422_115456_bgr.png\n",
      "20230422_125456_bgr.png\n",
      "20230422_135456_bgr.png\n",
      "20230422_145457_bgr.png\n",
      "20230422_155457_bgr.png\n",
      "20230422_165458_bgr.png\n",
      "20230422_175458_bgr.png\n",
      "20230422_185459_bgr.png\n",
      "20230422_195459_bgr.png\n",
      "20230422_205500_bgr.png\n",
      "20230422_215500_bgr.png\n",
      "20230422_225501_bgr.png\n",
      "20230422_235501_bgr.png\n",
      "20230423_005502_bgr.png\n",
      "20230423_015502_bgr.png\n",
      "20230423_025503_bgr.png\n",
      "20230423_035503_bgr.png\n",
      "20230423_045503_bgr.png\n",
      "20230423_055504_bgr.png\n",
      "20230423_065504_bgr.png\n",
      "20230423_075504_bgr.png\n",
      "20230423_085505_bgr.png\n",
      "20230423_095505_bgr.png\n",
      "20230423_105505_bgr.png\n",
      "20230423_115505_bgr.png\n",
      "20230423_125506_bgr.png\n",
      "20230423_135506_bgr.png\n",
      "20230423_145507_bgr.png\n",
      "20230423_155507_bgr.png\n",
      "20230423_165508_bgr.png\n",
      "20230423_175508_bgr.png\n",
      "20230423_185509_bgr.png\n",
      "20230423_195509_bgr.png\n",
      "20230423_205510_bgr.png\n",
      "20230423_215510_bgr.png\n",
      "20230423_225511_bgr.png\n",
      "20230423_235511_bgr.png\n",
      "20230424_005512_bgr.png\n",
      "20230424_015512_bgr.png\n",
      "20230424_025513_bgr.png\n",
      "20230424_035513_bgr.png\n",
      "20230424_045513_bgr.png\n",
      "20230424_055514_bgr.png\n",
      "20230424_065514_bgr.png\n",
      "20230424_075514_bgr.png\n",
      "20230424_085514_bgr.png\n",
      "20230424_095515_bgr.png\n",
      "20230424_105515_bgr.png\n",
      "20230424_115515_bgr.png\n",
      "20230424_125515_bgr.png\n",
      "20230424_135516_bgr.png\n",
      "20230424_145516_bgr.png\n",
      "20230424_155517_bgr.png\n",
      "20230424_165517_bgr.png\n",
      "20230424_175518_bgr.png\n",
      "20230424_185518_bgr.png\n",
      "20230424_195519_bgr.png\n",
      "20230424_205519_bgr.png\n",
      "20230424_215520_bgr.png\n",
      "20230424_225520_bgr.png\n",
      "20230424_235521_bgr.png\n",
      "20230425_005521_bgr.png\n",
      "20230425_015522_bgr.png\n",
      "20230425_025522_bgr.png\n",
      "20230425_035522_bgr.png\n",
      "20230425_045523_bgr.png\n",
      "20230425_055523_bgr.png\n",
      "20230425_065523_bgr.png\n",
      "20230425_075523_bgr.png\n",
      "20230425_085523_bgr.png\n",
      "20230425_095524_bgr.png\n",
      "20230425_105524_bgr.png\n",
      "20230425_115524_bgr.png\n",
      "20230425_125525_bgr.png\n",
      "20230425_135525_bgr.png\n",
      "20230425_145525_bgr.png\n",
      "20230425_155526_bgr.png\n",
      "20230425_165526_bgr.png\n",
      "20230425_175527_bgr.png\n",
      "20230425_185527_bgr.png\n",
      "20230425_195528_bgr.png\n",
      "20230425_205528_bgr.png\n",
      "20230425_215529_bgr.png\n",
      "20230425_225529_bgr.png\n",
      "20230425_235530_bgr.png\n",
      "20230426_005531_bgr.png\n",
      "20230426_015531_bgr.png\n",
      "20230426_025531_bgr.png\n",
      "20230426_035532_bgr.png\n",
      "20230426_045532_bgr.png\n",
      "20230426_055532_bgr.png\n",
      "20230426_065533_bgr.png\n",
      "20230426_075533_bgr.png\n",
      "20230426_085533_bgr.png\n",
      "20230426_095533_bgr.png\n",
      "20230426_105534_bgr.png\n",
      "20230426_115534_bgr.png\n",
      "20230426_125534_bgr.png\n",
      "20230426_135535_bgr.png\n",
      "20230426_145535_bgr.png\n",
      "20230426_155536_bgr.png\n",
      "20230426_165536_bgr.png\n",
      "20230426_175537_bgr.png\n",
      "20230426_185537_bgr.png\n",
      "20230426_195538_bgr.png\n",
      "20230426_205538_bgr.png\n",
      "20230426_215539_bgr.png\n",
      "20230426_225539_bgr.png\n",
      "20230426_235540_bgr.png\n",
      "20230427_005540_bgr.png\n",
      "20230427_015541_bgr.png\n",
      "20230427_025541_bgr.png\n",
      "20230427_035541_bgr.png\n",
      "20230427_045542_bgr.png\n",
      "20230427_055542_bgr.png\n",
      "20230427_065542_bgr.png\n",
      "20230427_075542_bgr.png\n",
      "20230427_085543_bgr.png\n",
      "20230427_095543_bgr.png\n",
      "20230427_105543_bgr.png\n",
      "20230427_115543_bgr.png\n",
      "20230427_125544_bgr.png\n",
      "20230427_135544_bgr.png\n",
      "20230427_145545_bgr.png\n",
      "20230427_155545_bgr.png\n",
      "20230427_165546_bgr.png\n",
      "20230427_175546_bgr.png\n",
      "20230427_185547_bgr.png\n",
      "20230427_195547_bgr.png\n",
      "20230427_205548_bgr.png\n",
      "20230427_215548_bgr.png\n",
      "20230427_225549_bgr.png\n",
      "20230427_235549_bgr.png\n",
      "20230428_005550_bgr.png\n",
      "20230428_015550_bgr.png\n",
      "20230428_025551_bgr.png\n",
      "20230428_035551_bgr.png\n",
      "20230428_045551_bgr.png\n",
      "20230428_055551_bgr.png\n",
      "20230428_065552_bgr.png\n",
      "20230428_075552_bgr.png\n",
      "20230428_085552_bgr.png\n",
      "20230428_095553_bgr.png\n",
      "20230428_105553_bgr.png\n",
      "20230428_115553_bgr.png\n",
      "20230428_125553_bgr.png\n",
      "20230428_135554_bgr.png\n",
      "20230428_145554_bgr.png\n",
      "20230428_155555_bgr.png\n",
      "20230428_165555_bgr.png\n",
      "20230428_175556_bgr.png\n",
      "20230428_185556_bgr.png\n",
      "20230428_195557_bgr.png\n",
      "20230428_205557_bgr.png\n",
      "20230428_215558_bgr.png\n",
      "20230428_225558_bgr.png\n",
      "20230428_235559_bgr.png\n",
      "20230429_005559_bgr.png\n",
      "20230429_015559_bgr.png\n",
      "20230429_025600_bgr.png\n",
      "20230429_035600_bgr.png\n",
      "20230429_045601_bgr.png\n",
      "20230429_055601_bgr.png\n",
      "20230429_065601_bgr.png\n",
      "20230429_075602_bgr.png\n",
      "20230429_085602_bgr.png\n",
      "20230429_095602_bgr.png\n",
      "20230429_105602_bgr.png\n",
      "20230429_115603_bgr.png\n",
      "20230429_125603_bgr.png\n",
      "20230429_135603_bgr.png\n",
      "20230429_145604_bgr.png\n",
      "20230429_155604_bgr.png\n",
      "20230429_165605_bgr.png\n",
      "20230429_175605_bgr.png\n",
      "20230429_185606_bgr.png\n",
      "20230429_195606_bgr.png\n",
      "20230429_205607_bgr.png\n",
      "20230429_215607_bgr.png\n",
      "20230429_225608_bgr.png\n",
      "20230429_235608_bgr.png\n",
      "20230430_005609_bgr.png\n",
      "20230430_015609_bgr.png\n",
      "20230430_025610_bgr.png\n",
      "20230430_035610_bgr.png\n",
      "20230430_045610_bgr.png\n",
      "20230430_055611_bgr.png\n",
      "20230430_065611_bgr.png\n",
      "20230430_075611_bgr.png\n",
      "20230430_085611_bgr.png\n",
      "20230430_095612_bgr.png\n",
      "20230430_105612_bgr.png\n",
      "20230430_115612_bgr.png\n",
      "20230430_125612_bgr.png\n",
      "20230430_135613_bgr.png\n",
      "20230430_145613_bgr.png\n",
      "20230430_155614_bgr.png\n",
      "20230430_165614_bgr.png\n",
      "20230430_175615_bgr.png\n",
      "20230430_185615_bgr.png\n",
      "20230430_195616_bgr.png\n",
      "20230430_205616_bgr.png\n",
      "20230430_215617_bgr.png\n",
      "20230430_225617_bgr.png\n",
      "20230430_235618_bgr.png\n",
      "20230501_005618_bgr.png\n",
      "20230501_015619_bgr.png\n",
      "20230501_025619_bgr.png\n",
      "20230501_035620_bgr.png\n",
      "20230501_045620_bgr.png\n",
      "20230501_055620_bgr.png\n",
      "20230501_065621_bgr.png\n",
      "20230501_075621_bgr.png\n",
      "20230501_085621_bgr.png\n",
      "20230501_095621_bgr.png\n",
      "20230501_105622_bgr.png\n",
      "20230501_115622_bgr.png\n",
      "20230501_125622_bgr.png\n",
      "20230501_135623_bgr.png\n",
      "20230501_145623_bgr.png\n",
      "20230501_155624_bgr.png\n",
      "20230501_165624_bgr.png\n",
      "20230501_175625_bgr.png\n",
      "20230501_185625_bgr.png\n",
      "20230501_195625_bgr.png\n",
      "20230501_205626_bgr.png\n",
      "20230501_215627_bgr.png\n",
      "20230501_225627_bgr.png\n",
      "20230501_235628_bgr.png\n",
      "20230502_005628_bgr.png\n",
      "20230502_015629_bgr.png\n",
      "20230502_025629_bgr.png\n",
      "20230502_035630_bgr.png\n",
      "20230502_045630_bgr.png\n",
      "20230502_055630_bgr.png\n",
      "20230502_065630_bgr.png\n",
      "20230502_075631_bgr.png\n",
      "20230502_085631_bgr.png\n",
      "20230502_095631_bgr.png\n",
      "20230502_105631_bgr.png\n",
      "20230502_115632_bgr.png\n",
      "20230502_125632_bgr.png\n",
      "20230502_135632_bgr.png\n",
      "20230502_145633_bgr.png\n",
      "20230502_155633_bgr.png\n",
      "20230502_165634_bgr.png\n",
      "20230502_175634_bgr.png\n",
      "20230502_185635_bgr.png\n",
      "20230502_195635_bgr.png\n",
      "20230502_205636_bgr.png\n",
      "20230502_215636_bgr.png\n",
      "20230502_225637_bgr.png\n",
      "20230502_235637_bgr.png\n",
      "20230503_005638_bgr.png\n",
      "20230503_015638_bgr.png\n",
      "20230503_025639_bgr.png\n",
      "20230503_035639_bgr.png\n",
      "20230503_045639_bgr.png\n",
      "20230503_055640_bgr.png\n",
      "20230503_065640_bgr.png\n",
      "20230503_075640_bgr.png\n",
      "20230503_085641_bgr.png\n",
      "20230503_095641_bgr.png\n",
      "20230503_105641_bgr.png\n",
      "20230503_115641_bgr.png\n",
      "20230503_125642_bgr.png\n",
      "20230503_135642_bgr.png\n",
      "20230503_145643_bgr.png\n",
      "20230503_155643_bgr.png\n",
      "20230503_165644_bgr.png\n",
      "20230503_175644_bgr.png\n",
      "20230503_185644_bgr.png\n",
      "20230503_195645_bgr.png\n",
      "20230503_205645_bgr.png\n",
      "20230503_215646_bgr.png\n",
      "20230503_225646_bgr.png\n",
      "20230503_235647_bgr.png\n",
      "20230504_005648_bgr.png\n",
      "20230504_015648_bgr.png\n",
      "20230504_025649_bgr.png\n",
      "20230504_035649_bgr.png\n",
      "20230504_045649_bgr.png\n",
      "20230504_055650_bgr.png\n",
      "20230504_065650_bgr.png\n",
      "20230504_075650_bgr.png\n",
      "20230504_085650_bgr.png\n",
      "20230504_095651_bgr.png\n",
      "20230504_105651_bgr.png\n",
      "20230504_115651_bgr.png\n",
      "20230504_125651_bgr.png\n",
      "20230504_135652_bgr.png\n",
      "20230504_145652_bgr.png\n",
      "20230504_155653_bgr.png\n",
      "20230504_165653_bgr.png\n",
      "20230504_175654_bgr.png\n",
      "20230504_185654_bgr.png\n",
      "20230504_195655_bgr.png\n",
      "20230504_205655_bgr.png\n",
      "20230504_215656_bgr.png\n",
      "20230504_225656_bgr.png\n",
      "20230504_235657_bgr.png\n",
      "20230505_005657_bgr.png\n",
      "20230505_015658_bgr.png\n",
      "20230505_025658_bgr.png\n",
      "20230505_035658_bgr.png\n",
      "20230505_045659_bgr.png\n",
      "20230505_055659_bgr.png\n",
      "20230505_065659_bgr.png\n",
      "20230505_075659_bgr.png\n",
      "20230505_085700_bgr.png\n",
      "20230505_095700_bgr.png\n",
      "20230505_105700_bgr.png\n",
      "20230505_115700_bgr.png\n",
      "20230505_125701_bgr.png\n",
      "20230505_135701_bgr.png\n",
      "20230505_145702_bgr.png\n",
      "20230505_155702_bgr.png\n",
      "20230505_165703_bgr.png\n",
      "20230505_175703_bgr.png\n",
      "20230505_185704_bgr.png\n",
      "20230505_195704_bgr.png\n",
      "20230505_205705_bgr.png\n",
      "20230505_215705_bgr.png\n",
      "20230505_225706_bgr.png\n",
      "20230505_235706_bgr.png\n",
      "20230506_005706_bgr.png\n",
      "20230506_015707_bgr.png\n",
      "20230506_025707_bgr.png\n",
      "20230506_035708_bgr.png\n",
      "20230506_045708_bgr.png\n",
      "20230506_055708_bgr.png\n",
      "20230506_065709_bgr.png\n",
      "20230506_075709_bgr.png\n",
      "20230506_085709_bgr.png\n",
      "20230506_095709_bgr.png\n",
      "20230506_105710_bgr.png\n",
      "20230506_115710_bgr.png\n",
      "20230506_125710_bgr.png\n",
      "20230506_135711_bgr.png\n",
      "20230506_145711_bgr.png\n",
      "20230506_155712_bgr.png\n",
      "20230506_165712_bgr.png\n",
      "20230506_175713_bgr.png\n",
      "20230506_185713_bgr.png\n",
      "20230506_195713_bgr.png\n",
      "20230506_205714_bgr.png\n",
      "20230506_215714_bgr.png\n",
      "20230506_225715_bgr.png\n",
      "20230506_235716_bgr.png\n",
      "20230507_005716_bgr.png\n",
      "20230507_015716_bgr.png\n",
      "20230507_025717_bgr.png\n",
      "20230507_035717_bgr.png\n",
      "20230507_045718_bgr.png\n",
      "20230507_055718_bgr.png\n",
      "20230507_065718_bgr.png\n",
      "20230507_075718_bgr.png\n",
      "20230507_085719_bgr.png\n",
      "20230507_095719_bgr.png\n",
      "20230507_105719_bgr.png\n",
      "20230507_115719_bgr.png\n",
      "20230507_125720_bgr.png\n",
      "20230507_135720_bgr.png\n",
      "20230507_145721_bgr.png\n",
      "20230507_155721_bgr.png\n",
      "20230507_165722_bgr.png\n",
      "20230507_175722_bgr.png\n",
      "20230507_185723_bgr.png\n",
      "20230507_195723_bgr.png\n",
      "20230507_205724_bgr.png\n",
      "20230507_215724_bgr.png\n",
      "20230507_225725_bgr.png\n",
      "20230507_235725_bgr.png\n",
      "20230508_005726_bgr.png\n",
      "20230508_015726_bgr.png\n",
      "20230508_025727_bgr.png\n",
      "20230508_035727_bgr.png\n",
      "20230508_045727_bgr.png\n",
      "20230508_055727_bgr.png\n",
      "20230508_065728_bgr.png\n",
      "20230508_075728_bgr.png\n",
      "20230508_085728_bgr.png\n",
      "20230508_095728_bgr.png\n",
      "20230508_105729_bgr.png\n",
      "20230508_115729_bgr.png\n",
      "20230508_125729_bgr.png\n",
      "20230508_135730_bgr.png\n",
      "20230508_145730_bgr.png\n",
      "20230508_155731_bgr.png\n",
      "20230508_165731_bgr.png\n",
      "20230508_175732_bgr.png\n",
      "20230508_185732_bgr.png\n",
      "20230508_195733_bgr.png\n",
      "20230508_205733_bgr.png\n",
      "20230508_215734_bgr.png\n",
      "20230508_225734_bgr.png\n",
      "20230508_235735_bgr.png\n",
      "20230509_005735_bgr.png\n",
      "20230509_015736_bgr.png\n",
      "20230509_025736_bgr.png\n",
      "20230509_035736_bgr.png\n",
      "20230509_045737_bgr.png\n",
      "20230509_055737_bgr.png\n",
      "20230509_065737_bgr.png\n",
      "20230509_075737_bgr.png\n",
      "20230509_085738_bgr.png\n",
      "20230509_095738_bgr.png\n",
      "20230509_105738_bgr.png\n",
      "20230509_115739_bgr.png\n",
      "20230509_125739_bgr.png\n",
      "20230509_135739_bgr.png\n",
      "20230509_145740_bgr.png\n",
      "20230509_155740_bgr.png\n",
      "20230509_165741_bgr.png\n",
      "20230509_175741_bgr.png\n",
      "20230509_185742_bgr.png\n",
      "20230509_195742_bgr.png\n",
      "20230509_205743_bgr.png\n",
      "20230509_215743_bgr.png\n",
      "20230509_225743_bgr.png\n",
      "20230509_235744_bgr.png\n",
      "20230510_005744_bgr.png\n",
      "20230510_015745_bgr.png\n",
      "20230510_025745_bgr.png\n",
      "20230510_035746_bgr.png\n",
      "20230510_045746_bgr.png\n",
      "20230510_055746_bgr.png\n",
      "20230510_065747_bgr.png\n",
      "20230510_075747_bgr.png\n",
      "20230510_085747_bgr.png\n",
      "20230510_095747_bgr.png\n",
      "20230510_105748_bgr.png\n",
      "20230510_115748_bgr.png\n",
      "20230510_125748_bgr.png\n",
      "20230510_135749_bgr.png\n",
      "20230510_145749_bgr.png\n",
      "20230510_155749_bgr.png\n",
      "20230510_165750_bgr.png\n",
      "20230510_175750_bgr.png\n",
      "20230510_185751_bgr.png\n",
      "20230510_195751_bgr.png\n",
      "20230510_205752_bgr.png\n",
      "20230510_215752_bgr.png\n",
      "20230510_225753_bgr.png\n",
      "20230510_235753_bgr.png\n",
      "20230511_005754_bgr.png\n",
      "20230511_015754_bgr.png\n",
      "20230511_025755_bgr.png\n",
      "20230511_035755_bgr.png\n",
      "20230511_045755_bgr.png\n",
      "20230511_055756_bgr.png\n",
      "20230511_065756_bgr.png\n",
      "20230511_075756_bgr.png\n",
      "20230511_085756_bgr.png\n",
      "20230511_095757_bgr.png\n",
      "20230511_105757_bgr.png\n",
      "20230511_115757_bgr.png\n",
      "20230511_125757_bgr.png\n",
      "20230511_135758_bgr.png\n",
      "20230511_145758_bgr.png\n",
      "20230511_155759_bgr.png\n",
      "20230511_165759_bgr.png\n",
      "20230511_175800_bgr.png\n",
      "20230511_185800_bgr.png\n",
      "20230511_195801_bgr.png\n",
      "20230511_205801_bgr.png\n",
      "20230511_215802_bgr.png\n",
      "20230511_225802_bgr.png\n",
      "20230511_235803_bgr.png\n",
      "20230512_005803_bgr.png\n",
      "20230512_015804_bgr.png\n",
      "20230512_025804_bgr.png\n",
      "20230512_035805_bgr.png\n",
      "20230512_045805_bgr.png\n",
      "20230512_055805_bgr.png\n",
      "20230512_065806_bgr.png\n",
      "20230512_075806_bgr.png\n",
      "20230512_085806_bgr.png\n",
      "20230512_095806_bgr.png\n",
      "20230512_105807_bgr.png\n",
      "20230512_115807_bgr.png\n",
      "20230512_125807_bgr.png\n",
      "20230512_135808_bgr.png\n",
      "20230512_145808_bgr.png\n",
      "20230512_155809_bgr.png\n",
      "20230512_165809_bgr.png\n",
      "20230512_175810_bgr.png\n",
      "20230512_185810_bgr.png\n",
      "20230512_195811_bgr.png\n",
      "20230512_205811_bgr.png\n",
      "20230512_215812_bgr.png\n",
      "20230512_225812_bgr.png\n",
      "20230512_235813_bgr.png\n",
      "20230513_005813_bgr.png\n",
      "20230513_015814_bgr.png\n",
      "20230513_025814_bgr.png\n",
      "20230513_035815_bgr.png\n",
      "20230513_045815_bgr.png\n",
      "20230513_055815_bgr.png\n",
      "20230513_065815_bgr.png\n",
      "20230513_075815_bgr.png\n",
      "20230513_085816_bgr.png\n",
      "20230513_095816_bgr.png\n",
      "20230513_105816_bgr.png\n",
      "20230513_115817_bgr.png\n",
      "20230513_125817_bgr.png\n",
      "20230513_135817_bgr.png\n",
      "20230513_145818_bgr.png\n",
      "20230513_155818_bgr.png\n",
      "20230513_165819_bgr.png\n",
      "20230513_175819_bgr.png\n",
      "20230513_185820_bgr.png\n",
      "20230513_195820_bgr.png\n",
      "20230513_205821_bgr.png\n",
      "20230513_215821_bgr.png\n",
      "20230513_225822_bgr.png\n",
      "20230513_235822_bgr.png\n",
      "20230514_005823_bgr.png\n",
      "20230514_015823_bgr.png\n",
      "20230514_025824_bgr.png\n",
      "20230514_035824_bgr.png\n",
      "20230514_045824_bgr.png\n",
      "20230514_055825_bgr.png\n",
      "20230514_065825_bgr.png\n",
      "20230514_075825_bgr.png\n",
      "20230514_085825_bgr.png\n",
      "20230514_095826_bgr.png\n",
      "20230514_105826_bgr.png\n",
      "20230514_115826_bgr.png\n",
      "20230514_125826_bgr.png\n",
      "20230514_135827_bgr.png\n",
      "20230514_145827_bgr.png\n",
      "20230514_155828_bgr.png\n",
      "20230514_165828_bgr.png\n",
      "20230514_175829_bgr.png\n",
      "20230514_185829_bgr.png\n",
      "20230514_195830_bgr.png\n",
      "20230514_205830_bgr.png\n",
      "20230514_215831_bgr.png\n",
      "20230514_225831_bgr.png\n",
      "20230514_235832_bgr.png\n",
      "20230515_005832_bgr.png\n",
      "20230515_015833_bgr.png\n",
      "20230515_025833_bgr.png\n",
      "20230515_035834_bgr.png\n",
      "20230515_045834_bgr.png\n",
      "20230515_055834_bgr.png\n",
      "20230515_065835_bgr.png\n",
      "20230515_075835_bgr.png\n",
      "20230515_085835_bgr.png\n",
      "20230515_095835_bgr.png\n",
      "20230515_105836_bgr.png\n",
      "20230515_115836_bgr.png\n",
      "20230515_125836_bgr.png\n",
      "20230515_135837_bgr.png\n",
      "20230515_145837_bgr.png\n",
      "20230515_155838_bgr.png\n",
      "20230515_165838_bgr.png\n",
      "20230515_175839_bgr.png\n",
      "20230515_185839_bgr.png\n",
      "20230515_195840_bgr.png\n",
      "20230515_205840_bgr.png\n",
      "20230515_215841_bgr.png\n",
      "20230515_225841_bgr.png\n",
      "20230515_235841_bgr.png\n",
      "20230516_005842_bgr.png\n",
      "20230516_015842_bgr.png\n",
      "20230516_025843_bgr.png\n",
      "20230516_035843_bgr.png\n",
      "20230516_045844_bgr.png\n",
      "20230516_055844_bgr.png\n",
      "20230516_065844_bgr.png\n",
      "20230516_075844_bgr.png\n",
      "20230516_085845_bgr.png\n",
      "20230516_095845_bgr.png\n",
      "20230516_105845_bgr.png\n",
      "20230516_115845_bgr.png\n",
      "20230516_125846_bgr.png\n",
      "20230516_135846_bgr.png\n",
      "20230516_145847_bgr.png\n",
      "20230516_155847_bgr.png\n",
      "20230516_165848_bgr.png\n",
      "20230516_175848_bgr.png\n",
      "20230516_185849_bgr.png\n",
      "20230516_195850_bgr.png\n",
      "20230516_205850_bgr.png\n",
      "20230516_215851_bgr.png\n",
      "20230516_225851_bgr.png\n",
      "20230516_235852_bgr.png\n",
      "20230517_005852_bgr.png\n",
      "20230517_015853_bgr.png\n",
      "20230517_025853_bgr.png\n",
      "20230517_035854_bgr.png\n",
      "20230517_045854_bgr.png\n",
      "20230517_055854_bgr.png\n",
      "20230517_065854_bgr.png\n",
      "20230517_075855_bgr.png\n",
      "20230517_085855_bgr.png\n",
      "20230517_095855_bgr.png\n",
      "20230517_105856_bgr.png\n",
      "20230517_115856_bgr.png\n",
      "20230517_125856_bgr.png\n",
      "20230517_135857_bgr.png\n",
      "20230517_145857_bgr.png\n",
      "20230517_155858_bgr.png\n",
      "20230517_165858_bgr.png\n",
      "20230517_175859_bgr.png\n",
      "20230517_185859_bgr.png\n",
      "20230517_195900_bgr.png\n",
      "20230517_205900_bgr.png\n",
      "20230517_215901_bgr.png\n",
      "20230517_225901_bgr.png\n",
      "20230517_235902_bgr.png\n",
      "20230518_005902_bgr.png\n",
      "20230518_015902_bgr.png\n",
      "20230518_025903_bgr.png\n",
      "20230518_035903_bgr.png\n",
      "20230518_045904_bgr.png\n",
      "20230518_055904_bgr.png\n",
      "20230518_065904_bgr.png\n",
      "20230518_075904_bgr.png\n",
      "20230518_085905_bgr.png\n",
      "20230518_095905_bgr.png\n",
      "20230518_105905_bgr.png\n",
      "20230518_115905_bgr.png\n",
      "20230518_125906_bgr.png\n",
      "20230518_135906_bgr.png\n",
      "20230518_145907_bgr.png\n",
      "20230518_155907_bgr.png\n",
      "20230518_165908_bgr.png\n",
      "20230518_175908_bgr.png\n",
      "20230518_185909_bgr.png\n",
      "20230518_195909_bgr.png\n",
      "20230518_205910_bgr.png\n",
      "20230518_215910_bgr.png\n",
      "20230518_225911_bgr.png\n",
      "20230518_235911_bgr.png\n",
      "20230519_005912_bgr.png\n",
      "20230519_015912_bgr.png\n",
      "20230519_025913_bgr.png\n",
      "20230519_035913_bgr.png\n",
      "20230519_045913_bgr.png\n",
      "20230519_055914_bgr.png\n",
      "20230519_065914_bgr.png\n",
      "20230519_075914_bgr.png\n",
      "20230519_085914_bgr.png\n",
      "20230519_095915_bgr.png\n",
      "20230519_105915_bgr.png\n",
      "20230519_115915_bgr.png\n",
      "20230519_125915_bgr.png\n",
      "20230519_135916_bgr.png\n",
      "20230519_145916_bgr.png\n",
      "20230519_155917_bgr.png\n",
      "20230519_165917_bgr.png\n",
      "20230519_175918_bgr.png\n",
      "20230519_185918_bgr.png\n",
      "20230519_195919_bgr.png\n",
      "20230519_205919_bgr.png\n",
      "20230519_215920_bgr.png\n",
      "20230519_225920_bgr.png\n",
      "20230519_235921_bgr.png\n",
      "20230520_005921_bgr.png\n",
      "20230520_015922_bgr.png\n",
      "20230520_025922_bgr.png\n",
      "20230520_035922_bgr.png\n",
      "20230520_045923_bgr.png\n",
      "20230520_055923_bgr.png\n",
      "20230520_065923_bgr.png\n",
      "20230520_075923_bgr.png\n",
      "20230520_085924_bgr.png\n",
      "20230520_095924_bgr.png\n",
      "20230520_105924_bgr.png\n",
      "20230520_115924_bgr.png\n",
      "20230520_125925_bgr.png\n",
      "20230520_135925_bgr.png\n",
      "20230520_145926_bgr.png\n",
      "20230520_155926_bgr.png\n",
      "20230520_165927_bgr.png\n",
      "20230520_175927_bgr.png\n",
      "20230520_185928_bgr.png\n",
      "20230520_195928_bgr.png\n",
      "20230520_205929_bgr.png\n",
      "20230520_215929_bgr.png\n",
      "20230520_225930_bgr.png\n",
      "20230520_235930_bgr.png\n",
      "20230521_005931_bgr.png\n",
      "20230521_015931_bgr.png\n",
      "20230521_025932_bgr.png\n",
      "20230521_035932_bgr.png\n",
      "20230521_045932_bgr.png\n",
      "20230521_055933_bgr.png\n",
      "20230521_065933_bgr.png\n",
      "20230521_075933_bgr.png\n",
      "20230521_085934_bgr.png\n",
      "20230521_095934_bgr.png\n",
      "20230521_105934_bgr.png\n",
      "20230521_115934_bgr.png\n",
      "20230521_125935_bgr.png\n",
      "20230521_135935_bgr.png\n",
      "20230521_145935_bgr.png\n",
      "20230521_155936_bgr.png\n",
      "20230521_165936_bgr.png\n",
      "20230521_175937_bgr.png\n",
      "20230521_185937_bgr.png\n",
      "20230521_193932_bgr.png\n",
      "20230521_195831_bgr.png\n",
      "20230521_200332_bgr.png\n",
      "20230521_201202_bgr.png\n",
      "20230521_211223_bgr.png\n",
      "20230521_221223_bgr.png\n",
      "20230521_231224_bgr.png\n",
      "20230522_001224_bgr.png\n",
      "20230522_011225_bgr.png\n",
      "20230522_021225_bgr.png\n",
      "20230522_031226_bgr.png\n",
      "20230522_041226_bgr.png\n",
      "20230522_051226_bgr.png\n",
      "20230522_061226_bgr.png\n",
      "20230522_071227_bgr.png\n",
      "20230522_081227_bgr.png\n",
      "20230522_091227_bgr.png\n",
      "20230522_101227_bgr.png\n",
      "20230522_111228_bgr.png\n",
      "20230522_121228_bgr.png\n",
      "20230522_131228_bgr.png\n",
      "20230522_141229_bgr.png\n",
      "20230522_151229_bgr.png\n",
      "20230522_161230_bgr.png\n",
      "20230522_171148_bgr.png\n",
      "2023-05-22 17:11:48+00:00 117.08051074416203 49.30561254951679\n"
     ]
    },
    {
     "name": "stderr",
     "output_type": "stream",
     "text": [
      "/local/bgfs/joaquin.casanova/9678774/ipykernel_102032/451001033.py:318: DeprecationWarning: `np.float` is a deprecated alias for the builtin `float`. To silence this warning, use `float` by itself. Doing this will not modify any behavior and is safe. If you specifically wanted the numpy scalar type, use `np.float64` here.\n",
      "Deprecated in NumPy 1.20; for more details and guidance: https://numpy.org/devdocs/release/1.20.0-notes.html#deprecations\n",
      "  pred_mlp3 = model.predict(feat).reshape(bgr.shape[0:2]).astype(np.float)\n",
      "/local/bgfs/joaquin.casanova/9678774/ipykernel_102032/451001033.py:350: DeprecationWarning: `np.float` is a deprecated alias for the builtin `float`. To silence this warning, use `float` by itself. Doing this will not modify any behavior and is safe. If you specifically wanted the numpy scalar type, use `np.float64` here.\n",
      "Deprecated in NumPy 1.20; for more details and guidance: https://numpy.org/devdocs/release/1.20.0-notes.html#deprecations\n",
      "  T_ir = ir.astype(np.float)\n"
     ]
    },
    {
     "name": "stdout",
     "output_type": "stream",
     "text": [
      "Apply affine\n",
      "20230522_181154_bgr.png\n"
     ]
    },
    {
     "name": "stderr",
     "output_type": "stream",
     "text": [
      "/project/nsaru/nsaru-cv/lib/python3.9/site-packages/pysolar/solartime.py:111: UserWarning: I don't know about leap seconds after 2021\n",
      "  warnings.warn \\\n"
     ]
    },
    {
     "name": "stdout",
     "output_type": "stream",
     "text": [
      "2023-05-22 18:11:54+00:00 136.35901897041543 57.572515349814225\n"
     ]
    },
    {
     "name": "stderr",
     "output_type": "stream",
     "text": [
      "/local/bgfs/joaquin.casanova/9678774/ipykernel_102032/451001033.py:318: DeprecationWarning: `np.float` is a deprecated alias for the builtin `float`. To silence this warning, use `float` by itself. Doing this will not modify any behavior and is safe. If you specifically wanted the numpy scalar type, use `np.float64` here.\n",
      "Deprecated in NumPy 1.20; for more details and guidance: https://numpy.org/devdocs/release/1.20.0-notes.html#deprecations\n",
      "  pred_mlp3 = model.predict(feat).reshape(bgr.shape[0:2]).astype(np.float)\n",
      "/local/bgfs/joaquin.casanova/9678774/ipykernel_102032/451001033.py:350: DeprecationWarning: `np.float` is a deprecated alias for the builtin `float`. To silence this warning, use `float` by itself. Doing this will not modify any behavior and is safe. If you specifically wanted the numpy scalar type, use `np.float64` here.\n",
      "Deprecated in NumPy 1.20; for more details and guidance: https://numpy.org/devdocs/release/1.20.0-notes.html#deprecations\n",
      "  T_ir = ir.astype(np.float)\n"
     ]
    },
    {
     "name": "stdout",
     "output_type": "stream",
     "text": [
      "Apply affine\n",
      "20230522_191155_bgr.png\n"
     ]
    },
    {
     "name": "stderr",
     "output_type": "stream",
     "text": [
      "/project/nsaru/nsaru-cv/lib/python3.9/site-packages/pysolar/solartime.py:111: UserWarning: I don't know about leap seconds after 2021\n",
      "  warnings.warn \\\n"
     ]
    },
    {
     "name": "stdout",
     "output_type": "stream",
     "text": [
      "2023-05-22 19:11:55+00:00 162.84974341323192 62.827154217093174\n"
     ]
    },
    {
     "name": "stderr",
     "output_type": "stream",
     "text": [
      "/local/bgfs/joaquin.casanova/9678774/ipykernel_102032/451001033.py:318: DeprecationWarning: `np.float` is a deprecated alias for the builtin `float`. To silence this warning, use `float` by itself. Doing this will not modify any behavior and is safe. If you specifically wanted the numpy scalar type, use `np.float64` here.\n",
      "Deprecated in NumPy 1.20; for more details and guidance: https://numpy.org/devdocs/release/1.20.0-notes.html#deprecations\n",
      "  pred_mlp3 = model.predict(feat).reshape(bgr.shape[0:2]).astype(np.float)\n",
      "/local/bgfs/joaquin.casanova/9678774/ipykernel_102032/451001033.py:350: DeprecationWarning: `np.float` is a deprecated alias for the builtin `float`. To silence this warning, use `float` by itself. Doing this will not modify any behavior and is safe. If you specifically wanted the numpy scalar type, use `np.float64` here.\n",
      "Deprecated in NumPy 1.20; for more details and guidance: https://numpy.org/devdocs/release/1.20.0-notes.html#deprecations\n",
      "  T_ir = ir.astype(np.float)\n"
     ]
    },
    {
     "name": "stdout",
     "output_type": "stream",
     "text": [
      "Apply affine\n",
      "20230522_201155_bgr.png\n"
     ]
    },
    {
     "name": "stderr",
     "output_type": "stream",
     "text": [
      "/project/nsaru/nsaru-cv/lib/python3.9/site-packages/pysolar/solartime.py:111: UserWarning: I don't know about leap seconds after 2021\n",
      "  warnings.warn \\\n"
     ]
    },
    {
     "name": "stdout",
     "output_type": "stream",
     "text": [
      "2023-05-22 20:11:55+00:00 194.05812975735708 63.117179151740615\n"
     ]
    },
    {
     "name": "stderr",
     "output_type": "stream",
     "text": [
      "/local/bgfs/joaquin.casanova/9678774/ipykernel_102032/451001033.py:318: DeprecationWarning: `np.float` is a deprecated alias for the builtin `float`. To silence this warning, use `float` by itself. Doing this will not modify any behavior and is safe. If you specifically wanted the numpy scalar type, use `np.float64` here.\n",
      "Deprecated in NumPy 1.20; for more details and guidance: https://numpy.org/devdocs/release/1.20.0-notes.html#deprecations\n",
      "  pred_mlp3 = model.predict(feat).reshape(bgr.shape[0:2]).astype(np.float)\n",
      "/local/bgfs/joaquin.casanova/9678774/ipykernel_102032/451001033.py:350: DeprecationWarning: `np.float` is a deprecated alias for the builtin `float`. To silence this warning, use `float` by itself. Doing this will not modify any behavior and is safe. If you specifically wanted the numpy scalar type, use `np.float64` here.\n",
      "Deprecated in NumPy 1.20; for more details and guidance: https://numpy.org/devdocs/release/1.20.0-notes.html#deprecations\n",
      "  T_ir = ir.astype(np.float)\n"
     ]
    },
    {
     "name": "stdout",
     "output_type": "stream",
     "text": [
      "Apply affine\n",
      "20230522_211156_bgr.png\n"
     ]
    },
    {
     "name": "stderr",
     "output_type": "stream",
     "text": [
      "/project/nsaru/nsaru-cv/lib/python3.9/site-packages/pysolar/solartime.py:111: UserWarning: I don't know about leap seconds after 2021\n",
      "  warnings.warn \\\n"
     ]
    },
    {
     "name": "stdout",
     "output_type": "stream",
     "text": [
      "2023-05-22 21:11:56+00:00 221.31308880879882 58.30172081565953\n"
     ]
    },
    {
     "name": "stderr",
     "output_type": "stream",
     "text": [
      "/local/bgfs/joaquin.casanova/9678774/ipykernel_102032/451001033.py:318: DeprecationWarning: `np.float` is a deprecated alias for the builtin `float`. To silence this warning, use `float` by itself. Doing this will not modify any behavior and is safe. If you specifically wanted the numpy scalar type, use `np.float64` here.\n",
      "Deprecated in NumPy 1.20; for more details and guidance: https://numpy.org/devdocs/release/1.20.0-notes.html#deprecations\n",
      "  pred_mlp3 = model.predict(feat).reshape(bgr.shape[0:2]).astype(np.float)\n",
      "/local/bgfs/joaquin.casanova/9678774/ipykernel_102032/451001033.py:350: DeprecationWarning: `np.float` is a deprecated alias for the builtin `float`. To silence this warning, use `float` by itself. Doing this will not modify any behavior and is safe. If you specifically wanted the numpy scalar type, use `np.float64` here.\n",
      "Deprecated in NumPy 1.20; for more details and guidance: https://numpy.org/devdocs/release/1.20.0-notes.html#deprecations\n",
      "  T_ir = ir.astype(np.float)\n"
     ]
    },
    {
     "name": "stdout",
     "output_type": "stream",
     "text": [
      "Apply affine\n",
      "20230522_221156_bgr.png\n"
     ]
    },
    {
     "name": "stderr",
     "output_type": "stream",
     "text": [
      "/project/nsaru/nsaru-cv/lib/python3.9/site-packages/pysolar/solartime.py:111: UserWarning: I don't know about leap seconds after 2021\n",
      "  warnings.warn \\\n"
     ]
    },
    {
     "name": "stdout",
     "output_type": "stream",
     "text": [
      "2023-05-22 22:11:56+00:00 241.23559849413675 50.278008574548195\n"
     ]
    },
    {
     "name": "stderr",
     "output_type": "stream",
     "text": [
      "/local/bgfs/joaquin.casanova/9678774/ipykernel_102032/451001033.py:318: DeprecationWarning: `np.float` is a deprecated alias for the builtin `float`. To silence this warning, use `float` by itself. Doing this will not modify any behavior and is safe. If you specifically wanted the numpy scalar type, use `np.float64` here.\n",
      "Deprecated in NumPy 1.20; for more details and guidance: https://numpy.org/devdocs/release/1.20.0-notes.html#deprecations\n",
      "  pred_mlp3 = model.predict(feat).reshape(bgr.shape[0:2]).astype(np.float)\n",
      "/local/bgfs/joaquin.casanova/9678774/ipykernel_102032/451001033.py:350: DeprecationWarning: `np.float` is a deprecated alias for the builtin `float`. To silence this warning, use `float` by itself. Doing this will not modify any behavior and is safe. If you specifically wanted the numpy scalar type, use `np.float64` here.\n",
      "Deprecated in NumPy 1.20; for more details and guidance: https://numpy.org/devdocs/release/1.20.0-notes.html#deprecations\n",
      "  T_ir = ir.astype(np.float)\n"
     ]
    },
    {
     "name": "stdout",
     "output_type": "stream",
     "text": [
      "Apply affine\n",
      "20230522_231157_bgr.png\n"
     ]
    },
    {
     "name": "stderr",
     "output_type": "stream",
     "text": [
      "/project/nsaru/nsaru-cv/lib/python3.9/site-packages/pysolar/solartime.py:111: UserWarning: I don't know about leap seconds after 2021\n",
      "  warnings.warn \\\n"
     ]
    },
    {
     "name": "stdout",
     "output_type": "stream",
     "text": [
      "2023-05-22 23:11:57+00:00 256.01995293289343 40.727560516494826\n"
     ]
    },
    {
     "name": "stderr",
     "output_type": "stream",
     "text": [
      "/local/bgfs/joaquin.casanova/9678774/ipykernel_102032/451001033.py:318: DeprecationWarning: `np.float` is a deprecated alias for the builtin `float`. To silence this warning, use `float` by itself. Doing this will not modify any behavior and is safe. If you specifically wanted the numpy scalar type, use `np.float64` here.\n",
      "Deprecated in NumPy 1.20; for more details and guidance: https://numpy.org/devdocs/release/1.20.0-notes.html#deprecations\n",
      "  pred_mlp3 = model.predict(feat).reshape(bgr.shape[0:2]).astype(np.float)\n",
      "/local/bgfs/joaquin.casanova/9678774/ipykernel_102032/451001033.py:350: DeprecationWarning: `np.float` is a deprecated alias for the builtin `float`. To silence this warning, use `float` by itself. Doing this will not modify any behavior and is safe. If you specifically wanted the numpy scalar type, use `np.float64` here.\n",
      "Deprecated in NumPy 1.20; for more details and guidance: https://numpy.org/devdocs/release/1.20.0-notes.html#deprecations\n",
      "  T_ir = ir.astype(np.float)\n"
     ]
    },
    {
     "name": "stdout",
     "output_type": "stream",
     "text": [
      "Apply affine\n",
      "20230523_001157_bgr.png\n"
     ]
    },
    {
     "name": "stderr",
     "output_type": "stream",
     "text": [
      "/project/nsaru/nsaru-cv/lib/python3.9/site-packages/pysolar/solartime.py:111: UserWarning: I don't know about leap seconds after 2021\n",
      "  warnings.warn \\\n"
     ]
    },
    {
     "name": "stdout",
     "output_type": "stream",
     "text": [
      "2023-05-23 00:11:57+00:00 268.0109868313658 30.584605546611193\n"
     ]
    },
    {
     "name": "stderr",
     "output_type": "stream",
     "text": [
      "/local/bgfs/joaquin.casanova/9678774/ipykernel_102032/451001033.py:318: DeprecationWarning: `np.float` is a deprecated alias for the builtin `float`. To silence this warning, use `float` by itself. Doing this will not modify any behavior and is safe. If you specifically wanted the numpy scalar type, use `np.float64` here.\n",
      "Deprecated in NumPy 1.20; for more details and guidance: https://numpy.org/devdocs/release/1.20.0-notes.html#deprecations\n",
      "  pred_mlp3 = model.predict(feat).reshape(bgr.shape[0:2]).astype(np.float)\n",
      "/local/bgfs/joaquin.casanova/9678774/ipykernel_102032/451001033.py:350: DeprecationWarning: `np.float` is a deprecated alias for the builtin `float`. To silence this warning, use `float` by itself. Doing this will not modify any behavior and is safe. If you specifically wanted the numpy scalar type, use `np.float64` here.\n",
      "Deprecated in NumPy 1.20; for more details and guidance: https://numpy.org/devdocs/release/1.20.0-notes.html#deprecations\n",
      "  T_ir = ir.astype(np.float)\n"
     ]
    },
    {
     "name": "stdout",
     "output_type": "stream",
     "text": [
      "Apply affine\n",
      "20230523_011158_bgr.png\n"
     ]
    },
    {
     "name": "stderr",
     "output_type": "stream",
     "text": [
      "/project/nsaru/nsaru-cv/lib/python3.9/site-packages/pysolar/solartime.py:111: UserWarning: I don't know about leap seconds after 2021\n",
      "  warnings.warn \\\n"
     ]
    },
    {
     "name": "stdout",
     "output_type": "stream",
     "text": [
      "2023-05-23 01:11:58+00:00 278.6943324845653 20.365245286327944\n"
     ]
    },
    {
     "name": "stderr",
     "output_type": "stream",
     "text": [
      "/local/bgfs/joaquin.casanova/9678774/ipykernel_102032/451001033.py:318: DeprecationWarning: `np.float` is a deprecated alias for the builtin `float`. To silence this warning, use `float` by itself. Doing this will not modify any behavior and is safe. If you specifically wanted the numpy scalar type, use `np.float64` here.\n",
      "Deprecated in NumPy 1.20; for more details and guidance: https://numpy.org/devdocs/release/1.20.0-notes.html#deprecations\n",
      "  pred_mlp3 = model.predict(feat).reshape(bgr.shape[0:2]).astype(np.float)\n",
      "/local/bgfs/joaquin.casanova/9678774/ipykernel_102032/451001033.py:350: DeprecationWarning: `np.float` is a deprecated alias for the builtin `float`. To silence this warning, use `float` by itself. Doing this will not modify any behavior and is safe. If you specifically wanted the numpy scalar type, use `np.float64` here.\n",
      "Deprecated in NumPy 1.20; for more details and guidance: https://numpy.org/devdocs/release/1.20.0-notes.html#deprecations\n",
      "  T_ir = ir.astype(np.float)\n"
     ]
    },
    {
     "name": "stdout",
     "output_type": "stream",
     "text": [
      "Apply affine\n",
      "20230523_021158_bgr.png\n"
     ]
    },
    {
     "name": "stderr",
     "output_type": "stream",
     "text": [
      "/project/nsaru/nsaru-cv/lib/python3.9/site-packages/pysolar/solartime.py:111: UserWarning: I don't know about leap seconds after 2021\n",
      "  warnings.warn \\\n"
     ]
    },
    {
     "name": "stdout",
     "output_type": "stream",
     "text": [
      "2023-05-23 02:11:58+00:00 288.9851233015999 10.452992045193904\n"
     ]
    },
    {
     "name": "stderr",
     "output_type": "stream",
     "text": [
      "/local/bgfs/joaquin.casanova/9678774/ipykernel_102032/451001033.py:318: DeprecationWarning: `np.float` is a deprecated alias for the builtin `float`. To silence this warning, use `float` by itself. Doing this will not modify any behavior and is safe. If you specifically wanted the numpy scalar type, use `np.float64` here.\n",
      "Deprecated in NumPy 1.20; for more details and guidance: https://numpy.org/devdocs/release/1.20.0-notes.html#deprecations\n",
      "  pred_mlp3 = model.predict(feat).reshape(bgr.shape[0:2]).astype(np.float)\n",
      "/local/bgfs/joaquin.casanova/9678774/ipykernel_102032/451001033.py:350: DeprecationWarning: `np.float` is a deprecated alias for the builtin `float`. To silence this warning, use `float` by itself. Doing this will not modify any behavior and is safe. If you specifically wanted the numpy scalar type, use `np.float64` here.\n",
      "Deprecated in NumPy 1.20; for more details and guidance: https://numpy.org/devdocs/release/1.20.0-notes.html#deprecations\n",
      "  T_ir = ir.astype(np.float)\n"
     ]
    },
    {
     "name": "stdout",
     "output_type": "stream",
     "text": [
      "Apply affine\n",
      "20230523_031159_bgr.png\n"
     ]
    },
    {
     "name": "stderr",
     "output_type": "stream",
     "text": [
      "/project/nsaru/nsaru-cv/lib/python3.9/site-packages/pysolar/solartime.py:111: UserWarning: I don't know about leap seconds after 2021\n",
      "  warnings.warn \\\n"
     ]
    },
    {
     "name": "stdout",
     "output_type": "stream",
     "text": [
      "2023-05-23 03:11:59+00:00 299.5321208286996 1.37174364839494\n",
      "20230523_041159_bgr.png\n",
      "2023-05-23 04:11:59+00:00 310.8252692395844 -7.367182943552501\n",
      "20230523_051159_bgr.png\n",
      "2023-05-23 05:11:59+00:00 323.2329897242132 -14.361131336163352\n",
      "20230523_061159_bgr.png\n",
      "2023-05-23 06:11:59+00:00 336.9070397994782 -19.482186629683557\n",
      "20230523_071200_bgr.png\n",
      "2023-05-23 07:12:00+00:00 351.64727684412765 -22.26251688107789\n",
      "20230523_081200_bgr.png\n",
      "2023-05-23 08:12:00+00:00 6.830351479331682 -22.391170427448333\n",
      "20230523_091200_bgr.png\n",
      "2023-05-23 09:12:00+00:00 21.639496593640445 -19.853723276549523\n",
      "20230523_101200_bgr.png\n",
      "2023-05-23 10:12:00+00:00 35.42654311331685 -14.935963076169543\n",
      "20230523_111201_bgr.png\n",
      "2023-05-23 11:12:01+00:00 47.950200179485364 -8.095606994493995\n",
      "20230523_121201_bgr.png\n",
      "2023-05-23 12:12:01+00:00 59.327059120181204 0.6286638734656151\n",
      "20230523_131201_bgr.png\n",
      "2023-05-23 13:12:01+00:00 69.91014909541433 9.546994398969282\n",
      "20230523_141202_bgr.png\n",
      "2023-05-23 14:12:02+00:00 80.18512100172919 19.418770659803442\n"
     ]
    },
    {
     "name": "stderr",
     "output_type": "stream",
     "text": [
      "/local/bgfs/joaquin.casanova/9678774/ipykernel_102032/451001033.py:318: DeprecationWarning: `np.float` is a deprecated alias for the builtin `float`. To silence this warning, use `float` by itself. Doing this will not modify any behavior and is safe. If you specifically wanted the numpy scalar type, use `np.float64` here.\n",
      "Deprecated in NumPy 1.20; for more details and guidance: https://numpy.org/devdocs/release/1.20.0-notes.html#deprecations\n",
      "  pred_mlp3 = model.predict(feat).reshape(bgr.shape[0:2]).astype(np.float)\n",
      "/local/bgfs/joaquin.casanova/9678774/ipykernel_102032/451001033.py:350: DeprecationWarning: `np.float` is a deprecated alias for the builtin `float`. To silence this warning, use `float` by itself. Doing this will not modify any behavior and is safe. If you specifically wanted the numpy scalar type, use `np.float64` here.\n",
      "Deprecated in NumPy 1.20; for more details and guidance: https://numpy.org/devdocs/release/1.20.0-notes.html#deprecations\n",
      "  T_ir = ir.astype(np.float)\n"
     ]
    },
    {
     "name": "stdout",
     "output_type": "stream",
     "text": [
      "Apply affine\n",
      "20230523_151202_bgr.png\n"
     ]
    },
    {
     "name": "stderr",
     "output_type": "stream",
     "text": [
      "/project/nsaru/nsaru-cv/lib/python3.9/site-packages/pysolar/solartime.py:111: UserWarning: I don't know about leap seconds after 2021\n",
      "  warnings.warn \\\n"
     ]
    },
    {
     "name": "stdout",
     "output_type": "stream",
     "text": [
      "2023-05-23 15:12:02+00:00 90.76928750771974 29.630786665963406\n"
     ]
    },
    {
     "name": "stderr",
     "output_type": "stream",
     "text": [
      "/local/bgfs/joaquin.casanova/9678774/ipykernel_102032/451001033.py:318: DeprecationWarning: `np.float` is a deprecated alias for the builtin `float`. To silence this warning, use `float` by itself. Doing this will not modify any behavior and is safe. If you specifically wanted the numpy scalar type, use `np.float64` here.\n",
      "Deprecated in NumPy 1.20; for more details and guidance: https://numpy.org/devdocs/release/1.20.0-notes.html#deprecations\n",
      "  pred_mlp3 = model.predict(feat).reshape(bgr.shape[0:2]).astype(np.float)\n",
      "/local/bgfs/joaquin.casanova/9678774/ipykernel_102032/451001033.py:350: DeprecationWarning: `np.float` is a deprecated alias for the builtin `float`. To silence this warning, use `float` by itself. Doing this will not modify any behavior and is safe. If you specifically wanted the numpy scalar type, use `np.float64` here.\n",
      "Deprecated in NumPy 1.20; for more details and guidance: https://numpy.org/devdocs/release/1.20.0-notes.html#deprecations\n",
      "  T_ir = ir.astype(np.float)\n"
     ]
    },
    {
     "name": "stdout",
     "output_type": "stream",
     "text": [
      "Apply affine\n",
      "20230523_161203_bgr.png\n"
     ]
    },
    {
     "name": "stderr",
     "output_type": "stream",
     "text": [
      "/project/nsaru/nsaru-cv/lib/python3.9/site-packages/pysolar/solartime.py:111: UserWarning: I don't know about leap seconds after 2021\n",
      "  warnings.warn \\\n"
     ]
    },
    {
     "name": "stdout",
     "output_type": "stream",
     "text": [
      "2023-05-23 16:12:03+00:00 102.55132982966796 39.817058139088324\n"
     ]
    },
    {
     "name": "stderr",
     "output_type": "stream",
     "text": [
      "/local/bgfs/joaquin.casanova/9678774/ipykernel_102032/451001033.py:318: DeprecationWarning: `np.float` is a deprecated alias for the builtin `float`. To silence this warning, use `float` by itself. Doing this will not modify any behavior and is safe. If you specifically wanted the numpy scalar type, use `np.float64` here.\n",
      "Deprecated in NumPy 1.20; for more details and guidance: https://numpy.org/devdocs/release/1.20.0-notes.html#deprecations\n",
      "  pred_mlp3 = model.predict(feat).reshape(bgr.shape[0:2]).astype(np.float)\n",
      "/local/bgfs/joaquin.casanova/9678774/ipykernel_102032/451001033.py:350: DeprecationWarning: `np.float` is a deprecated alias for the builtin `float`. To silence this warning, use `float` by itself. Doing this will not modify any behavior and is safe. If you specifically wanted the numpy scalar type, use `np.float64` here.\n",
      "Deprecated in NumPy 1.20; for more details and guidance: https://numpy.org/devdocs/release/1.20.0-notes.html#deprecations\n",
      "  T_ir = ir.astype(np.float)\n"
     ]
    },
    {
     "name": "stdout",
     "output_type": "stream",
     "text": [
      "Apply affine\n",
      "20230523_171203_bgr.png\n"
     ]
    },
    {
     "name": "stderr",
     "output_type": "stream",
     "text": [
      "/project/nsaru/nsaru-cv/lib/python3.9/site-packages/pysolar/solartime.py:111: UserWarning: I don't know about leap seconds after 2021\n",
      "  warnings.warn \\\n"
     ]
    },
    {
     "name": "stdout",
     "output_type": "stream",
     "text": [
      "2023-05-23 17:12:03+00:00 116.93319875530034 49.47733474188731\n"
     ]
    },
    {
     "name": "stderr",
     "output_type": "stream",
     "text": [
      "/local/bgfs/joaquin.casanova/9678774/ipykernel_102032/451001033.py:318: DeprecationWarning: `np.float` is a deprecated alias for the builtin `float`. To silence this warning, use `float` by itself. Doing this will not modify any behavior and is safe. If you specifically wanted the numpy scalar type, use `np.float64` here.\n",
      "Deprecated in NumPy 1.20; for more details and guidance: https://numpy.org/devdocs/release/1.20.0-notes.html#deprecations\n",
      "  pred_mlp3 = model.predict(feat).reshape(bgr.shape[0:2]).astype(np.float)\n",
      "/local/bgfs/joaquin.casanova/9678774/ipykernel_102032/451001033.py:350: DeprecationWarning: `np.float` is a deprecated alias for the builtin `float`. To silence this warning, use `float` by itself. Doing this will not modify any behavior and is safe. If you specifically wanted the numpy scalar type, use `np.float64` here.\n",
      "Deprecated in NumPy 1.20; for more details and guidance: https://numpy.org/devdocs/release/1.20.0-notes.html#deprecations\n",
      "  T_ir = ir.astype(np.float)\n"
     ]
    },
    {
     "name": "stdout",
     "output_type": "stream",
     "text": [
      "Apply affine\n",
      "20230523_181208_bgr.png\n"
     ]
    },
    {
     "name": "stderr",
     "output_type": "stream",
     "text": [
      "/project/nsaru/nsaru-cv/lib/python3.9/site-packages/pysolar/solartime.py:111: UserWarning: I don't know about leap seconds after 2021\n",
      "  warnings.warn \\\n"
     ]
    },
    {
     "name": "stdout",
     "output_type": "stream",
     "text": [
      "2023-05-23 18:12:08+00:00 136.23390180976014 57.75640867765319\n"
     ]
    },
    {
     "name": "stderr",
     "output_type": "stream",
     "text": [
      "/local/bgfs/joaquin.casanova/9678774/ipykernel_102032/451001033.py:318: DeprecationWarning: `np.float` is a deprecated alias for the builtin `float`. To silence this warning, use `float` by itself. Doing this will not modify any behavior and is safe. If you specifically wanted the numpy scalar type, use `np.float64` here.\n",
      "Deprecated in NumPy 1.20; for more details and guidance: https://numpy.org/devdocs/release/1.20.0-notes.html#deprecations\n",
      "  pred_mlp3 = model.predict(feat).reshape(bgr.shape[0:2]).astype(np.float)\n",
      "/local/bgfs/joaquin.casanova/9678774/ipykernel_102032/451001033.py:350: DeprecationWarning: `np.float` is a deprecated alias for the builtin `float`. To silence this warning, use `float` by itself. Doing this will not modify any behavior and is safe. If you specifically wanted the numpy scalar type, use `np.float64` here.\n",
      "Deprecated in NumPy 1.20; for more details and guidance: https://numpy.org/devdocs/release/1.20.0-notes.html#deprecations\n",
      "  T_ir = ir.astype(np.float)\n"
     ]
    },
    {
     "name": "stdout",
     "output_type": "stream",
     "text": [
      "Apply affine\n",
      "20230523_191208_bgr.png\n"
     ]
    },
    {
     "name": "stderr",
     "output_type": "stream",
     "text": [
      "/project/nsaru/nsaru-cv/lib/python3.9/site-packages/pysolar/solartime.py:111: UserWarning: I don't know about leap seconds after 2021\n",
      "  warnings.warn \\\n"
     ]
    },
    {
     "name": "stdout",
     "output_type": "stream",
     "text": [
      "2023-05-23 19:12:08+00:00 162.82548708506403 63.021617335456796\n"
     ]
    },
    {
     "name": "stderr",
     "output_type": "stream",
     "text": [
      "/local/bgfs/joaquin.casanova/9678774/ipykernel_102032/451001033.py:318: DeprecationWarning: `np.float` is a deprecated alias for the builtin `float`. To silence this warning, use `float` by itself. Doing this will not modify any behavior and is safe. If you specifically wanted the numpy scalar type, use `np.float64` here.\n",
      "Deprecated in NumPy 1.20; for more details and guidance: https://numpy.org/devdocs/release/1.20.0-notes.html#deprecations\n",
      "  pred_mlp3 = model.predict(feat).reshape(bgr.shape[0:2]).astype(np.float)\n",
      "/local/bgfs/joaquin.casanova/9678774/ipykernel_102032/451001033.py:350: DeprecationWarning: `np.float` is a deprecated alias for the builtin `float`. To silence this warning, use `float` by itself. Doing this will not modify any behavior and is safe. If you specifically wanted the numpy scalar type, use `np.float64` here.\n",
      "Deprecated in NumPy 1.20; for more details and guidance: https://numpy.org/devdocs/release/1.20.0-notes.html#deprecations\n",
      "  T_ir = ir.astype(np.float)\n"
     ]
    },
    {
     "name": "stdout",
     "output_type": "stream",
     "text": [
      "Apply affine\n",
      "20230523_201209_bgr.png\n"
     ]
    },
    {
     "name": "stderr",
     "output_type": "stream",
     "text": [
      "/project/nsaru/nsaru-cv/lib/python3.9/site-packages/pysolar/solartime.py:111: UserWarning: I don't know about leap seconds after 2021\n",
      "  warnings.warn \\\n"
     ]
    },
    {
     "name": "stdout",
     "output_type": "stream",
     "text": [
      "2023-05-23 20:12:09+00:00 194.21062493421036 63.2998619671456\n"
     ]
    },
    {
     "name": "stderr",
     "output_type": "stream",
     "text": [
      "/local/bgfs/joaquin.casanova/9678774/ipykernel_102032/451001033.py:318: DeprecationWarning: `np.float` is a deprecated alias for the builtin `float`. To silence this warning, use `float` by itself. Doing this will not modify any behavior and is safe. If you specifically wanted the numpy scalar type, use `np.float64` here.\n",
      "Deprecated in NumPy 1.20; for more details and guidance: https://numpy.org/devdocs/release/1.20.0-notes.html#deprecations\n",
      "  pred_mlp3 = model.predict(feat).reshape(bgr.shape[0:2]).astype(np.float)\n",
      "/local/bgfs/joaquin.casanova/9678774/ipykernel_102032/451001033.py:350: DeprecationWarning: `np.float` is a deprecated alias for the builtin `float`. To silence this warning, use `float` by itself. Doing this will not modify any behavior and is safe. If you specifically wanted the numpy scalar type, use `np.float64` here.\n",
      "Deprecated in NumPy 1.20; for more details and guidance: https://numpy.org/devdocs/release/1.20.0-notes.html#deprecations\n",
      "  T_ir = ir.astype(np.float)\n"
     ]
    },
    {
     "name": "stdout",
     "output_type": "stream",
     "text": [
      "Apply affine\n",
      "20230523_211209_bgr.png\n"
     ]
    },
    {
     "name": "stderr",
     "output_type": "stream",
     "text": [
      "/project/nsaru/nsaru-cv/lib/python3.9/site-packages/pysolar/solartime.py:111: UserWarning: I don't know about leap seconds after 2021\n",
      "  warnings.warn \\\n"
     ]
    },
    {
     "name": "stdout",
     "output_type": "stream",
     "text": [
      "2023-05-23 21:12:09+00:00 221.5418787388492 58.454526162266625\n"
     ]
    },
    {
     "name": "stderr",
     "output_type": "stream",
     "text": [
      "/local/bgfs/joaquin.casanova/9678774/ipykernel_102032/451001033.py:318: DeprecationWarning: `np.float` is a deprecated alias for the builtin `float`. To silence this warning, use `float` by itself. Doing this will not modify any behavior and is safe. If you specifically wanted the numpy scalar type, use `np.float64` here.\n",
      "Deprecated in NumPy 1.20; for more details and guidance: https://numpy.org/devdocs/release/1.20.0-notes.html#deprecations\n",
      "  pred_mlp3 = model.predict(feat).reshape(bgr.shape[0:2]).astype(np.float)\n",
      "/local/bgfs/joaquin.casanova/9678774/ipykernel_102032/451001033.py:350: DeprecationWarning: `np.float` is a deprecated alias for the builtin `float`. To silence this warning, use `float` by itself. Doing this will not modify any behavior and is safe. If you specifically wanted the numpy scalar type, use `np.float64` here.\n",
      "Deprecated in NumPy 1.20; for more details and guidance: https://numpy.org/devdocs/release/1.20.0-notes.html#deprecations\n",
      "  T_ir = ir.astype(np.float)\n",
      "/local/bgfs/joaquin.casanova/9678774/ipykernel_102032/451001033.py:380: RuntimeWarning: Mean of empty slice\n",
      "  T_snw_shd.append(np.nanmean(T_ir[pred_mlp3==7]))\n"
     ]
    },
    {
     "name": "stdout",
     "output_type": "stream",
     "text": [
      "Apply affine\n",
      "20230523_221210_bgr.png\n"
     ]
    },
    {
     "name": "stderr",
     "output_type": "stream",
     "text": [
      "/project/nsaru/nsaru-cv/lib/python3.9/site-packages/pysolar/solartime.py:111: UserWarning: I don't know about leap seconds after 2021\n",
      "  warnings.warn \\\n"
     ]
    },
    {
     "name": "stdout",
     "output_type": "stream",
     "text": [
      "2023-05-23 22:12:10+00:00 241.47009169752909 50.40249821889141\n"
     ]
    },
    {
     "name": "stderr",
     "output_type": "stream",
     "text": [
      "/local/bgfs/joaquin.casanova/9678774/ipykernel_102032/451001033.py:318: DeprecationWarning: `np.float` is a deprecated alias for the builtin `float`. To silence this warning, use `float` by itself. Doing this will not modify any behavior and is safe. If you specifically wanted the numpy scalar type, use `np.float64` here.\n",
      "Deprecated in NumPy 1.20; for more details and guidance: https://numpy.org/devdocs/release/1.20.0-notes.html#deprecations\n",
      "  pred_mlp3 = model.predict(feat).reshape(bgr.shape[0:2]).astype(np.float)\n",
      "/local/bgfs/joaquin.casanova/9678774/ipykernel_102032/451001033.py:350: DeprecationWarning: `np.float` is a deprecated alias for the builtin `float`. To silence this warning, use `float` by itself. Doing this will not modify any behavior and is safe. If you specifically wanted the numpy scalar type, use `np.float64` here.\n",
      "Deprecated in NumPy 1.20; for more details and guidance: https://numpy.org/devdocs/release/1.20.0-notes.html#deprecations\n",
      "  T_ir = ir.astype(np.float)\n",
      "/local/bgfs/joaquin.casanova/9678774/ipykernel_102032/451001033.py:380: RuntimeWarning: Mean of empty slice\n",
      "  T_snw_shd.append(np.nanmean(T_ir[pred_mlp3==7]))\n"
     ]
    },
    {
     "name": "stdout",
     "output_type": "stream",
     "text": [
      "Apply affine\n",
      "20230523_231210_bgr.png\n"
     ]
    },
    {
     "name": "stderr",
     "output_type": "stream",
     "text": [
      "/project/nsaru/nsaru-cv/lib/python3.9/site-packages/pysolar/solartime.py:111: UserWarning: I don't know about leap seconds after 2021\n",
      "  warnings.warn \\\n"
     ]
    },
    {
     "name": "stdout",
     "output_type": "stream",
     "text": [
      "2023-05-23 23:12:10+00:00 256.2280438138158 40.84029571972516\n"
     ]
    },
    {
     "name": "stderr",
     "output_type": "stream",
     "text": [
      "/local/bgfs/joaquin.casanova/9678774/ipykernel_102032/451001033.py:318: DeprecationWarning: `np.float` is a deprecated alias for the builtin `float`. To silence this warning, use `float` by itself. Doing this will not modify any behavior and is safe. If you specifically wanted the numpy scalar type, use `np.float64` here.\n",
      "Deprecated in NumPy 1.20; for more details and guidance: https://numpy.org/devdocs/release/1.20.0-notes.html#deprecations\n",
      "  pred_mlp3 = model.predict(feat).reshape(bgr.shape[0:2]).astype(np.float)\n",
      "/local/bgfs/joaquin.casanova/9678774/ipykernel_102032/451001033.py:350: DeprecationWarning: `np.float` is a deprecated alias for the builtin `float`. To silence this warning, use `float` by itself. Doing this will not modify any behavior and is safe. If you specifically wanted the numpy scalar type, use `np.float64` here.\n",
      "Deprecated in NumPy 1.20; for more details and guidance: https://numpy.org/devdocs/release/1.20.0-notes.html#deprecations\n",
      "  T_ir = ir.astype(np.float)\n"
     ]
    },
    {
     "name": "stdout",
     "output_type": "stream",
     "text": [
      "Apply affine\n",
      "20230524_001211_bgr.png\n"
     ]
    },
    {
     "name": "stderr",
     "output_type": "stream",
     "text": [
      "/project/nsaru/nsaru-cv/lib/python3.9/site-packages/pysolar/solartime.py:111: UserWarning: I don't know about leap seconds after 2021\n",
      "  warnings.warn \\\n"
     ]
    },
    {
     "name": "stdout",
     "output_type": "stream",
     "text": [
      "2023-05-24 00:12:11+00:00 268.2008113592397 30.68952161544463\n"
     ]
    },
    {
     "name": "stderr",
     "output_type": "stream",
     "text": [
      "/local/bgfs/joaquin.casanova/9678774/ipykernel_102032/451001033.py:318: DeprecationWarning: `np.float` is a deprecated alias for the builtin `float`. To silence this warning, use `float` by itself. Doing this will not modify any behavior and is safe. If you specifically wanted the numpy scalar type, use `np.float64` here.\n",
      "Deprecated in NumPy 1.20; for more details and guidance: https://numpy.org/devdocs/release/1.20.0-notes.html#deprecations\n",
      "  pred_mlp3 = model.predict(feat).reshape(bgr.shape[0:2]).astype(np.float)\n",
      "/local/bgfs/joaquin.casanova/9678774/ipykernel_102032/451001033.py:350: DeprecationWarning: `np.float` is a deprecated alias for the builtin `float`. To silence this warning, use `float` by itself. Doing this will not modify any behavior and is safe. If you specifically wanted the numpy scalar type, use `np.float64` here.\n",
      "Deprecated in NumPy 1.20; for more details and guidance: https://numpy.org/devdocs/release/1.20.0-notes.html#deprecations\n",
      "  T_ir = ir.astype(np.float)\n"
     ]
    },
    {
     "name": "stdout",
     "output_type": "stream",
     "text": [
      "Apply affine\n",
      "20230524_011211_bgr.png\n"
     ]
    },
    {
     "name": "stderr",
     "output_type": "stream",
     "text": [
      "/project/nsaru/nsaru-cv/lib/python3.9/site-packages/pysolar/solartime.py:111: UserWarning: I don't know about leap seconds after 2021\n",
      "  warnings.warn \\\n"
     ]
    },
    {
     "name": "stdout",
     "output_type": "stream",
     "text": [
      "2023-05-24 01:12:11+00:00 278.86414393863475 20.474660957149744\n"
     ]
    },
    {
     "name": "stderr",
     "output_type": "stream",
     "text": [
      "/local/bgfs/joaquin.casanova/9678774/ipykernel_102032/451001033.py:318: DeprecationWarning: `np.float` is a deprecated alias for the builtin `float`. To silence this warning, use `float` by itself. Doing this will not modify any behavior and is safe. If you specifically wanted the numpy scalar type, use `np.float64` here.\n",
      "Deprecated in NumPy 1.20; for more details and guidance: https://numpy.org/devdocs/release/1.20.0-notes.html#deprecations\n",
      "  pred_mlp3 = model.predict(feat).reshape(bgr.shape[0:2]).astype(np.float)\n",
      "/local/bgfs/joaquin.casanova/9678774/ipykernel_102032/451001033.py:350: DeprecationWarning: `np.float` is a deprecated alias for the builtin `float`. To silence this warning, use `float` by itself. Doing this will not modify any behavior and is safe. If you specifically wanted the numpy scalar type, use `np.float64` here.\n",
      "Deprecated in NumPy 1.20; for more details and guidance: https://numpy.org/devdocs/release/1.20.0-notes.html#deprecations\n",
      "  T_ir = ir.astype(np.float)\n"
     ]
    },
    {
     "name": "stdout",
     "output_type": "stream",
     "text": [
      "Apply affine\n",
      "20230524_021211_bgr.png\n"
     ]
    },
    {
     "name": "stderr",
     "output_type": "stream",
     "text": [
      "/project/nsaru/nsaru-cv/lib/python3.9/site-packages/pysolar/solartime.py:111: UserWarning: I don't know about leap seconds after 2021\n",
      "  warnings.warn \\\n"
     ]
    },
    {
     "name": "stdout",
     "output_type": "stream",
     "text": [
      "2023-05-24 02:12:11+00:00 289.14161546415323 10.56864079612354\n"
     ]
    },
    {
     "name": "stderr",
     "output_type": "stream",
     "text": [
      "/local/bgfs/joaquin.casanova/9678774/ipykernel_102032/451001033.py:318: DeprecationWarning: `np.float` is a deprecated alias for the builtin `float`. To silence this warning, use `float` by itself. Doing this will not modify any behavior and is safe. If you specifically wanted the numpy scalar type, use `np.float64` here.\n",
      "Deprecated in NumPy 1.20; for more details and guidance: https://numpy.org/devdocs/release/1.20.0-notes.html#deprecations\n",
      "  pred_mlp3 = model.predict(feat).reshape(bgr.shape[0:2]).astype(np.float)\n",
      "/local/bgfs/joaquin.casanova/9678774/ipykernel_102032/451001033.py:350: DeprecationWarning: `np.float` is a deprecated alias for the builtin `float`. To silence this warning, use `float` by itself. Doing this will not modify any behavior and is safe. If you specifically wanted the numpy scalar type, use `np.float64` here.\n",
      "Deprecated in NumPy 1.20; for more details and guidance: https://numpy.org/devdocs/release/1.20.0-notes.html#deprecations\n",
      "  T_ir = ir.astype(np.float)\n"
     ]
    },
    {
     "name": "stdout",
     "output_type": "stream",
     "text": [
      "Apply affine\n",
      "20230524_031212_bgr.png\n"
     ]
    },
    {
     "name": "stderr",
     "output_type": "stream",
     "text": [
      "/project/nsaru/nsaru-cv/lib/python3.9/site-packages/pysolar/solartime.py:111: UserWarning: I don't know about leap seconds after 2021\n",
      "  warnings.warn \\\n"
     ]
    },
    {
     "name": "stdout",
     "output_type": "stream",
     "text": [
      "2023-05-24 03:12:12+00:00 299.67678953690046 1.487314036967867\n",
      "20230524_041212_bgr.png\n",
      "2023-05-24 04:12:12+00:00 310.9568483891329 -7.225640072721189\n",
      "20230524_051212_bgr.png\n",
      "2023-05-24 05:12:12+00:00 323.34685589041567 -14.203674835323403\n",
      "20230524_061213_bgr.png\n",
      "2023-05-24 06:12:13+00:00 336.99934429293137 -19.3103097186439\n",
      "20230524_071213_bgr.png\n",
      "2023-05-24 07:12:13+00:00 351.70137149068205 -22.077418072276945\n",
      "20230524_081213_bgr.png\n",
      "2023-05-24 08:12:13+00:00 6.844971591629104 -22.200147959936174\n",
      "20230524_091213_bgr.png\n",
      "2023-05-24 09:12:13+00:00 21.616097003144375 -19.663751434866462\n",
      "20230524_101214_bgr.png\n",
      "2023-05-24 10:12:14+00:00 35.375528929652205 -14.750776424655967\n",
      "20230524_111214_bgr.png\n",
      "2023-05-24 11:12:14+00:00 47.8722039068567 -7.921213826593897\n",
      "20230524_121214_bgr.png\n",
      "2023-05-24 12:12:14+00:00 59.23183485058982 0.7721630257932056\n",
      "20230524_131214_bgr.png\n",
      "2023-05-24 13:12:14+00:00 69.80111149711236 9.70251898951947\n",
      "20230524_141215_bgr.png\n",
      "2023-05-24 14:12:15+00:00 80.06338091291914 19.569748126667925\n"
     ]
    },
    {
     "name": "stderr",
     "output_type": "stream",
     "text": [
      "/local/bgfs/joaquin.casanova/9678774/ipykernel_102032/451001033.py:318: DeprecationWarning: `np.float` is a deprecated alias for the builtin `float`. To silence this warning, use `float` by itself. Doing this will not modify any behavior and is safe. If you specifically wanted the numpy scalar type, use `np.float64` here.\n",
      "Deprecated in NumPy 1.20; for more details and guidance: https://numpy.org/devdocs/release/1.20.0-notes.html#deprecations\n",
      "  pred_mlp3 = model.predict(feat).reshape(bgr.shape[0:2]).astype(np.float)\n",
      "/local/bgfs/joaquin.casanova/9678774/ipykernel_102032/451001033.py:350: DeprecationWarning: `np.float` is a deprecated alias for the builtin `float`. To silence this warning, use `float` by itself. Doing this will not modify any behavior and is safe. If you specifically wanted the numpy scalar type, use `np.float64` here.\n",
      "Deprecated in NumPy 1.20; for more details and guidance: https://numpy.org/devdocs/release/1.20.0-notes.html#deprecations\n",
      "  T_ir = ir.astype(np.float)\n",
      "/local/bgfs/joaquin.casanova/9678774/ipykernel_102032/451001033.py:379: RuntimeWarning: Mean of empty slice\n",
      "  T_snw_sun.append(np.nanmean(T_ir[pred_mlp3==3]))\n",
      "/local/bgfs/joaquin.casanova/9678774/ipykernel_102032/451001033.py:380: RuntimeWarning: Mean of empty slice\n",
      "  T_snw_shd.append(np.nanmean(T_ir[pred_mlp3==7]))\n"
     ]
    },
    {
     "name": "stdout",
     "output_type": "stream",
     "text": [
      "Apply affine\n",
      "20230524_151215_bgr.png\n"
     ]
    },
    {
     "name": "stderr",
     "output_type": "stream",
     "text": [
      "/project/nsaru/nsaru-cv/lib/python3.9/site-packages/pysolar/solartime.py:111: UserWarning: I don't know about leap seconds after 2021\n",
      "  warnings.warn \\\n"
     ]
    },
    {
     "name": "stdout",
     "output_type": "stream",
     "text": [
      "2023-05-24 15:12:15+00:00 90.63457812607164 29.779911574668947\n"
     ]
    },
    {
     "name": "stderr",
     "output_type": "stream",
     "text": [
      "/local/bgfs/joaquin.casanova/9678774/ipykernel_102032/451001033.py:318: DeprecationWarning: `np.float` is a deprecated alias for the builtin `float`. To silence this warning, use `float` by itself. Doing this will not modify any behavior and is safe. If you specifically wanted the numpy scalar type, use `np.float64` here.\n",
      "Deprecated in NumPy 1.20; for more details and guidance: https://numpy.org/devdocs/release/1.20.0-notes.html#deprecations\n",
      "  pred_mlp3 = model.predict(feat).reshape(bgr.shape[0:2]).astype(np.float)\n",
      "/local/bgfs/joaquin.casanova/9678774/ipykernel_102032/451001033.py:350: DeprecationWarning: `np.float` is a deprecated alias for the builtin `float`. To silence this warning, use `float` by itself. Doing this will not modify any behavior and is safe. If you specifically wanted the numpy scalar type, use `np.float64` here.\n",
      "Deprecated in NumPy 1.20; for more details and guidance: https://numpy.org/devdocs/release/1.20.0-notes.html#deprecations\n",
      "  T_ir = ir.astype(np.float)\n",
      "/local/bgfs/joaquin.casanova/9678774/ipykernel_102032/451001033.py:379: RuntimeWarning: Mean of empty slice\n",
      "  T_snw_sun.append(np.nanmean(T_ir[pred_mlp3==3]))\n",
      "/local/bgfs/joaquin.casanova/9678774/ipykernel_102032/451001033.py:380: RuntimeWarning: Mean of empty slice\n",
      "  T_snw_shd.append(np.nanmean(T_ir[pred_mlp3==7]))\n"
     ]
    },
    {
     "name": "stdout",
     "output_type": "stream",
     "text": [
      "Apply affine\n",
      "20230524_161216_bgr.png\n"
     ]
    },
    {
     "name": "stderr",
     "output_type": "stream",
     "text": [
      "/project/nsaru/nsaru-cv/lib/python3.9/site-packages/pysolar/solartime.py:111: UserWarning: I don't know about leap seconds after 2021\n",
      "  warnings.warn \\\n"
     ]
    },
    {
     "name": "stdout",
     "output_type": "stream",
     "text": [
      "2023-05-24 16:12:16+00:00 102.4038769319945 39.968888463860765\n"
     ]
    },
    {
     "name": "stderr",
     "output_type": "stream",
     "text": [
      "/local/bgfs/joaquin.casanova/9678774/ipykernel_102032/451001033.py:318: DeprecationWarning: `np.float` is a deprecated alias for the builtin `float`. To silence this warning, use `float` by itself. Doing this will not modify any behavior and is safe. If you specifically wanted the numpy scalar type, use `np.float64` here.\n",
      "Deprecated in NumPy 1.20; for more details and guidance: https://numpy.org/devdocs/release/1.20.0-notes.html#deprecations\n",
      "  pred_mlp3 = model.predict(feat).reshape(bgr.shape[0:2]).astype(np.float)\n",
      "/local/bgfs/joaquin.casanova/9678774/ipykernel_102032/451001033.py:350: DeprecationWarning: `np.float` is a deprecated alias for the builtin `float`. To silence this warning, use `float` by itself. Doing this will not modify any behavior and is safe. If you specifically wanted the numpy scalar type, use `np.float64` here.\n",
      "Deprecated in NumPy 1.20; for more details and guidance: https://numpy.org/devdocs/release/1.20.0-notes.html#deprecations\n",
      "  T_ir = ir.astype(np.float)\n"
     ]
    },
    {
     "name": "stdout",
     "output_type": "stream",
     "text": [
      "Apply affine\n",
      "20230524_171216_bgr.png\n"
     ]
    },
    {
     "name": "stderr",
     "output_type": "stream",
     "text": [
      "/project/nsaru/nsaru-cv/lib/python3.9/site-packages/pysolar/solartime.py:111: UserWarning: I don't know about leap seconds after 2021\n",
      "  warnings.warn \\\n"
     ]
    },
    {
     "name": "stdout",
     "output_type": "stream",
     "text": [
      "2023-05-24 17:12:16+00:00 116.77935562872455 49.63796835029051\n"
     ]
    },
    {
     "name": "stderr",
     "output_type": "stream",
     "text": [
      "/local/bgfs/joaquin.casanova/9678774/ipykernel_102032/451001033.py:318: DeprecationWarning: `np.float` is a deprecated alias for the builtin `float`. To silence this warning, use `float` by itself. Doing this will not modify any behavior and is safe. If you specifically wanted the numpy scalar type, use `np.float64` here.\n",
      "Deprecated in NumPy 1.20; for more details and guidance: https://numpy.org/devdocs/release/1.20.0-notes.html#deprecations\n",
      "  pred_mlp3 = model.predict(feat).reshape(bgr.shape[0:2]).astype(np.float)\n",
      "/local/bgfs/joaquin.casanova/9678774/ipykernel_102032/451001033.py:350: DeprecationWarning: `np.float` is a deprecated alias for the builtin `float`. To silence this warning, use `float` by itself. Doing this will not modify any behavior and is safe. If you specifically wanted the numpy scalar type, use `np.float64` here.\n",
      "Deprecated in NumPy 1.20; for more details and guidance: https://numpy.org/devdocs/release/1.20.0-notes.html#deprecations\n",
      "  T_ir = ir.astype(np.float)\n",
      "/local/bgfs/joaquin.casanova/9678774/ipykernel_102032/451001033.py:379: RuntimeWarning: Mean of empty slice\n",
      "  T_snw_sun.append(np.nanmean(T_ir[pred_mlp3==3]))\n",
      "/local/bgfs/joaquin.casanova/9678774/ipykernel_102032/451001033.py:380: RuntimeWarning: Mean of empty slice\n",
      "  T_snw_shd.append(np.nanmean(T_ir[pred_mlp3==7]))\n"
     ]
    },
    {
     "name": "stdout",
     "output_type": "stream",
     "text": [
      "Apply affine\n",
      "20230524_181217_bgr.png\n"
     ]
    },
    {
     "name": "stderr",
     "output_type": "stream",
     "text": [
      "/project/nsaru/nsaru-cv/lib/python3.9/site-packages/pysolar/solartime.py:111: UserWarning: I don't know about leap seconds after 2021\n",
      "  warnings.warn \\\n"
     ]
    },
    {
     "name": "stdout",
     "output_type": "stream",
     "text": [
      "2023-05-24 18:12:17+00:00 136.07831971451253 57.92415210509215\n"
     ]
    },
    {
     "name": "stderr",
     "output_type": "stream",
     "text": [
      "/local/bgfs/joaquin.casanova/9678774/ipykernel_102032/451001033.py:318: DeprecationWarning: `np.float` is a deprecated alias for the builtin `float`. To silence this warning, use `float` by itself. Doing this will not modify any behavior and is safe. If you specifically wanted the numpy scalar type, use `np.float64` here.\n",
      "Deprecated in NumPy 1.20; for more details and guidance: https://numpy.org/devdocs/release/1.20.0-notes.html#deprecations\n",
      "  pred_mlp3 = model.predict(feat).reshape(bgr.shape[0:2]).astype(np.float)\n",
      "/local/bgfs/joaquin.casanova/9678774/ipykernel_102032/451001033.py:350: DeprecationWarning: `np.float` is a deprecated alias for the builtin `float`. To silence this warning, use `float` by itself. Doing this will not modify any behavior and is safe. If you specifically wanted the numpy scalar type, use `np.float64` here.\n",
      "Deprecated in NumPy 1.20; for more details and guidance: https://numpy.org/devdocs/release/1.20.0-notes.html#deprecations\n",
      "  T_ir = ir.astype(np.float)\n",
      "/local/bgfs/joaquin.casanova/9678774/ipykernel_102032/451001033.py:379: RuntimeWarning: Mean of empty slice\n",
      "  T_snw_sun.append(np.nanmean(T_ir[pred_mlp3==3]))\n",
      "/local/bgfs/joaquin.casanova/9678774/ipykernel_102032/451001033.py:380: RuntimeWarning: Mean of empty slice\n",
      "  T_snw_shd.append(np.nanmean(T_ir[pred_mlp3==7]))\n"
     ]
    },
    {
     "name": "stdout",
     "output_type": "stream",
     "text": [
      "Apply affine\n",
      "20230524_191217_bgr.png\n"
     ]
    },
    {
     "name": "stderr",
     "output_type": "stream",
     "text": [
      "/project/nsaru/nsaru-cv/lib/python3.9/site-packages/pysolar/solartime.py:111: UserWarning: I don't know about leap seconds after 2021\n",
      "  warnings.warn \\\n"
     ]
    },
    {
     "name": "stdout",
     "output_type": "stream",
     "text": [
      "2023-05-24 19:12:17+00:00 162.76567676705722 63.20647123226992\n"
     ]
    },
    {
     "name": "stderr",
     "output_type": "stream",
     "text": [
      "/local/bgfs/joaquin.casanova/9678774/ipykernel_102032/451001033.py:318: DeprecationWarning: `np.float` is a deprecated alias for the builtin `float`. To silence this warning, use `float` by itself. Doing this will not modify any behavior and is safe. If you specifically wanted the numpy scalar type, use `np.float64` here.\n",
      "Deprecated in NumPy 1.20; for more details and guidance: https://numpy.org/devdocs/release/1.20.0-notes.html#deprecations\n",
      "  pred_mlp3 = model.predict(feat).reshape(bgr.shape[0:2]).astype(np.float)\n",
      "/local/bgfs/joaquin.casanova/9678774/ipykernel_102032/451001033.py:350: DeprecationWarning: `np.float` is a deprecated alias for the builtin `float`. To silence this warning, use `float` by itself. Doing this will not modify any behavior and is safe. If you specifically wanted the numpy scalar type, use `np.float64` here.\n",
      "Deprecated in NumPy 1.20; for more details and guidance: https://numpy.org/devdocs/release/1.20.0-notes.html#deprecations\n",
      "  T_ir = ir.astype(np.float)\n",
      "/local/bgfs/joaquin.casanova/9678774/ipykernel_102032/451001033.py:380: RuntimeWarning: Mean of empty slice\n",
      "  T_snw_shd.append(np.nanmean(T_ir[pred_mlp3==7]))\n"
     ]
    },
    {
     "name": "stdout",
     "output_type": "stream",
     "text": [
      "Apply affine\n",
      "20230524_201218_bgr.png\n"
     ]
    },
    {
     "name": "stderr",
     "output_type": "stream",
     "text": [
      "/project/nsaru/nsaru-cv/lib/python3.9/site-packages/pysolar/solartime.py:111: UserWarning: I don't know about leap seconds after 2021\n",
      "  warnings.warn \\\n"
     ]
    },
    {
     "name": "stdout",
     "output_type": "stream",
     "text": [
      "2023-05-24 20:12:18+00:00 194.31533603678363 63.4804397999423\n"
     ]
    },
    {
     "name": "stderr",
     "output_type": "stream",
     "text": [
      "/local/bgfs/joaquin.casanova/9678774/ipykernel_102032/451001033.py:318: DeprecationWarning: `np.float` is a deprecated alias for the builtin `float`. To silence this warning, use `float` by itself. Doing this will not modify any behavior and is safe. If you specifically wanted the numpy scalar type, use `np.float64` here.\n",
      "Deprecated in NumPy 1.20; for more details and guidance: https://numpy.org/devdocs/release/1.20.0-notes.html#deprecations\n",
      "  pred_mlp3 = model.predict(feat).reshape(bgr.shape[0:2]).astype(np.float)\n",
      "/local/bgfs/joaquin.casanova/9678774/ipykernel_102032/451001033.py:350: DeprecationWarning: `np.float` is a deprecated alias for the builtin `float`. To silence this warning, use `float` by itself. Doing this will not modify any behavior and is safe. If you specifically wanted the numpy scalar type, use `np.float64` here.\n",
      "Deprecated in NumPy 1.20; for more details and guidance: https://numpy.org/devdocs/release/1.20.0-notes.html#deprecations\n",
      "  T_ir = ir.astype(np.float)\n",
      "/local/bgfs/joaquin.casanova/9678774/ipykernel_102032/451001033.py:380: RuntimeWarning: Mean of empty slice\n",
      "  T_snw_shd.append(np.nanmean(T_ir[pred_mlp3==7]))\n"
     ]
    },
    {
     "name": "stdout",
     "output_type": "stream",
     "text": [
      "Apply affine\n",
      "20230524_211218_bgr.png\n"
     ]
    },
    {
     "name": "stderr",
     "output_type": "stream",
     "text": [
      "/project/nsaru/nsaru-cv/lib/python3.9/site-packages/pysolar/solartime.py:111: UserWarning: I don't know about leap seconds after 2021\n",
      "  warnings.warn \\\n"
     ]
    },
    {
     "name": "stdout",
     "output_type": "stream",
     "text": [
      "2023-05-24 21:12:18+00:00 221.73764461021761 58.610312725300844\n"
     ]
    },
    {
     "name": "stderr",
     "output_type": "stream",
     "text": [
      "/local/bgfs/joaquin.casanova/9678774/ipykernel_102032/451001033.py:318: DeprecationWarning: `np.float` is a deprecated alias for the builtin `float`. To silence this warning, use `float` by itself. Doing this will not modify any behavior and is safe. If you specifically wanted the numpy scalar type, use `np.float64` here.\n",
      "Deprecated in NumPy 1.20; for more details and guidance: https://numpy.org/devdocs/release/1.20.0-notes.html#deprecations\n",
      "  pred_mlp3 = model.predict(feat).reshape(bgr.shape[0:2]).astype(np.float)\n",
      "/local/bgfs/joaquin.casanova/9678774/ipykernel_102032/451001033.py:350: DeprecationWarning: `np.float` is a deprecated alias for the builtin `float`. To silence this warning, use `float` by itself. Doing this will not modify any behavior and is safe. If you specifically wanted the numpy scalar type, use `np.float64` here.\n",
      "Deprecated in NumPy 1.20; for more details and guidance: https://numpy.org/devdocs/release/1.20.0-notes.html#deprecations\n",
      "  T_ir = ir.astype(np.float)\n"
     ]
    },
    {
     "name": "stdout",
     "output_type": "stream",
     "text": [
      "Apply affine\n",
      "20230524_221219_bgr.png\n"
     ]
    },
    {
     "name": "stderr",
     "output_type": "stream",
     "text": [
      "/project/nsaru/nsaru-cv/lib/python3.9/site-packages/pysolar/solartime.py:111: UserWarning: I don't know about leap seconds after 2021\n",
      "  warnings.warn \\\n"
     ]
    },
    {
     "name": "stdout",
     "output_type": "stream",
     "text": [
      "2023-05-24 22:12:19+00:00 241.67397213828352 50.53582635416561\n"
     ]
    },
    {
     "name": "stderr",
     "output_type": "stream",
     "text": [
      "/local/bgfs/joaquin.casanova/9678774/ipykernel_102032/451001033.py:318: DeprecationWarning: `np.float` is a deprecated alias for the builtin `float`. To silence this warning, use `float` by itself. Doing this will not modify any behavior and is safe. If you specifically wanted the numpy scalar type, use `np.float64` here.\n",
      "Deprecated in NumPy 1.20; for more details and guidance: https://numpy.org/devdocs/release/1.20.0-notes.html#deprecations\n",
      "  pred_mlp3 = model.predict(feat).reshape(bgr.shape[0:2]).astype(np.float)\n",
      "/local/bgfs/joaquin.casanova/9678774/ipykernel_102032/451001033.py:350: DeprecationWarning: `np.float` is a deprecated alias for the builtin `float`. To silence this warning, use `float` by itself. Doing this will not modify any behavior and is safe. If you specifically wanted the numpy scalar type, use `np.float64` here.\n",
      "Deprecated in NumPy 1.20; for more details and guidance: https://numpy.org/devdocs/release/1.20.0-notes.html#deprecations\n",
      "  T_ir = ir.astype(np.float)\n"
     ]
    },
    {
     "name": "stdout",
     "output_type": "stream",
     "text": [
      "Apply affine\n",
      "20230524_231219_bgr.png\n"
     ]
    },
    {
     "name": "stderr",
     "output_type": "stream",
     "text": [
      "/project/nsaru/nsaru-cv/lib/python3.9/site-packages/pysolar/solartime.py:111: UserWarning: I don't know about leap seconds after 2021\n",
      "  warnings.warn \\\n"
     ]
    },
    {
     "name": "stdout",
     "output_type": "stream",
     "text": [
      "2023-05-24 23:12:19+00:00 256.4149065606507 40.960996508781996\n"
     ]
    },
    {
     "name": "stderr",
     "output_type": "stream",
     "text": [
      "/local/bgfs/joaquin.casanova/9678774/ipykernel_102032/451001033.py:318: DeprecationWarning: `np.float` is a deprecated alias for the builtin `float`. To silence this warning, use `float` by itself. Doing this will not modify any behavior and is safe. If you specifically wanted the numpy scalar type, use `np.float64` here.\n",
      "Deprecated in NumPy 1.20; for more details and guidance: https://numpy.org/devdocs/release/1.20.0-notes.html#deprecations\n",
      "  pred_mlp3 = model.predict(feat).reshape(bgr.shape[0:2]).astype(np.float)\n",
      "/local/bgfs/joaquin.casanova/9678774/ipykernel_102032/451001033.py:350: DeprecationWarning: `np.float` is a deprecated alias for the builtin `float`. To silence this warning, use `float` by itself. Doing this will not modify any behavior and is safe. If you specifically wanted the numpy scalar type, use `np.float64` here.\n",
      "Deprecated in NumPy 1.20; for more details and guidance: https://numpy.org/devdocs/release/1.20.0-notes.html#deprecations\n",
      "  T_ir = ir.astype(np.float)\n"
     ]
    },
    {
     "name": "stdout",
     "output_type": "stream",
     "text": [
      "Apply affine\n",
      "20230525_001220_bgr.png\n"
     ]
    },
    {
     "name": "stderr",
     "output_type": "stream",
     "text": [
      "/project/nsaru/nsaru-cv/lib/python3.9/site-packages/pysolar/solartime.py:111: UserWarning: I don't know about leap seconds after 2021\n",
      "  warnings.warn \\\n"
     ]
    },
    {
     "name": "stdout",
     "output_type": "stream",
     "text": [
      "2023-05-25 00:12:20+00:00 268.368962300196 30.80583032125237\n"
     ]
    },
    {
     "name": "stderr",
     "output_type": "stream",
     "text": [
      "/local/bgfs/joaquin.casanova/9678774/ipykernel_102032/451001033.py:318: DeprecationWarning: `np.float` is a deprecated alias for the builtin `float`. To silence this warning, use `float` by itself. Doing this will not modify any behavior and is safe. If you specifically wanted the numpy scalar type, use `np.float64` here.\n",
      "Deprecated in NumPy 1.20; for more details and guidance: https://numpy.org/devdocs/release/1.20.0-notes.html#deprecations\n",
      "  pred_mlp3 = model.predict(feat).reshape(bgr.shape[0:2]).astype(np.float)\n",
      "/local/bgfs/joaquin.casanova/9678774/ipykernel_102032/451001033.py:350: DeprecationWarning: `np.float` is a deprecated alias for the builtin `float`. To silence this warning, use `float` by itself. Doing this will not modify any behavior and is safe. If you specifically wanted the numpy scalar type, use `np.float64` here.\n",
      "Deprecated in NumPy 1.20; for more details and guidance: https://numpy.org/devdocs/release/1.20.0-notes.html#deprecations\n",
      "  T_ir = ir.astype(np.float)\n"
     ]
    },
    {
     "name": "stdout",
     "output_type": "stream",
     "text": [
      "Apply affine\n",
      "20230525_011220_bgr.png\n"
     ]
    },
    {
     "name": "stderr",
     "output_type": "stream",
     "text": [
      "/project/nsaru/nsaru-cv/lib/python3.9/site-packages/pysolar/solartime.py:111: UserWarning: I don't know about leap seconds after 2021\n",
      "  warnings.warn \\\n"
     ]
    },
    {
     "name": "stdout",
     "output_type": "stream",
     "text": [
      "2023-05-25 01:12:20+00:00 279.01665105320495 20.592504148653745\n"
     ]
    },
    {
     "name": "stderr",
     "output_type": "stream",
     "text": [
      "/local/bgfs/joaquin.casanova/9678774/ipykernel_102032/451001033.py:318: DeprecationWarning: `np.float` is a deprecated alias for the builtin `float`. To silence this warning, use `float` by itself. Doing this will not modify any behavior and is safe. If you specifically wanted the numpy scalar type, use `np.float64` here.\n",
      "Deprecated in NumPy 1.20; for more details and guidance: https://numpy.org/devdocs/release/1.20.0-notes.html#deprecations\n",
      "  pred_mlp3 = model.predict(feat).reshape(bgr.shape[0:2]).astype(np.float)\n",
      "/local/bgfs/joaquin.casanova/9678774/ipykernel_102032/451001033.py:350: DeprecationWarning: `np.float` is a deprecated alias for the builtin `float`. To silence this warning, use `float` by itself. Doing this will not modify any behavior and is safe. If you specifically wanted the numpy scalar type, use `np.float64` here.\n",
      "Deprecated in NumPy 1.20; for more details and guidance: https://numpy.org/devdocs/release/1.20.0-notes.html#deprecations\n",
      "  T_ir = ir.astype(np.float)\n"
     ]
    },
    {
     "name": "stdout",
     "output_type": "stream",
     "text": [
      "Apply affine\n",
      "20230525_021221_bgr.png\n"
     ]
    },
    {
     "name": "stderr",
     "output_type": "stream",
     "text": [
      "/project/nsaru/nsaru-cv/lib/python3.9/site-packages/pysolar/solartime.py:111: UserWarning: I don't know about leap seconds after 2021\n",
      "  warnings.warn \\\n"
     ]
    },
    {
     "name": "stdout",
     "output_type": "stream",
     "text": [
      "2023-05-25 02:12:21+00:00 289.28399120145593 10.689351485288626\n"
     ]
    },
    {
     "name": "stderr",
     "output_type": "stream",
     "text": [
      "/local/bgfs/joaquin.casanova/9678774/ipykernel_102032/451001033.py:318: DeprecationWarning: `np.float` is a deprecated alias for the builtin `float`. To silence this warning, use `float` by itself. Doing this will not modify any behavior and is safe. If you specifically wanted the numpy scalar type, use `np.float64` here.\n",
      "Deprecated in NumPy 1.20; for more details and guidance: https://numpy.org/devdocs/release/1.20.0-notes.html#deprecations\n",
      "  pred_mlp3 = model.predict(feat).reshape(bgr.shape[0:2]).astype(np.float)\n",
      "/local/bgfs/joaquin.casanova/9678774/ipykernel_102032/451001033.py:350: DeprecationWarning: `np.float` is a deprecated alias for the builtin `float`. To silence this warning, use `float` by itself. Doing this will not modify any behavior and is safe. If you specifically wanted the numpy scalar type, use `np.float64` here.\n",
      "Deprecated in NumPy 1.20; for more details and guidance: https://numpy.org/devdocs/release/1.20.0-notes.html#deprecations\n",
      "  T_ir = ir.astype(np.float)\n"
     ]
    },
    {
     "name": "stdout",
     "output_type": "stream",
     "text": [
      "Apply affine\n",
      "20230525_031221_bgr.png\n"
     ]
    },
    {
     "name": "stderr",
     "output_type": "stream",
     "text": [
      "/project/nsaru/nsaru-cv/lib/python3.9/site-packages/pysolar/solartime.py:111: UserWarning: I don't know about leap seconds after 2021\n",
      "  warnings.warn \\\n"
     ]
    },
    {
     "name": "stdout",
     "output_type": "stream",
     "text": [
      "2023-05-25 03:12:21+00:00 299.8041250907087 1.609492361628299\n",
      "20230525_041221_bgr.png\n",
      "2023-05-25 04:12:21+00:00 311.07027920805075 -7.07932640878314\n",
      "20230525_051222_bgr.png\n",
      "2023-05-25 05:12:22+00:00 323.4452103016679 -14.045564480231898\n",
      "20230525_061222_bgr.png\n",
      "2023-05-25 06:12:22+00:00 337.0678887100519 -19.13798049728868\n",
      "20230525_071222_bgr.png\n",
      "2023-05-25 07:12:22+00:00 351.735840278841 -21.896390765224297\n",
      "20230525_081222_bgr.png\n",
      "2023-05-25 08:12:22+00:00 6.8412633438340436 -22.016607776861882\n",
      "20230525_091223_bgr.png\n",
      "2023-05-25 09:12:23+00:00 21.580519376728915 -19.483210233060227\n",
      "20230525_101223_bgr.png\n",
      "2023-05-25 10:12:23+00:00 35.307156394147825 -14.58008069959729\n",
      "20230525_111223_bgr.png\n",
      "2023-05-25 11:12:23+00:00 47.782692397074214 -7.761351262181823\n",
      "20230525_121223_bgr.png\n",
      "20230525_131224_bgr.png\n",
      "20230525_141224_bgr.png\n",
      "20230525_151225_bgr.png\n",
      "20230525_161225_bgr.png\n",
      "20230525_171226_bgr.png\n",
      "20230525_181226_bgr.png\n",
      "20230525_191227_bgr.png\n",
      "20230525_201227_bgr.png\n",
      "20230525_213613_bgr.png\n",
      "20230525_222154_bgr.png\n",
      "2023-05-25 22:21:54+00:00 244.45714918135997 49.22607236635678\n"
     ]
    },
    {
     "name": "stderr",
     "output_type": "stream",
     "text": [
      "/local/bgfs/joaquin.casanova/9678774/ipykernel_102032/451001033.py:318: DeprecationWarning: `np.float` is a deprecated alias for the builtin `float`. To silence this warning, use `float` by itself. Doing this will not modify any behavior and is safe. If you specifically wanted the numpy scalar type, use `np.float64` here.\n",
      "Deprecated in NumPy 1.20; for more details and guidance: https://numpy.org/devdocs/release/1.20.0-notes.html#deprecations\n",
      "  pred_mlp3 = model.predict(feat).reshape(bgr.shape[0:2]).astype(np.float)\n",
      "/local/bgfs/joaquin.casanova/9678774/ipykernel_102032/451001033.py:350: DeprecationWarning: `np.float` is a deprecated alias for the builtin `float`. To silence this warning, use `float` by itself. Doing this will not modify any behavior and is safe. If you specifically wanted the numpy scalar type, use `np.float64` here.\n",
      "Deprecated in NumPy 1.20; for more details and guidance: https://numpy.org/devdocs/release/1.20.0-notes.html#deprecations\n",
      "  T_ir = ir.astype(np.float)\n"
     ]
    },
    {
     "name": "stdout",
     "output_type": "stream",
     "text": [
      "Apply affine\n",
      "20230525_232157_bgr.png\n"
     ]
    },
    {
     "name": "stderr",
     "output_type": "stream",
     "text": [
      "/project/nsaru/nsaru-cv/lib/python3.9/site-packages/pysolar/solartime.py:111: UserWarning: I don't know about leap seconds after 2021\n",
      "  warnings.warn \\\n"
     ]
    },
    {
     "name": "stdout",
     "output_type": "stream",
     "text": [
      "2023-05-25 23:21:57+00:00 258.61896942913614 39.49489723617192\n"
     ]
    },
    {
     "name": "stderr",
     "output_type": "stream",
     "text": [
      "/local/bgfs/joaquin.casanova/9678774/ipykernel_102032/451001033.py:318: DeprecationWarning: `np.float` is a deprecated alias for the builtin `float`. To silence this warning, use `float` by itself. Doing this will not modify any behavior and is safe. If you specifically wanted the numpy scalar type, use `np.float64` here.\n",
      "Deprecated in NumPy 1.20; for more details and guidance: https://numpy.org/devdocs/release/1.20.0-notes.html#deprecations\n",
      "  pred_mlp3 = model.predict(feat).reshape(bgr.shape[0:2]).astype(np.float)\n",
      "/local/bgfs/joaquin.casanova/9678774/ipykernel_102032/451001033.py:350: DeprecationWarning: `np.float` is a deprecated alias for the builtin `float`. To silence this warning, use `float` by itself. Doing this will not modify any behavior and is safe. If you specifically wanted the numpy scalar type, use `np.float64` here.\n",
      "Deprecated in NumPy 1.20; for more details and guidance: https://numpy.org/devdocs/release/1.20.0-notes.html#deprecations\n",
      "  T_ir = ir.astype(np.float)\n"
     ]
    },
    {
     "name": "stdout",
     "output_type": "stream",
     "text": [
      "Apply affine\n",
      "20230526_002158_bgr.png\n"
     ]
    },
    {
     "name": "stderr",
     "output_type": "stream",
     "text": [
      "/project/nsaru/nsaru-cv/lib/python3.9/site-packages/pysolar/solartime.py:111: UserWarning: I don't know about leap seconds after 2021\n",
      "  warnings.warn \\\n"
     ]
    },
    {
     "name": "stdout",
     "output_type": "stream",
     "text": [
      "2023-05-26 00:21:58+00:00 270.2694322028926 29.29859249068053\n"
     ]
    },
    {
     "name": "stderr",
     "output_type": "stream",
     "text": [
      "/local/bgfs/joaquin.casanova/9678774/ipykernel_102032/451001033.py:318: DeprecationWarning: `np.float` is a deprecated alias for the builtin `float`. To silence this warning, use `float` by itself. Doing this will not modify any behavior and is safe. If you specifically wanted the numpy scalar type, use `np.float64` here.\n",
      "Deprecated in NumPy 1.20; for more details and guidance: https://numpy.org/devdocs/release/1.20.0-notes.html#deprecations\n",
      "  pred_mlp3 = model.predict(feat).reshape(bgr.shape[0:2]).astype(np.float)\n",
      "/local/bgfs/joaquin.casanova/9678774/ipykernel_102032/451001033.py:350: DeprecationWarning: `np.float` is a deprecated alias for the builtin `float`. To silence this warning, use `float` by itself. Doing this will not modify any behavior and is safe. If you specifically wanted the numpy scalar type, use `np.float64` here.\n",
      "Deprecated in NumPy 1.20; for more details and guidance: https://numpy.org/devdocs/release/1.20.0-notes.html#deprecations\n",
      "  T_ir = ir.astype(np.float)\n"
     ]
    },
    {
     "name": "stdout",
     "output_type": "stream",
     "text": [
      "Apply affine\n",
      "20230526_012158_bgr.png\n"
     ]
    },
    {
     "name": "stderr",
     "output_type": "stream",
     "text": [
      "/project/nsaru/nsaru-cv/lib/python3.9/site-packages/pysolar/solartime.py:111: UserWarning: I don't know about leap seconds after 2021\n",
      "  warnings.warn \\\n"
     ]
    },
    {
     "name": "stdout",
     "output_type": "stream",
     "text": [
      "2023-05-26 01:21:58+00:00 280.79032299734246 19.113279977470068\n"
     ]
    },
    {
     "name": "stderr",
     "output_type": "stream",
     "text": [
      "/local/bgfs/joaquin.casanova/9678774/ipykernel_102032/451001033.py:318: DeprecationWarning: `np.float` is a deprecated alias for the builtin `float`. To silence this warning, use `float` by itself. Doing this will not modify any behavior and is safe. If you specifically wanted the numpy scalar type, use `np.float64` here.\n",
      "Deprecated in NumPy 1.20; for more details and guidance: https://numpy.org/devdocs/release/1.20.0-notes.html#deprecations\n",
      "  pred_mlp3 = model.predict(feat).reshape(bgr.shape[0:2]).astype(np.float)\n",
      "/local/bgfs/joaquin.casanova/9678774/ipykernel_102032/451001033.py:350: DeprecationWarning: `np.float` is a deprecated alias for the builtin `float`. To silence this warning, use `float` by itself. Doing this will not modify any behavior and is safe. If you specifically wanted the numpy scalar type, use `np.float64` here.\n",
      "Deprecated in NumPy 1.20; for more details and guidance: https://numpy.org/devdocs/release/1.20.0-notes.html#deprecations\n",
      "  T_ir = ir.astype(np.float)\n",
      "/local/bgfs/joaquin.casanova/9678774/ipykernel_102032/451001033.py:379: RuntimeWarning: Mean of empty slice\n",
      "  T_snw_sun.append(np.nanmean(T_ir[pred_mlp3==3]))\n",
      "/local/bgfs/joaquin.casanova/9678774/ipykernel_102032/451001033.py:380: RuntimeWarning: Mean of empty slice\n",
      "  T_snw_shd.append(np.nanmean(T_ir[pred_mlp3==7]))\n"
     ]
    },
    {
     "name": "stdout",
     "output_type": "stream",
     "text": [
      "Apply affine\n",
      "20230526_022159_bgr.png\n"
     ]
    },
    {
     "name": "stderr",
     "output_type": "stream",
     "text": [
      "/project/nsaru/nsaru-cv/lib/python3.9/site-packages/pysolar/solartime.py:111: UserWarning: I don't know about leap seconds after 2021\n",
      "  warnings.warn \\\n"
     ]
    },
    {
     "name": "stdout",
     "output_type": "stream",
     "text": [
      "2023-05-26 02:21:59+00:00 291.0478486360539 9.299837769770992\n",
      "20230526_032159_bgr.png\n",
      "2023-05-26 03:21:59+00:00 301.6442837143012 0.48842720244733046\n",
      "20230526_042159_bgr.png\n",
      "2023-05-26 04:21:59+00:00 313.05108801253846 -8.140207923638457\n",
      "20230526_052200_bgr.png\n",
      "2023-05-26 05:22:00+00:00 325.6021910332654 -14.830389409838574\n",
      "20230526_062200_bgr.png\n",
      "2023-05-26 06:22:00+00:00 339.387774468256 -19.57105840471785\n",
      "20230526_072200_bgr.png\n",
      "2023-05-26 07:22:00+00:00 354.1403679436707 -21.919153730203366\n",
      "20230526_082200_bgr.png\n",
      "2023-05-26 08:22:00+00:00 9.204189787941488 -21.611599282160768\n",
      "20230526_092200_bgr.png\n",
      "2023-05-26 09:22:00+00:00 23.77998722344745 -18.68458841896056\n",
      "20230526_102201_bgr.png\n",
      "2023-05-26 10:22:01+00:00 37.29170922194743 -13.454320667059953\n",
      "20230526_112201_bgr.png\n",
      "2023-05-26 11:22:01+00:00 49.55373338901609 -6.388452357248591\n",
      "20230526_122201_bgr.png\n",
      "2023-05-26 12:22:01+00:00 60.731952922339886 2.315376914310916\n",
      "20230526_132202_bgr.png\n",
      "2023-05-26 13:22:02+00:00 71.19534564468586 11.49681612383369\n"
     ]
    },
    {
     "name": "stderr",
     "output_type": "stream",
     "text": [
      "/local/bgfs/joaquin.casanova/9678774/ipykernel_102032/451001033.py:318: DeprecationWarning: `np.float` is a deprecated alias for the builtin `float`. To silence this warning, use `float` by itself. Doing this will not modify any behavior and is safe. If you specifically wanted the numpy scalar type, use `np.float64` here.\n",
      "Deprecated in NumPy 1.20; for more details and guidance: https://numpy.org/devdocs/release/1.20.0-notes.html#deprecations\n",
      "  pred_mlp3 = model.predict(feat).reshape(bgr.shape[0:2]).astype(np.float)\n",
      "/local/bgfs/joaquin.casanova/9678774/ipykernel_102032/451001033.py:350: DeprecationWarning: `np.float` is a deprecated alias for the builtin `float`. To silence this warning, use `float` by itself. Doing this will not modify any behavior and is safe. If you specifically wanted the numpy scalar type, use `np.float64` here.\n",
      "Deprecated in NumPy 1.20; for more details and guidance: https://numpy.org/devdocs/release/1.20.0-notes.html#deprecations\n",
      "  T_ir = ir.astype(np.float)\n",
      "/local/bgfs/joaquin.casanova/9678774/ipykernel_102032/451001033.py:379: RuntimeWarning: Mean of empty slice\n",
      "  T_snw_sun.append(np.nanmean(T_ir[pred_mlp3==3]))\n",
      "/local/bgfs/joaquin.casanova/9678774/ipykernel_102032/451001033.py:380: RuntimeWarning: Mean of empty slice\n",
      "  T_snw_shd.append(np.nanmean(T_ir[pred_mlp3==7]))\n"
     ]
    },
    {
     "name": "stdout",
     "output_type": "stream",
     "text": [
      "Apply affine\n",
      "20230526_142202_bgr.png\n"
     ]
    },
    {
     "name": "stderr",
     "output_type": "stream",
     "text": [
      "/project/nsaru/nsaru-cv/lib/python3.9/site-packages/pysolar/solartime.py:111: UserWarning: I don't know about leap seconds after 2021\n",
      "  warnings.warn \\\n"
     ]
    },
    {
     "name": "stdout",
     "output_type": "stream",
     "text": [
      "2023-05-26 14:22:02+00:00 81.43337250494056 21.431252178286904\n"
     ]
    },
    {
     "name": "stderr",
     "output_type": "stream",
     "text": [
      "/local/bgfs/joaquin.casanova/9678774/ipykernel_102032/451001033.py:318: DeprecationWarning: `np.float` is a deprecated alias for the builtin `float`. To silence this warning, use `float` by itself. Doing this will not modify any behavior and is safe. If you specifically wanted the numpy scalar type, use `np.float64` here.\n",
      "Deprecated in NumPy 1.20; for more details and guidance: https://numpy.org/devdocs/release/1.20.0-notes.html#deprecations\n",
      "  pred_mlp3 = model.predict(feat).reshape(bgr.shape[0:2]).astype(np.float)\n",
      "/local/bgfs/joaquin.casanova/9678774/ipykernel_102032/451001033.py:350: DeprecationWarning: `np.float` is a deprecated alias for the builtin `float`. To silence this warning, use `float` by itself. Doing this will not modify any behavior and is safe. If you specifically wanted the numpy scalar type, use `np.float64` here.\n",
      "Deprecated in NumPy 1.20; for more details and guidance: https://numpy.org/devdocs/release/1.20.0-notes.html#deprecations\n",
      "  T_ir = ir.astype(np.float)\n"
     ]
    },
    {
     "name": "stdout",
     "output_type": "stream",
     "text": [
      "Apply affine\n",
      "20230526_152202_bgr.png\n"
     ]
    },
    {
     "name": "stderr",
     "output_type": "stream",
     "text": [
      "/project/nsaru/nsaru-cv/lib/python3.9/site-packages/pysolar/solartime.py:111: UserWarning: I don't know about leap seconds after 2021\n",
      "  warnings.warn \\\n"
     ]
    },
    {
     "name": "stdout",
     "output_type": "stream",
     "text": [
      "2023-05-26 15:22:02+00:00 92.09774634851547 31.660443651277905\n"
     ]
    },
    {
     "name": "stderr",
     "output_type": "stream",
     "text": [
      "/local/bgfs/joaquin.casanova/9678774/ipykernel_102032/451001033.py:318: DeprecationWarning: `np.float` is a deprecated alias for the builtin `float`. To silence this warning, use `float` by itself. Doing this will not modify any behavior and is safe. If you specifically wanted the numpy scalar type, use `np.float64` here.\n",
      "Deprecated in NumPy 1.20; for more details and guidance: https://numpy.org/devdocs/release/1.20.0-notes.html#deprecations\n",
      "  pred_mlp3 = model.predict(feat).reshape(bgr.shape[0:2]).astype(np.float)\n",
      "/local/bgfs/joaquin.casanova/9678774/ipykernel_102032/451001033.py:350: DeprecationWarning: `np.float` is a deprecated alias for the builtin `float`. To silence this warning, use `float` by itself. Doing this will not modify any behavior and is safe. If you specifically wanted the numpy scalar type, use `np.float64` here.\n",
      "Deprecated in NumPy 1.20; for more details and guidance: https://numpy.org/devdocs/release/1.20.0-notes.html#deprecations\n",
      "  T_ir = ir.astype(np.float)\n"
     ]
    },
    {
     "name": "stdout",
     "output_type": "stream",
     "text": [
      "Apply affine\n",
      "20230526_162203_bgr.png\n"
     ]
    },
    {
     "name": "stderr",
     "output_type": "stream",
     "text": [
      "/project/nsaru/nsaru-cv/lib/python3.9/site-packages/pysolar/solartime.py:111: UserWarning: I don't know about leap seconds after 2021\n",
      "  warnings.warn \\\n"
     ]
    },
    {
     "name": "stdout",
     "output_type": "stream",
     "text": [
      "2023-05-26 16:22:03+00:00 104.13722230806293 41.81373236185626\n"
     ]
    },
    {
     "name": "stderr",
     "output_type": "stream",
     "text": [
      "/local/bgfs/joaquin.casanova/9678774/ipykernel_102032/451001033.py:318: DeprecationWarning: `np.float` is a deprecated alias for the builtin `float`. To silence this warning, use `float` by itself. Doing this will not modify any behavior and is safe. If you specifically wanted the numpy scalar type, use `np.float64` here.\n",
      "Deprecated in NumPy 1.20; for more details and guidance: https://numpy.org/devdocs/release/1.20.0-notes.html#deprecations\n",
      "  pred_mlp3 = model.predict(feat).reshape(bgr.shape[0:2]).astype(np.float)\n",
      "/local/bgfs/joaquin.casanova/9678774/ipykernel_102032/451001033.py:350: DeprecationWarning: `np.float` is a deprecated alias for the builtin `float`. To silence this warning, use `float` by itself. Doing this will not modify any behavior and is safe. If you specifically wanted the numpy scalar type, use `np.float64` here.\n",
      "Deprecated in NumPy 1.20; for more details and guidance: https://numpy.org/devdocs/release/1.20.0-notes.html#deprecations\n",
      "  T_ir = ir.astype(np.float)\n"
     ]
    },
    {
     "name": "stdout",
     "output_type": "stream",
     "text": [
      "Apply affine\n",
      "20230526_172203_bgr.png\n"
     ]
    },
    {
     "name": "stderr",
     "output_type": "stream",
     "text": [
      "/project/nsaru/nsaru-cv/lib/python3.9/site-packages/pysolar/solartime.py:111: UserWarning: I don't know about leap seconds after 2021\n",
      "  warnings.warn \\\n"
     ]
    },
    {
     "name": "stdout",
     "output_type": "stream",
     "text": [
      "2023-05-26 17:22:03+00:00 119.09209812861104 51.357437865389436\n"
     ]
    },
    {
     "name": "stderr",
     "output_type": "stream",
     "text": [
      "/local/bgfs/joaquin.casanova/9678774/ipykernel_102032/451001033.py:318: DeprecationWarning: `np.float` is a deprecated alias for the builtin `float`. To silence this warning, use `float` by itself. Doing this will not modify any behavior and is safe. If you specifically wanted the numpy scalar type, use `np.float64` here.\n",
      "Deprecated in NumPy 1.20; for more details and guidance: https://numpy.org/devdocs/release/1.20.0-notes.html#deprecations\n",
      "  pred_mlp3 = model.predict(feat).reshape(bgr.shape[0:2]).astype(np.float)\n",
      "/local/bgfs/joaquin.casanova/9678774/ipykernel_102032/451001033.py:350: DeprecationWarning: `np.float` is a deprecated alias for the builtin `float`. To silence this warning, use `float` by itself. Doing this will not modify any behavior and is safe. If you specifically wanted the numpy scalar type, use `np.float64` here.\n",
      "Deprecated in NumPy 1.20; for more details and guidance: https://numpy.org/devdocs/release/1.20.0-notes.html#deprecations\n",
      "  T_ir = ir.astype(np.float)\n"
     ]
    },
    {
     "name": "stdout",
     "output_type": "stream",
     "text": [
      "Apply affine\n",
      "20230526_182204_bgr.png\n"
     ]
    },
    {
     "name": "stderr",
     "output_type": "stream",
     "text": [
      "/project/nsaru/nsaru-cv/lib/python3.9/site-packages/pysolar/solartime.py:111: UserWarning: I don't know about leap seconds after 2021\n",
      "  warnings.warn \\\n"
     ]
    },
    {
     "name": "stdout",
     "output_type": "stream",
     "text": [
      "2023-05-26 18:22:04+00:00 139.47641497277885 59.33555014737071\n"
     ]
    },
    {
     "name": "stderr",
     "output_type": "stream",
     "text": [
      "/local/bgfs/joaquin.casanova/9678774/ipykernel_102032/451001033.py:318: DeprecationWarning: `np.float` is a deprecated alias for the builtin `float`. To silence this warning, use `float` by itself. Doing this will not modify any behavior and is safe. If you specifically wanted the numpy scalar type, use `np.float64` here.\n",
      "Deprecated in NumPy 1.20; for more details and guidance: https://numpy.org/devdocs/release/1.20.0-notes.html#deprecations\n",
      "  pred_mlp3 = model.predict(feat).reshape(bgr.shape[0:2]).astype(np.float)\n",
      "/local/bgfs/joaquin.casanova/9678774/ipykernel_102032/451001033.py:350: DeprecationWarning: `np.float` is a deprecated alias for the builtin `float`. To silence this warning, use `float` by itself. Doing this will not modify any behavior and is safe. If you specifically wanted the numpy scalar type, use `np.float64` here.\n",
      "Deprecated in NumPy 1.20; for more details and guidance: https://numpy.org/devdocs/release/1.20.0-notes.html#deprecations\n",
      "  T_ir = ir.astype(np.float)\n"
     ]
    },
    {
     "name": "stdout",
     "output_type": "stream",
     "text": [
      "Apply affine\n",
      "20230526_192204_bgr.png\n"
     ]
    },
    {
     "name": "stderr",
     "output_type": "stream",
     "text": [
      "/project/nsaru/nsaru-cv/lib/python3.9/site-packages/pysolar/solartime.py:111: UserWarning: I don't know about leap seconds after 2021\n",
      "  warnings.warn \\\n"
     ]
    },
    {
     "name": "stdout",
     "output_type": "stream",
     "text": [
      "2023-05-26 19:22:04+00:00 167.55036317490482 63.97594073982212\n"
     ]
    },
    {
     "name": "stderr",
     "output_type": "stream",
     "text": [
      "/local/bgfs/joaquin.casanova/9678774/ipykernel_102032/451001033.py:318: DeprecationWarning: `np.float` is a deprecated alias for the builtin `float`. To silence this warning, use `float` by itself. Doing this will not modify any behavior and is safe. If you specifically wanted the numpy scalar type, use `np.float64` here.\n",
      "Deprecated in NumPy 1.20; for more details and guidance: https://numpy.org/devdocs/release/1.20.0-notes.html#deprecations\n",
      "  pred_mlp3 = model.predict(feat).reshape(bgr.shape[0:2]).astype(np.float)\n",
      "/local/bgfs/joaquin.casanova/9678774/ipykernel_102032/451001033.py:350: DeprecationWarning: `np.float` is a deprecated alias for the builtin `float`. To silence this warning, use `float` by itself. Doing this will not modify any behavior and is safe. If you specifically wanted the numpy scalar type, use `np.float64` here.\n",
      "Deprecated in NumPy 1.20; for more details and guidance: https://numpy.org/devdocs/release/1.20.0-notes.html#deprecations\n",
      "  T_ir = ir.astype(np.float)\n",
      "/local/bgfs/joaquin.casanova/9678774/ipykernel_102032/451001033.py:380: RuntimeWarning: Mean of empty slice\n",
      "  T_snw_shd.append(np.nanmean(T_ir[pred_mlp3==7]))\n"
     ]
    },
    {
     "name": "stdout",
     "output_type": "stream",
     "text": [
      "Apply affine\n",
      "20230526_202205_bgr.png\n"
     ]
    },
    {
     "name": "stderr",
     "output_type": "stream",
     "text": [
      "/project/nsaru/nsaru-cv/lib/python3.9/site-packages/pysolar/solartime.py:111: UserWarning: I don't know about leap seconds after 2021\n",
      "  warnings.warn \\\n"
     ]
    },
    {
     "name": "stdout",
     "output_type": "stream",
     "text": [
      "2023-05-26 20:22:05+00:00 199.36324936161336 63.35282753303277\n"
     ]
    },
    {
     "name": "stderr",
     "output_type": "stream",
     "text": [
      "/local/bgfs/joaquin.casanova/9678774/ipykernel_102032/451001033.py:318: DeprecationWarning: `np.float` is a deprecated alias for the builtin `float`. To silence this warning, use `float` by itself. Doing this will not modify any behavior and is safe. If you specifically wanted the numpy scalar type, use `np.float64` here.\n",
      "Deprecated in NumPy 1.20; for more details and guidance: https://numpy.org/devdocs/release/1.20.0-notes.html#deprecations\n",
      "  pred_mlp3 = model.predict(feat).reshape(bgr.shape[0:2]).astype(np.float)\n",
      "/local/bgfs/joaquin.casanova/9678774/ipykernel_102032/451001033.py:350: DeprecationWarning: `np.float` is a deprecated alias for the builtin `float`. To silence this warning, use `float` by itself. Doing this will not modify any behavior and is safe. If you specifically wanted the numpy scalar type, use `np.float64` here.\n",
      "Deprecated in NumPy 1.20; for more details and guidance: https://numpy.org/devdocs/release/1.20.0-notes.html#deprecations\n",
      "  T_ir = ir.astype(np.float)\n",
      "/local/bgfs/joaquin.casanova/9678774/ipykernel_102032/451001033.py:380: RuntimeWarning: Mean of empty slice\n",
      "  T_snw_shd.append(np.nanmean(T_ir[pred_mlp3==7]))\n"
     ]
    },
    {
     "name": "stdout",
     "output_type": "stream",
     "text": [
      "Apply affine\n",
      "20230526_212205_bgr.png\n"
     ]
    },
    {
     "name": "stderr",
     "output_type": "stream",
     "text": [
      "/project/nsaru/nsaru-cv/lib/python3.9/site-packages/pysolar/solartime.py:111: UserWarning: I don't know about leap seconds after 2021\n",
      "  warnings.warn \\\n"
     ]
    },
    {
     "name": "stdout",
     "output_type": "stream",
     "text": [
      "2023-05-26 21:22:05+00:00 225.73263074161375 57.78321239803171\n"
     ]
    },
    {
     "name": "stderr",
     "output_type": "stream",
     "text": [
      "/local/bgfs/joaquin.casanova/9678774/ipykernel_102032/451001033.py:318: DeprecationWarning: `np.float` is a deprecated alias for the builtin `float`. To silence this warning, use `float` by itself. Doing this will not modify any behavior and is safe. If you specifically wanted the numpy scalar type, use `np.float64` here.\n",
      "Deprecated in NumPy 1.20; for more details and guidance: https://numpy.org/devdocs/release/1.20.0-notes.html#deprecations\n",
      "  pred_mlp3 = model.predict(feat).reshape(bgr.shape[0:2]).astype(np.float)\n",
      "/local/bgfs/joaquin.casanova/9678774/ipykernel_102032/451001033.py:350: DeprecationWarning: `np.float` is a deprecated alias for the builtin `float`. To silence this warning, use `float` by itself. Doing this will not modify any behavior and is safe. If you specifically wanted the numpy scalar type, use `np.float64` here.\n",
      "Deprecated in NumPy 1.20; for more details and guidance: https://numpy.org/devdocs/release/1.20.0-notes.html#deprecations\n",
      "  T_ir = ir.astype(np.float)\n"
     ]
    },
    {
     "name": "stdout",
     "output_type": "stream",
     "text": [
      "Apply affine\n",
      "20230526_222206_bgr.png\n"
     ]
    },
    {
     "name": "stderr",
     "output_type": "stream",
     "text": [
      "/project/nsaru/nsaru-cv/lib/python3.9/site-packages/pysolar/solartime.py:111: UserWarning: I don't know about leap seconds after 2021\n",
      "  warnings.warn \\\n"
     ]
    },
    {
     "name": "stdout",
     "output_type": "stream",
     "text": [
      "2023-05-26 22:22:06+00:00 244.65790479875702 49.34180779119816\n"
     ]
    },
    {
     "name": "stderr",
     "output_type": "stream",
     "text": [
      "/local/bgfs/joaquin.casanova/9678774/ipykernel_102032/451001033.py:318: DeprecationWarning: `np.float` is a deprecated alias for the builtin `float`. To silence this warning, use `float` by itself. Doing this will not modify any behavior and is safe. If you specifically wanted the numpy scalar type, use `np.float64` here.\n",
      "Deprecated in NumPy 1.20; for more details and guidance: https://numpy.org/devdocs/release/1.20.0-notes.html#deprecations\n",
      "  pred_mlp3 = model.predict(feat).reshape(bgr.shape[0:2]).astype(np.float)\n",
      "/local/bgfs/joaquin.casanova/9678774/ipykernel_102032/451001033.py:350: DeprecationWarning: `np.float` is a deprecated alias for the builtin `float`. To silence this warning, use `float` by itself. Doing this will not modify any behavior and is safe. If you specifically wanted the numpy scalar type, use `np.float64` here.\n",
      "Deprecated in NumPy 1.20; for more details and guidance: https://numpy.org/devdocs/release/1.20.0-notes.html#deprecations\n",
      "  T_ir = ir.astype(np.float)\n"
     ]
    },
    {
     "name": "stdout",
     "output_type": "stream",
     "text": [
      "Apply affine\n",
      "20230526_232206_bgr.png\n"
     ]
    },
    {
     "name": "stderr",
     "output_type": "stream",
     "text": [
      "/project/nsaru/nsaru-cv/lib/python3.9/site-packages/pysolar/solartime.py:111: UserWarning: I don't know about leap seconds after 2021\n",
      "  warnings.warn \\\n"
     ]
    },
    {
     "name": "stdout",
     "output_type": "stream",
     "text": [
      "2023-05-26 23:22:06+00:00 258.7893206282387 39.60818053080745\n"
     ]
    },
    {
     "name": "stderr",
     "output_type": "stream",
     "text": [
      "/local/bgfs/joaquin.casanova/9678774/ipykernel_102032/451001033.py:318: DeprecationWarning: `np.float` is a deprecated alias for the builtin `float`. To silence this warning, use `float` by itself. Doing this will not modify any behavior and is safe. If you specifically wanted the numpy scalar type, use `np.float64` here.\n",
      "Deprecated in NumPy 1.20; for more details and guidance: https://numpy.org/devdocs/release/1.20.0-notes.html#deprecations\n",
      "  pred_mlp3 = model.predict(feat).reshape(bgr.shape[0:2]).astype(np.float)\n",
      "/local/bgfs/joaquin.casanova/9678774/ipykernel_102032/451001033.py:350: DeprecationWarning: `np.float` is a deprecated alias for the builtin `float`. To silence this warning, use `float` by itself. Doing this will not modify any behavior and is safe. If you specifically wanted the numpy scalar type, use `np.float64` here.\n",
      "Deprecated in NumPy 1.20; for more details and guidance: https://numpy.org/devdocs/release/1.20.0-notes.html#deprecations\n",
      "  T_ir = ir.astype(np.float)\n"
     ]
    },
    {
     "name": "stdout",
     "output_type": "stream",
     "text": [
      "Apply affine\n",
      "20230527_002207_bgr.png\n"
     ]
    },
    {
     "name": "stderr",
     "output_type": "stream",
     "text": [
      "/project/nsaru/nsaru-cv/lib/python3.9/site-packages/pysolar/solartime.py:111: UserWarning: I don't know about leap seconds after 2021\n",
      "  warnings.warn \\\n"
     ]
    },
    {
     "name": "stdout",
     "output_type": "stream",
     "text": [
      "2023-05-27 00:22:07+00:00 270.42252107370143 29.40895704203711\n"
     ]
    },
    {
     "name": "stderr",
     "output_type": "stream",
     "text": [
      "/local/bgfs/joaquin.casanova/9678774/ipykernel_102032/451001033.py:318: DeprecationWarning: `np.float` is a deprecated alias for the builtin `float`. To silence this warning, use `float` by itself. Doing this will not modify any behavior and is safe. If you specifically wanted the numpy scalar type, use `np.float64` here.\n",
      "Deprecated in NumPy 1.20; for more details and guidance: https://numpy.org/devdocs/release/1.20.0-notes.html#deprecations\n",
      "  pred_mlp3 = model.predict(feat).reshape(bgr.shape[0:2]).astype(np.float)\n",
      "/local/bgfs/joaquin.casanova/9678774/ipykernel_102032/451001033.py:350: DeprecationWarning: `np.float` is a deprecated alias for the builtin `float`. To silence this warning, use `float` by itself. Doing this will not modify any behavior and is safe. If you specifically wanted the numpy scalar type, use `np.float64` here.\n",
      "Deprecated in NumPy 1.20; for more details and guidance: https://numpy.org/devdocs/release/1.20.0-notes.html#deprecations\n",
      "  T_ir = ir.astype(np.float)\n"
     ]
    },
    {
     "name": "stdout",
     "output_type": "stream",
     "text": [
      "Apply affine\n",
      "20230527_012207_bgr.png\n"
     ]
    },
    {
     "name": "stderr",
     "output_type": "stream",
     "text": [
      "/project/nsaru/nsaru-cv/lib/python3.9/site-packages/pysolar/solartime.py:111: UserWarning: I don't know about leap seconds after 2021\n",
      "  warnings.warn \\\n"
     ]
    },
    {
     "name": "stdout",
     "output_type": "stream",
     "text": [
      "2023-05-27 01:22:07+00:00 280.92908102204746 19.225891379135422\n"
     ]
    },
    {
     "name": "stderr",
     "output_type": "stream",
     "text": [
      "/local/bgfs/joaquin.casanova/9678774/ipykernel_102032/451001033.py:318: DeprecationWarning: `np.float` is a deprecated alias for the builtin `float`. To silence this warning, use `float` by itself. Doing this will not modify any behavior and is safe. If you specifically wanted the numpy scalar type, use `np.float64` here.\n",
      "Deprecated in NumPy 1.20; for more details and guidance: https://numpy.org/devdocs/release/1.20.0-notes.html#deprecations\n",
      "  pred_mlp3 = model.predict(feat).reshape(bgr.shape[0:2]).astype(np.float)\n",
      "/local/bgfs/joaquin.casanova/9678774/ipykernel_102032/451001033.py:350: DeprecationWarning: `np.float` is a deprecated alias for the builtin `float`. To silence this warning, use `float` by itself. Doing this will not modify any behavior and is safe. If you specifically wanted the numpy scalar type, use `np.float64` here.\n",
      "Deprecated in NumPy 1.20; for more details and guidance: https://numpy.org/devdocs/release/1.20.0-notes.html#deprecations\n",
      "  T_ir = ir.astype(np.float)\n",
      "/local/bgfs/joaquin.casanova/9678774/ipykernel_102032/451001033.py:379: RuntimeWarning: Mean of empty slice\n",
      "  T_snw_sun.append(np.nanmean(T_ir[pred_mlp3==3]))\n",
      "/local/bgfs/joaquin.casanova/9678774/ipykernel_102032/451001033.py:380: RuntimeWarning: Mean of empty slice\n",
      "  T_snw_shd.append(np.nanmean(T_ir[pred_mlp3==7]))\n"
     ]
    },
    {
     "name": "stdout",
     "output_type": "stream",
     "text": [
      "Apply affine\n",
      "20230527_022207_bgr.png\n"
     ]
    },
    {
     "name": "stderr",
     "output_type": "stream",
     "text": [
      "/project/nsaru/nsaru-cv/lib/python3.9/site-packages/pysolar/solartime.py:111: UserWarning: I don't know about leap seconds after 2021\n",
      "  warnings.warn \\\n"
     ]
    },
    {
     "name": "stdout",
     "output_type": "stream",
     "text": [
      "2023-05-27 02:22:07+00:00 291.1716043178187 9.420643489467775\n",
      "20230527_032208_bgr.png\n",
      "2023-05-27 03:22:08+00:00 301.75913510816315 0.5992175307384202\n",
      "20230527_042208_bgr.png\n",
      "2023-05-27 04:22:08+00:00 313.15207123702635 -7.99996299324642\n",
      "20230527_052208_bgr.png\n",
      "2023-05-27 05:22:08+00:00 325.68072749684404 -14.676274422144257\n",
      "20230527_062209_bgr.png\n",
      "2023-05-27 06:22:09+00:00 339.44402176981094 -19.407732854223852\n",
      "20230527_072209_bgr.png\n",
      "2023-05-27 07:22:09+00:00 354.1638200051634 -21.749083078986178\n",
      "20230527_082209_bgr.png\n",
      "2023-05-27 08:22:09+00:00 9.192123175325378 -21.440768113954892\n",
      "20230527_092209_bgr.png\n",
      "2023-05-27 09:22:09+00:00 23.735592427864418 -18.518906483870158\n",
      "20230527_102212_bgr.png\n",
      "2023-05-27 10:22:12+00:00 37.22900782299769 -13.294291712823853\n",
      "20230527_112212_bgr.png\n",
      "2023-05-27 11:22:12+00:00 49.47179480637419 -6.238091300925513\n",
      "20230527_122212_bgr.png\n",
      "2023-05-27 12:22:12+00:00 60.635610274676054 2.4476911580884773\n",
      "20230527_132213_bgr.png\n",
      "2023-05-27 13:22:13+00:00 71.08692408768924 11.629282630495302\n"
     ]
    },
    {
     "name": "stderr",
     "output_type": "stream",
     "text": [
      "/local/bgfs/joaquin.casanova/9678774/ipykernel_102032/451001033.py:318: DeprecationWarning: `np.float` is a deprecated alias for the builtin `float`. To silence this warning, use `float` by itself. Doing this will not modify any behavior and is safe. If you specifically wanted the numpy scalar type, use `np.float64` here.\n",
      "Deprecated in NumPy 1.20; for more details and guidance: https://numpy.org/devdocs/release/1.20.0-notes.html#deprecations\n",
      "  pred_mlp3 = model.predict(feat).reshape(bgr.shape[0:2]).astype(np.float)\n",
      "/local/bgfs/joaquin.casanova/9678774/ipykernel_102032/451001033.py:350: DeprecationWarning: `np.float` is a deprecated alias for the builtin `float`. To silence this warning, use `float` by itself. Doing this will not modify any behavior and is safe. If you specifically wanted the numpy scalar type, use `np.float64` here.\n",
      "Deprecated in NumPy 1.20; for more details and guidance: https://numpy.org/devdocs/release/1.20.0-notes.html#deprecations\n",
      "  T_ir = ir.astype(np.float)\n",
      "/local/bgfs/joaquin.casanova/9678774/ipykernel_102032/451001033.py:377: RuntimeWarning: Mean of empty slice\n",
      "  T_veg_sun.append(np.nanmean(T_ir[pred_mlp3==2]))\n",
      "/local/bgfs/joaquin.casanova/9678774/ipykernel_102032/451001033.py:378: RuntimeWarning: Mean of empty slice\n",
      "  T_veg_shd.append(np.nanmean(T_ir[pred_mlp3==6]))\n",
      "/local/bgfs/joaquin.casanova/9678774/ipykernel_102032/451001033.py:380: RuntimeWarning: Mean of empty slice\n",
      "  T_snw_shd.append(np.nanmean(T_ir[pred_mlp3==7]))\n"
     ]
    },
    {
     "name": "stdout",
     "output_type": "stream",
     "text": [
      "Apply affine\n",
      "20230527_142213_bgr.png\n"
     ]
    },
    {
     "name": "stderr",
     "output_type": "stream",
     "text": [
      "/project/nsaru/nsaru-cv/lib/python3.9/site-packages/pysolar/solartime.py:111: UserWarning: I don't know about leap seconds after 2021\n",
      "  warnings.warn \\\n"
     ]
    },
    {
     "name": "stdout",
     "output_type": "stream",
     "text": [
      "2023-05-27 14:22:13+00:00 81.31312282427484 21.55923844756683\n"
     ]
    },
    {
     "name": "stderr",
     "output_type": "stream",
     "text": [
      "/local/bgfs/joaquin.casanova/9678774/ipykernel_102032/451001033.py:318: DeprecationWarning: `np.float` is a deprecated alias for the builtin `float`. To silence this warning, use `float` by itself. Doing this will not modify any behavior and is safe. If you specifically wanted the numpy scalar type, use `np.float64` here.\n",
      "Deprecated in NumPy 1.20; for more details and guidance: https://numpy.org/devdocs/release/1.20.0-notes.html#deprecations\n",
      "  pred_mlp3 = model.predict(feat).reshape(bgr.shape[0:2]).astype(np.float)\n",
      "/local/bgfs/joaquin.casanova/9678774/ipykernel_102032/451001033.py:350: DeprecationWarning: `np.float` is a deprecated alias for the builtin `float`. To silence this warning, use `float` by itself. Doing this will not modify any behavior and is safe. If you specifically wanted the numpy scalar type, use `np.float64` here.\n",
      "Deprecated in NumPy 1.20; for more details and guidance: https://numpy.org/devdocs/release/1.20.0-notes.html#deprecations\n",
      "  T_ir = ir.astype(np.float)\n",
      "/local/bgfs/joaquin.casanova/9678774/ipykernel_102032/451001033.py:379: RuntimeWarning: Mean of empty slice\n",
      "  T_snw_sun.append(np.nanmean(T_ir[pred_mlp3==3]))\n",
      "/local/bgfs/joaquin.casanova/9678774/ipykernel_102032/451001033.py:380: RuntimeWarning: Mean of empty slice\n",
      "  T_snw_shd.append(np.nanmean(T_ir[pred_mlp3==7]))\n"
     ]
    },
    {
     "name": "stdout",
     "output_type": "stream",
     "text": [
      "Apply affine\n",
      "20230527_152214_bgr.png\n"
     ]
    },
    {
     "name": "stderr",
     "output_type": "stream",
     "text": [
      "/project/nsaru/nsaru-cv/lib/python3.9/site-packages/pysolar/solartime.py:111: UserWarning: I don't know about leap seconds after 2021\n",
      "  warnings.warn \\\n"
     ]
    },
    {
     "name": "stdout",
     "output_type": "stream",
     "text": [
      "2023-05-27 15:22:14+00:00 91.96773264168574 31.789887998638477\n"
     ]
    },
    {
     "name": "stderr",
     "output_type": "stream",
     "text": [
      "/local/bgfs/joaquin.casanova/9678774/ipykernel_102032/451001033.py:318: DeprecationWarning: `np.float` is a deprecated alias for the builtin `float`. To silence this warning, use `float` by itself. Doing this will not modify any behavior and is safe. If you specifically wanted the numpy scalar type, use `np.float64` here.\n",
      "Deprecated in NumPy 1.20; for more details and guidance: https://numpy.org/devdocs/release/1.20.0-notes.html#deprecations\n",
      "  pred_mlp3 = model.predict(feat).reshape(bgr.shape[0:2]).astype(np.float)\n",
      "/local/bgfs/joaquin.casanova/9678774/ipykernel_102032/451001033.py:350: DeprecationWarning: `np.float` is a deprecated alias for the builtin `float`. To silence this warning, use `float` by itself. Doing this will not modify any behavior and is safe. If you specifically wanted the numpy scalar type, use `np.float64` here.\n",
      "Deprecated in NumPy 1.20; for more details and guidance: https://numpy.org/devdocs/release/1.20.0-notes.html#deprecations\n",
      "  T_ir = ir.astype(np.float)\n",
      "/local/bgfs/joaquin.casanova/9678774/ipykernel_102032/451001033.py:379: RuntimeWarning: Mean of empty slice\n",
      "  T_snw_sun.append(np.nanmean(T_ir[pred_mlp3==3]))\n",
      "/local/bgfs/joaquin.casanova/9678774/ipykernel_102032/451001033.py:380: RuntimeWarning: Mean of empty slice\n",
      "  T_snw_shd.append(np.nanmean(T_ir[pred_mlp3==7]))\n"
     ]
    },
    {
     "name": "stdout",
     "output_type": "stream",
     "text": [
      "Apply affine\n",
      "20230527_162214_bgr.png\n"
     ]
    },
    {
     "name": "stderr",
     "output_type": "stream",
     "text": [
      "/project/nsaru/nsaru-cv/lib/python3.9/site-packages/pysolar/solartime.py:111: UserWarning: I don't know about leap seconds after 2021\n",
      "  warnings.warn \\\n"
     ]
    },
    {
     "name": "stdout",
     "output_type": "stream",
     "text": [
      "2023-05-27 16:22:14+00:00 103.99071131965053 41.943611986818\n"
     ]
    },
    {
     "name": "stderr",
     "output_type": "stream",
     "text": [
      "/local/bgfs/joaquin.casanova/9678774/ipykernel_102032/451001033.py:318: DeprecationWarning: `np.float` is a deprecated alias for the builtin `float`. To silence this warning, use `float` by itself. Doing this will not modify any behavior and is safe. If you specifically wanted the numpy scalar type, use `np.float64` here.\n",
      "Deprecated in NumPy 1.20; for more details and guidance: https://numpy.org/devdocs/release/1.20.0-notes.html#deprecations\n",
      "  pred_mlp3 = model.predict(feat).reshape(bgr.shape[0:2]).astype(np.float)\n",
      "/local/bgfs/joaquin.casanova/9678774/ipykernel_102032/451001033.py:350: DeprecationWarning: `np.float` is a deprecated alias for the builtin `float`. To silence this warning, use `float` by itself. Doing this will not modify any behavior and is safe. If you specifically wanted the numpy scalar type, use `np.float64` here.\n",
      "Deprecated in NumPy 1.20; for more details and guidance: https://numpy.org/devdocs/release/1.20.0-notes.html#deprecations\n",
      "  T_ir = ir.astype(np.float)\n",
      "/local/bgfs/joaquin.casanova/9678774/ipykernel_102032/451001033.py:379: RuntimeWarning: Mean of empty slice\n",
      "  T_snw_sun.append(np.nanmean(T_ir[pred_mlp3==3]))\n",
      "/local/bgfs/joaquin.casanova/9678774/ipykernel_102032/451001033.py:380: RuntimeWarning: Mean of empty slice\n",
      "  T_snw_shd.append(np.nanmean(T_ir[pred_mlp3==7]))\n"
     ]
    },
    {
     "name": "stdout",
     "output_type": "stream",
     "text": [
      "Apply affine\n",
      "20230527_172215_bgr.png\n"
     ]
    },
    {
     "name": "stderr",
     "output_type": "stream",
     "text": [
      "/project/nsaru/nsaru-cv/lib/python3.9/site-packages/pysolar/solartime.py:111: UserWarning: I don't know about leap seconds after 2021\n",
      "  warnings.warn \\\n"
     ]
    },
    {
     "name": "stdout",
     "output_type": "stream",
     "text": [
      "2023-05-27 17:22:15+00:00 118.94275798374542 51.499405200652696\n"
     ]
    },
    {
     "name": "stderr",
     "output_type": "stream",
     "text": [
      "/local/bgfs/joaquin.casanova/9678774/ipykernel_102032/451001033.py:318: DeprecationWarning: `np.float` is a deprecated alias for the builtin `float`. To silence this warning, use `float` by itself. Doing this will not modify any behavior and is safe. If you specifically wanted the numpy scalar type, use `np.float64` here.\n",
      "Deprecated in NumPy 1.20; for more details and guidance: https://numpy.org/devdocs/release/1.20.0-notes.html#deprecations\n",
      "  pred_mlp3 = model.predict(feat).reshape(bgr.shape[0:2]).astype(np.float)\n",
      "/local/bgfs/joaquin.casanova/9678774/ipykernel_102032/451001033.py:350: DeprecationWarning: `np.float` is a deprecated alias for the builtin `float`. To silence this warning, use `float` by itself. Doing this will not modify any behavior and is safe. If you specifically wanted the numpy scalar type, use `np.float64` here.\n",
      "Deprecated in NumPy 1.20; for more details and guidance: https://numpy.org/devdocs/release/1.20.0-notes.html#deprecations\n",
      "  T_ir = ir.astype(np.float)\n",
      "/local/bgfs/joaquin.casanova/9678774/ipykernel_102032/451001033.py:379: RuntimeWarning: Mean of empty slice\n",
      "  T_snw_sun.append(np.nanmean(T_ir[pred_mlp3==3]))\n",
      "/local/bgfs/joaquin.casanova/9678774/ipykernel_102032/451001033.py:380: RuntimeWarning: Mean of empty slice\n",
      "  T_snw_shd.append(np.nanmean(T_ir[pred_mlp3==7]))\n"
     ]
    },
    {
     "name": "stdout",
     "output_type": "stream",
     "text": [
      "Apply affine\n",
      "20230527_182215_bgr.png\n"
     ]
    },
    {
     "name": "stderr",
     "output_type": "stream",
     "text": [
      "/project/nsaru/nsaru-cv/lib/python3.9/site-packages/pysolar/solartime.py:111: UserWarning: I don't know about leap seconds after 2021\n",
      "  warnings.warn \\\n"
     ]
    },
    {
     "name": "stdout",
     "output_type": "stream",
     "text": [
      "2023-05-27 18:22:15+00:00 139.34571815840937 59.491036061400976\n"
     ]
    },
    {
     "name": "stderr",
     "output_type": "stream",
     "text": [
      "/local/bgfs/joaquin.casanova/9678774/ipykernel_102032/451001033.py:318: DeprecationWarning: `np.float` is a deprecated alias for the builtin `float`. To silence this warning, use `float` by itself. Doing this will not modify any behavior and is safe. If you specifically wanted the numpy scalar type, use `np.float64` here.\n",
      "Deprecated in NumPy 1.20; for more details and guidance: https://numpy.org/devdocs/release/1.20.0-notes.html#deprecations\n",
      "  pred_mlp3 = model.predict(feat).reshape(bgr.shape[0:2]).astype(np.float)\n",
      "/local/bgfs/joaquin.casanova/9678774/ipykernel_102032/451001033.py:350: DeprecationWarning: `np.float` is a deprecated alias for the builtin `float`. To silence this warning, use `float` by itself. Doing this will not modify any behavior and is safe. If you specifically wanted the numpy scalar type, use `np.float64` here.\n",
      "Deprecated in NumPy 1.20; for more details and guidance: https://numpy.org/devdocs/release/1.20.0-notes.html#deprecations\n",
      "  T_ir = ir.astype(np.float)\n",
      "/local/bgfs/joaquin.casanova/9678774/ipykernel_102032/451001033.py:379: RuntimeWarning: Mean of empty slice\n",
      "  T_snw_sun.append(np.nanmean(T_ir[pred_mlp3==3]))\n",
      "/local/bgfs/joaquin.casanova/9678774/ipykernel_102032/451001033.py:380: RuntimeWarning: Mean of empty slice\n",
      "  T_snw_shd.append(np.nanmean(T_ir[pred_mlp3==7]))\n"
     ]
    },
    {
     "name": "stdout",
     "output_type": "stream",
     "text": [
      "Apply affine\n",
      "20230527_192215_bgr.png\n"
     ]
    },
    {
     "name": "stderr",
     "output_type": "stream",
     "text": [
      "/project/nsaru/nsaru-cv/lib/python3.9/site-packages/pysolar/solartime.py:111: UserWarning: I don't know about leap seconds after 2021\n",
      "  warnings.warn \\\n"
     ]
    },
    {
     "name": "stdout",
     "output_type": "stream",
     "text": [
      "2023-05-27 19:22:15+00:00 167.52520923896606 64.14443422541991\n"
     ]
    },
    {
     "name": "stderr",
     "output_type": "stream",
     "text": [
      "/local/bgfs/joaquin.casanova/9678774/ipykernel_102032/451001033.py:318: DeprecationWarning: `np.float` is a deprecated alias for the builtin `float`. To silence this warning, use `float` by itself. Doing this will not modify any behavior and is safe. If you specifically wanted the numpy scalar type, use `np.float64` here.\n",
      "Deprecated in NumPy 1.20; for more details and guidance: https://numpy.org/devdocs/release/1.20.0-notes.html#deprecations\n",
      "  pred_mlp3 = model.predict(feat).reshape(bgr.shape[0:2]).astype(np.float)\n",
      "/local/bgfs/joaquin.casanova/9678774/ipykernel_102032/451001033.py:350: DeprecationWarning: `np.float` is a deprecated alias for the builtin `float`. To silence this warning, use `float` by itself. Doing this will not modify any behavior and is safe. If you specifically wanted the numpy scalar type, use `np.float64` here.\n",
      "Deprecated in NumPy 1.20; for more details and guidance: https://numpy.org/devdocs/release/1.20.0-notes.html#deprecations\n",
      "  T_ir = ir.astype(np.float)\n",
      "/local/bgfs/joaquin.casanova/9678774/ipykernel_102032/451001033.py:380: RuntimeWarning: Mean of empty slice\n",
      "  T_snw_shd.append(np.nanmean(T_ir[pred_mlp3==7]))\n"
     ]
    },
    {
     "name": "stdout",
     "output_type": "stream",
     "text": [
      "Apply affine\n",
      "20230527_202216_bgr.png\n"
     ]
    },
    {
     "name": "stderr",
     "output_type": "stream",
     "text": [
      "/project/nsaru/nsaru-cv/lib/python3.9/site-packages/pysolar/solartime.py:111: UserWarning: I don't know about leap seconds after 2021\n",
      "  warnings.warn \\\n"
     ]
    },
    {
     "name": "stdout",
     "output_type": "stream",
     "text": [
      "2023-05-27 20:22:16+00:00 199.48919897772646 63.51172883955939\n"
     ]
    },
    {
     "name": "stderr",
     "output_type": "stream",
     "text": [
      "/local/bgfs/joaquin.casanova/9678774/ipykernel_102032/451001033.py:318: DeprecationWarning: `np.float` is a deprecated alias for the builtin `float`. To silence this warning, use `float` by itself. Doing this will not modify any behavior and is safe. If you specifically wanted the numpy scalar type, use `np.float64` here.\n",
      "Deprecated in NumPy 1.20; for more details and guidance: https://numpy.org/devdocs/release/1.20.0-notes.html#deprecations\n",
      "  pred_mlp3 = model.predict(feat).reshape(bgr.shape[0:2]).astype(np.float)\n",
      "/local/bgfs/joaquin.casanova/9678774/ipykernel_102032/451001033.py:350: DeprecationWarning: `np.float` is a deprecated alias for the builtin `float`. To silence this warning, use `float` by itself. Doing this will not modify any behavior and is safe. If you specifically wanted the numpy scalar type, use `np.float64` here.\n",
      "Deprecated in NumPy 1.20; for more details and guidance: https://numpy.org/devdocs/release/1.20.0-notes.html#deprecations\n",
      "  T_ir = ir.astype(np.float)\n",
      "/local/bgfs/joaquin.casanova/9678774/ipykernel_102032/451001033.py:380: RuntimeWarning: Mean of empty slice\n",
      "  T_snw_shd.append(np.nanmean(T_ir[pred_mlp3==7]))\n"
     ]
    },
    {
     "name": "stdout",
     "output_type": "stream",
     "text": [
      "Apply affine\n",
      "20230527_212216_bgr.png\n"
     ]
    },
    {
     "name": "stderr",
     "output_type": "stream",
     "text": [
      "/project/nsaru/nsaru-cv/lib/python3.9/site-packages/pysolar/solartime.py:111: UserWarning: I don't know about leap seconds after 2021\n",
      "  warnings.warn \\\n"
     ]
    },
    {
     "name": "stdout",
     "output_type": "stream",
     "text": [
      "2023-05-27 21:22:16+00:00 225.92374045876397 57.91734634521045\n"
     ]
    },
    {
     "name": "stderr",
     "output_type": "stream",
     "text": [
      "/local/bgfs/joaquin.casanova/9678774/ipykernel_102032/451001033.py:318: DeprecationWarning: `np.float` is a deprecated alias for the builtin `float`. To silence this warning, use `float` by itself. Doing this will not modify any behavior and is safe. If you specifically wanted the numpy scalar type, use `np.float64` here.\n",
      "Deprecated in NumPy 1.20; for more details and guidance: https://numpy.org/devdocs/release/1.20.0-notes.html#deprecations\n",
      "  pred_mlp3 = model.predict(feat).reshape(bgr.shape[0:2]).astype(np.float)\n",
      "/local/bgfs/joaquin.casanova/9678774/ipykernel_102032/451001033.py:350: DeprecationWarning: `np.float` is a deprecated alias for the builtin `float`. To silence this warning, use `float` by itself. Doing this will not modify any behavior and is safe. If you specifically wanted the numpy scalar type, use `np.float64` here.\n",
      "Deprecated in NumPy 1.20; for more details and guidance: https://numpy.org/devdocs/release/1.20.0-notes.html#deprecations\n",
      "  T_ir = ir.astype(np.float)\n",
      "/local/bgfs/joaquin.casanova/9678774/ipykernel_102032/451001033.py:380: RuntimeWarning: Mean of empty slice\n",
      "  T_snw_shd.append(np.nanmean(T_ir[pred_mlp3==7]))\n"
     ]
    },
    {
     "name": "stdout",
     "output_type": "stream",
     "text": [
      "Apply affine\n",
      "20230527_222217_bgr.png\n"
     ]
    },
    {
     "name": "stderr",
     "output_type": "stream",
     "text": [
      "/project/nsaru/nsaru-cv/lib/python3.9/site-packages/pysolar/solartime.py:111: UserWarning: I don't know about leap seconds after 2021\n",
      "  warnings.warn \\\n"
     ]
    },
    {
     "name": "stdout",
     "output_type": "stream",
     "text": [
      "2023-05-27 22:22:17+00:00 244.84678684866884 49.456412493001885\n"
     ]
    },
    {
     "name": "stderr",
     "output_type": "stream",
     "text": [
      "/local/bgfs/joaquin.casanova/9678774/ipykernel_102032/451001033.py:318: DeprecationWarning: `np.float` is a deprecated alias for the builtin `float`. To silence this warning, use `float` by itself. Doing this will not modify any behavior and is safe. If you specifically wanted the numpy scalar type, use `np.float64` here.\n",
      "Deprecated in NumPy 1.20; for more details and guidance: https://numpy.org/devdocs/release/1.20.0-notes.html#deprecations\n",
      "  pred_mlp3 = model.predict(feat).reshape(bgr.shape[0:2]).astype(np.float)\n",
      "/local/bgfs/joaquin.casanova/9678774/ipykernel_102032/451001033.py:350: DeprecationWarning: `np.float` is a deprecated alias for the builtin `float`. To silence this warning, use `float` by itself. Doing this will not modify any behavior and is safe. If you specifically wanted the numpy scalar type, use `np.float64` here.\n",
      "Deprecated in NumPy 1.20; for more details and guidance: https://numpy.org/devdocs/release/1.20.0-notes.html#deprecations\n",
      "  T_ir = ir.astype(np.float)\n"
     ]
    },
    {
     "name": "stdout",
     "output_type": "stream",
     "text": [
      "Apply affine\n",
      "20230527_232217_bgr.png\n"
     ]
    },
    {
     "name": "stderr",
     "output_type": "stream",
     "text": [
      "/project/nsaru/nsaru-cv/lib/python3.9/site-packages/pysolar/solartime.py:111: UserWarning: I don't know about leap seconds after 2021\n",
      "  warnings.warn \\\n"
     ]
    },
    {
     "name": "stdout",
     "output_type": "stream",
     "text": [
      "2023-05-27 23:22:17+00:00 258.9598482628717 39.71266883167224\n"
     ]
    },
    {
     "name": "stderr",
     "output_type": "stream",
     "text": [
      "/local/bgfs/joaquin.casanova/9678774/ipykernel_102032/451001033.py:318: DeprecationWarning: `np.float` is a deprecated alias for the builtin `float`. To silence this warning, use `float` by itself. Doing this will not modify any behavior and is safe. If you specifically wanted the numpy scalar type, use `np.float64` here.\n",
      "Deprecated in NumPy 1.20; for more details and guidance: https://numpy.org/devdocs/release/1.20.0-notes.html#deprecations\n",
      "  pred_mlp3 = model.predict(feat).reshape(bgr.shape[0:2]).astype(np.float)\n",
      "/local/bgfs/joaquin.casanova/9678774/ipykernel_102032/451001033.py:350: DeprecationWarning: `np.float` is a deprecated alias for the builtin `float`. To silence this warning, use `float` by itself. Doing this will not modify any behavior and is safe. If you specifically wanted the numpy scalar type, use `np.float64` here.\n",
      "Deprecated in NumPy 1.20; for more details and guidance: https://numpy.org/devdocs/release/1.20.0-notes.html#deprecations\n",
      "  T_ir = ir.astype(np.float)\n"
     ]
    },
    {
     "name": "stdout",
     "output_type": "stream",
     "text": [
      "Apply affine\n",
      "20230528_002218_bgr.png\n"
     ]
    },
    {
     "name": "stderr",
     "output_type": "stream",
     "text": [
      "/project/nsaru/nsaru-cv/lib/python3.9/site-packages/pysolar/solartime.py:111: UserWarning: I don't know about leap seconds after 2021\n",
      "  warnings.warn \\\n"
     ]
    },
    {
     "name": "stdout",
     "output_type": "stream",
     "text": [
      "2023-05-28 00:22:18+00:00 270.57540966822444 29.51060999206804\n"
     ]
    },
    {
     "name": "stderr",
     "output_type": "stream",
     "text": [
      "/local/bgfs/joaquin.casanova/9678774/ipykernel_102032/451001033.py:318: DeprecationWarning: `np.float` is a deprecated alias for the builtin `float`. To silence this warning, use `float` by itself. Doing this will not modify any behavior and is safe. If you specifically wanted the numpy scalar type, use `np.float64` here.\n",
      "Deprecated in NumPy 1.20; for more details and guidance: https://numpy.org/devdocs/release/1.20.0-notes.html#deprecations\n",
      "  pred_mlp3 = model.predict(feat).reshape(bgr.shape[0:2]).astype(np.float)\n",
      "/local/bgfs/joaquin.casanova/9678774/ipykernel_102032/451001033.py:350: DeprecationWarning: `np.float` is a deprecated alias for the builtin `float`. To silence this warning, use `float` by itself. Doing this will not modify any behavior and is safe. If you specifically wanted the numpy scalar type, use `np.float64` here.\n",
      "Deprecated in NumPy 1.20; for more details and guidance: https://numpy.org/devdocs/release/1.20.0-notes.html#deprecations\n",
      "  T_ir = ir.astype(np.float)\n"
     ]
    },
    {
     "name": "stdout",
     "output_type": "stream",
     "text": [
      "Apply affine\n",
      "20230528_012218_bgr.png\n"
     ]
    },
    {
     "name": "stderr",
     "output_type": "stream",
     "text": [
      "/project/nsaru/nsaru-cv/lib/python3.9/site-packages/pysolar/solartime.py:111: UserWarning: I don't know about leap seconds after 2021\n",
      "  warnings.warn \\\n"
     ]
    },
    {
     "name": "stdout",
     "output_type": "stream",
     "text": [
      "2023-05-28 01:22:18+00:00 281.0677176045391 19.329865152988553\n"
     ]
    },
    {
     "name": "stderr",
     "output_type": "stream",
     "text": [
      "/local/bgfs/joaquin.casanova/9678774/ipykernel_102032/451001033.py:318: DeprecationWarning: `np.float` is a deprecated alias for the builtin `float`. To silence this warning, use `float` by itself. Doing this will not modify any behavior and is safe. If you specifically wanted the numpy scalar type, use `np.float64` here.\n",
      "Deprecated in NumPy 1.20; for more details and guidance: https://numpy.org/devdocs/release/1.20.0-notes.html#deprecations\n",
      "  pred_mlp3 = model.predict(feat).reshape(bgr.shape[0:2]).astype(np.float)\n",
      "/local/bgfs/joaquin.casanova/9678774/ipykernel_102032/451001033.py:350: DeprecationWarning: `np.float` is a deprecated alias for the builtin `float`. To silence this warning, use `float` by itself. Doing this will not modify any behavior and is safe. If you specifically wanted the numpy scalar type, use `np.float64` here.\n",
      "Deprecated in NumPy 1.20; for more details and guidance: https://numpy.org/devdocs/release/1.20.0-notes.html#deprecations\n",
      "  T_ir = ir.astype(np.float)\n",
      "/local/bgfs/joaquin.casanova/9678774/ipykernel_102032/451001033.py:379: RuntimeWarning: Mean of empty slice\n",
      "  T_snw_sun.append(np.nanmean(T_ir[pred_mlp3==3]))\n",
      "/local/bgfs/joaquin.casanova/9678774/ipykernel_102032/451001033.py:380: RuntimeWarning: Mean of empty slice\n",
      "  T_snw_shd.append(np.nanmean(T_ir[pred_mlp3==7]))\n"
     ]
    },
    {
     "name": "stdout",
     "output_type": "stream",
     "text": [
      "Apply affine\n",
      "20230528_022219_bgr.png\n"
     ]
    },
    {
     "name": "stderr",
     "output_type": "stream",
     "text": [
      "/project/nsaru/nsaru-cv/lib/python3.9/site-packages/pysolar/solartime.py:111: UserWarning: I don't know about leap seconds after 2021\n",
      "  warnings.warn \\\n"
     ]
    },
    {
     "name": "stdout",
     "output_type": "stream",
     "text": [
      "2023-05-28 02:22:19+00:00 291.3013308390544 9.527670826477822\n",
      "20230528_032219_bgr.png\n",
      "2023-05-28 03:22:19+00:00 301.87482017878654 0.7034142097834724\n",
      "20230528_042220_bgr.png\n",
      "2023-05-28 04:22:20+00:00 313.2580669973823 -7.870160028910195\n",
      "20230528_052220_bgr.png\n",
      "2023-05-28 05:22:20+00:00 325.7694555479428 -14.53341336279536\n",
      "20230528_062220_bgr.png\n",
      "2023-05-28 06:22:20+00:00 339.5046024607888 -19.251871464633584\n",
      "20230528_072220_bgr.png\n",
      "2023-05-28 07:22:20+00:00 354.1931426494027 -21.585587821732084\n",
      "20230528_082220_bgr.png\n",
      "2023-05-28 08:22:20+00:00 9.18724033842733 -21.275343014902504\n",
      "20230528_092221_bgr.png\n",
      "2023-05-28 09:22:21+00:00 23.70313129795713 -18.356174519400483\n",
      "20230528_102221_bgr.png\n",
      "2023-05-28 10:22:21+00:00 37.16042953720333 -13.14400788750958\n",
      "20230528_112221_bgr.png\n",
      "2023-05-28 11:22:21+00:00 49.385413940805535 -6.0981578235173775\n",
      "20230528_122221_bgr.png\n",
      "2023-05-28 12:22:21+00:00 60.53588054420888 2.5702303933463977\n",
      "20230528_132222_bgr.png\n",
      "2023-05-28 13:22:22+00:00 70.97579329837284 11.75073240702105\n"
     ]
    },
    {
     "name": "stderr",
     "output_type": "stream",
     "text": [
      "/local/bgfs/joaquin.casanova/9678774/ipykernel_102032/451001033.py:318: DeprecationWarning: `np.float` is a deprecated alias for the builtin `float`. To silence this warning, use `float` by itself. Doing this will not modify any behavior and is safe. If you specifically wanted the numpy scalar type, use `np.float64` here.\n",
      "Deprecated in NumPy 1.20; for more details and guidance: https://numpy.org/devdocs/release/1.20.0-notes.html#deprecations\n",
      "  pred_mlp3 = model.predict(feat).reshape(bgr.shape[0:2]).astype(np.float)\n",
      "/local/bgfs/joaquin.casanova/9678774/ipykernel_102032/451001033.py:350: DeprecationWarning: `np.float` is a deprecated alias for the builtin `float`. To silence this warning, use `float` by itself. Doing this will not modify any behavior and is safe. If you specifically wanted the numpy scalar type, use `np.float64` here.\n",
      "Deprecated in NumPy 1.20; for more details and guidance: https://numpy.org/devdocs/release/1.20.0-notes.html#deprecations\n",
      "  T_ir = ir.astype(np.float)\n",
      "/local/bgfs/joaquin.casanova/9678774/ipykernel_102032/451001033.py:380: RuntimeWarning: Mean of empty slice\n",
      "  T_snw_shd.append(np.nanmean(T_ir[pred_mlp3==7]))\n"
     ]
    },
    {
     "name": "stdout",
     "output_type": "stream",
     "text": [
      "Apply affine\n",
      "20230528_142222_bgr.png\n"
     ]
    },
    {
     "name": "stderr",
     "output_type": "stream",
     "text": [
      "/project/nsaru/nsaru-cv/lib/python3.9/site-packages/pysolar/solartime.py:111: UserWarning: I don't know about leap seconds after 2021\n",
      "  warnings.warn \\\n"
     ]
    },
    {
     "name": "stdout",
     "output_type": "stream",
     "text": [
      "2023-05-28 14:22:22+00:00 81.19045606833947 21.675998859781235\n"
     ]
    },
    {
     "name": "stderr",
     "output_type": "stream",
     "text": [
      "/local/bgfs/joaquin.casanova/9678774/ipykernel_102032/451001033.py:318: DeprecationWarning: `np.float` is a deprecated alias for the builtin `float`. To silence this warning, use `float` by itself. Doing this will not modify any behavior and is safe. If you specifically wanted the numpy scalar type, use `np.float64` here.\n",
      "Deprecated in NumPy 1.20; for more details and guidance: https://numpy.org/devdocs/release/1.20.0-notes.html#deprecations\n",
      "  pred_mlp3 = model.predict(feat).reshape(bgr.shape[0:2]).astype(np.float)\n",
      "/local/bgfs/joaquin.casanova/9678774/ipykernel_102032/451001033.py:350: DeprecationWarning: `np.float` is a deprecated alias for the builtin `float`. To silence this warning, use `float` by itself. Doing this will not modify any behavior and is safe. If you specifically wanted the numpy scalar type, use `np.float64` here.\n",
      "Deprecated in NumPy 1.20; for more details and guidance: https://numpy.org/devdocs/release/1.20.0-notes.html#deprecations\n",
      "  T_ir = ir.astype(np.float)\n",
      "/local/bgfs/joaquin.casanova/9678774/ipykernel_102032/451001033.py:380: RuntimeWarning: Mean of empty slice\n",
      "  T_snw_shd.append(np.nanmean(T_ir[pred_mlp3==7]))\n"
     ]
    },
    {
     "name": "stdout",
     "output_type": "stream",
     "text": [
      "Apply affine\n",
      "20230528_152223_bgr.png\n"
     ]
    },
    {
     "name": "stderr",
     "output_type": "stream",
     "text": [
      "/project/nsaru/nsaru-cv/lib/python3.9/site-packages/pysolar/solartime.py:111: UserWarning: I don't know about leap seconds after 2021\n",
      "  warnings.warn \\\n"
     ]
    },
    {
     "name": "stdout",
     "output_type": "stream",
     "text": [
      "2023-05-28 15:22:23+00:00 91.83200673945346 31.905166922158536\n"
     ]
    },
    {
     "name": "stderr",
     "output_type": "stream",
     "text": [
      "/local/bgfs/joaquin.casanova/9678774/ipykernel_102032/451001033.py:318: DeprecationWarning: `np.float` is a deprecated alias for the builtin `float`. To silence this warning, use `float` by itself. Doing this will not modify any behavior and is safe. If you specifically wanted the numpy scalar type, use `np.float64` here.\n",
      "Deprecated in NumPy 1.20; for more details and guidance: https://numpy.org/devdocs/release/1.20.0-notes.html#deprecations\n",
      "  pred_mlp3 = model.predict(feat).reshape(bgr.shape[0:2]).astype(np.float)\n",
      "/local/bgfs/joaquin.casanova/9678774/ipykernel_102032/451001033.py:350: DeprecationWarning: `np.float` is a deprecated alias for the builtin `float`. To silence this warning, use `float` by itself. Doing this will not modify any behavior and is safe. If you specifically wanted the numpy scalar type, use `np.float64` here.\n",
      "Deprecated in NumPy 1.20; for more details and guidance: https://numpy.org/devdocs/release/1.20.0-notes.html#deprecations\n",
      "  T_ir = ir.astype(np.float)\n",
      "/local/bgfs/joaquin.casanova/9678774/ipykernel_102032/451001033.py:379: RuntimeWarning: Mean of empty slice\n",
      "  T_snw_sun.append(np.nanmean(T_ir[pred_mlp3==3]))\n",
      "/local/bgfs/joaquin.casanova/9678774/ipykernel_102032/451001033.py:380: RuntimeWarning: Mean of empty slice\n",
      "  T_snw_shd.append(np.nanmean(T_ir[pred_mlp3==7]))\n"
     ]
    },
    {
     "name": "stdout",
     "output_type": "stream",
     "text": [
      "Apply affine\n",
      "20230528_162223_bgr.png\n"
     ]
    },
    {
     "name": "stderr",
     "output_type": "stream",
     "text": [
      "/project/nsaru/nsaru-cv/lib/python3.9/site-packages/pysolar/solartime.py:111: UserWarning: I don't know about leap seconds after 2021\n",
      "  warnings.warn \\\n"
     ]
    },
    {
     "name": "stdout",
     "output_type": "stream",
     "text": [
      "2023-05-28 16:22:23+00:00 103.84057899838527 42.06218632694782\n"
     ]
    },
    {
     "name": "stderr",
     "output_type": "stream",
     "text": [
      "/local/bgfs/joaquin.casanova/9678774/ipykernel_102032/451001033.py:318: DeprecationWarning: `np.float` is a deprecated alias for the builtin `float`. To silence this warning, use `float` by itself. Doing this will not modify any behavior and is safe. If you specifically wanted the numpy scalar type, use `np.float64` here.\n",
      "Deprecated in NumPy 1.20; for more details and guidance: https://numpy.org/devdocs/release/1.20.0-notes.html#deprecations\n",
      "  pred_mlp3 = model.predict(feat).reshape(bgr.shape[0:2]).astype(np.float)\n",
      "/local/bgfs/joaquin.casanova/9678774/ipykernel_102032/451001033.py:350: DeprecationWarning: `np.float` is a deprecated alias for the builtin `float`. To silence this warning, use `float` by itself. Doing this will not modify any behavior and is safe. If you specifically wanted the numpy scalar type, use `np.float64` here.\n",
      "Deprecated in NumPy 1.20; for more details and guidance: https://numpy.org/devdocs/release/1.20.0-notes.html#deprecations\n",
      "  T_ir = ir.astype(np.float)\n",
      "/local/bgfs/joaquin.casanova/9678774/ipykernel_102032/451001033.py:379: RuntimeWarning: Mean of empty slice\n",
      "  T_snw_sun.append(np.nanmean(T_ir[pred_mlp3==3]))\n"
     ]
    },
    {
     "name": "stdout",
     "output_type": "stream",
     "text": [
      "Apply affine\n",
      "20230528_172223_bgr.png\n"
     ]
    },
    {
     "name": "stderr",
     "output_type": "stream",
     "text": [
      "/project/nsaru/nsaru-cv/lib/python3.9/site-packages/pysolar/solartime.py:111: UserWarning: I don't know about leap seconds after 2021\n",
      "  warnings.warn \\\n"
     ]
    },
    {
     "name": "stdout",
     "output_type": "stream",
     "text": [
      "2023-05-28 17:22:23+00:00 118.77764250059337 51.6253174388134\n"
     ]
    },
    {
     "name": "stderr",
     "output_type": "stream",
     "text": [
      "/local/bgfs/joaquin.casanova/9678774/ipykernel_102032/451001033.py:318: DeprecationWarning: `np.float` is a deprecated alias for the builtin `float`. To silence this warning, use `float` by itself. Doing this will not modify any behavior and is safe. If you specifically wanted the numpy scalar type, use `np.float64` here.\n",
      "Deprecated in NumPy 1.20; for more details and guidance: https://numpy.org/devdocs/release/1.20.0-notes.html#deprecations\n",
      "  pred_mlp3 = model.predict(feat).reshape(bgr.shape[0:2]).astype(np.float)\n",
      "/local/bgfs/joaquin.casanova/9678774/ipykernel_102032/451001033.py:350: DeprecationWarning: `np.float` is a deprecated alias for the builtin `float`. To silence this warning, use `float` by itself. Doing this will not modify any behavior and is safe. If you specifically wanted the numpy scalar type, use `np.float64` here.\n",
      "Deprecated in NumPy 1.20; for more details and guidance: https://numpy.org/devdocs/release/1.20.0-notes.html#deprecations\n",
      "  T_ir = ir.astype(np.float)\n",
      "/local/bgfs/joaquin.casanova/9678774/ipykernel_102032/451001033.py:380: RuntimeWarning: Mean of empty slice\n",
      "  T_snw_shd.append(np.nanmean(T_ir[pred_mlp3==7]))\n"
     ]
    },
    {
     "name": "stdout",
     "output_type": "stream",
     "text": [
      "Apply affine\n",
      "20230528_182224_bgr.png\n"
     ]
    },
    {
     "name": "stderr",
     "output_type": "stream",
     "text": [
      "/project/nsaru/nsaru-cv/lib/python3.9/site-packages/pysolar/solartime.py:111: UserWarning: I don't know about leap seconds after 2021\n",
      "  warnings.warn \\\n"
     ]
    },
    {
     "name": "stdout",
     "output_type": "stream",
     "text": [
      "2023-05-28 18:22:24+00:00 139.20318993961865 59.63639713035583\n"
     ]
    },
    {
     "name": "stderr",
     "output_type": "stream",
     "text": [
      "/local/bgfs/joaquin.casanova/9678774/ipykernel_102032/451001033.py:318: DeprecationWarning: `np.float` is a deprecated alias for the builtin `float`. To silence this warning, use `float` by itself. Doing this will not modify any behavior and is safe. If you specifically wanted the numpy scalar type, use `np.float64` here.\n",
      "Deprecated in NumPy 1.20; for more details and guidance: https://numpy.org/devdocs/release/1.20.0-notes.html#deprecations\n",
      "  pred_mlp3 = model.predict(feat).reshape(bgr.shape[0:2]).astype(np.float)\n",
      "/local/bgfs/joaquin.casanova/9678774/ipykernel_102032/451001033.py:350: DeprecationWarning: `np.float` is a deprecated alias for the builtin `float`. To silence this warning, use `float` by itself. Doing this will not modify any behavior and is safe. If you specifically wanted the numpy scalar type, use `np.float64` here.\n",
      "Deprecated in NumPy 1.20; for more details and guidance: https://numpy.org/devdocs/release/1.20.0-notes.html#deprecations\n",
      "  T_ir = ir.astype(np.float)\n",
      "/local/bgfs/joaquin.casanova/9678774/ipykernel_102032/451001033.py:379: RuntimeWarning: Mean of empty slice\n",
      "  T_snw_sun.append(np.nanmean(T_ir[pred_mlp3==3]))\n",
      "/local/bgfs/joaquin.casanova/9678774/ipykernel_102032/451001033.py:380: RuntimeWarning: Mean of empty slice\n",
      "  T_snw_shd.append(np.nanmean(T_ir[pred_mlp3==7]))\n"
     ]
    },
    {
     "name": "stdout",
     "output_type": "stream",
     "text": [
      "Apply affine\n",
      "20230528_192224_bgr.png\n"
     ]
    },
    {
     "name": "stderr",
     "output_type": "stream",
     "text": [
      "/project/nsaru/nsaru-cv/lib/python3.9/site-packages/pysolar/solartime.py:111: UserWarning: I don't know about leap seconds after 2021\n",
      "  warnings.warn \\\n"
     ]
    },
    {
     "name": "stdout",
     "output_type": "stream",
     "text": [
      "2023-05-28 19:22:24+00:00 167.4803651654572 64.30530294195391\n"
     ]
    },
    {
     "name": "stderr",
     "output_type": "stream",
     "text": [
      "/local/bgfs/joaquin.casanova/9678774/ipykernel_102032/451001033.py:318: DeprecationWarning: `np.float` is a deprecated alias for the builtin `float`. To silence this warning, use `float` by itself. Doing this will not modify any behavior and is safe. If you specifically wanted the numpy scalar type, use `np.float64` here.\n",
      "Deprecated in NumPy 1.20; for more details and guidance: https://numpy.org/devdocs/release/1.20.0-notes.html#deprecations\n",
      "  pred_mlp3 = model.predict(feat).reshape(bgr.shape[0:2]).astype(np.float)\n",
      "/local/bgfs/joaquin.casanova/9678774/ipykernel_102032/451001033.py:350: DeprecationWarning: `np.float` is a deprecated alias for the builtin `float`. To silence this warning, use `float` by itself. Doing this will not modify any behavior and is safe. If you specifically wanted the numpy scalar type, use `np.float64` here.\n",
      "Deprecated in NumPy 1.20; for more details and guidance: https://numpy.org/devdocs/release/1.20.0-notes.html#deprecations\n",
      "  T_ir = ir.astype(np.float)\n"
     ]
    },
    {
     "name": "stdout",
     "output_type": "stream",
     "text": [
      "Apply affine\n",
      "20230528_202225_bgr.png\n"
     ]
    },
    {
     "name": "stderr",
     "output_type": "stream",
     "text": [
      "/project/nsaru/nsaru-cv/lib/python3.9/site-packages/pysolar/solartime.py:111: UserWarning: I don't know about leap seconds after 2021\n",
      "  warnings.warn \\\n"
     ]
    },
    {
     "name": "stdout",
     "output_type": "stream",
     "text": [
      "2023-05-28 20:22:25+00:00 199.5923415196591 63.66687265469707\n"
     ]
    },
    {
     "name": "stderr",
     "output_type": "stream",
     "text": [
      "/local/bgfs/joaquin.casanova/9678774/ipykernel_102032/451001033.py:318: DeprecationWarning: `np.float` is a deprecated alias for the builtin `float`. To silence this warning, use `float` by itself. Doing this will not modify any behavior and is safe. If you specifically wanted the numpy scalar type, use `np.float64` here.\n",
      "Deprecated in NumPy 1.20; for more details and guidance: https://numpy.org/devdocs/release/1.20.0-notes.html#deprecations\n",
      "  pred_mlp3 = model.predict(feat).reshape(bgr.shape[0:2]).astype(np.float)\n",
      "/local/bgfs/joaquin.casanova/9678774/ipykernel_102032/451001033.py:350: DeprecationWarning: `np.float` is a deprecated alias for the builtin `float`. To silence this warning, use `float` by itself. Doing this will not modify any behavior and is safe. If you specifically wanted the numpy scalar type, use `np.float64` here.\n",
      "Deprecated in NumPy 1.20; for more details and guidance: https://numpy.org/devdocs/release/1.20.0-notes.html#deprecations\n",
      "  T_ir = ir.astype(np.float)\n"
     ]
    },
    {
     "name": "stdout",
     "output_type": "stream",
     "text": [
      "Apply affine\n",
      "20230528_212225_bgr.png\n"
     ]
    },
    {
     "name": "stderr",
     "output_type": "stream",
     "text": [
      "/project/nsaru/nsaru-cv/lib/python3.9/site-packages/pysolar/solartime.py:111: UserWarning: I don't know about leap seconds after 2021\n",
      "  warnings.warn \\\n"
     ]
    },
    {
     "name": "stdout",
     "output_type": "stream",
     "text": [
      "2023-05-28 21:22:25+00:00 226.09485019694705 58.050987988919644\n"
     ]
    },
    {
     "name": "stderr",
     "output_type": "stream",
     "text": [
      "/local/bgfs/joaquin.casanova/9678774/ipykernel_102032/451001033.py:318: DeprecationWarning: `np.float` is a deprecated alias for the builtin `float`. To silence this warning, use `float` by itself. Doing this will not modify any behavior and is safe. If you specifically wanted the numpy scalar type, use `np.float64` here.\n",
      "Deprecated in NumPy 1.20; for more details and guidance: https://numpy.org/devdocs/release/1.20.0-notes.html#deprecations\n",
      "  pred_mlp3 = model.predict(feat).reshape(bgr.shape[0:2]).astype(np.float)\n",
      "/local/bgfs/joaquin.casanova/9678774/ipykernel_102032/451001033.py:350: DeprecationWarning: `np.float` is a deprecated alias for the builtin `float`. To silence this warning, use `float` by itself. Doing this will not modify any behavior and is safe. If you specifically wanted the numpy scalar type, use `np.float64` here.\n",
      "Deprecated in NumPy 1.20; for more details and guidance: https://numpy.org/devdocs/release/1.20.0-notes.html#deprecations\n",
      "  T_ir = ir.astype(np.float)\n"
     ]
    },
    {
     "name": "stdout",
     "output_type": "stream",
     "text": [
      "Apply affine\n",
      "20230528_222226_bgr.png\n"
     ]
    },
    {
     "name": "stderr",
     "output_type": "stream",
     "text": [
      "/project/nsaru/nsaru-cv/lib/python3.9/site-packages/pysolar/solartime.py:111: UserWarning: I don't know about leap seconds after 2021\n",
      "  warnings.warn \\\n"
     ]
    },
    {
     "name": "stdout",
     "output_type": "stream",
     "text": [
      "2023-05-28 22:22:26+00:00 245.01926930916517 49.57243930550058\n"
     ]
    },
    {
     "name": "stderr",
     "output_type": "stream",
     "text": [
      "/local/bgfs/joaquin.casanova/9678774/ipykernel_102032/451001033.py:318: DeprecationWarning: `np.float` is a deprecated alias for the builtin `float`. To silence this warning, use `float` by itself. Doing this will not modify any behavior and is safe. If you specifically wanted the numpy scalar type, use `np.float64` here.\n",
      "Deprecated in NumPy 1.20; for more details and guidance: https://numpy.org/devdocs/release/1.20.0-notes.html#deprecations\n",
      "  pred_mlp3 = model.predict(feat).reshape(bgr.shape[0:2]).astype(np.float)\n",
      "/local/bgfs/joaquin.casanova/9678774/ipykernel_102032/451001033.py:350: DeprecationWarning: `np.float` is a deprecated alias for the builtin `float`. To silence this warning, use `float` by itself. Doing this will not modify any behavior and is safe. If you specifically wanted the numpy scalar type, use `np.float64` here.\n",
      "Deprecated in NumPy 1.20; for more details and guidance: https://numpy.org/devdocs/release/1.20.0-notes.html#deprecations\n",
      "  T_ir = ir.astype(np.float)\n"
     ]
    },
    {
     "name": "stdout",
     "output_type": "stream",
     "text": [
      "Apply affine\n",
      "20230528_232226_bgr.png\n"
     ]
    },
    {
     "name": "stderr",
     "output_type": "stream",
     "text": [
      "/project/nsaru/nsaru-cv/lib/python3.9/site-packages/pysolar/solartime.py:111: UserWarning: I don't know about leap seconds after 2021\n",
      "  warnings.warn \\\n"
     ]
    },
    {
     "name": "stdout",
     "output_type": "stream",
     "text": [
      "2023-05-28 23:22:26+00:00 259.1165182165001 39.819496186309564\n"
     ]
    },
    {
     "name": "stderr",
     "output_type": "stream",
     "text": [
      "/local/bgfs/joaquin.casanova/9678774/ipykernel_102032/451001033.py:318: DeprecationWarning: `np.float` is a deprecated alias for the builtin `float`. To silence this warning, use `float` by itself. Doing this will not modify any behavior and is safe. If you specifically wanted the numpy scalar type, use `np.float64` here.\n",
      "Deprecated in NumPy 1.20; for more details and guidance: https://numpy.org/devdocs/release/1.20.0-notes.html#deprecations\n",
      "  pred_mlp3 = model.predict(feat).reshape(bgr.shape[0:2]).astype(np.float)\n",
      "/local/bgfs/joaquin.casanova/9678774/ipykernel_102032/451001033.py:350: DeprecationWarning: `np.float` is a deprecated alias for the builtin `float`. To silence this warning, use `float` by itself. Doing this will not modify any behavior and is safe. If you specifically wanted the numpy scalar type, use `np.float64` here.\n",
      "Deprecated in NumPy 1.20; for more details and guidance: https://numpy.org/devdocs/release/1.20.0-notes.html#deprecations\n",
      "  T_ir = ir.astype(np.float)\n"
     ]
    },
    {
     "name": "stdout",
     "output_type": "stream",
     "text": [
      "Apply affine\n",
      "20230529_002227_bgr.png\n"
     ]
    },
    {
     "name": "stderr",
     "output_type": "stream",
     "text": [
      "/project/nsaru/nsaru-cv/lib/python3.9/site-packages/pysolar/solartime.py:111: UserWarning: I don't know about leap seconds after 2021\n",
      "  warnings.warn \\\n"
     ]
    },
    {
     "name": "stdout",
     "output_type": "stream",
     "text": [
      "2023-05-29 00:22:27+00:00 270.71596607803104 29.61488492288511\n"
     ]
    },
    {
     "name": "stderr",
     "output_type": "stream",
     "text": [
      "/local/bgfs/joaquin.casanova/9678774/ipykernel_102032/451001033.py:318: DeprecationWarning: `np.float` is a deprecated alias for the builtin `float`. To silence this warning, use `float` by itself. Doing this will not modify any behavior and is safe. If you specifically wanted the numpy scalar type, use `np.float64` here.\n",
      "Deprecated in NumPy 1.20; for more details and guidance: https://numpy.org/devdocs/release/1.20.0-notes.html#deprecations\n",
      "  pred_mlp3 = model.predict(feat).reshape(bgr.shape[0:2]).astype(np.float)\n",
      "/local/bgfs/joaquin.casanova/9678774/ipykernel_102032/451001033.py:350: DeprecationWarning: `np.float` is a deprecated alias for the builtin `float`. To silence this warning, use `float` by itself. Doing this will not modify any behavior and is safe. If you specifically wanted the numpy scalar type, use `np.float64` here.\n",
      "Deprecated in NumPy 1.20; for more details and guidance: https://numpy.org/devdocs/release/1.20.0-notes.html#deprecations\n",
      "  T_ir = ir.astype(np.float)\n"
     ]
    },
    {
     "name": "stdout",
     "output_type": "stream",
     "text": [
      "Apply affine\n",
      "20230529_012227_bgr.png\n"
     ]
    },
    {
     "name": "stderr",
     "output_type": "stream",
     "text": [
      "/project/nsaru/nsaru-cv/lib/python3.9/site-packages/pysolar/solartime.py:111: UserWarning: I don't know about leap seconds after 2021\n",
      "  warnings.warn \\\n"
     ]
    },
    {
     "name": "stdout",
     "output_type": "stream",
     "text": [
      "2023-05-29 01:22:27+00:00 281.1948203885894 19.436302393622256\n"
     ]
    },
    {
     "name": "stderr",
     "output_type": "stream",
     "text": [
      "/local/bgfs/joaquin.casanova/9678774/ipykernel_102032/451001033.py:318: DeprecationWarning: `np.float` is a deprecated alias for the builtin `float`. To silence this warning, use `float` by itself. Doing this will not modify any behavior and is safe. If you specifically wanted the numpy scalar type, use `np.float64` here.\n",
      "Deprecated in NumPy 1.20; for more details and guidance: https://numpy.org/devdocs/release/1.20.0-notes.html#deprecations\n",
      "  pred_mlp3 = model.predict(feat).reshape(bgr.shape[0:2]).astype(np.float)\n",
      "/local/bgfs/joaquin.casanova/9678774/ipykernel_102032/451001033.py:350: DeprecationWarning: `np.float` is a deprecated alias for the builtin `float`. To silence this warning, use `float` by itself. Doing this will not modify any behavior and is safe. If you specifically wanted the numpy scalar type, use `np.float64` here.\n",
      "Deprecated in NumPy 1.20; for more details and guidance: https://numpy.org/devdocs/release/1.20.0-notes.html#deprecations\n",
      "  T_ir = ir.astype(np.float)\n"
     ]
    },
    {
     "name": "stdout",
     "output_type": "stream",
     "text": [
      "Apply affine\n",
      "20230529_022228_bgr.png\n"
     ]
    },
    {
     "name": "stderr",
     "output_type": "stream",
     "text": [
      "/project/nsaru/nsaru-cv/lib/python3.9/site-packages/pysolar/solartime.py:111: UserWarning: I don't know about leap seconds after 2021\n",
      "  warnings.warn \\\n"
     ]
    },
    {
     "name": "stdout",
     "output_type": "stream",
     "text": [
      "2023-05-29 02:22:28+00:00 291.41694963171113 9.639282102160715\n",
      "20230529_032228_bgr.png\n",
      "2023-05-29 03:22:28+00:00 301.9792197455522 0.809277220178088\n",
      "20230529_042228_bgr.png\n",
      "2023-05-29 04:22:28+00:00 313.3459412610906 -7.736340241652128\n",
      "20230529_052229_bgr.png\n",
      "2023-05-29 05:22:29+00:00 325.8428510570943 -14.390646522419022\n",
      "20230529_062229_bgr.png\n",
      "2023-05-29 06:22:29+00:00 339.55367918307377 -19.09955299262939\n",
      "20230529_072230_bgr.png\n",
      "2023-05-29 07:22:30+00:00 354.21589718821934 -21.427865781283803\n",
      "20230529_082230_bgr.png\n",
      "2023-05-29 08:22:30+00:00 9.177184846694416 -21.11674697042266\n",
      "20230529_092230_bgr.png\n",
      "2023-05-29 09:22:30+00:00 23.659233840191945 -18.20332712316605\n",
      "20230529_102230_bgr.png\n",
      "2023-05-29 10:22:30+00:00 37.09319843233553 -13.000035356707938\n",
      "20230529_112231_bgr.png\n",
      "2023-05-29 11:22:31+00:00 49.304376184434005 -5.962158808353768\n",
      "20230529_122231_bgr.png\n",
      "2023-05-29 12:22:31+00:00 60.44178799742693 2.6899258227825626\n",
      "20230529_132231_bgr.png\n",
      "2023-05-29 13:22:31+00:00 70.86774139600226 11.866534064411411\n"
     ]
    },
    {
     "name": "stderr",
     "output_type": "stream",
     "text": [
      "/local/bgfs/joaquin.casanova/9678774/ipykernel_102032/451001033.py:318: DeprecationWarning: `np.float` is a deprecated alias for the builtin `float`. To silence this warning, use `float` by itself. Doing this will not modify any behavior and is safe. If you specifically wanted the numpy scalar type, use `np.float64` here.\n",
      "Deprecated in NumPy 1.20; for more details and guidance: https://numpy.org/devdocs/release/1.20.0-notes.html#deprecations\n",
      "  pred_mlp3 = model.predict(feat).reshape(bgr.shape[0:2]).astype(np.float)\n",
      "/local/bgfs/joaquin.casanova/9678774/ipykernel_102032/451001033.py:350: DeprecationWarning: `np.float` is a deprecated alias for the builtin `float`. To silence this warning, use `float` by itself. Doing this will not modify any behavior and is safe. If you specifically wanted the numpy scalar type, use `np.float64` here.\n",
      "Deprecated in NumPy 1.20; for more details and guidance: https://numpy.org/devdocs/release/1.20.0-notes.html#deprecations\n",
      "  T_ir = ir.astype(np.float)\n"
     ]
    },
    {
     "name": "stdout",
     "output_type": "stream",
     "text": [
      "Apply affine\n",
      "20230529_142232_bgr.png\n"
     ]
    },
    {
     "name": "stderr",
     "output_type": "stream",
     "text": [
      "/project/nsaru/nsaru-cv/lib/python3.9/site-packages/pysolar/solartime.py:111: UserWarning: I don't know about leap seconds after 2021\n",
      "  warnings.warn \\\n"
     ]
    },
    {
     "name": "stdout",
     "output_type": "stream",
     "text": [
      "2023-05-29 14:22:32+00:00 81.07407245862942 21.78998937131741\n"
     ]
    },
    {
     "name": "stderr",
     "output_type": "stream",
     "text": [
      "/local/bgfs/joaquin.casanova/9678774/ipykernel_102032/451001033.py:318: DeprecationWarning: `np.float` is a deprecated alias for the builtin `float`. To silence this warning, use `float` by itself. Doing this will not modify any behavior and is safe. If you specifically wanted the numpy scalar type, use `np.float64` here.\n",
      "Deprecated in NumPy 1.20; for more details and guidance: https://numpy.org/devdocs/release/1.20.0-notes.html#deprecations\n",
      "  pred_mlp3 = model.predict(feat).reshape(bgr.shape[0:2]).astype(np.float)\n",
      "/local/bgfs/joaquin.casanova/9678774/ipykernel_102032/451001033.py:350: DeprecationWarning: `np.float` is a deprecated alias for the builtin `float`. To silence this warning, use `float` by itself. Doing this will not modify any behavior and is safe. If you specifically wanted the numpy scalar type, use `np.float64` here.\n",
      "Deprecated in NumPy 1.20; for more details and guidance: https://numpy.org/devdocs/release/1.20.0-notes.html#deprecations\n",
      "  T_ir = ir.astype(np.float)\n"
     ]
    },
    {
     "name": "stdout",
     "output_type": "stream",
     "text": [
      "Apply affine\n",
      "20230529_152232_bgr.png\n"
     ]
    },
    {
     "name": "stderr",
     "output_type": "stream",
     "text": [
      "/project/nsaru/nsaru-cv/lib/python3.9/site-packages/pysolar/solartime.py:111: UserWarning: I don't know about leap seconds after 2021\n",
      "  warnings.warn \\\n"
     ]
    },
    {
     "name": "stdout",
     "output_type": "stream",
     "text": [
      "2023-05-29 15:22:32+00:00 91.69999487198555 32.01484343489785\n"
     ]
    },
    {
     "name": "stderr",
     "output_type": "stream",
     "text": [
      "/local/bgfs/joaquin.casanova/9678774/ipykernel_102032/451001033.py:318: DeprecationWarning: `np.float` is a deprecated alias for the builtin `float`. To silence this warning, use `float` by itself. Doing this will not modify any behavior and is safe. If you specifically wanted the numpy scalar type, use `np.float64` here.\n",
      "Deprecated in NumPy 1.20; for more details and guidance: https://numpy.org/devdocs/release/1.20.0-notes.html#deprecations\n",
      "  pred_mlp3 = model.predict(feat).reshape(bgr.shape[0:2]).astype(np.float)\n",
      "/local/bgfs/joaquin.casanova/9678774/ipykernel_102032/451001033.py:350: DeprecationWarning: `np.float` is a deprecated alias for the builtin `float`. To silence this warning, use `float` by itself. Doing this will not modify any behavior and is safe. If you specifically wanted the numpy scalar type, use `np.float64` here.\n",
      "Deprecated in NumPy 1.20; for more details and guidance: https://numpy.org/devdocs/release/1.20.0-notes.html#deprecations\n",
      "  T_ir = ir.astype(np.float)\n"
     ]
    },
    {
     "name": "stdout",
     "output_type": "stream",
     "text": [
      "Apply affine\n",
      "20230529_162232_bgr.png\n"
     ]
    },
    {
     "name": "stderr",
     "output_type": "stream",
     "text": [
      "/project/nsaru/nsaru-cv/lib/python3.9/site-packages/pysolar/solartime.py:111: UserWarning: I don't know about leap seconds after 2021\n",
      "  warnings.warn \\\n"
     ]
    },
    {
     "name": "stdout",
     "output_type": "stream",
     "text": [
      "2023-05-29 16:22:32+00:00 103.69430561026815 42.1750035285923\n"
     ]
    },
    {
     "name": "stderr",
     "output_type": "stream",
     "text": [
      "/local/bgfs/joaquin.casanova/9678774/ipykernel_102032/451001033.py:318: DeprecationWarning: `np.float` is a deprecated alias for the builtin `float`. To silence this warning, use `float` by itself. Doing this will not modify any behavior and is safe. If you specifically wanted the numpy scalar type, use `np.float64` here.\n",
      "Deprecated in NumPy 1.20; for more details and guidance: https://numpy.org/devdocs/release/1.20.0-notes.html#deprecations\n",
      "  pred_mlp3 = model.predict(feat).reshape(bgr.shape[0:2]).astype(np.float)\n",
      "/local/bgfs/joaquin.casanova/9678774/ipykernel_102032/451001033.py:350: DeprecationWarning: `np.float` is a deprecated alias for the builtin `float`. To silence this warning, use `float` by itself. Doing this will not modify any behavior and is safe. If you specifically wanted the numpy scalar type, use `np.float64` here.\n",
      "Deprecated in NumPy 1.20; for more details and guidance: https://numpy.org/devdocs/release/1.20.0-notes.html#deprecations\n",
      "  T_ir = ir.astype(np.float)\n"
     ]
    },
    {
     "name": "stdout",
     "output_type": "stream",
     "text": [
      "Apply affine\n",
      "20230529_172233_bgr.png\n"
     ]
    },
    {
     "name": "stderr",
     "output_type": "stream",
     "text": [
      "/project/nsaru/nsaru-cv/lib/python3.9/site-packages/pysolar/solartime.py:111: UserWarning: I don't know about leap seconds after 2021\n",
      "  warnings.warn \\\n"
     ]
    },
    {
     "name": "stdout",
     "output_type": "stream",
     "text": [
      "2023-05-29 17:22:33+00:00 118.6255787636905 51.75016535417561\n"
     ]
    },
    {
     "name": "stderr",
     "output_type": "stream",
     "text": [
      "/local/bgfs/joaquin.casanova/9678774/ipykernel_102032/451001033.py:318: DeprecationWarning: `np.float` is a deprecated alias for the builtin `float`. To silence this warning, use `float` by itself. Doing this will not modify any behavior and is safe. If you specifically wanted the numpy scalar type, use `np.float64` here.\n",
      "Deprecated in NumPy 1.20; for more details and guidance: https://numpy.org/devdocs/release/1.20.0-notes.html#deprecations\n",
      "  pred_mlp3 = model.predict(feat).reshape(bgr.shape[0:2]).astype(np.float)\n",
      "/local/bgfs/joaquin.casanova/9678774/ipykernel_102032/451001033.py:350: DeprecationWarning: `np.float` is a deprecated alias for the builtin `float`. To silence this warning, use `float` by itself. Doing this will not modify any behavior and is safe. If you specifically wanted the numpy scalar type, use `np.float64` here.\n",
      "Deprecated in NumPy 1.20; for more details and guidance: https://numpy.org/devdocs/release/1.20.0-notes.html#deprecations\n",
      "  T_ir = ir.astype(np.float)\n"
     ]
    },
    {
     "name": "stdout",
     "output_type": "stream",
     "text": [
      "Apply affine\n",
      "20230529_182233_bgr.png\n"
     ]
    },
    {
     "name": "stderr",
     "output_type": "stream",
     "text": [
      "/project/nsaru/nsaru-cv/lib/python3.9/site-packages/pysolar/solartime.py:111: UserWarning: I don't know about leap seconds after 2021\n",
      "  warnings.warn \\\n"
     ]
    },
    {
     "name": "stdout",
     "output_type": "stream",
     "text": [
      "2023-05-29 18:22:33+00:00 139.06246113605042 59.77532759083612\n"
     ]
    },
    {
     "name": "stderr",
     "output_type": "stream",
     "text": [
      "/local/bgfs/joaquin.casanova/9678774/ipykernel_102032/451001033.py:318: DeprecationWarning: `np.float` is a deprecated alias for the builtin `float`. To silence this warning, use `float` by itself. Doing this will not modify any behavior and is safe. If you specifically wanted the numpy scalar type, use `np.float64` here.\n",
      "Deprecated in NumPy 1.20; for more details and guidance: https://numpy.org/devdocs/release/1.20.0-notes.html#deprecations\n",
      "  pred_mlp3 = model.predict(feat).reshape(bgr.shape[0:2]).astype(np.float)\n",
      "/local/bgfs/joaquin.casanova/9678774/ipykernel_102032/451001033.py:350: DeprecationWarning: `np.float` is a deprecated alias for the builtin `float`. To silence this warning, use `float` by itself. Doing this will not modify any behavior and is safe. If you specifically wanted the numpy scalar type, use `np.float64` here.\n",
      "Deprecated in NumPy 1.20; for more details and guidance: https://numpy.org/devdocs/release/1.20.0-notes.html#deprecations\n",
      "  T_ir = ir.astype(np.float)\n"
     ]
    },
    {
     "name": "stdout",
     "output_type": "stream",
     "text": [
      "Apply affine\n",
      "20230529_192234_bgr.png\n"
     ]
    },
    {
     "name": "stderr",
     "output_type": "stream",
     "text": [
      "/project/nsaru/nsaru-cv/lib/python3.9/site-packages/pysolar/solartime.py:111: UserWarning: I don't know about leap seconds after 2021\n",
      "  warnings.warn \\\n"
     ]
    },
    {
     "name": "stdout",
     "output_type": "stream",
     "text": [
      "2023-05-29 19:22:34+00:00 167.44230922922887 64.46035418713704\n"
     ]
    },
    {
     "name": "stderr",
     "output_type": "stream",
     "text": [
      "/local/bgfs/joaquin.casanova/9678774/ipykernel_102032/451001033.py:318: DeprecationWarning: `np.float` is a deprecated alias for the builtin `float`. To silence this warning, use `float` by itself. Doing this will not modify any behavior and is safe. If you specifically wanted the numpy scalar type, use `np.float64` here.\n",
      "Deprecated in NumPy 1.20; for more details and guidance: https://numpy.org/devdocs/release/1.20.0-notes.html#deprecations\n",
      "  pred_mlp3 = model.predict(feat).reshape(bgr.shape[0:2]).astype(np.float)\n",
      "/local/bgfs/joaquin.casanova/9678774/ipykernel_102032/451001033.py:350: DeprecationWarning: `np.float` is a deprecated alias for the builtin `float`. To silence this warning, use `float` by itself. Doing this will not modify any behavior and is safe. If you specifically wanted the numpy scalar type, use `np.float64` here.\n",
      "Deprecated in NumPy 1.20; for more details and guidance: https://numpy.org/devdocs/release/1.20.0-notes.html#deprecations\n",
      "  T_ir = ir.astype(np.float)\n"
     ]
    },
    {
     "name": "stdout",
     "output_type": "stream",
     "text": [
      "Apply affine\n",
      "20230529_202234_bgr.png\n"
     ]
    },
    {
     "name": "stderr",
     "output_type": "stream",
     "text": [
      "/project/nsaru/nsaru-cv/lib/python3.9/site-packages/pysolar/solartime.py:111: UserWarning: I don't know about leap seconds after 2021\n",
      "  warnings.warn \\\n"
     ]
    },
    {
     "name": "stdout",
     "output_type": "stream",
     "text": [
      "2023-05-29 20:22:34+00:00 199.6894056247541 63.8163180410533\n"
     ]
    },
    {
     "name": "stderr",
     "output_type": "stream",
     "text": [
      "/local/bgfs/joaquin.casanova/9678774/ipykernel_102032/451001033.py:318: DeprecationWarning: `np.float` is a deprecated alias for the builtin `float`. To silence this warning, use `float` by itself. Doing this will not modify any behavior and is safe. If you specifically wanted the numpy scalar type, use `np.float64` here.\n",
      "Deprecated in NumPy 1.20; for more details and guidance: https://numpy.org/devdocs/release/1.20.0-notes.html#deprecations\n",
      "  pred_mlp3 = model.predict(feat).reshape(bgr.shape[0:2]).astype(np.float)\n",
      "/local/bgfs/joaquin.casanova/9678774/ipykernel_102032/451001033.py:350: DeprecationWarning: `np.float` is a deprecated alias for the builtin `float`. To silence this warning, use `float` by itself. Doing this will not modify any behavior and is safe. If you specifically wanted the numpy scalar type, use `np.float64` here.\n",
      "Deprecated in NumPy 1.20; for more details and guidance: https://numpy.org/devdocs/release/1.20.0-notes.html#deprecations\n",
      "  T_ir = ir.astype(np.float)\n"
     ]
    },
    {
     "name": "stdout",
     "output_type": "stream",
     "text": [
      "Apply affine\n",
      "20230529_212235_bgr.png\n"
     ]
    },
    {
     "name": "stderr",
     "output_type": "stream",
     "text": [
      "/project/nsaru/nsaru-cv/lib/python3.9/site-packages/pysolar/solartime.py:111: UserWarning: I don't know about leap seconds after 2021\n",
      "  warnings.warn \\\n"
     ]
    },
    {
     "name": "stdout",
     "output_type": "stream",
     "text": [
      "2023-05-29 21:22:35+00:00 226.26445334767914 58.177954118781315\n"
     ]
    },
    {
     "name": "stderr",
     "output_type": "stream",
     "text": [
      "/local/bgfs/joaquin.casanova/9678774/ipykernel_102032/451001033.py:318: DeprecationWarning: `np.float` is a deprecated alias for the builtin `float`. To silence this warning, use `float` by itself. Doing this will not modify any behavior and is safe. If you specifically wanted the numpy scalar type, use `np.float64` here.\n",
      "Deprecated in NumPy 1.20; for more details and guidance: https://numpy.org/devdocs/release/1.20.0-notes.html#deprecations\n",
      "  pred_mlp3 = model.predict(feat).reshape(bgr.shape[0:2]).astype(np.float)\n",
      "/local/bgfs/joaquin.casanova/9678774/ipykernel_102032/451001033.py:350: DeprecationWarning: `np.float` is a deprecated alias for the builtin `float`. To silence this warning, use `float` by itself. Doing this will not modify any behavior and is safe. If you specifically wanted the numpy scalar type, use `np.float64` here.\n",
      "Deprecated in NumPy 1.20; for more details and guidance: https://numpy.org/devdocs/release/1.20.0-notes.html#deprecations\n",
      "  T_ir = ir.astype(np.float)\n"
     ]
    },
    {
     "name": "stdout",
     "output_type": "stream",
     "text": [
      "Apply affine\n",
      "20230529_222235_bgr.png\n"
     ]
    },
    {
     "name": "stderr",
     "output_type": "stream",
     "text": [
      "/project/nsaru/nsaru-cv/lib/python3.9/site-packages/pysolar/solartime.py:111: UserWarning: I don't know about leap seconds after 2021\n",
      "  warnings.warn \\\n"
     ]
    },
    {
     "name": "stdout",
     "output_type": "stream",
     "text": [
      "2023-05-29 22:22:35+00:00 245.18418600198413 49.684694086151495\n"
     ]
    },
    {
     "name": "stderr",
     "output_type": "stream",
     "text": [
      "/local/bgfs/joaquin.casanova/9678774/ipykernel_102032/451001033.py:318: DeprecationWarning: `np.float` is a deprecated alias for the builtin `float`. To silence this warning, use `float` by itself. Doing this will not modify any behavior and is safe. If you specifically wanted the numpy scalar type, use `np.float64` here.\n",
      "Deprecated in NumPy 1.20; for more details and guidance: https://numpy.org/devdocs/release/1.20.0-notes.html#deprecations\n",
      "  pred_mlp3 = model.predict(feat).reshape(bgr.shape[0:2]).astype(np.float)\n",
      "/local/bgfs/joaquin.casanova/9678774/ipykernel_102032/451001033.py:350: DeprecationWarning: `np.float` is a deprecated alias for the builtin `float`. To silence this warning, use `float` by itself. Doing this will not modify any behavior and is safe. If you specifically wanted the numpy scalar type, use `np.float64` here.\n",
      "Deprecated in NumPy 1.20; for more details and guidance: https://numpy.org/devdocs/release/1.20.0-notes.html#deprecations\n",
      "  T_ir = ir.astype(np.float)\n"
     ]
    },
    {
     "name": "stdout",
     "output_type": "stream",
     "text": [
      "Apply affine\n",
      "20230529_232236_bgr.png\n"
     ]
    },
    {
     "name": "stderr",
     "output_type": "stream",
     "text": [
      "/project/nsaru/nsaru-cv/lib/python3.9/site-packages/pysolar/solartime.py:111: UserWarning: I don't know about leap seconds after 2021\n",
      "  warnings.warn \\\n"
     ]
    },
    {
     "name": "stdout",
     "output_type": "stream",
     "text": [
      "2023-05-29 23:22:36+00:00 259.2697506727362 39.92022293624181\n"
     ]
    },
    {
     "name": "stderr",
     "output_type": "stream",
     "text": [
      "/local/bgfs/joaquin.casanova/9678774/ipykernel_102032/451001033.py:318: DeprecationWarning: `np.float` is a deprecated alias for the builtin `float`. To silence this warning, use `float` by itself. Doing this will not modify any behavior and is safe. If you specifically wanted the numpy scalar type, use `np.float64` here.\n",
      "Deprecated in NumPy 1.20; for more details and guidance: https://numpy.org/devdocs/release/1.20.0-notes.html#deprecations\n",
      "  pred_mlp3 = model.predict(feat).reshape(bgr.shape[0:2]).astype(np.float)\n",
      "/local/bgfs/joaquin.casanova/9678774/ipykernel_102032/451001033.py:350: DeprecationWarning: `np.float` is a deprecated alias for the builtin `float`. To silence this warning, use `float` by itself. Doing this will not modify any behavior and is safe. If you specifically wanted the numpy scalar type, use `np.float64` here.\n",
      "Deprecated in NumPy 1.20; for more details and guidance: https://numpy.org/devdocs/release/1.20.0-notes.html#deprecations\n",
      "  T_ir = ir.astype(np.float)\n"
     ]
    },
    {
     "name": "stdout",
     "output_type": "stream",
     "text": [
      "Apply affine\n",
      "20230530_002236_bgr.png\n"
     ]
    },
    {
     "name": "stderr",
     "output_type": "stream",
     "text": [
      "/project/nsaru/nsaru-cv/lib/python3.9/site-packages/pysolar/solartime.py:111: UserWarning: I don't know about leap seconds after 2021\n",
      "  warnings.warn \\\n"
     ]
    },
    {
     "name": "stdout",
     "output_type": "stream",
     "text": [
      "2023-05-30 00:22:36+00:00 270.8502069151343 29.716028327157936\n"
     ]
    },
    {
     "name": "stderr",
     "output_type": "stream",
     "text": [
      "/local/bgfs/joaquin.casanova/9678774/ipykernel_102032/451001033.py:318: DeprecationWarning: `np.float` is a deprecated alias for the builtin `float`. To silence this warning, use `float` by itself. Doing this will not modify any behavior and is safe. If you specifically wanted the numpy scalar type, use `np.float64` here.\n",
      "Deprecated in NumPy 1.20; for more details and guidance: https://numpy.org/devdocs/release/1.20.0-notes.html#deprecations\n",
      "  pred_mlp3 = model.predict(feat).reshape(bgr.shape[0:2]).astype(np.float)\n",
      "/local/bgfs/joaquin.casanova/9678774/ipykernel_102032/451001033.py:350: DeprecationWarning: `np.float` is a deprecated alias for the builtin `float`. To silence this warning, use `float` by itself. Doing this will not modify any behavior and is safe. If you specifically wanted the numpy scalar type, use `np.float64` here.\n",
      "Deprecated in NumPy 1.20; for more details and guidance: https://numpy.org/devdocs/release/1.20.0-notes.html#deprecations\n",
      "  T_ir = ir.astype(np.float)\n"
     ]
    },
    {
     "name": "stdout",
     "output_type": "stream",
     "text": [
      "Apply affine\n",
      "20230530_012237_bgr.png\n"
     ]
    },
    {
     "name": "stderr",
     "output_type": "stream",
     "text": [
      "/project/nsaru/nsaru-cv/lib/python3.9/site-packages/pysolar/solartime.py:111: UserWarning: I don't know about leap seconds after 2021\n",
      "  warnings.warn \\\n"
     ]
    },
    {
     "name": "stdout",
     "output_type": "stream",
     "text": [
      "2023-05-30 01:22:37+00:00 281.3189082081781 19.53676285423088\n"
     ]
    },
    {
     "name": "stderr",
     "output_type": "stream",
     "text": [
      "/local/bgfs/joaquin.casanova/9678774/ipykernel_102032/451001033.py:318: DeprecationWarning: `np.float` is a deprecated alias for the builtin `float`. To silence this warning, use `float` by itself. Doing this will not modify any behavior and is safe. If you specifically wanted the numpy scalar type, use `np.float64` here.\n",
      "Deprecated in NumPy 1.20; for more details and guidance: https://numpy.org/devdocs/release/1.20.0-notes.html#deprecations\n",
      "  pred_mlp3 = model.predict(feat).reshape(bgr.shape[0:2]).astype(np.float)\n",
      "/local/bgfs/joaquin.casanova/9678774/ipykernel_102032/451001033.py:350: DeprecationWarning: `np.float` is a deprecated alias for the builtin `float`. To silence this warning, use `float` by itself. Doing this will not modify any behavior and is safe. If you specifically wanted the numpy scalar type, use `np.float64` here.\n",
      "Deprecated in NumPy 1.20; for more details and guidance: https://numpy.org/devdocs/release/1.20.0-notes.html#deprecations\n",
      "  T_ir = ir.astype(np.float)\n"
     ]
    },
    {
     "name": "stdout",
     "output_type": "stream",
     "text": [
      "Apply affine\n",
      "20230530_022237_bgr.png\n"
     ]
    },
    {
     "name": "stderr",
     "output_type": "stream",
     "text": [
      "/project/nsaru/nsaru-cv/lib/python3.9/site-packages/pysolar/solartime.py:111: UserWarning: I don't know about leap seconds after 2021\n",
      "  warnings.warn \\\n"
     ]
    },
    {
     "name": "stdout",
     "output_type": "stream",
     "text": [
      "2023-05-30 02:22:37+00:00 291.52706031293724 9.747499811392704\n",
      "20230530_032238_bgr.png\n",
      "2023-05-30 03:22:38+00:00 302.08143406883903 0.9103396811867279\n",
      "20230530_042238_bgr.png\n",
      "2023-05-30 04:22:38+00:00 313.4355637884799 -7.611040021459174\n",
      "20230530_052238_bgr.png\n",
      "2023-05-30 05:22:38+00:00 325.9119189441289 -14.252869167326953\n",
      "20230530_062240_bgr.png\n",
      "2023-05-30 06:22:40+00:00 339.6071736374231 -18.95483076566124\n",
      "20230530_072240_bgr.png\n",
      "2023-05-30 07:22:40+00:00 354.2363175289429 -21.276263599283187\n",
      "20230530_082241_bgr.png\n",
      "2023-05-30 08:22:41+00:00 9.170279658817435 -20.96411255767119\n",
      "20230530_092241_bgr.png\n",
      "2023-05-30 09:22:41+00:00 23.62347058529781 -18.054658530559745\n",
      "20230530_102241_bgr.png\n",
      "2023-05-30 10:22:41+00:00 37.03449051017844 -12.85895950299732\n",
      "20230530_112241_bgr.png\n",
      "2023-05-30 11:22:41+00:00 49.225513807440365 -5.832279215310699\n",
      "20230530_122242_bgr.png\n",
      "2023-05-30 12:22:42+00:00 60.35339966934839 2.8067177719827945\n",
      "20230530_132242_bgr.png\n",
      "2023-05-30 13:22:42+00:00 70.76852826995913 11.982045428486028\n"
     ]
    },
    {
     "name": "stderr",
     "output_type": "stream",
     "text": [
      "/local/bgfs/joaquin.casanova/9678774/ipykernel_102032/451001033.py:318: DeprecationWarning: `np.float` is a deprecated alias for the builtin `float`. To silence this warning, use `float` by itself. Doing this will not modify any behavior and is safe. If you specifically wanted the numpy scalar type, use `np.float64` here.\n",
      "Deprecated in NumPy 1.20; for more details and guidance: https://numpy.org/devdocs/release/1.20.0-notes.html#deprecations\n",
      "  pred_mlp3 = model.predict(feat).reshape(bgr.shape[0:2]).astype(np.float)\n",
      "/local/bgfs/joaquin.casanova/9678774/ipykernel_102032/451001033.py:350: DeprecationWarning: `np.float` is a deprecated alias for the builtin `float`. To silence this warning, use `float` by itself. Doing this will not modify any behavior and is safe. If you specifically wanted the numpy scalar type, use `np.float64` here.\n",
      "Deprecated in NumPy 1.20; for more details and guidance: https://numpy.org/devdocs/release/1.20.0-notes.html#deprecations\n",
      "  T_ir = ir.astype(np.float)\n",
      "/local/bgfs/joaquin.casanova/9678774/ipykernel_102032/451001033.py:379: RuntimeWarning: Mean of empty slice\n",
      "  T_snw_sun.append(np.nanmean(T_ir[pred_mlp3==3]))\n"
     ]
    },
    {
     "name": "stdout",
     "output_type": "stream",
     "text": [
      "Apply affine\n",
      "20230530_142243_bgr.png\n"
     ]
    },
    {
     "name": "stderr",
     "output_type": "stream",
     "text": [
      "/project/nsaru/nsaru-cv/lib/python3.9/site-packages/pysolar/solartime.py:111: UserWarning: I don't know about leap seconds after 2021\n",
      "  warnings.warn \\\n"
     ]
    },
    {
     "name": "stdout",
     "output_type": "stream",
     "text": [
      "2023-05-30 14:22:43+00:00 80.96406405282451 21.90121689552693\n"
     ]
    },
    {
     "name": "stderr",
     "output_type": "stream",
     "text": [
      "/local/bgfs/joaquin.casanova/9678774/ipykernel_102032/451001033.py:318: DeprecationWarning: `np.float` is a deprecated alias for the builtin `float`. To silence this warning, use `float` by itself. Doing this will not modify any behavior and is safe. If you specifically wanted the numpy scalar type, use `np.float64` here.\n",
      "Deprecated in NumPy 1.20; for more details and guidance: https://numpy.org/devdocs/release/1.20.0-notes.html#deprecations\n",
      "  pred_mlp3 = model.predict(feat).reshape(bgr.shape[0:2]).astype(np.float)\n",
      "/local/bgfs/joaquin.casanova/9678774/ipykernel_102032/451001033.py:350: DeprecationWarning: `np.float` is a deprecated alias for the builtin `float`. To silence this warning, use `float` by itself. Doing this will not modify any behavior and is safe. If you specifically wanted the numpy scalar type, use `np.float64` here.\n",
      "Deprecated in NumPy 1.20; for more details and guidance: https://numpy.org/devdocs/release/1.20.0-notes.html#deprecations\n",
      "  T_ir = ir.astype(np.float)\n"
     ]
    },
    {
     "name": "stdout",
     "output_type": "stream",
     "text": [
      "Apply affine\n",
      "20230530_152243_bgr.png\n"
     ]
    },
    {
     "name": "stderr",
     "output_type": "stream",
     "text": [
      "/project/nsaru/nsaru-cv/lib/python3.9/site-packages/pysolar/solartime.py:111: UserWarning: I don't know about leap seconds after 2021\n",
      "  warnings.warn \\\n"
     ]
    },
    {
     "name": "stdout",
     "output_type": "stream",
     "text": [
      "2023-05-30 15:22:43+00:00 91.57798956093897 32.124633676002645\n"
     ]
    },
    {
     "name": "stderr",
     "output_type": "stream",
     "text": [
      "/local/bgfs/joaquin.casanova/9678774/ipykernel_102032/451001033.py:318: DeprecationWarning: `np.float` is a deprecated alias for the builtin `float`. To silence this warning, use `float` by itself. Doing this will not modify any behavior and is safe. If you specifically wanted the numpy scalar type, use `np.float64` here.\n",
      "Deprecated in NumPy 1.20; for more details and guidance: https://numpy.org/devdocs/release/1.20.0-notes.html#deprecations\n",
      "  pred_mlp3 = model.predict(feat).reshape(bgr.shape[0:2]).astype(np.float)\n",
      "/local/bgfs/joaquin.casanova/9678774/ipykernel_102032/451001033.py:350: DeprecationWarning: `np.float` is a deprecated alias for the builtin `float`. To silence this warning, use `float` by itself. Doing this will not modify any behavior and is safe. If you specifically wanted the numpy scalar type, use `np.float64` here.\n",
      "Deprecated in NumPy 1.20; for more details and guidance: https://numpy.org/devdocs/release/1.20.0-notes.html#deprecations\n",
      "  T_ir = ir.astype(np.float)\n"
     ]
    },
    {
     "name": "stdout",
     "output_type": "stream",
     "text": [
      "Apply affine\n",
      "20230530_162244_bgr.png\n"
     ]
    },
    {
     "name": "stderr",
     "output_type": "stream",
     "text": [
      "/project/nsaru/nsaru-cv/lib/python3.9/site-packages/pysolar/solartime.py:111: UserWarning: I don't know about leap seconds after 2021\n",
      "  warnings.warn \\\n"
     ]
    },
    {
     "name": "stdout",
     "output_type": "stream",
     "text": [
      "2023-05-30 16:22:44+00:00 103.56297862486427 42.29039984637514\n"
     ]
    },
    {
     "name": "stderr",
     "output_type": "stream",
     "text": [
      "/local/bgfs/joaquin.casanova/9678774/ipykernel_102032/451001033.py:318: DeprecationWarning: `np.float` is a deprecated alias for the builtin `float`. To silence this warning, use `float` by itself. Doing this will not modify any behavior and is safe. If you specifically wanted the numpy scalar type, use `np.float64` here.\n",
      "Deprecated in NumPy 1.20; for more details and guidance: https://numpy.org/devdocs/release/1.20.0-notes.html#deprecations\n",
      "  pred_mlp3 = model.predict(feat).reshape(bgr.shape[0:2]).astype(np.float)\n",
      "/local/bgfs/joaquin.casanova/9678774/ipykernel_102032/451001033.py:350: DeprecationWarning: `np.float` is a deprecated alias for the builtin `float`. To silence this warning, use `float` by itself. Doing this will not modify any behavior and is safe. If you specifically wanted the numpy scalar type, use `np.float64` here.\n",
      "Deprecated in NumPy 1.20; for more details and guidance: https://numpy.org/devdocs/release/1.20.0-notes.html#deprecations\n",
      "  T_ir = ir.astype(np.float)\n"
     ]
    },
    {
     "name": "stdout",
     "output_type": "stream",
     "text": [
      "Apply affine\n",
      "20230530_172244_bgr.png\n"
     ]
    },
    {
     "name": "stderr",
     "output_type": "stream",
     "text": [
      "/project/nsaru/nsaru-cv/lib/python3.9/site-packages/pysolar/solartime.py:111: UserWarning: I don't know about leap seconds after 2021\n",
      "  warnings.warn \\\n"
     ]
    },
    {
     "name": "stdout",
     "output_type": "stream",
     "text": [
      "2023-05-30 17:22:44+00:00 118.48200609145805 51.87147289510687\n"
     ]
    },
    {
     "name": "stderr",
     "output_type": "stream",
     "text": [
      "/local/bgfs/joaquin.casanova/9678774/ipykernel_102032/451001033.py:318: DeprecationWarning: `np.float` is a deprecated alias for the builtin `float`. To silence this warning, use `float` by itself. Doing this will not modify any behavior and is safe. If you specifically wanted the numpy scalar type, use `np.float64` here.\n",
      "Deprecated in NumPy 1.20; for more details and guidance: https://numpy.org/devdocs/release/1.20.0-notes.html#deprecations\n",
      "  pred_mlp3 = model.predict(feat).reshape(bgr.shape[0:2]).astype(np.float)\n",
      "/local/bgfs/joaquin.casanova/9678774/ipykernel_102032/451001033.py:350: DeprecationWarning: `np.float` is a deprecated alias for the builtin `float`. To silence this warning, use `float` by itself. Doing this will not modify any behavior and is safe. If you specifically wanted the numpy scalar type, use `np.float64` here.\n",
      "Deprecated in NumPy 1.20; for more details and guidance: https://numpy.org/devdocs/release/1.20.0-notes.html#deprecations\n",
      "  T_ir = ir.astype(np.float)\n"
     ]
    },
    {
     "name": "stdout",
     "output_type": "stream",
     "text": [
      "Apply affine\n",
      "20230530_182244_bgr.png\n"
     ]
    },
    {
     "name": "stderr",
     "output_type": "stream",
     "text": [
      "/project/nsaru/nsaru-cv/lib/python3.9/site-packages/pysolar/solartime.py:111: UserWarning: I don't know about leap seconds after 2021\n",
      "  warnings.warn \\\n"
     ]
    },
    {
     "name": "stdout",
     "output_type": "stream",
     "text": [
      "2023-05-30 18:22:44+00:00 138.9372675610127 59.911565751538156\n"
     ]
    },
    {
     "name": "stderr",
     "output_type": "stream",
     "text": [
      "/local/bgfs/joaquin.casanova/9678774/ipykernel_102032/451001033.py:318: DeprecationWarning: `np.float` is a deprecated alias for the builtin `float`. To silence this warning, use `float` by itself. Doing this will not modify any behavior and is safe. If you specifically wanted the numpy scalar type, use `np.float64` here.\n",
      "Deprecated in NumPy 1.20; for more details and guidance: https://numpy.org/devdocs/release/1.20.0-notes.html#deprecations\n",
      "  pred_mlp3 = model.predict(feat).reshape(bgr.shape[0:2]).astype(np.float)\n",
      "/local/bgfs/joaquin.casanova/9678774/ipykernel_102032/451001033.py:350: DeprecationWarning: `np.float` is a deprecated alias for the builtin `float`. To silence this warning, use `float` by itself. Doing this will not modify any behavior and is safe. If you specifically wanted the numpy scalar type, use `np.float64` here.\n",
      "Deprecated in NumPy 1.20; for more details and guidance: https://numpy.org/devdocs/release/1.20.0-notes.html#deprecations\n",
      "  T_ir = ir.astype(np.float)\n"
     ]
    },
    {
     "name": "stdout",
     "output_type": "stream",
     "text": [
      "Apply affine\n",
      "20230530_192245_bgr.png\n"
     ]
    },
    {
     "name": "stderr",
     "output_type": "stream",
     "text": [
      "/project/nsaru/nsaru-cv/lib/python3.9/site-packages/pysolar/solartime.py:111: UserWarning: I don't know about leap seconds after 2021\n",
      "  warnings.warn \\\n"
     ]
    },
    {
     "name": "stdout",
     "output_type": "stream",
     "text": [
      "2023-05-30 19:22:45+00:00 167.4112956553105 64.60954918845952\n"
     ]
    },
    {
     "name": "stderr",
     "output_type": "stream",
     "text": [
      "/local/bgfs/joaquin.casanova/9678774/ipykernel_102032/451001033.py:318: DeprecationWarning: `np.float` is a deprecated alias for the builtin `float`. To silence this warning, use `float` by itself. Doing this will not modify any behavior and is safe. If you specifically wanted the numpy scalar type, use `np.float64` here.\n",
      "Deprecated in NumPy 1.20; for more details and guidance: https://numpy.org/devdocs/release/1.20.0-notes.html#deprecations\n",
      "  pred_mlp3 = model.predict(feat).reshape(bgr.shape[0:2]).astype(np.float)\n",
      "/local/bgfs/joaquin.casanova/9678774/ipykernel_102032/451001033.py:350: DeprecationWarning: `np.float` is a deprecated alias for the builtin `float`. To silence this warning, use `float` by itself. Doing this will not modify any behavior and is safe. If you specifically wanted the numpy scalar type, use `np.float64` here.\n",
      "Deprecated in NumPy 1.20; for more details and guidance: https://numpy.org/devdocs/release/1.20.0-notes.html#deprecations\n",
      "  T_ir = ir.astype(np.float)\n"
     ]
    },
    {
     "name": "stdout",
     "output_type": "stream",
     "text": [
      "Apply affine\n",
      "20230530_202245_bgr.png\n"
     ]
    },
    {
     "name": "stderr",
     "output_type": "stream",
     "text": [
      "/project/nsaru/nsaru-cv/lib/python3.9/site-packages/pysolar/solartime.py:111: UserWarning: I don't know about leap seconds after 2021\n",
      "  warnings.warn \\\n"
     ]
    },
    {
     "name": "stdout",
     "output_type": "stream",
     "text": [
      "2023-05-30 20:22:45+00:00 199.7973838264155 63.958087021136066\n"
     ]
    },
    {
     "name": "stderr",
     "output_type": "stream",
     "text": [
      "/local/bgfs/joaquin.casanova/9678774/ipykernel_102032/451001033.py:318: DeprecationWarning: `np.float` is a deprecated alias for the builtin `float`. To silence this warning, use `float` by itself. Doing this will not modify any behavior and is safe. If you specifically wanted the numpy scalar type, use `np.float64` here.\n",
      "Deprecated in NumPy 1.20; for more details and guidance: https://numpy.org/devdocs/release/1.20.0-notes.html#deprecations\n",
      "  pred_mlp3 = model.predict(feat).reshape(bgr.shape[0:2]).astype(np.float)\n",
      "/local/bgfs/joaquin.casanova/9678774/ipykernel_102032/451001033.py:350: DeprecationWarning: `np.float` is a deprecated alias for the builtin `float`. To silence this warning, use `float` by itself. Doing this will not modify any behavior and is safe. If you specifically wanted the numpy scalar type, use `np.float64` here.\n",
      "Deprecated in NumPy 1.20; for more details and guidance: https://numpy.org/devdocs/release/1.20.0-notes.html#deprecations\n",
      "  T_ir = ir.astype(np.float)\n"
     ]
    },
    {
     "name": "stdout",
     "output_type": "stream",
     "text": [
      "Apply affine\n",
      "20230530_212246_bgr.png\n"
     ]
    },
    {
     "name": "stderr",
     "output_type": "stream",
     "text": [
      "/project/nsaru/nsaru-cv/lib/python3.9/site-packages/pysolar/solartime.py:111: UserWarning: I don't know about leap seconds after 2021\n",
      "  warnings.warn \\\n"
     ]
    },
    {
     "name": "stdout",
     "output_type": "stream",
     "text": [
      "2023-05-30 21:22:46+00:00 226.43245420484948 58.29818787266668\n"
     ]
    },
    {
     "name": "stderr",
     "output_type": "stream",
     "text": [
      "/local/bgfs/joaquin.casanova/9678774/ipykernel_102032/451001033.py:318: DeprecationWarning: `np.float` is a deprecated alias for the builtin `float`. To silence this warning, use `float` by itself. Doing this will not modify any behavior and is safe. If you specifically wanted the numpy scalar type, use `np.float64` here.\n",
      "Deprecated in NumPy 1.20; for more details and guidance: https://numpy.org/devdocs/release/1.20.0-notes.html#deprecations\n",
      "  pred_mlp3 = model.predict(feat).reshape(bgr.shape[0:2]).astype(np.float)\n",
      "/local/bgfs/joaquin.casanova/9678774/ipykernel_102032/451001033.py:350: DeprecationWarning: `np.float` is a deprecated alias for the builtin `float`. To silence this warning, use `float` by itself. Doing this will not modify any behavior and is safe. If you specifically wanted the numpy scalar type, use `np.float64` here.\n",
      "Deprecated in NumPy 1.20; for more details and guidance: https://numpy.org/devdocs/release/1.20.0-notes.html#deprecations\n",
      "  T_ir = ir.astype(np.float)\n"
     ]
    },
    {
     "name": "stdout",
     "output_type": "stream",
     "text": [
      "Apply affine\n",
      "20230530_222247_bgr.png\n"
     ]
    },
    {
     "name": "stderr",
     "output_type": "stream",
     "text": [
      "/project/nsaru/nsaru-cv/lib/python3.9/site-packages/pysolar/solartime.py:111: UserWarning: I don't know about leap seconds after 2021\n",
      "  warnings.warn \\\n"
     ]
    },
    {
     "name": "stdout",
     "output_type": "stream",
     "text": [
      "2023-05-30 22:22:47+00:00 245.35479065084786 49.785365091864115\n"
     ]
    },
    {
     "name": "stderr",
     "output_type": "stream",
     "text": [
      "/local/bgfs/joaquin.casanova/9678774/ipykernel_102032/451001033.py:318: DeprecationWarning: `np.float` is a deprecated alias for the builtin `float`. To silence this warning, use `float` by itself. Doing this will not modify any behavior and is safe. If you specifically wanted the numpy scalar type, use `np.float64` here.\n",
      "Deprecated in NumPy 1.20; for more details and guidance: https://numpy.org/devdocs/release/1.20.0-notes.html#deprecations\n",
      "  pred_mlp3 = model.predict(feat).reshape(bgr.shape[0:2]).astype(np.float)\n",
      "/local/bgfs/joaquin.casanova/9678774/ipykernel_102032/451001033.py:350: DeprecationWarning: `np.float` is a deprecated alias for the builtin `float`. To silence this warning, use `float` by itself. Doing this will not modify any behavior and is safe. If you specifically wanted the numpy scalar type, use `np.float64` here.\n",
      "Deprecated in NumPy 1.20; for more details and guidance: https://numpy.org/devdocs/release/1.20.0-notes.html#deprecations\n",
      "  T_ir = ir.astype(np.float)\n"
     ]
    },
    {
     "name": "stdout",
     "output_type": "stream",
     "text": [
      "Apply affine\n",
      "20230530_232247_bgr.png\n"
     ]
    },
    {
     "name": "stderr",
     "output_type": "stream",
     "text": [
      "/project/nsaru/nsaru-cv/lib/python3.9/site-packages/pysolar/solartime.py:111: UserWarning: I don't know about leap seconds after 2021\n",
      "  warnings.warn \\\n"
     ]
    },
    {
     "name": "stdout",
     "output_type": "stream",
     "text": [
      "2023-05-30 23:22:47+00:00 259.4194796389297 40.01479819098169\n"
     ]
    },
    {
     "name": "stderr",
     "output_type": "stream",
     "text": [
      "/local/bgfs/joaquin.casanova/9678774/ipykernel_102032/451001033.py:318: DeprecationWarning: `np.float` is a deprecated alias for the builtin `float`. To silence this warning, use `float` by itself. Doing this will not modify any behavior and is safe. If you specifically wanted the numpy scalar type, use `np.float64` here.\n",
      "Deprecated in NumPy 1.20; for more details and guidance: https://numpy.org/devdocs/release/1.20.0-notes.html#deprecations\n",
      "  pred_mlp3 = model.predict(feat).reshape(bgr.shape[0:2]).astype(np.float)\n",
      "/local/bgfs/joaquin.casanova/9678774/ipykernel_102032/451001033.py:350: DeprecationWarning: `np.float` is a deprecated alias for the builtin `float`. To silence this warning, use `float` by itself. Doing this will not modify any behavior and is safe. If you specifically wanted the numpy scalar type, use `np.float64` here.\n",
      "Deprecated in NumPy 1.20; for more details and guidance: https://numpy.org/devdocs/release/1.20.0-notes.html#deprecations\n",
      "  T_ir = ir.astype(np.float)\n"
     ]
    },
    {
     "name": "stdout",
     "output_type": "stream",
     "text": [
      "Apply affine\n",
      "20230531_002248_bgr.png\n"
     ]
    },
    {
     "name": "stderr",
     "output_type": "stream",
     "text": [
      "/project/nsaru/nsaru-cv/lib/python3.9/site-packages/pysolar/solartime.py:111: UserWarning: I don't know about leap seconds after 2021\n",
      "  warnings.warn \\\n"
     ]
    },
    {
     "name": "stdout",
     "output_type": "stream",
     "text": [
      "2023-05-31 00:22:48+00:00 270.98712822604136 29.80544085975611\n"
     ]
    },
    {
     "name": "stderr",
     "output_type": "stream",
     "text": [
      "/local/bgfs/joaquin.casanova/9678774/ipykernel_102032/451001033.py:318: DeprecationWarning: `np.float` is a deprecated alias for the builtin `float`. To silence this warning, use `float` by itself. Doing this will not modify any behavior and is safe. If you specifically wanted the numpy scalar type, use `np.float64` here.\n",
      "Deprecated in NumPy 1.20; for more details and guidance: https://numpy.org/devdocs/release/1.20.0-notes.html#deprecations\n",
      "  pred_mlp3 = model.predict(feat).reshape(bgr.shape[0:2]).astype(np.float)\n",
      "/local/bgfs/joaquin.casanova/9678774/ipykernel_102032/451001033.py:350: DeprecationWarning: `np.float` is a deprecated alias for the builtin `float`. To silence this warning, use `float` by itself. Doing this will not modify any behavior and is safe. If you specifically wanted the numpy scalar type, use `np.float64` here.\n",
      "Deprecated in NumPy 1.20; for more details and guidance: https://numpy.org/devdocs/release/1.20.0-notes.html#deprecations\n",
      "  T_ir = ir.astype(np.float)\n"
     ]
    },
    {
     "name": "stdout",
     "output_type": "stream",
     "text": [
      "Apply affine\n",
      "20230531_012248_bgr.png\n"
     ]
    },
    {
     "name": "stderr",
     "output_type": "stream",
     "text": [
      "/project/nsaru/nsaru-cv/lib/python3.9/site-packages/pysolar/solartime.py:111: UserWarning: I don't know about leap seconds after 2021\n",
      "  warnings.warn \\\n"
     ]
    },
    {
     "name": "stdout",
     "output_type": "stream",
     "text": [
      "2023-05-31 01:22:48+00:00 281.43995368402614 19.63118734629652\n"
     ]
    },
    {
     "name": "stderr",
     "output_type": "stream",
     "text": [
      "/local/bgfs/joaquin.casanova/9678774/ipykernel_102032/451001033.py:318: DeprecationWarning: `np.float` is a deprecated alias for the builtin `float`. To silence this warning, use `float` by itself. Doing this will not modify any behavior and is safe. If you specifically wanted the numpy scalar type, use `np.float64` here.\n",
      "Deprecated in NumPy 1.20; for more details and guidance: https://numpy.org/devdocs/release/1.20.0-notes.html#deprecations\n",
      "  pred_mlp3 = model.predict(feat).reshape(bgr.shape[0:2]).astype(np.float)\n",
      "/local/bgfs/joaquin.casanova/9678774/ipykernel_102032/451001033.py:350: DeprecationWarning: `np.float` is a deprecated alias for the builtin `float`. To silence this warning, use `float` by itself. Doing this will not modify any behavior and is safe. If you specifically wanted the numpy scalar type, use `np.float64` here.\n",
      "Deprecated in NumPy 1.20; for more details and guidance: https://numpy.org/devdocs/release/1.20.0-notes.html#deprecations\n",
      "  T_ir = ir.astype(np.float)\n"
     ]
    },
    {
     "name": "stdout",
     "output_type": "stream",
     "text": [
      "Apply affine\n",
      "20230531_022249_bgr.png\n"
     ]
    },
    {
     "name": "stderr",
     "output_type": "stream",
     "text": [
      "/project/nsaru/nsaru-cv/lib/python3.9/site-packages/pysolar/solartime.py:111: UserWarning: I don't know about leap seconds after 2021\n",
      "  warnings.warn \\\n"
     ]
    },
    {
     "name": "stdout",
     "output_type": "stream",
     "text": [
      "2023-05-31 02:22:49+00:00 291.6402274448461 9.844369126512998\n",
      "20230531_032250_bgr.png\n",
      "2023-05-31 03:22:50+00:00 302.1844852201765 1.0042829882681625\n",
      "20230531_042250_bgr.png\n",
      "2023-05-31 04:22:50+00:00 313.5269362579206 -7.494315783097072\n",
      "20230531_052251_bgr.png\n",
      "2023-05-31 05:22:51+00:00 325.99122738194035 -14.126530829241982\n",
      "20230531_062251_bgr.png\n",
      "2023-05-31 06:22:51+00:00 339.6572025193285 -18.81577603241885\n",
      "20230531_072251_bgr.png\n",
      "2023-05-31 07:22:51+00:00 354.25859931179684 -21.131120099812712\n",
      "20230531_082251_bgr.png\n",
      "2023-05-31 08:22:51+00:00 9.158350947666804 -20.81839644192921\n",
      "20230531_092252_bgr.png\n",
      "2023-05-31 09:22:52+00:00 23.588100367822364 -17.912498260274994\n",
      "20230531_102252_bgr.png\n",
      "2023-05-31 10:22:52+00:00 36.977237119180245 -12.724252465922769\n",
      "20230531_112252_bgr.png\n",
      "2023-05-31 11:22:52+00:00 49.1521153968676 -5.706372648457583\n",
      "20230531_122252_bgr.png\n",
      "2023-05-31 12:22:52+00:00 60.26484243828659 2.9158434983308523\n",
      "20230531_132253_bgr.png\n",
      "2023-05-31 13:22:53+00:00 70.6725523686289 12.091905451293103\n"
     ]
    },
    {
     "name": "stderr",
     "output_type": "stream",
     "text": [
      "/local/bgfs/joaquin.casanova/9678774/ipykernel_102032/451001033.py:318: DeprecationWarning: `np.float` is a deprecated alias for the builtin `float`. To silence this warning, use `float` by itself. Doing this will not modify any behavior and is safe. If you specifically wanted the numpy scalar type, use `np.float64` here.\n",
      "Deprecated in NumPy 1.20; for more details and guidance: https://numpy.org/devdocs/release/1.20.0-notes.html#deprecations\n",
      "  pred_mlp3 = model.predict(feat).reshape(bgr.shape[0:2]).astype(np.float)\n",
      "/local/bgfs/joaquin.casanova/9678774/ipykernel_102032/451001033.py:350: DeprecationWarning: `np.float` is a deprecated alias for the builtin `float`. To silence this warning, use `float` by itself. Doing this will not modify any behavior and is safe. If you specifically wanted the numpy scalar type, use `np.float64` here.\n",
      "Deprecated in NumPy 1.20; for more details and guidance: https://numpy.org/devdocs/release/1.20.0-notes.html#deprecations\n",
      "  T_ir = ir.astype(np.float)\n"
     ]
    },
    {
     "name": "stdout",
     "output_type": "stream",
     "text": [
      "Apply affine\n",
      "20230531_142253_bgr.png\n"
     ]
    },
    {
     "name": "stderr",
     "output_type": "stream",
     "text": [
      "/project/nsaru/nsaru-cv/lib/python3.9/site-packages/pysolar/solartime.py:111: UserWarning: I don't know about leap seconds after 2021\n",
      "  warnings.warn \\\n"
     ]
    },
    {
     "name": "stdout",
     "output_type": "stream",
     "text": [
      "2023-05-31 14:22:53+00:00 80.85481597515027 22.0040657293133\n"
     ]
    },
    {
     "name": "stderr",
     "output_type": "stream",
     "text": [
      "/local/bgfs/joaquin.casanova/9678774/ipykernel_102032/451001033.py:318: DeprecationWarning: `np.float` is a deprecated alias for the builtin `float`. To silence this warning, use `float` by itself. Doing this will not modify any behavior and is safe. If you specifically wanted the numpy scalar type, use `np.float64` here.\n",
      "Deprecated in NumPy 1.20; for more details and guidance: https://numpy.org/devdocs/release/1.20.0-notes.html#deprecations\n",
      "  pred_mlp3 = model.predict(feat).reshape(bgr.shape[0:2]).astype(np.float)\n",
      "/local/bgfs/joaquin.casanova/9678774/ipykernel_102032/451001033.py:350: DeprecationWarning: `np.float` is a deprecated alias for the builtin `float`. To silence this warning, use `float` by itself. Doing this will not modify any behavior and is safe. If you specifically wanted the numpy scalar type, use `np.float64` here.\n",
      "Deprecated in NumPy 1.20; for more details and guidance: https://numpy.org/devdocs/release/1.20.0-notes.html#deprecations\n",
      "  T_ir = ir.astype(np.float)\n"
     ]
    },
    {
     "name": "stdout",
     "output_type": "stream",
     "text": [
      "Apply affine\n",
      "20230531_152254_bgr.png\n"
     ]
    },
    {
     "name": "stderr",
     "output_type": "stream",
     "text": [
      "/project/nsaru/nsaru-cv/lib/python3.9/site-packages/pysolar/solartime.py:111: UserWarning: I don't know about leap seconds after 2021\n",
      "  warnings.warn \\\n"
     ]
    },
    {
     "name": "stdout",
     "output_type": "stream",
     "text": [
      "2023-05-31 15:22:54+00:00 91.45992855998631 32.22885427145548\n"
     ]
    },
    {
     "name": "stderr",
     "output_type": "stream",
     "text": [
      "/local/bgfs/joaquin.casanova/9678774/ipykernel_102032/451001033.py:318: DeprecationWarning: `np.float` is a deprecated alias for the builtin `float`. To silence this warning, use `float` by itself. Doing this will not modify any behavior and is safe. If you specifically wanted the numpy scalar type, use `np.float64` here.\n",
      "Deprecated in NumPy 1.20; for more details and guidance: https://numpy.org/devdocs/release/1.20.0-notes.html#deprecations\n",
      "  pred_mlp3 = model.predict(feat).reshape(bgr.shape[0:2]).astype(np.float)\n",
      "/local/bgfs/joaquin.casanova/9678774/ipykernel_102032/451001033.py:350: DeprecationWarning: `np.float` is a deprecated alias for the builtin `float`. To silence this warning, use `float` by itself. Doing this will not modify any behavior and is safe. If you specifically wanted the numpy scalar type, use `np.float64` here.\n",
      "Deprecated in NumPy 1.20; for more details and guidance: https://numpy.org/devdocs/release/1.20.0-notes.html#deprecations\n",
      "  T_ir = ir.astype(np.float)\n"
     ]
    },
    {
     "name": "stdout",
     "output_type": "stream",
     "text": [
      "Apply affine\n",
      "20230531_162254_bgr.png\n"
     ]
    },
    {
     "name": "stderr",
     "output_type": "stream",
     "text": [
      "/project/nsaru/nsaru-cv/lib/python3.9/site-packages/pysolar/solartime.py:111: UserWarning: I don't know about leap seconds after 2021\n",
      "  warnings.warn \\\n"
     ]
    },
    {
     "name": "stdout",
     "output_type": "stream",
     "text": [
      "2023-05-31 16:22:54+00:00 103.428525264626 42.3945351538713\n"
     ]
    },
    {
     "name": "stderr",
     "output_type": "stream",
     "text": [
      "/local/bgfs/joaquin.casanova/9678774/ipykernel_102032/451001033.py:318: DeprecationWarning: `np.float` is a deprecated alias for the builtin `float`. To silence this warning, use `float` by itself. Doing this will not modify any behavior and is safe. If you specifically wanted the numpy scalar type, use `np.float64` here.\n",
      "Deprecated in NumPy 1.20; for more details and guidance: https://numpy.org/devdocs/release/1.20.0-notes.html#deprecations\n",
      "  pred_mlp3 = model.predict(feat).reshape(bgr.shape[0:2]).astype(np.float)\n",
      "/local/bgfs/joaquin.casanova/9678774/ipykernel_102032/451001033.py:350: DeprecationWarning: `np.float` is a deprecated alias for the builtin `float`. To silence this warning, use `float` by itself. Doing this will not modify any behavior and is safe. If you specifically wanted the numpy scalar type, use `np.float64` here.\n",
      "Deprecated in NumPy 1.20; for more details and guidance: https://numpy.org/devdocs/release/1.20.0-notes.html#deprecations\n",
      "  T_ir = ir.astype(np.float)\n"
     ]
    },
    {
     "name": "stdout",
     "output_type": "stream",
     "text": [
      "Apply affine\n",
      "20230531_172255_bgr.png\n"
     ]
    },
    {
     "name": "stderr",
     "output_type": "stream",
     "text": [
      "/project/nsaru/nsaru-cv/lib/python3.9/site-packages/pysolar/solartime.py:111: UserWarning: I don't know about leap seconds after 2021\n",
      "  warnings.warn \\\n"
     ]
    },
    {
     "name": "stdout",
     "output_type": "stream",
     "text": [
      "2023-05-31 17:22:55+00:00 118.34235948027894 51.98675071549583\n"
     ]
    },
    {
     "name": "stderr",
     "output_type": "stream",
     "text": [
      "/local/bgfs/joaquin.casanova/9678774/ipykernel_102032/451001033.py:318: DeprecationWarning: `np.float` is a deprecated alias for the builtin `float`. To silence this warning, use `float` by itself. Doing this will not modify any behavior and is safe. If you specifically wanted the numpy scalar type, use `np.float64` here.\n",
      "Deprecated in NumPy 1.20; for more details and guidance: https://numpy.org/devdocs/release/1.20.0-notes.html#deprecations\n",
      "  pred_mlp3 = model.predict(feat).reshape(bgr.shape[0:2]).astype(np.float)\n",
      "/local/bgfs/joaquin.casanova/9678774/ipykernel_102032/451001033.py:350: DeprecationWarning: `np.float` is a deprecated alias for the builtin `float`. To silence this warning, use `float` by itself. Doing this will not modify any behavior and is safe. If you specifically wanted the numpy scalar type, use `np.float64` here.\n",
      "Deprecated in NumPy 1.20; for more details and guidance: https://numpy.org/devdocs/release/1.20.0-notes.html#deprecations\n",
      "  T_ir = ir.astype(np.float)\n"
     ]
    },
    {
     "name": "stdout",
     "output_type": "stream",
     "text": [
      "Apply affine\n",
      "20230531_182255_bgr.png\n"
     ]
    },
    {
     "name": "stderr",
     "output_type": "stream",
     "text": [
      "/project/nsaru/nsaru-cv/lib/python3.9/site-packages/pysolar/solartime.py:111: UserWarning: I don't know about leap seconds after 2021\n",
      "  warnings.warn \\\n"
     ]
    },
    {
     "name": "stdout",
     "output_type": "stream",
     "text": [
      "2023-05-31 18:22:55+00:00 138.81440711436943 60.041371150021206\n"
     ]
    },
    {
     "name": "stderr",
     "output_type": "stream",
     "text": [
      "/local/bgfs/joaquin.casanova/9678774/ipykernel_102032/451001033.py:318: DeprecationWarning: `np.float` is a deprecated alias for the builtin `float`. To silence this warning, use `float` by itself. Doing this will not modify any behavior and is safe. If you specifically wanted the numpy scalar type, use `np.float64` here.\n",
      "Deprecated in NumPy 1.20; for more details and guidance: https://numpy.org/devdocs/release/1.20.0-notes.html#deprecations\n",
      "  pred_mlp3 = model.predict(feat).reshape(bgr.shape[0:2]).astype(np.float)\n",
      "/local/bgfs/joaquin.casanova/9678774/ipykernel_102032/451001033.py:350: DeprecationWarning: `np.float` is a deprecated alias for the builtin `float`. To silence this warning, use `float` by itself. Doing this will not modify any behavior and is safe. If you specifically wanted the numpy scalar type, use `np.float64` here.\n",
      "Deprecated in NumPy 1.20; for more details and guidance: https://numpy.org/devdocs/release/1.20.0-notes.html#deprecations\n",
      "  T_ir = ir.astype(np.float)\n"
     ]
    },
    {
     "name": "stdout",
     "output_type": "stream",
     "text": [
      "Apply affine\n",
      "20230531_192256_bgr.png\n"
     ]
    },
    {
     "name": "stderr",
     "output_type": "stream",
     "text": [
      "/project/nsaru/nsaru-cv/lib/python3.9/site-packages/pysolar/solartime.py:111: UserWarning: I don't know about leap seconds after 2021\n",
      "  warnings.warn \\\n"
     ]
    },
    {
     "name": "stdout",
     "output_type": "stream",
     "text": [
      "2023-05-31 19:22:56+00:00 167.37863553130492 64.7522270078159\n"
     ]
    },
    {
     "name": "stderr",
     "output_type": "stream",
     "text": [
      "/local/bgfs/joaquin.casanova/9678774/ipykernel_102032/451001033.py:318: DeprecationWarning: `np.float` is a deprecated alias for the builtin `float`. To silence this warning, use `float` by itself. Doing this will not modify any behavior and is safe. If you specifically wanted the numpy scalar type, use `np.float64` here.\n",
      "Deprecated in NumPy 1.20; for more details and guidance: https://numpy.org/devdocs/release/1.20.0-notes.html#deprecations\n",
      "  pred_mlp3 = model.predict(feat).reshape(bgr.shape[0:2]).astype(np.float)\n",
      "/local/bgfs/joaquin.casanova/9678774/ipykernel_102032/451001033.py:350: DeprecationWarning: `np.float` is a deprecated alias for the builtin `float`. To silence this warning, use `float` by itself. Doing this will not modify any behavior and is safe. If you specifically wanted the numpy scalar type, use `np.float64` here.\n",
      "Deprecated in NumPy 1.20; for more details and guidance: https://numpy.org/devdocs/release/1.20.0-notes.html#deprecations\n",
      "  T_ir = ir.astype(np.float)\n"
     ]
    },
    {
     "name": "stdout",
     "output_type": "stream",
     "text": [
      "Apply affine\n",
      "20230531_202256_bgr.png\n"
     ]
    },
    {
     "name": "stderr",
     "output_type": "stream",
     "text": [
      "/project/nsaru/nsaru-cv/lib/python3.9/site-packages/pysolar/solartime.py:111: UserWarning: I don't know about leap seconds after 2021\n",
      "  warnings.warn \\\n"
     ]
    },
    {
     "name": "stdout",
     "output_type": "stream",
     "text": [
      "2023-05-31 20:22:56+00:00 199.89927399195466 64.09404250051938\n"
     ]
    },
    {
     "name": "stderr",
     "output_type": "stream",
     "text": [
      "/local/bgfs/joaquin.casanova/9678774/ipykernel_102032/451001033.py:318: DeprecationWarning: `np.float` is a deprecated alias for the builtin `float`. To silence this warning, use `float` by itself. Doing this will not modify any behavior and is safe. If you specifically wanted the numpy scalar type, use `np.float64` here.\n",
      "Deprecated in NumPy 1.20; for more details and guidance: https://numpy.org/devdocs/release/1.20.0-notes.html#deprecations\n",
      "  pred_mlp3 = model.predict(feat).reshape(bgr.shape[0:2]).astype(np.float)\n",
      "/local/bgfs/joaquin.casanova/9678774/ipykernel_102032/451001033.py:350: DeprecationWarning: `np.float` is a deprecated alias for the builtin `float`. To silence this warning, use `float` by itself. Doing this will not modify any behavior and is safe. If you specifically wanted the numpy scalar type, use `np.float64` here.\n",
      "Deprecated in NumPy 1.20; for more details and guidance: https://numpy.org/devdocs/release/1.20.0-notes.html#deprecations\n",
      "  T_ir = ir.astype(np.float)\n"
     ]
    },
    {
     "name": "stdout",
     "output_type": "stream",
     "text": [
      "Apply affine\n",
      "20230531_212257_bgr.png\n"
     ]
    },
    {
     "name": "stderr",
     "output_type": "stream",
     "text": [
      "/project/nsaru/nsaru-cv/lib/python3.9/site-packages/pysolar/solartime.py:111: UserWarning: I don't know about leap seconds after 2021\n",
      "  warnings.warn \\\n"
     ]
    },
    {
     "name": "stdout",
     "output_type": "stream",
     "text": [
      "2023-05-31 21:22:57+00:00 226.59253476611264 58.41370607691672\n"
     ]
    },
    {
     "name": "stderr",
     "output_type": "stream",
     "text": [
      "/local/bgfs/joaquin.casanova/9678774/ipykernel_102032/451001033.py:318: DeprecationWarning: `np.float` is a deprecated alias for the builtin `float`. To silence this warning, use `float` by itself. Doing this will not modify any behavior and is safe. If you specifically wanted the numpy scalar type, use `np.float64` here.\n",
      "Deprecated in NumPy 1.20; for more details and guidance: https://numpy.org/devdocs/release/1.20.0-notes.html#deprecations\n",
      "  pred_mlp3 = model.predict(feat).reshape(bgr.shape[0:2]).astype(np.float)\n",
      "/local/bgfs/joaquin.casanova/9678774/ipykernel_102032/451001033.py:350: DeprecationWarning: `np.float` is a deprecated alias for the builtin `float`. To silence this warning, use `float` by itself. Doing this will not modify any behavior and is safe. If you specifically wanted the numpy scalar type, use `np.float64` here.\n",
      "Deprecated in NumPy 1.20; for more details and guidance: https://numpy.org/devdocs/release/1.20.0-notes.html#deprecations\n",
      "  T_ir = ir.astype(np.float)\n"
     ]
    },
    {
     "name": "stdout",
     "output_type": "stream",
     "text": [
      "Apply affine\n",
      "20230531_222257_bgr.png\n"
     ]
    },
    {
     "name": "stderr",
     "output_type": "stream",
     "text": [
      "/project/nsaru/nsaru-cv/lib/python3.9/site-packages/pysolar/solartime.py:111: UserWarning: I don't know about leap seconds after 2021\n",
      "  warnings.warn \\\n"
     ]
    },
    {
     "name": "stdout",
     "output_type": "stream",
     "text": [
      "2023-05-31 22:22:57+00:00 245.50876866420992 49.88735424576108\n"
     ]
    },
    {
     "name": "stderr",
     "output_type": "stream",
     "text": [
      "/local/bgfs/joaquin.casanova/9678774/ipykernel_102032/451001033.py:318: DeprecationWarning: `np.float` is a deprecated alias for the builtin `float`. To silence this warning, use `float` by itself. Doing this will not modify any behavior and is safe. If you specifically wanted the numpy scalar type, use `np.float64` here.\n",
      "Deprecated in NumPy 1.20; for more details and guidance: https://numpy.org/devdocs/release/1.20.0-notes.html#deprecations\n",
      "  pred_mlp3 = model.predict(feat).reshape(bgr.shape[0:2]).astype(np.float)\n",
      "/local/bgfs/joaquin.casanova/9678774/ipykernel_102032/451001033.py:350: DeprecationWarning: `np.float` is a deprecated alias for the builtin `float`. To silence this warning, use `float` by itself. Doing this will not modify any behavior and is safe. If you specifically wanted the numpy scalar type, use `np.float64` here.\n",
      "Deprecated in NumPy 1.20; for more details and guidance: https://numpy.org/devdocs/release/1.20.0-notes.html#deprecations\n",
      "  T_ir = ir.astype(np.float)\n"
     ]
    },
    {
     "name": "stdout",
     "output_type": "stream",
     "text": [
      "Apply affine\n",
      "20230531_232258_bgr.png\n"
     ]
    },
    {
     "name": "stderr",
     "output_type": "stream",
     "text": [
      "/project/nsaru/nsaru-cv/lib/python3.9/site-packages/pysolar/solartime.py:111: UserWarning: I don't know about leap seconds after 2021\n",
      "  warnings.warn \\\n"
     ]
    },
    {
     "name": "stdout",
     "output_type": "stream",
     "text": [
      "2023-05-31 23:22:58+00:00 259.562169716079 40.10597682059191\n"
     ]
    },
    {
     "name": "stderr",
     "output_type": "stream",
     "text": [
      "/local/bgfs/joaquin.casanova/9678774/ipykernel_102032/451001033.py:318: DeprecationWarning: `np.float` is a deprecated alias for the builtin `float`. To silence this warning, use `float` by itself. Doing this will not modify any behavior and is safe. If you specifically wanted the numpy scalar type, use `np.float64` here.\n",
      "Deprecated in NumPy 1.20; for more details and guidance: https://numpy.org/devdocs/release/1.20.0-notes.html#deprecations\n",
      "  pred_mlp3 = model.predict(feat).reshape(bgr.shape[0:2]).astype(np.float)\n",
      "/local/bgfs/joaquin.casanova/9678774/ipykernel_102032/451001033.py:350: DeprecationWarning: `np.float` is a deprecated alias for the builtin `float`. To silence this warning, use `float` by itself. Doing this will not modify any behavior and is safe. If you specifically wanted the numpy scalar type, use `np.float64` here.\n",
      "Deprecated in NumPy 1.20; for more details and guidance: https://numpy.org/devdocs/release/1.20.0-notes.html#deprecations\n",
      "  T_ir = ir.astype(np.float)\n"
     ]
    },
    {
     "name": "stdout",
     "output_type": "stream",
     "text": [
      "Apply affine\n",
      "20230601_002258_bgr.png\n"
     ]
    },
    {
     "name": "stderr",
     "output_type": "stream",
     "text": [
      "/project/nsaru/nsaru-cv/lib/python3.9/site-packages/pysolar/solartime.py:111: UserWarning: I don't know about leap seconds after 2021\n",
      "  warnings.warn \\\n"
     ]
    },
    {
     "name": "stdout",
     "output_type": "stream",
     "text": [
      "2023-06-01 00:22:58+00:00 271.1116365896904 29.89731195634567\n"
     ]
    },
    {
     "name": "stderr",
     "output_type": "stream",
     "text": [
      "/local/bgfs/joaquin.casanova/9678774/ipykernel_102032/451001033.py:318: DeprecationWarning: `np.float` is a deprecated alias for the builtin `float`. To silence this warning, use `float` by itself. Doing this will not modify any behavior and is safe. If you specifically wanted the numpy scalar type, use `np.float64` here.\n",
      "Deprecated in NumPy 1.20; for more details and guidance: https://numpy.org/devdocs/release/1.20.0-notes.html#deprecations\n",
      "  pred_mlp3 = model.predict(feat).reshape(bgr.shape[0:2]).astype(np.float)\n",
      "/local/bgfs/joaquin.casanova/9678774/ipykernel_102032/451001033.py:350: DeprecationWarning: `np.float` is a deprecated alias for the builtin `float`. To silence this warning, use `float` by itself. Doing this will not modify any behavior and is safe. If you specifically wanted the numpy scalar type, use `np.float64` here.\n",
      "Deprecated in NumPy 1.20; for more details and guidance: https://numpy.org/devdocs/release/1.20.0-notes.html#deprecations\n",
      "  T_ir = ir.astype(np.float)\n"
     ]
    },
    {
     "name": "stdout",
     "output_type": "stream",
     "text": [
      "Apply affine\n",
      "20230601_012259_bgr.png\n"
     ]
    },
    {
     "name": "stderr",
     "output_type": "stream",
     "text": [
      "/project/nsaru/nsaru-cv/lib/python3.9/site-packages/pysolar/solartime.py:111: UserWarning: I don't know about leap seconds after 2021\n",
      "  warnings.warn \\\n"
     ]
    },
    {
     "name": "stdout",
     "output_type": "stream",
     "text": [
      "2023-06-01 01:22:59+00:00 281.5550985898791 19.72230708654001\n"
     ]
    },
    {
     "name": "stderr",
     "output_type": "stream",
     "text": [
      "/local/bgfs/joaquin.casanova/9678774/ipykernel_102032/451001033.py:318: DeprecationWarning: `np.float` is a deprecated alias for the builtin `float`. To silence this warning, use `float` by itself. Doing this will not modify any behavior and is safe. If you specifically wanted the numpy scalar type, use `np.float64` here.\n",
      "Deprecated in NumPy 1.20; for more details and guidance: https://numpy.org/devdocs/release/1.20.0-notes.html#deprecations\n",
      "  pred_mlp3 = model.predict(feat).reshape(bgr.shape[0:2]).astype(np.float)\n",
      "/local/bgfs/joaquin.casanova/9678774/ipykernel_102032/451001033.py:350: DeprecationWarning: `np.float` is a deprecated alias for the builtin `float`. To silence this warning, use `float` by itself. Doing this will not modify any behavior and is safe. If you specifically wanted the numpy scalar type, use `np.float64` here.\n",
      "Deprecated in NumPy 1.20; for more details and guidance: https://numpy.org/devdocs/release/1.20.0-notes.html#deprecations\n",
      "  T_ir = ir.astype(np.float)\n"
     ]
    },
    {
     "name": "stdout",
     "output_type": "stream",
     "text": [
      "Apply affine\n",
      "20230601_022259_bgr.png\n",
      "20230601_032300_bgr.png\n",
      "20230601_042300_bgr.png\n",
      "20230601_052300_bgr.png\n",
      "20230601_062301_bgr.png\n",
      "20230601_072301_bgr.png\n",
      "20230601_082301_bgr.png\n",
      "20230601_092301_bgr.png\n",
      "20230601_102302_bgr.png\n",
      "20230601_112302_bgr.png\n",
      "20230601_122303_bgr.png\n",
      "20230601_132303_bgr.png\n",
      "20230601_142304_bgr.png\n",
      "20230601_145657_bgr.png\n",
      "20230601_155715_bgr.png\n",
      "20230601_165716_bgr.png\n",
      "20230601_175717_bgr.png\n",
      "20230601_185717_bgr.png\n",
      "20230601_192831_bgr.png\n"
     ]
    },
    {
     "name": "stderr",
     "output_type": "stream",
     "text": [
      "/project/nsaru/nsaru-cv/lib/python3.9/site-packages/pysolar/solartime.py:111: UserWarning: I don't know about leap seconds after 2021\n",
      "  warnings.warn \\\n"
     ]
    },
    {
     "name": "stdout",
     "output_type": "stream",
     "text": [
      "2023-06-01 19:28:31+00:00 170.27020120537526 65.06824224003448\n"
     ]
    },
    {
     "name": "stderr",
     "output_type": "stream",
     "text": [
      "/local/bgfs/joaquin.casanova/9678774/ipykernel_102032/451001033.py:318: DeprecationWarning: `np.float` is a deprecated alias for the builtin `float`. To silence this warning, use `float` by itself. Doing this will not modify any behavior and is safe. If you specifically wanted the numpy scalar type, use `np.float64` here.\n",
      "Deprecated in NumPy 1.20; for more details and guidance: https://numpy.org/devdocs/release/1.20.0-notes.html#deprecations\n",
      "  pred_mlp3 = model.predict(feat).reshape(bgr.shape[0:2]).astype(np.float)\n",
      "/local/bgfs/joaquin.casanova/9678774/ipykernel_102032/451001033.py:350: DeprecationWarning: `np.float` is a deprecated alias for the builtin `float`. To silence this warning, use `float` by itself. Doing this will not modify any behavior and is safe. If you specifically wanted the numpy scalar type, use `np.float64` here.\n",
      "Deprecated in NumPy 1.20; for more details and guidance: https://numpy.org/devdocs/release/1.20.0-notes.html#deprecations\n",
      "  T_ir = ir.astype(np.float)\n"
     ]
    },
    {
     "name": "stdout",
     "output_type": "stream",
     "text": [
      "Apply affine\n",
      "20230601_193119_bgr.png\n"
     ]
    },
    {
     "name": "stderr",
     "output_type": "stream",
     "text": [
      "/project/nsaru/nsaru-cv/lib/python3.9/site-packages/pysolar/solartime.py:111: UserWarning: I don't know about leap seconds after 2021\n",
      "  warnings.warn \\\n"
     ]
    },
    {
     "name": "stdout",
     "output_type": "stream",
     "text": [
      "2023-06-01 19:31:19+00:00 171.80011451012797 65.14316757651326\n"
     ]
    },
    {
     "name": "stderr",
     "output_type": "stream",
     "text": [
      "/local/bgfs/joaquin.casanova/9678774/ipykernel_102032/451001033.py:318: DeprecationWarning: `np.float` is a deprecated alias for the builtin `float`. To silence this warning, use `float` by itself. Doing this will not modify any behavior and is safe. If you specifically wanted the numpy scalar type, use `np.float64` here.\n",
      "Deprecated in NumPy 1.20; for more details and guidance: https://numpy.org/devdocs/release/1.20.0-notes.html#deprecations\n",
      "  pred_mlp3 = model.predict(feat).reshape(bgr.shape[0:2]).astype(np.float)\n",
      "/local/bgfs/joaquin.casanova/9678774/ipykernel_102032/451001033.py:350: DeprecationWarning: `np.float` is a deprecated alias for the builtin `float`. To silence this warning, use `float` by itself. Doing this will not modify any behavior and is safe. If you specifically wanted the numpy scalar type, use `np.float64` here.\n",
      "Deprecated in NumPy 1.20; for more details and guidance: https://numpy.org/devdocs/release/1.20.0-notes.html#deprecations\n",
      "  T_ir = ir.astype(np.float)\n"
     ]
    },
    {
     "name": "stdout",
     "output_type": "stream",
     "text": [
      "Apply affine\n",
      "20230601_203120_bgr.png\n"
     ]
    },
    {
     "name": "stderr",
     "output_type": "stream",
     "text": [
      "/project/nsaru/nsaru-cv/lib/python3.9/site-packages/pysolar/solartime.py:111: UserWarning: I don't know about leap seconds after 2021\n",
      "  warnings.warn \\\n"
     ]
    },
    {
     "name": "stdout",
     "output_type": "stream",
     "text": [
      "2023-06-01 20:31:20+00:00 204.1594622144312 63.69624686227697\n"
     ]
    },
    {
     "name": "stderr",
     "output_type": "stream",
     "text": [
      "/local/bgfs/joaquin.casanova/9678774/ipykernel_102032/451001033.py:318: DeprecationWarning: `np.float` is a deprecated alias for the builtin `float`. To silence this warning, use `float` by itself. Doing this will not modify any behavior and is safe. If you specifically wanted the numpy scalar type, use `np.float64` here.\n",
      "Deprecated in NumPy 1.20; for more details and guidance: https://numpy.org/devdocs/release/1.20.0-notes.html#deprecations\n",
      "  pred_mlp3 = model.predict(feat).reshape(bgr.shape[0:2]).astype(np.float)\n",
      "/local/bgfs/joaquin.casanova/9678774/ipykernel_102032/451001033.py:350: DeprecationWarning: `np.float` is a deprecated alias for the builtin `float`. To silence this warning, use `float` by itself. Doing this will not modify any behavior and is safe. If you specifically wanted the numpy scalar type, use `np.float64` here.\n",
      "Deprecated in NumPy 1.20; for more details and guidance: https://numpy.org/devdocs/release/1.20.0-notes.html#deprecations\n",
      "  T_ir = ir.astype(np.float)\n"
     ]
    },
    {
     "name": "stdout",
     "output_type": "stream",
     "text": [
      "Apply affine\n",
      "20230601_213120_bgr.png\n"
     ]
    },
    {
     "name": "stderr",
     "output_type": "stream",
     "text": [
      "/project/nsaru/nsaru-cv/lib/python3.9/site-packages/pysolar/solartime.py:111: UserWarning: I don't know about leap seconds after 2021\n",
      "  warnings.warn \\\n"
     ]
    },
    {
     "name": "stdout",
     "output_type": "stream",
     "text": [
      "2023-06-01 21:31:20+00:00 229.7349345392737 57.47836952237811\n"
     ]
    },
    {
     "name": "stderr",
     "output_type": "stream",
     "text": [
      "/local/bgfs/joaquin.casanova/9678774/ipykernel_102032/451001033.py:318: DeprecationWarning: `np.float` is a deprecated alias for the builtin `float`. To silence this warning, use `float` by itself. Doing this will not modify any behavior and is safe. If you specifically wanted the numpy scalar type, use `np.float64` here.\n",
      "Deprecated in NumPy 1.20; for more details and guidance: https://numpy.org/devdocs/release/1.20.0-notes.html#deprecations\n",
      "  pred_mlp3 = model.predict(feat).reshape(bgr.shape[0:2]).astype(np.float)\n",
      "/local/bgfs/joaquin.casanova/9678774/ipykernel_102032/451001033.py:350: DeprecationWarning: `np.float` is a deprecated alias for the builtin `float`. To silence this warning, use `float` by itself. Doing this will not modify any behavior and is safe. If you specifically wanted the numpy scalar type, use `np.float64` here.\n",
      "Deprecated in NumPy 1.20; for more details and guidance: https://numpy.org/devdocs/release/1.20.0-notes.html#deprecations\n",
      "  T_ir = ir.astype(np.float)\n"
     ]
    },
    {
     "name": "stdout",
     "output_type": "stream",
     "text": [
      "Apply affine\n",
      "20230601_223121_bgr.png\n"
     ]
    },
    {
     "name": "stderr",
     "output_type": "stream",
     "text": [
      "/project/nsaru/nsaru-cv/lib/python3.9/site-packages/pysolar/solartime.py:111: UserWarning: I don't know about leap seconds after 2021\n",
      "  warnings.warn \\\n"
     ]
    },
    {
     "name": "stdout",
     "output_type": "stream",
     "text": [
      "2023-06-01 22:31:21+00:00 247.80361140098643 48.69191881571882\n"
     ]
    },
    {
     "name": "stderr",
     "output_type": "stream",
     "text": [
      "/local/bgfs/joaquin.casanova/9678774/ipykernel_102032/451001033.py:318: DeprecationWarning: `np.float` is a deprecated alias for the builtin `float`. To silence this warning, use `float` by itself. Doing this will not modify any behavior and is safe. If you specifically wanted the numpy scalar type, use `np.float64` here.\n",
      "Deprecated in NumPy 1.20; for more details and guidance: https://numpy.org/devdocs/release/1.20.0-notes.html#deprecations\n",
      "  pred_mlp3 = model.predict(feat).reshape(bgr.shape[0:2]).astype(np.float)\n",
      "/local/bgfs/joaquin.casanova/9678774/ipykernel_102032/451001033.py:350: DeprecationWarning: `np.float` is a deprecated alias for the builtin `float`. To silence this warning, use `float` by itself. Doing this will not modify any behavior and is safe. If you specifically wanted the numpy scalar type, use `np.float64` here.\n",
      "Deprecated in NumPy 1.20; for more details and guidance: https://numpy.org/devdocs/release/1.20.0-notes.html#deprecations\n",
      "  T_ir = ir.astype(np.float)\n"
     ]
    },
    {
     "name": "stdout",
     "output_type": "stream",
     "text": [
      "Apply affine\n",
      "20230601_233122_bgr.png\n"
     ]
    },
    {
     "name": "stderr",
     "output_type": "stream",
     "text": [
      "/project/nsaru/nsaru-cv/lib/python3.9/site-packages/pysolar/solartime.py:111: UserWarning: I don't know about leap seconds after 2021\n",
      "  warnings.warn \\\n"
     ]
    },
    {
     "name": "stdout",
     "output_type": "stream",
     "text": [
      "2023-06-01 23:31:22+00:00 261.3857868802945 38.807834907158416\n"
     ]
    },
    {
     "name": "stderr",
     "output_type": "stream",
     "text": [
      "/local/bgfs/joaquin.casanova/9678774/ipykernel_102032/451001033.py:318: DeprecationWarning: `np.float` is a deprecated alias for the builtin `float`. To silence this warning, use `float` by itself. Doing this will not modify any behavior and is safe. If you specifically wanted the numpy scalar type, use `np.float64` here.\n",
      "Deprecated in NumPy 1.20; for more details and guidance: https://numpy.org/devdocs/release/1.20.0-notes.html#deprecations\n",
      "  pred_mlp3 = model.predict(feat).reshape(bgr.shape[0:2]).astype(np.float)\n",
      "/local/bgfs/joaquin.casanova/9678774/ipykernel_102032/451001033.py:350: DeprecationWarning: `np.float` is a deprecated alias for the builtin `float`. To silence this warning, use `float` by itself. Doing this will not modify any behavior and is safe. If you specifically wanted the numpy scalar type, use `np.float64` here.\n",
      "Deprecated in NumPy 1.20; for more details and guidance: https://numpy.org/devdocs/release/1.20.0-notes.html#deprecations\n",
      "  T_ir = ir.astype(np.float)\n"
     ]
    },
    {
     "name": "stdout",
     "output_type": "stream",
     "text": [
      "Apply affine\n",
      "20230602_003124_bgr.png\n"
     ]
    },
    {
     "name": "stderr",
     "output_type": "stream",
     "text": [
      "/project/nsaru/nsaru-cv/lib/python3.9/site-packages/pysolar/solartime.py:111: UserWarning: I don't know about leap seconds after 2021\n",
      "  warnings.warn \\\n"
     ]
    },
    {
     "name": "stdout",
     "output_type": "stream",
     "text": [
      "2023-06-02 00:31:24+00:00 272.70912953206937 28.573874077507547\n"
     ]
    },
    {
     "name": "stderr",
     "output_type": "stream",
     "text": [
      "/local/bgfs/joaquin.casanova/9678774/ipykernel_102032/451001033.py:318: DeprecationWarning: `np.float` is a deprecated alias for the builtin `float`. To silence this warning, use `float` by itself. Doing this will not modify any behavior and is safe. If you specifically wanted the numpy scalar type, use `np.float64` here.\n",
      "Deprecated in NumPy 1.20; for more details and guidance: https://numpy.org/devdocs/release/1.20.0-notes.html#deprecations\n",
      "  pred_mlp3 = model.predict(feat).reshape(bgr.shape[0:2]).astype(np.float)\n",
      "/local/bgfs/joaquin.casanova/9678774/ipykernel_102032/451001033.py:350: DeprecationWarning: `np.float` is a deprecated alias for the builtin `float`. To silence this warning, use `float` by itself. Doing this will not modify any behavior and is safe. If you specifically wanted the numpy scalar type, use `np.float64` here.\n",
      "Deprecated in NumPy 1.20; for more details and guidance: https://numpy.org/devdocs/release/1.20.0-notes.html#deprecations\n",
      "  T_ir = ir.astype(np.float)\n"
     ]
    },
    {
     "name": "stdout",
     "output_type": "stream",
     "text": [
      "Apply affine\n",
      "20230602_013125_bgr.png\n"
     ]
    },
    {
     "name": "stderr",
     "output_type": "stream",
     "text": [
      "/project/nsaru/nsaru-cv/lib/python3.9/site-packages/pysolar/solartime.py:111: UserWarning: I don't know about leap seconds after 2021\n",
      "  warnings.warn \\\n"
     ]
    },
    {
     "name": "stdout",
     "output_type": "stream",
     "text": [
      "2023-06-02 01:31:25+00:00 283.0632867012538 18.434702725041785\n"
     ]
    },
    {
     "name": "stderr",
     "output_type": "stream",
     "text": [
      "/local/bgfs/joaquin.casanova/9678774/ipykernel_102032/451001033.py:318: DeprecationWarning: `np.float` is a deprecated alias for the builtin `float`. To silence this warning, use `float` by itself. Doing this will not modify any behavior and is safe. If you specifically wanted the numpy scalar type, use `np.float64` here.\n",
      "Deprecated in NumPy 1.20; for more details and guidance: https://numpy.org/devdocs/release/1.20.0-notes.html#deprecations\n",
      "  pred_mlp3 = model.predict(feat).reshape(bgr.shape[0:2]).astype(np.float)\n",
      "/local/bgfs/joaquin.casanova/9678774/ipykernel_102032/451001033.py:350: DeprecationWarning: `np.float` is a deprecated alias for the builtin `float`. To silence this warning, use `float` by itself. Doing this will not modify any behavior and is safe. If you specifically wanted the numpy scalar type, use `np.float64` here.\n",
      "Deprecated in NumPy 1.20; for more details and guidance: https://numpy.org/devdocs/release/1.20.0-notes.html#deprecations\n",
      "  T_ir = ir.astype(np.float)\n"
     ]
    },
    {
     "name": "stdout",
     "output_type": "stream",
     "text": [
      "Apply affine\n",
      "20230602_023125_bgr.png\n"
     ]
    },
    {
     "name": "stderr",
     "output_type": "stream",
     "text": [
      "/project/nsaru/nsaru-cv/lib/python3.9/site-packages/pysolar/solartime.py:111: UserWarning: I don't know about leap seconds after 2021\n",
      "  warnings.warn \\\n"
     ]
    },
    {
     "name": "stdout",
     "output_type": "stream",
     "text": [
      "2023-06-02 02:31:25+00:00 293.25623970786614 8.743702441312703\n",
      "20230602_033126_bgr.png\n",
      "20230602_043126_bgr.png\n"
     ]
    },
    {
     "ename": "IndexError",
     "evalue": "list index out of range",
     "output_type": "error",
     "traceback": [
      "\u001b[0;31m---------------------------------------------------------------------------\u001b[0m",
      "\u001b[0;31mIndexError\u001b[0m                                Traceback (most recent call last)",
      "Input \u001b[0;32mIn [45]\u001b[0m, in \u001b[0;36m<cell line: 70>\u001b[0;34m()\u001b[0m\n\u001b[1;32m    405\u001b[0m     n_img\u001b[38;5;241m=\u001b[39mn_img\u001b[38;5;241m+\u001b[39m\u001b[38;5;241m1\u001b[39m\n\u001b[1;32m    406\u001b[0m     ti_change \u001b[38;5;241m=\u001b[39m \u001b[38;5;28;01mFalse\u001b[39;00m\n\u001b[0;32m--> 408\u001b[0m \u001b[38;5;28;01melif\u001b[39;00m utc\u001b[38;5;241m>\u001b[39m\u001b[43mstop_dates\u001b[49m\u001b[43m[\u001b[49m\u001b[43mti\u001b[49m\u001b[43m]\u001b[49m \u001b[38;5;129;01mand\u001b[39;00m ti\u001b[38;5;241m<\u001b[39m\u001b[38;5;241m9\u001b[39m:\n\u001b[1;32m    409\u001b[0m     ti \u001b[38;5;241m=\u001b[39m ti\u001b[38;5;241m+\u001b[39m\u001b[38;5;241m1\u001b[39m\n\u001b[1;32m    410\u001b[0m     ti_change \u001b[38;5;241m=\u001b[39m \u001b[38;5;28;01mTrue\u001b[39;00m\n",
      "\u001b[0;31mIndexError\u001b[0m: list index out of range"
     ]
    }
   ],
   "source": [
    "imgs=[]\n",
    "f_sol_sun = []\n",
    "f_sol_shd = []\n",
    "f_res_sun = []\n",
    "f_res_shd = []\n",
    "f_veg_sun = []\n",
    "f_veg_shd = []\n",
    "f_snw_sun = []\n",
    "f_snw_shd = []\n",
    "\n",
    "T_sol_sun = []\n",
    "T_sol_shd = []\n",
    "T_res_sun = []\n",
    "T_res_shd = []\n",
    "T_veg_sun = []\n",
    "T_veg_shd = []\n",
    "T_snw_sun = []\n",
    "T_snw_shd = []\n",
    "\n",
    "elevation = []\n",
    "azimuth = []\n",
    "\n",
    "times = []\n",
    "\n",
    "n_img=0\n",
    "\n",
    "start_dates_cook = ['20221028224215',\n",
    "               '20221108180152',\n",
    "               '20221125231429',\n",
    "               '20221229191212',\n",
    "               '20230301223610',\n",
    "               '20230320171323',\n",
    "               '20230522171148',\n",
    "               '20230525222154',\n",
    "               '20230601192831',\n",
    "               '20230602184516']\n",
    "\n",
    "stop_dates_cook =  ['20221104234238',\n",
    "               '20221116210712',\n",
    "               '20221229174156',\n",
    "               '20230221015754',\n",
    "               '20230301223630',\n",
    "               '20230322045000',\n",
    "               '20230525111517',\n",
    "               '20230601022210',\n",
    "               '20230602033124']\n",
    "start_dates_cprl = ['20230411192131',\n",
    "                    '20230427001305',\n",
    "                    '20230607014817']\n",
    "stop_dates_cprl =  ['20230426231253',\n",
    "                    '20230531114644']\n",
    "\n",
    "start_dates_cook = [pytz.utc.localize(datetime.strptime(d, '%Y%m%d%H%M%S')) for d in start_dates_cook]\n",
    "stop_dates_cook = [pytz.utc.localize(datetime.strptime(d, '%Y%m%d%H%M%S')) for d in stop_dates_cook]\n",
    "\n",
    "start_dates_cprl = [pytz.utc.localize(datetime.strptime(d, '%Y%m%d%H%M%S')) for d in start_dates_cprl]\n",
    "stop_dates_cprl = [pytz.utc.localize(datetime.strptime(d, '%Y%m%d%H%M%S')) for d in stop_dates_cprl]\n",
    "\n",
    "\n",
    "lat = np.nan\n",
    "lon = np.nan\n",
    "ti = 0\n",
    "ti_change = True\n",
    "# warp_mat = (np.array([[ 11.08898243,  -0.42063226, 126.98795655],\n",
    "#         [ -0.14639544,  11.22961801,  58.99876632]]),\n",
    "#  np.array([[1],\n",
    "#         [1],\n",
    "#         [0],\n",
    "#         [1]], dtype=np.uint8))\n",
    "for di, start_dates, stop_dates, cal_list in zip([p0],[start_dates_cook], [stop_dates_cook],[[cal_nsar_v2]]):\n",
    "    for version, model, scaler, cal in zip(['V2'],[model_mlp3_v2],[scaler_v2],cal_list):\n",
    "        f_imgs_ir = list()\n",
    "        f_imgs_bgr = list()\n",
    "        utc_ir = list()\n",
    "        utc_bgr = list()\n",
    "        for f in os.listdir(os.path.join(di,version)):\n",
    "            if '.png' in f:\n",
    "\n",
    "                time_place = f.split('.png')[0].split('_')\n",
    "                if version=='V1': \n",
    "                    t_meas = pytz.utc.localize(datetime.strptime(time_place[0],'%Y%m%d%H%M%S'))\n",
    "                elif version=='V2':\n",
    "                    if di==p0:\n",
    "                        t_meas = pytz.utc.localize(datetime.strptime(time_place[0]+time_place[1],'%Y%m%d%H%M%S'))\n",
    "                    elif di==p00:\n",
    "                        t_meas = pytz.utc.localize(datetime.strptime(time_place[0],'%Y%m%d%H%M%S'))\n",
    "                if '_bgr' in f:\n",
    "                    f_imgs_bgr.append(f)\n",
    "                    utc_bgr.append(t_meas)\n",
    "                if '_ir' in f:\n",
    "                    f_imgs_ir.append(f)\n",
    "                    utc_ir.append(t_meas)\n",
    "\n",
    "        ibgr = np.argsort(utc_bgr)\n",
    "        iir = np.argsort(utc_ir)\n",
    "        utc_bgr = np.array(utc_bgr)[ibgr]\n",
    "        utc_ir = np.array(utc_ir)[iir]\n",
    "        f_imgs_bgr = np.array(f_imgs_bgr)[ibgr]\n",
    "        f_imgs_ir = np.array(f_imgs_ir)[iir]\n",
    "\n",
    "        #find closest IR match to BGR\n",
    "        idx = []\n",
    "        for utc, f in zip(utc_bgr,f_imgs_bgr):\n",
    "            idx.append(np.argmin(np.abs(utc_ir-utc)))\n",
    "\n",
    "        utc_ir = np.array(utc_ir)[idx]\n",
    "        f_imgs_ir = np.array(f_imgs_ir)[idx]\n",
    "        for f_bgr, f_ir in zip(f_imgs_bgr,f_imgs_ir):\n",
    "            print(f_bgr)\n",
    "            bgr = cv2.imread(os.path.join(di,version,f_bgr),cv2.IMREAD_UNCHANGED)\n",
    "            #filter nighttime\n",
    "            #20221017084722_-117.081903_46.781495_bgr.png\n",
    "            time_place = f_bgr.split('_bgr.')[0].split('_')\n",
    "            if version=='V1':\n",
    "                utc = pytz.utc.localize(datetime.strptime(time_place[0], '%Y%m%d%H%M%S'))\n",
    "            elif version=='V2':\n",
    "                if di==p0:\n",
    "                    utc = pytz.utc.localize(datetime.strptime(time_place[0]+time_place[1],'%Y%m%d%H%M%S'))\n",
    "                elif di==p00:\n",
    "                    utc = pytz.utc.localize(datetime.strptime(time_place[0], '%Y%m%d%H%M%S'))\n",
    "            if utc>=start_dates[ti] and utc<=stop_dates[ti]: \n",
    "                theta = np.nan\n",
    "                phi = np.nan\n",
    "                if version == 'V1':\n",
    "                    if 'nofix' not in time_place:\n",
    "                        lat = np.double(time_place[2])\n",
    "                        lon = np.double(time_place[1])\n",
    "                    elif 'nofix' in time_place and di==p00:\n",
    "                        #Latitude: 35 ° 11’ 17.45”; Longitude: 102° 5’ 43.98”; elevation : 1168 m\n",
    "                        lat = 35+11/60+17.45/3600\n",
    "                        lon = -(102+5/60+43.98/3600)\n",
    "                    else:\n",
    "                        pass\n",
    "                elif version == 'V2':\n",
    "                    if di == p0:\n",
    "                        lat = 46.781553\n",
    "                        lon = -117.081863\n",
    "                    elif di == p00:\n",
    "                        lat = 35+11/60+17.45/3600\n",
    "                        lon = -(102+5/60+43.98/3600)\n",
    "                    else:\n",
    "                        pass\n",
    "                else:\n",
    "                    pass\n",
    "                theta = solar.get_altitude(lat,lon,utc)\n",
    "                phi = solar.get_azimuth(lat,lon,utc)\n",
    "                print(utc,phi,theta)\n",
    "\n",
    "                if theta>10.0:\n",
    "\n",
    "                    lab = cv2.cvtColor(bgr, cv2.COLOR_BGR2LAB)\n",
    "                    hsv = cv2.cvtColor(bgr, cv2.COLOR_BGR2HSV)\n",
    "                    img = cv2.cvtColor(bgr, cv2.COLOR_BGR2GRAY)\n",
    "                    l,a,bb = cv2.split(lab)\n",
    "                    h,s,v = cv2.split(hsv)\n",
    "\n",
    "                    sd_l1 = localSD(l, 127)\n",
    "                    sd_l2 = localSD(l, 63)\n",
    "                    sd_l3 = localSD(l, 31)\n",
    "\n",
    "                    lbp_l1 = LBP(l, 32, 4, method='ror')\n",
    "                    lbp_l2 = LBP(l, 24, 3, method='ror')\n",
    "                    lbp_l3 = LBP(l, 16, 2, method='ror')\n",
    "\n",
    "                    sd_a1 = localSD(a, 127)\n",
    "                    sd_a2 = localSD(a, 63)\n",
    "                    sd_a3 = localSD(a, 31)\n",
    "\n",
    "                    lbp_a1 = LBP(a, 32, 4, method='ror')\n",
    "                    lbp_a2 = LBP(a, 24, 3, method='ror')\n",
    "                    lbp_a3 = LBP(a, 16, 2, method='ror')\n",
    "\n",
    "                    sd_b1 = localSD(bb, 127)\n",
    "                    sd_b2 = localSD(bb, 63)\n",
    "                    sd_b3 = localSD(bb, 31)\n",
    "\n",
    "                    lbp_b1 = LBP(bb, 32, 4, method='ror')\n",
    "                    lbp_b2 = LBP(bb, 24, 3, method='ror')\n",
    "                    lbp_b3 = LBP(bb, 16, 2, method='ror')\n",
    "\n",
    "                    sd_h1 = localSD(h, 127)\n",
    "                    sd_h2 = localSD(h, 63)\n",
    "                    sd_h3 = localSD(h, 31)\n",
    "\n",
    "                    lbp_h1 = LBP(h, 32, 4, method='ror')\n",
    "                    lbp_h2 = LBP(h, 24, 3, method='ror')\n",
    "                    lbp_h3 = LBP(h, 16, 2, method='ror')\n",
    "\n",
    "                    sd_s1 = localSD(s, 127)\n",
    "                    sd_s2 = localSD(s, 63)\n",
    "                    sd_s3 = localSD(s, 31)\n",
    "\n",
    "                    lbp_s1 = LBP(s, 32, 4, method='ror')\n",
    "                    lbp_s2 = LBP(s, 24, 3, method='ror')\n",
    "                    lbp_s3 = LBP(s, 16, 2, method='ror')\n",
    "\n",
    "                    sd_v1 = localSD(v, 127)\n",
    "                    sd_v2 = localSD(v, 63)\n",
    "                    sd_v3 = localSD(v, 31)\n",
    "\n",
    "                    lbp_v1 = LBP(v, 32, 4, method='ror')\n",
    "                    lbp_v2 = LBP(v, 24, 3, method='ror')\n",
    "                    lbp_v3 = LBP(v, 16, 2, method='ror')\n",
    "\n",
    "                    ddepth = cv2.CV_16S\n",
    "\n",
    "                    lap_l1 = cv2.Laplacian(l,ddepth,ksize=3)\n",
    "                    lap_l2 = cv2.Laplacian(l,ddepth,ksize=7)\n",
    "                    lap_l3 = cv2.Laplacian(l,ddepth,ksize=15)\n",
    "\n",
    "                    lap_a1 = cv2.Laplacian(a,ddepth,ksize=3)\n",
    "                    lap_a2 = cv2.Laplacian(a,ddepth,ksize=7)\n",
    "                    lap_a3 = cv2.Laplacian(a,ddepth,ksize=15)\n",
    "\n",
    "                    lap_b1 = cv2.Laplacian(bb,ddepth,ksize=3)\n",
    "                    lap_b2 = cv2.Laplacian(bb,ddepth,ksize=7)\n",
    "                    lap_b3 = cv2.Laplacian(bb,ddepth,ksize=15)\n",
    "\n",
    "                    lap_h1 = cv2.Laplacian(h,ddepth,ksize=3)\n",
    "                    lap_h2 = cv2.Laplacian(h,ddepth,ksize=7)\n",
    "                    lap_h3 = cv2.Laplacian(h,ddepth,ksize=15)\n",
    "\n",
    "                    lap_s1 = cv2.Laplacian(s,ddepth,ksize=3)\n",
    "                    lap_s2 = cv2.Laplacian(s,ddepth,ksize=7)\n",
    "                    lap_s3 = cv2.Laplacian(s,ddepth,ksize=15)\n",
    "\n",
    "                    lap_v1 = cv2.Laplacian(v,ddepth,ksize=3)\n",
    "                    lap_v2 = cv2.Laplacian(v,ddepth,ksize=7)\n",
    "                    lap_v3 = cv2.Laplacian(v,ddepth,ksize=15)\n",
    "\n",
    "                    img_size = l.shape\n",
    "                    bb = bb.ravel()\n",
    "                    a = a.ravel()\n",
    "                    l = l.ravel()\n",
    "                    h = h.ravel()\n",
    "                    s = s.ravel()\n",
    "                    v = v.ravel()\n",
    "                    sd_l1 = sd_l1.ravel()\n",
    "                    sd_l2 = sd_l2.ravel()\n",
    "                    sd_l3 = sd_l3.ravel()\n",
    "                    lbp_l1 = lbp_l1.ravel()\n",
    "                    lbp_l2 = lbp_l2.ravel()\n",
    "                    lbp_l3 = lbp_l3.ravel()\n",
    "                    lap_l1 = lap_l1.ravel()\n",
    "                    lap_l2 = lap_l2.ravel()\n",
    "                    lap_l3 = lap_l3.ravel()\n",
    "                    sd_a1 = sd_a1.ravel()\n",
    "                    sd_a2 = sd_a2.ravel()\n",
    "                    sd_a3 = sd_a3.ravel()\n",
    "                    lbp_a1 = lbp_a1.ravel()\n",
    "                    lbp_a2 = lbp_a2.ravel()\n",
    "                    lbp_a3 = lbp_a3.ravel()\n",
    "                    lap_a1 = lap_a1.ravel()\n",
    "                    lap_a2 = lap_a2.ravel()\n",
    "                    lap_a3 = lap_a3.ravel()\n",
    "                    sd_b1 = sd_b1.ravel()\n",
    "                    sd_b2 = sd_b2.ravel()\n",
    "                    sd_b3 = sd_b3.ravel()\n",
    "                    lbp_b1 = lbp_b1.ravel()\n",
    "                    lbp_b2 = lbp_b2.ravel()\n",
    "                    lbp_b3 = lbp_b3.ravel()\n",
    "                    lap_b1 = lap_b1.ravel()\n",
    "                    lap_b2 = lap_b2.ravel()\n",
    "                    lap_b3 = lap_b3.ravel()\n",
    "                    sd_h1 = sd_h1.ravel()\n",
    "                    sd_h2 = sd_h2.ravel()\n",
    "                    sd_h3 = sd_h3.ravel()\n",
    "                    lbp_h1 = lbp_h1.ravel()\n",
    "                    lbp_h2 = lbp_h2.ravel()\n",
    "                    lbp_h3 = lbp_h3.ravel()\n",
    "                    lap_h1 = lap_h1.ravel()\n",
    "                    lap_h2 = lap_h2.ravel()\n",
    "                    lap_h3 = lap_h3.ravel()\n",
    "                    sd_s1 = sd_s1.ravel()\n",
    "                    sd_s2 = sd_s2.ravel()\n",
    "                    sd_s3 = sd_s3.ravel()\n",
    "                    lbp_s1 = lbp_s1.ravel()\n",
    "                    lbp_s2 = lbp_s2.ravel()\n",
    "                    lbp_s3 = lbp_s3.ravel()\n",
    "                    lap_s1 = lap_s1.ravel()\n",
    "                    lap_s2 = lap_s2.ravel()\n",
    "                    lap_s3 = lap_s3.ravel()\n",
    "                    sd_v1 = sd_v1.ravel()\n",
    "                    sd_v2 = sd_v2.ravel()\n",
    "                    sd_v3 = sd_v3.ravel()\n",
    "                    lbp_v1 = lbp_v1.ravel()\n",
    "                    lbp_v2 = lbp_v2.ravel()\n",
    "                    lbp_v3 = lbp_v3.ravel()\n",
    "                    lap_v1 = lap_v1.ravel()\n",
    "                    lap_v2 = lap_v2.ravel()\n",
    "                    lap_v3 = lap_v3.ravel()\n",
    "                    sd_h3[np.isnan(sd_h3)]=np.nanmean(sd_h3)\n",
    "                    feat = np.vstack((l.T,a.T,bb.T,h.T,s.T,v.T,\n",
    "                                      sd_l1.T,sd_l2.T,sd_l3.T,\n",
    "                                      lbp_l1.T,lbp_l2.T,lbp_l3.T,\n",
    "                                      lap_l1.T,lap_l2.T,lap_l3.T,\n",
    "                                      sd_a1.T,sd_a2.T,sd_a3.T,\n",
    "                                      lbp_a1.T,lbp_a2.T,lbp_a3.T,\n",
    "                                      lap_a1.T,lap_a2.T,lap_a3.T,\n",
    "                                      sd_b1.T,sd_b2.T,sd_b3.T,\n",
    "                                      lbp_b1.T,lbp_b2.T,lbp_b3.T,\n",
    "                                      lap_b1.T,lap_b2.T,lap_b3.T,\n",
    "                                      sd_h1.T,sd_h2.T,sd_h3.T,\n",
    "                                      lbp_h1.T,lbp_h2.T,lbp_h3.T,\n",
    "                                      lap_h1.T,lap_h2.T,lap_h3.T,\n",
    "                                      sd_s1.T,sd_s2.T,sd_s3.T,\n",
    "                                      lbp_s1.T,lbp_s2.T,lbp_s3.T,\n",
    "                                      lap_s1.T,lap_s2.T,lap_s3.T,\n",
    "                                      sd_v1.T,sd_v2.T,sd_v3.T,\n",
    "                                      lbp_v1.T,lbp_v2.T,lbp_v3.T,\n",
    "                                      lap_v1.T,lap_v2.T,lap_v3.T)).T\n",
    "\n",
    "                    feat = scaler.transform(feat)\n",
    "\n",
    "\n",
    "\n",
    "                    if not np.any(np.isnan(feat)):\n",
    "                        pred_mlp3 = model.predict(feat).reshape(bgr.shape[0:2]).astype(np.float)\n",
    "#                         plt.imshow(bgr)\n",
    "#                         plt.title('bgr')\n",
    "#                         plt.show()\n",
    "\n",
    "#                         plt.imshow(pred_mlp3, cmap=cmap3, norm=norm3, interpolation='none')\n",
    "#                         plt.title('labels')\n",
    "#                         plt.show()\n",
    "\n",
    "                    ir_good = False \n",
    "                    if os.path.getsize(os.path.join(di,version,f_ir))>10000:\n",
    "                        ir_raw = cv2.imread(os.path.join(di,version,f_ir),cv2.IMREAD_UNCHANGED)\n",
    "                        # print(np.std(ir_raw))\n",
    "                        # plt.imshow(ir_raw)\n",
    "                        # plt.title('ir_raw')\n",
    "                        # plt.colorbar()\n",
    "                        # plt.show()\n",
    "                        if np.std(ir_raw)<1000:\n",
    "                            ir_good = True\n",
    "                        else:\n",
    "                            ir_good = False\n",
    "                    if ir_good:# and di==p00:\n",
    "                        if ti_change and utc<start_dates[6]:\n",
    "                            print(utc)\n",
    "                            #calculate affine - camera shift - get mask\n",
    "                            warp_mat,_ = register_ir(ir_raw,v.reshape(bgr.shape[0:2]),bgr,warp_mat=None)\n",
    "                            mask = (pred_mlp3==3) | (pred_mlp3==7)\n",
    "                        _,ir = register_ir(ir_raw,v.reshape(bgr.shape[0:2]),bgr,warp_mat=warp_mat)\n",
    "                        # plt.imshow(ir)\n",
    "                        # plt.title('ir')\n",
    "                        # plt.colorbar()\n",
    "                        # plt.show()\n",
    "                        T_ir = ir.astype(np.float)\n",
    "                        T_ir = T_ir*cal.coef_+cal.intercept_\n",
    "                        if utc<start_dates[6]:\n",
    "                            T_ir[mask] = np.nan\n",
    "                            pred_mlp3[mask] = np.nan              \n",
    "                        T_ir[T_ir==cal.intercept_] = np.nan\n",
    "                        T_ir = T_ir*(1/.98)**(1/4)\n",
    "                        # plt.imshow(T_ir)\n",
    "                        # plt.colorbar()\n",
    "                        # plt.show()\n",
    "                    else:\n",
    "                        T_ir = np.nan*v.reshape(bgr.shape[0:2])\n",
    "\n",
    "\n",
    "                    f_sol_sun.append(np.nansum(pred_mlp3==0)/pred_mlp3.shape[0]/pred_mlp3.shape[1])\n",
    "                    f_sol_shd.append(np.nansum(pred_mlp3==4)/pred_mlp3.shape[0]/pred_mlp3.shape[1])\n",
    "                    f_res_sun.append(np.nansum(pred_mlp3==1)/pred_mlp3.shape[0]/pred_mlp3.shape[1])\n",
    "                    f_res_shd.append(np.nansum(pred_mlp3==5)/pred_mlp3.shape[0]/pred_mlp3.shape[1])\n",
    "                    f_veg_sun.append(np.nansum(pred_mlp3==2)/pred_mlp3.shape[0]/pred_mlp3.shape[1])\n",
    "                    f_veg_shd.append(np.nansum(pred_mlp3==6)/pred_mlp3.shape[0]/pred_mlp3.shape[1])\n",
    "                    f_snw_sun.append(np.nansum(pred_mlp3==3)/pred_mlp3.shape[0]/pred_mlp3.shape[1])\n",
    "                    f_snw_shd.append(np.nansum(pred_mlp3==7)/pred_mlp3.shape[0]/pred_mlp3.shape[1])\n",
    "\n",
    "                    T_sol_sun.append(np.nanmean(T_ir[pred_mlp3==0]))\n",
    "                    T_sol_shd.append(np.nanmean(T_ir[pred_mlp3==4]))\n",
    "                    T_res_sun.append(np.nanmean(T_ir[pred_mlp3==1]))\n",
    "                    T_res_shd.append(np.nanmean(T_ir[pred_mlp3==5]))\n",
    "                    T_veg_sun.append(np.nanmean(T_ir[pred_mlp3==2]))\n",
    "                    T_veg_shd.append(np.nanmean(T_ir[pred_mlp3==6]))\n",
    "                    T_snw_sun.append(np.nanmean(T_ir[pred_mlp3==3]))\n",
    "                    T_snw_shd.append(np.nanmean(T_ir[pred_mlp3==7]))\n",
    "                else:\n",
    "                    f_sol_sun.append(np.nan)\n",
    "                    f_sol_shd.append(np.nan)\n",
    "                    f_res_sun.append(np.nan)\n",
    "                    f_res_shd.append(np.nan)\n",
    "                    f_veg_sun.append(np.nan)\n",
    "                    f_veg_shd.append(np.nan)\n",
    "                    f_snw_sun.append(np.nan)\n",
    "                    f_snw_shd.append(np.nan)\n",
    "\n",
    "                    T_sol_sun.append(np.nan)\n",
    "                    T_sol_shd.append(np.nan)\n",
    "                    T_res_sun.append(np.nan)\n",
    "                    T_res_shd.append(np.nan)\n",
    "                    T_veg_sun.append(np.nan)\n",
    "                    T_veg_shd.append(np.nan)\n",
    "                    T_snw_sun.append(np.nan)\n",
    "                    T_snw_shd.append(np.nan)\n",
    "\n",
    "                elevation.append(90-theta)\n",
    "                azimuth.append(phi)\n",
    "\n",
    "                times.append(utc)\n",
    "\n",
    "                n_img=n_img+1\n",
    "                ti_change = False\n",
    "            \n",
    "            elif utc>stop_dates[ti] and ti<9:\n",
    "                ti = ti+1\n",
    "                ti_change = True"
   ]
  },
  {
   "cell_type": "code",
   "execution_count": 46,
   "id": "f3d7ab99-57d5-4eca-b23f-b657ab100909",
   "metadata": {
    "tags": []
   },
   "outputs": [],
   "source": [
    "                    \n",
    "df = pd.DataFrame(data={'times':times,'elevation':elevation,'azimuth':azimuth,'fssun':f_sol_sun,'fsshd':f_sol_shd,'frsun':f_res_sun,'frshd':f_res_shd,'fvsun':f_veg_sun,'fvshd':f_veg_shd,'fwsun':f_snw_sun,'fwshd':f_snw_shd,'Tssun':T_sol_sun,'Tsshd':T_sol_shd,'Trsun':T_res_sun,'Trshd':T_res_shd,'Tvsun':T_veg_sun,'Tvshd':T_veg_shd,'Twsun':T_snw_sun,'Twshd':T_snw_shd})\n",
    "df.to_csv(os.path.join(p3,'output.csv'))"
   ]
  },
  {
   "cell_type": "code",
   "execution_count": 47,
   "id": "58c76d69-6091-4a30-a1d9-cb30bc7c0396",
   "metadata": {},
   "outputs": [
    {
     "data": {
      "text/html": [
       "<div>\n",
       "<style scoped>\n",
       "    .dataframe tbody tr th:only-of-type {\n",
       "        vertical-align: middle;\n",
       "    }\n",
       "\n",
       "    .dataframe tbody tr th {\n",
       "        vertical-align: top;\n",
       "    }\n",
       "\n",
       "    .dataframe thead th {\n",
       "        text-align: right;\n",
       "    }\n",
       "</style>\n",
       "<table border=\"1\" class=\"dataframe\">\n",
       "  <thead>\n",
       "    <tr style=\"text-align: right;\">\n",
       "      <th></th>\n",
       "      <th>times</th>\n",
       "      <th>elevation</th>\n",
       "      <th>azimuth</th>\n",
       "      <th>fssun</th>\n",
       "      <th>fsshd</th>\n",
       "      <th>frsun</th>\n",
       "      <th>frshd</th>\n",
       "      <th>fvsun</th>\n",
       "      <th>fvshd</th>\n",
       "      <th>fwsun</th>\n",
       "      <th>fwshd</th>\n",
       "      <th>Tssun</th>\n",
       "      <th>Tsshd</th>\n",
       "      <th>Trsun</th>\n",
       "      <th>Trshd</th>\n",
       "      <th>Tvsun</th>\n",
       "      <th>Tvshd</th>\n",
       "      <th>Twsun</th>\n",
       "      <th>Twshd</th>\n",
       "    </tr>\n",
       "  </thead>\n",
       "  <tbody>\n",
       "    <tr>\n",
       "      <th>0</th>\n",
       "      <td>2023-03-20 17:13:23+00:00</td>\n",
       "      <td>58.700583</td>\n",
       "      <td>130.424891</td>\n",
       "      <td>0.197401</td>\n",
       "      <td>0.050439</td>\n",
       "      <td>0.668473</td>\n",
       "      <td>0.046684</td>\n",
       "      <td>0.014753</td>\n",
       "      <td>0.001149</td>\n",
       "      <td>0.000000</td>\n",
       "      <td>0.000000</td>\n",
       "      <td>-534.738397</td>\n",
       "      <td>-534.919670</td>\n",
       "      <td>-534.579816</td>\n",
       "      <td>-534.895573</td>\n",
       "      <td>-535.035059</td>\n",
       "      <td>-535.181095</td>\n",
       "      <td>NaN</td>\n",
       "      <td>NaN</td>\n",
       "    </tr>\n",
       "    <tr>\n",
       "      <th>1</th>\n",
       "      <td>2023-03-20 17:23:40+00:00</td>\n",
       "      <td>57.385299</td>\n",
       "      <td>133.027640</td>\n",
       "      <td>0.237578</td>\n",
       "      <td>0.054782</td>\n",
       "      <td>0.640192</td>\n",
       "      <td>0.034992</td>\n",
       "      <td>0.009962</td>\n",
       "      <td>0.000596</td>\n",
       "      <td>0.000798</td>\n",
       "      <td>0.000000</td>\n",
       "      <td>256.642038</td>\n",
       "      <td>256.054934</td>\n",
       "      <td>256.770295</td>\n",
       "      <td>256.385219</td>\n",
       "      <td>255.976460</td>\n",
       "      <td>256.065392</td>\n",
       "      <td>253.356928</td>\n",
       "      <td>NaN</td>\n",
       "    </tr>\n",
       "    <tr>\n",
       "      <th>2</th>\n",
       "      <td>2023-03-20 17:59:55+00:00</td>\n",
       "      <td>53.219148</td>\n",
       "      <td>142.823347</td>\n",
       "      <td>0.325044</td>\n",
       "      <td>0.085190</td>\n",
       "      <td>0.512455</td>\n",
       "      <td>0.049972</td>\n",
       "      <td>0.004438</td>\n",
       "      <td>0.001585</td>\n",
       "      <td>0.000216</td>\n",
       "      <td>0.000000</td>\n",
       "      <td>256.678823</td>\n",
       "      <td>256.198102</td>\n",
       "      <td>256.571687</td>\n",
       "      <td>255.799323</td>\n",
       "      <td>256.546128</td>\n",
       "      <td>257.198285</td>\n",
       "      <td>252.320904</td>\n",
       "      <td>NaN</td>\n",
       "    </tr>\n",
       "    <tr>\n",
       "      <th>3</th>\n",
       "      <td>2023-03-20 18:59:56+00:00</td>\n",
       "      <td>48.370754</td>\n",
       "      <td>161.193479</td>\n",
       "      <td>0.400649</td>\n",
       "      <td>0.122576</td>\n",
       "      <td>0.386175</td>\n",
       "      <td>0.065150</td>\n",
       "      <td>0.002347</td>\n",
       "      <td>0.001613</td>\n",
       "      <td>0.000390</td>\n",
       "      <td>0.000000</td>\n",
       "      <td>260.102101</td>\n",
       "      <td>259.470849</td>\n",
       "      <td>259.957321</td>\n",
       "      <td>258.997846</td>\n",
       "      <td>259.403826</td>\n",
       "      <td>262.074373</td>\n",
       "      <td>255.460152</td>\n",
       "      <td>NaN</td>\n",
       "    </tr>\n",
       "    <tr>\n",
       "      <th>4</th>\n",
       "      <td>2023-03-20 19:59:56+00:00</td>\n",
       "      <td>46.798077</td>\n",
       "      <td>181.448458</td>\n",
       "      <td>0.236907</td>\n",
       "      <td>0.103513</td>\n",
       "      <td>0.540678</td>\n",
       "      <td>0.084609</td>\n",
       "      <td>0.010925</td>\n",
       "      <td>0.001204</td>\n",
       "      <td>0.001063</td>\n",
       "      <td>0.000000</td>\n",
       "      <td>258.490841</td>\n",
       "      <td>258.624905</td>\n",
       "      <td>258.524102</td>\n",
       "      <td>258.945847</td>\n",
       "      <td>257.390445</td>\n",
       "      <td>258.481197</td>\n",
       "      <td>254.742238</td>\n",
       "      <td>NaN</td>\n",
       "    </tr>\n",
       "    <tr>\n",
       "      <th>...</th>\n",
       "      <td>...</td>\n",
       "      <td>...</td>\n",
       "      <td>...</td>\n",
       "      <td>...</td>\n",
       "      <td>...</td>\n",
       "      <td>...</td>\n",
       "      <td>...</td>\n",
       "      <td>...</td>\n",
       "      <td>...</td>\n",
       "      <td>...</td>\n",
       "      <td>...</td>\n",
       "      <td>...</td>\n",
       "      <td>...</td>\n",
       "      <td>...</td>\n",
       "      <td>...</td>\n",
       "      <td>...</td>\n",
       "      <td>...</td>\n",
       "      <td>...</td>\n",
       "      <td>...</td>\n",
       "    </tr>\n",
       "    <tr>\n",
       "      <th>257</th>\n",
       "      <td>2023-06-01 22:31:21+00:00</td>\n",
       "      <td>41.308081</td>\n",
       "      <td>247.803611</td>\n",
       "      <td>0.001126</td>\n",
       "      <td>0.050662</td>\n",
       "      <td>0.068944</td>\n",
       "      <td>0.075747</td>\n",
       "      <td>0.589291</td>\n",
       "      <td>0.199181</td>\n",
       "      <td>0.013902</td>\n",
       "      <td>0.001147</td>\n",
       "      <td>310.233916</td>\n",
       "      <td>307.351787</td>\n",
       "      <td>309.748360</td>\n",
       "      <td>307.556654</td>\n",
       "      <td>307.067601</td>\n",
       "      <td>307.093182</td>\n",
       "      <td>307.208934</td>\n",
       "      <td>306.033642</td>\n",
       "    </tr>\n",
       "    <tr>\n",
       "      <th>258</th>\n",
       "      <td>2023-06-01 23:31:22+00:00</td>\n",
       "      <td>51.192165</td>\n",
       "      <td>261.385787</td>\n",
       "      <td>0.000966</td>\n",
       "      <td>0.104037</td>\n",
       "      <td>0.060693</td>\n",
       "      <td>0.086609</td>\n",
       "      <td>0.485350</td>\n",
       "      <td>0.249218</td>\n",
       "      <td>0.012003</td>\n",
       "      <td>0.001124</td>\n",
       "      <td>310.562756</td>\n",
       "      <td>309.040274</td>\n",
       "      <td>309.887101</td>\n",
       "      <td>309.067486</td>\n",
       "      <td>308.786107</td>\n",
       "      <td>308.700576</td>\n",
       "      <td>308.878309</td>\n",
       "      <td>308.334235</td>\n",
       "    </tr>\n",
       "    <tr>\n",
       "      <th>259</th>\n",
       "      <td>2023-06-02 00:31:24+00:00</td>\n",
       "      <td>61.426126</td>\n",
       "      <td>272.709130</td>\n",
       "      <td>0.002475</td>\n",
       "      <td>0.175869</td>\n",
       "      <td>0.044384</td>\n",
       "      <td>0.084544</td>\n",
       "      <td>0.370948</td>\n",
       "      <td>0.313522</td>\n",
       "      <td>0.007333</td>\n",
       "      <td>0.000926</td>\n",
       "      <td>306.949449</td>\n",
       "      <td>306.226724</td>\n",
       "      <td>306.308913</td>\n",
       "      <td>306.006839</td>\n",
       "      <td>306.223122</td>\n",
       "      <td>305.955535</td>\n",
       "      <td>306.165008</td>\n",
       "      <td>305.971685</td>\n",
       "    </tr>\n",
       "    <tr>\n",
       "      <th>260</th>\n",
       "      <td>2023-06-02 01:31:25+00:00</td>\n",
       "      <td>71.565297</td>\n",
       "      <td>283.063287</td>\n",
       "      <td>0.004299</td>\n",
       "      <td>0.274746</td>\n",
       "      <td>0.034402</td>\n",
       "      <td>0.157547</td>\n",
       "      <td>0.193761</td>\n",
       "      <td>0.331853</td>\n",
       "      <td>0.002979</td>\n",
       "      <td>0.000412</td>\n",
       "      <td>299.564781</td>\n",
       "      <td>299.403239</td>\n",
       "      <td>299.441336</td>\n",
       "      <td>299.263231</td>\n",
       "      <td>299.717594</td>\n",
       "      <td>299.332309</td>\n",
       "      <td>299.696789</td>\n",
       "      <td>299.530892</td>\n",
       "    </tr>\n",
       "    <tr>\n",
       "      <th>261</th>\n",
       "      <td>2023-06-02 02:31:25+00:00</td>\n",
       "      <td>81.256298</td>\n",
       "      <td>293.256240</td>\n",
       "      <td>NaN</td>\n",
       "      <td>NaN</td>\n",
       "      <td>NaN</td>\n",
       "      <td>NaN</td>\n",
       "      <td>NaN</td>\n",
       "      <td>NaN</td>\n",
       "      <td>NaN</td>\n",
       "      <td>NaN</td>\n",
       "      <td>NaN</td>\n",
       "      <td>NaN</td>\n",
       "      <td>NaN</td>\n",
       "      <td>NaN</td>\n",
       "      <td>NaN</td>\n",
       "      <td>NaN</td>\n",
       "      <td>NaN</td>\n",
       "      <td>NaN</td>\n",
       "    </tr>\n",
       "  </tbody>\n",
       "</table>\n",
       "<p>262 rows × 19 columns</p>\n",
       "</div>"
      ],
      "text/plain": [
       "                        times  elevation     azimuth     fssun     fsshd   \n",
       "0   2023-03-20 17:13:23+00:00  58.700583  130.424891  0.197401  0.050439  \\\n",
       "1   2023-03-20 17:23:40+00:00  57.385299  133.027640  0.237578  0.054782   \n",
       "2   2023-03-20 17:59:55+00:00  53.219148  142.823347  0.325044  0.085190   \n",
       "3   2023-03-20 18:59:56+00:00  48.370754  161.193479  0.400649  0.122576   \n",
       "4   2023-03-20 19:59:56+00:00  46.798077  181.448458  0.236907  0.103513   \n",
       "..                        ...        ...         ...       ...       ...   \n",
       "257 2023-06-01 22:31:21+00:00  41.308081  247.803611  0.001126  0.050662   \n",
       "258 2023-06-01 23:31:22+00:00  51.192165  261.385787  0.000966  0.104037   \n",
       "259 2023-06-02 00:31:24+00:00  61.426126  272.709130  0.002475  0.175869   \n",
       "260 2023-06-02 01:31:25+00:00  71.565297  283.063287  0.004299  0.274746   \n",
       "261 2023-06-02 02:31:25+00:00  81.256298  293.256240       NaN       NaN   \n",
       "\n",
       "        frsun     frshd     fvsun     fvshd     fwsun     fwshd       Tssun   \n",
       "0    0.668473  0.046684  0.014753  0.001149  0.000000  0.000000 -534.738397  \\\n",
       "1    0.640192  0.034992  0.009962  0.000596  0.000798  0.000000  256.642038   \n",
       "2    0.512455  0.049972  0.004438  0.001585  0.000216  0.000000  256.678823   \n",
       "3    0.386175  0.065150  0.002347  0.001613  0.000390  0.000000  260.102101   \n",
       "4    0.540678  0.084609  0.010925  0.001204  0.001063  0.000000  258.490841   \n",
       "..        ...       ...       ...       ...       ...       ...         ...   \n",
       "257  0.068944  0.075747  0.589291  0.199181  0.013902  0.001147  310.233916   \n",
       "258  0.060693  0.086609  0.485350  0.249218  0.012003  0.001124  310.562756   \n",
       "259  0.044384  0.084544  0.370948  0.313522  0.007333  0.000926  306.949449   \n",
       "260  0.034402  0.157547  0.193761  0.331853  0.002979  0.000412  299.564781   \n",
       "261       NaN       NaN       NaN       NaN       NaN       NaN         NaN   \n",
       "\n",
       "          Tsshd       Trsun       Trshd       Tvsun       Tvshd       Twsun   \n",
       "0   -534.919670 -534.579816 -534.895573 -535.035059 -535.181095         NaN  \\\n",
       "1    256.054934  256.770295  256.385219  255.976460  256.065392  253.356928   \n",
       "2    256.198102  256.571687  255.799323  256.546128  257.198285  252.320904   \n",
       "3    259.470849  259.957321  258.997846  259.403826  262.074373  255.460152   \n",
       "4    258.624905  258.524102  258.945847  257.390445  258.481197  254.742238   \n",
       "..          ...         ...         ...         ...         ...         ...   \n",
       "257  307.351787  309.748360  307.556654  307.067601  307.093182  307.208934   \n",
       "258  309.040274  309.887101  309.067486  308.786107  308.700576  308.878309   \n",
       "259  306.226724  306.308913  306.006839  306.223122  305.955535  306.165008   \n",
       "260  299.403239  299.441336  299.263231  299.717594  299.332309  299.696789   \n",
       "261         NaN         NaN         NaN         NaN         NaN         NaN   \n",
       "\n",
       "          Twshd  \n",
       "0           NaN  \n",
       "1           NaN  \n",
       "2           NaN  \n",
       "3           NaN  \n",
       "4           NaN  \n",
       "..          ...  \n",
       "257  306.033642  \n",
       "258  308.334235  \n",
       "259  305.971685  \n",
       "260  299.530892  \n",
       "261         NaN  \n",
       "\n",
       "[262 rows x 19 columns]"
      ]
     },
     "execution_count": 47,
     "metadata": {},
     "output_type": "execute_result"
    }
   ],
   "source": [
    "df\n"
   ]
  },
  {
   "cell_type": "code",
   "execution_count": null,
   "id": "306b2aba-c508-4bcb-bfe8-092145a28d6b",
   "metadata": {},
   "outputs": [],
   "source": [
    "np.array(T_sol_sun).shape"
   ]
  },
  {
   "cell_type": "code",
   "execution_count": null,
   "id": "73bf6084-9e10-457a-8a95-0f83b742d525",
   "metadata": {},
   "outputs": [],
   "source": [
    "pred_mlp3.shape"
   ]
  },
  {
   "cell_type": "code",
   "execution_count": null,
   "id": "0097b2df-4aff-421c-a1b3-bd022f26433e",
   "metadata": {},
   "outputs": [],
   "source": [
    "np.nanmean(T_ir)"
   ]
  },
  {
   "cell_type": "code",
   "execution_count": 61,
   "id": "421d4d39-b501-4852-bdef-91d2530a1d0d",
   "metadata": {},
   "outputs": [
    {
     "data": {
      "text/plain": [
       "<AxesSubplot:xlabel='times'>"
      ]
     },
     "execution_count": 61,
     "metadata": {},
     "output_type": "execute_result"
    },
    {
     "data": {
      "image/png": "[encoded data removed]",
      "text/plain": [
       "<Figure size 432x288 with 1 Axes>"
      ]
     },
     "metadata": {
      "needs_background": "light"
     },
     "output_type": "display_data"
    }
   ],
   "source": [
    "df.plot(x='times',y=['frsun','fssun','fvsun','frshd','fsshd','fvshd'],xlim=[start_dates_cook[6],stop_dates_cook[7]],ylim=[0,1])"
   ]
  },
  {
   "cell_type": "code",
   "execution_count": null,
   "id": "915eaf22-347a-4857-9456-0a36bec82be7",
   "metadata": {},
   "outputs": [],
   "source": [
    "f_snw_sun\n"
   ]
  },
  {
   "cell_type": "code",
   "execution_count": null,
   "id": "5139bfc6-d8c1-44a8-b82d-d5897ac9f258",
   "metadata": {},
   "outputs": [],
   "source": []
  }
 ],
 "metadata": {
  "kernelspec": {
   "display_name": "nsaru-cv",
   "language": "python",
   "name": "nsaru-cv"
  },
  "language_info": {
   "codemirror_mode": {
    "name": "ipython",
    "version": 3
   },
   "file_extension": ".py",
   "mimetype": "text/x-python",
   "name": "python",
   "nbconvert_exporter": "python",
   "pygments_lexer": "ipython3",
   "version": "3.9.2"
  }
 },
 "nbformat": 4,
 "nbformat_minor": 5
}
